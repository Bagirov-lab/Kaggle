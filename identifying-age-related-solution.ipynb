{
 "cells": [
  {
   "cell_type": "markdown",
   "id": "338405a0",
   "metadata": {
    "papermill": {
     "duration": 0.011287,
     "end_time": "2023-07-08T12:32:34.288281",
     "exception": false,
     "start_time": "2023-07-08T12:32:34.276994",
     "status": "completed"
    },
    "tags": []
   },
   "source": [
    "# Read Before"
   ]
  },
  {
   "cell_type": "markdown",
   "id": "149a0cf4",
   "metadata": {
    "papermill": {
     "duration": 0.010984,
     "end_time": "2023-07-08T12:32:34.310578",
     "exception": false,
     "start_time": "2023-07-08T12:32:34.299594",
     "status": "completed"
    },
    "tags": []
   },
   "source": [
    "- https://www.kaggle.com/code/raddar/icr-competition-analysis-and-findings/notebook"
   ]
  },
  {
   "cell_type": "markdown",
   "id": "08873375",
   "metadata": {
    "papermill": {
     "duration": 0.010382,
     "end_time": "2023-07-08T12:32:34.331756",
     "exception": false,
     "start_time": "2023-07-08T12:32:34.321374",
     "status": "completed"
    },
    "tags": []
   },
   "source": [
    "Plan:\n",
    "- [x] Feature Engineering (1 day)\n",
    "- [x] CV and Model Selection (1 day)\n",
    "- [x] Validation (1 day)\n",
    "- [ ] Review"
   ]
  },
  {
   "cell_type": "markdown",
   "id": "035f817e",
   "metadata": {
    "papermill": {
     "duration": 0.010663,
     "end_time": "2023-07-08T12:32:34.353042",
     "exception": false,
     "start_time": "2023-07-08T12:32:34.342379",
     "status": "completed"
    },
    "tags": []
   },
   "source": [
    "# ICR - Identifying Age-Related Conditions Dataset with TensorFlow Decision Forests"
   ]
  },
  {
   "cell_type": "markdown",
   "id": "53033fea",
   "metadata": {
    "papermill": {
     "duration": 0.010335,
     "end_time": "2023-07-08T12:32:34.374032",
     "exception": false,
     "start_time": "2023-07-08T12:32:34.363697",
     "status": "completed"
    },
    "tags": []
   },
   "source": [
    "This notebook walks you through how to train a baseline Random Forest model using TensorFlow Decision Forests on the ICR - Identifying Age-Related Conditions dataset made available for this competition. The goal of the model is to predict if a person has one or more of any of three medical conditions or none.\n",
    "\n",
    "Roughly, the code will look as follows:\n",
    "\n",
    "```\n",
    "import tensorflow_decision_forests as tfdf\n",
    "import pandas as pd\n",
    "\n",
    "dataset = pd.read_csv(\"project/dataset.csv\")\n",
    "tf_dataset = tfdf.keras.pd_dataframe_to_tf_dataset(dataset, label=\"my_label\")\n",
    "\n",
    "model = tfdf.keras.RandomForestModel()\n",
    "model.fit(tf_dataset)\n",
    "\n",
    "print(model.summary())\n",
    "```\n",
    "\n",
    "Decision Forests are a family of tree-based models including Random Forests and Gradient Boosted Trees. They are the best place to start when working with tabular data, and will often outperform (or provide a strong baseline) before you begin experimenting with neural networks."
   ]
  },
  {
   "cell_type": "markdown",
   "id": "ac8e9b7c",
   "metadata": {
    "papermill": {
     "duration": 0.010621,
     "end_time": "2023-07-08T12:32:34.396446",
     "exception": false,
     "start_time": "2023-07-08T12:32:34.385825",
     "status": "completed"
    },
    "tags": []
   },
   "source": [
    "# Import the libraries"
   ]
  },
  {
   "cell_type": "code",
   "execution_count": 1,
   "id": "0814741e",
   "metadata": {
    "execution": {
     "iopub.execute_input": "2023-07-08T12:32:34.419623Z",
     "iopub.status.busy": "2023-07-08T12:32:34.419072Z",
     "iopub.status.idle": "2023-07-08T12:32:43.860698Z",
     "shell.execute_reply": "2023-07-08T12:32:43.859548Z"
    },
    "papermill": {
     "duration": 9.455829,
     "end_time": "2023-07-08T12:32:43.863070",
     "exception": false,
     "start_time": "2023-07-08T12:32:34.407241",
     "status": "completed"
    },
    "tags": []
   },
   "outputs": [
    {
     "name": "stderr",
     "output_type": "stream",
     "text": [
      "/opt/conda/lib/python3.10/site-packages/tensorflow_io/python/ops/__init__.py:98: UserWarning: unable to load libtensorflow_io_plugins.so: unable to open file: libtensorflow_io_plugins.so, from paths: ['/opt/conda/lib/python3.10/site-packages/tensorflow_io/python/ops/libtensorflow_io_plugins.so']\n",
      "caused by: ['/opt/conda/lib/python3.10/site-packages/tensorflow_io/python/ops/libtensorflow_io_plugins.so: undefined symbol: _ZN3tsl6StatusC1EN10tensorflow5error4CodeESt17basic_string_viewIcSt11char_traitsIcEENS_14SourceLocationE']\n",
      "  warnings.warn(f\"unable to load libtensorflow_io_plugins.so: {e}\")\n",
      "/opt/conda/lib/python3.10/site-packages/tensorflow_io/python/ops/__init__.py:104: UserWarning: file system plugins are not loaded: unable to open file: libtensorflow_io.so, from paths: ['/opt/conda/lib/python3.10/site-packages/tensorflow_io/python/ops/libtensorflow_io.so']\n",
      "caused by: ['/opt/conda/lib/python3.10/site-packages/tensorflow_io/python/ops/libtensorflow_io.so: undefined symbol: _ZTVN10tensorflow13GcsFileSystemE']\n",
      "  warnings.warn(f\"file system plugins are not loaded: {e}\")\n"
     ]
    }
   ],
   "source": [
    "import tensorflow as tf\n",
    "import tensorflow_decision_forests as tfdf\n",
    "import pandas as pd\n",
    "from pandas.api.types import is_numeric_dtype\n",
    "\n",
    "import numpy as np\n",
    "import seaborn as sns\n",
    "import matplotlib.pyplot as plt\n",
    "\n",
    "from sklearn.model_selection import KFold\n",
    "from sklearn.metrics import log_loss\n",
    "from sklearn.linear_model import LogisticRegression\n",
    "from sklearn.preprocessing import Normalizer\n",
    "\n",
    "# new\n",
    "from tqdm.notebook import tqdm"
   ]
  },
  {
   "cell_type": "code",
   "execution_count": 2,
   "id": "755dc614",
   "metadata": {
    "execution": {
     "iopub.execute_input": "2023-07-08T12:32:43.887230Z",
     "iopub.status.busy": "2023-07-08T12:32:43.886161Z",
     "iopub.status.idle": "2023-07-08T12:32:43.891157Z",
     "shell.execute_reply": "2023-07-08T12:32:43.890321Z"
    },
    "papermill": {
     "duration": 0.018413,
     "end_time": "2023-07-08T12:32:43.892676",
     "exception": false,
     "start_time": "2023-07-08T12:32:43.874263",
     "status": "completed"
    },
    "tags": []
   },
   "outputs": [
    {
     "name": "stdout",
     "output_type": "stream",
     "text": [
      "TensorFlow v2.12.0\n",
      "TensorFlow Decision Forests v1.3.0\n"
     ]
    }
   ],
   "source": [
    "print(\"TensorFlow v\" + tf.__version__)\n",
    "print(\"TensorFlow Decision Forests v\" + tfdf.__version__)"
   ]
  },
  {
   "cell_type": "markdown",
   "id": "68ce4947",
   "metadata": {
    "papermill": {
     "duration": 0.011776,
     "end_time": "2023-07-08T12:32:43.915176",
     "exception": false,
     "start_time": "2023-07-08T12:32:43.903400",
     "status": "completed"
    },
    "tags": []
   },
   "source": [
    "# Load the Dataset"
   ]
  },
  {
   "cell_type": "code",
   "execution_count": 3,
   "id": "752b1083",
   "metadata": {
    "execution": {
     "iopub.execute_input": "2023-07-08T12:32:43.939458Z",
     "iopub.status.busy": "2023-07-08T12:32:43.938857Z",
     "iopub.status.idle": "2023-07-08T12:32:43.972953Z",
     "shell.execute_reply": "2023-07-08T12:32:43.972010Z"
    },
    "papermill": {
     "duration": 0.04904,
     "end_time": "2023-07-08T12:32:43.975474",
     "exception": false,
     "start_time": "2023-07-08T12:32:43.926434",
     "status": "completed"
    },
    "tags": []
   },
   "outputs": [
    {
     "name": "stdout",
     "output_type": "stream",
     "text": [
      "Full train dataset shape is (617, 58)\n"
     ]
    }
   ],
   "source": [
    "dataset_df = pd.read_csv('/kaggle/input/icr-identify-age-related-conditions/train.csv')\n",
    "print(\"Full train dataset shape is {}\".format(dataset_df.shape))"
   ]
  },
  {
   "cell_type": "code",
   "execution_count": 4,
   "id": "4393c10e",
   "metadata": {
    "execution": {
     "iopub.execute_input": "2023-07-08T12:32:43.999526Z",
     "iopub.status.busy": "2023-07-08T12:32:43.998936Z",
     "iopub.status.idle": "2023-07-08T12:32:44.020936Z",
     "shell.execute_reply": "2023-07-08T12:32:44.019941Z"
    },
    "papermill": {
     "duration": 0.036009,
     "end_time": "2023-07-08T12:32:44.022909",
     "exception": false,
     "start_time": "2023-07-08T12:32:43.986900",
     "status": "completed"
    },
    "tags": []
   },
   "outputs": [
    {
     "name": "stdout",
     "output_type": "stream",
     "text": [
      "Full test dataset shape is (5, 56)\n"
     ]
    }
   ],
   "source": [
    "dataset_test_df = pd.read_csv('/kaggle/input/icr-identify-age-related-conditions/test.csv').set_index('Id')\n",
    "print(\"Full test dataset shape is {}\".format(dataset_test_df.shape))"
   ]
  },
  {
   "cell_type": "markdown",
   "id": "0e5be4fb",
   "metadata": {
    "papermill": {
     "duration": 0.0105,
     "end_time": "2023-07-08T12:32:44.044844",
     "exception": false,
     "start_time": "2023-07-08T12:32:44.034344",
     "status": "completed"
    },
    "tags": []
   },
   "source": [
    "The data is composed of 58 columns and 617 entries. We can see all 58 dimensions(results will be truncated since the number of columns is big) of our dataset by printing out the first 5 entries using the following code:"
   ]
  },
  {
   "cell_type": "code",
   "execution_count": 5,
   "id": "8a7b16d0",
   "metadata": {
    "execution": {
     "iopub.execute_input": "2023-07-08T12:32:44.067737Z",
     "iopub.status.busy": "2023-07-08T12:32:44.067157Z",
     "iopub.status.idle": "2023-07-08T12:32:44.098539Z",
     "shell.execute_reply": "2023-07-08T12:32:44.097657Z"
    },
    "papermill": {
     "duration": 0.044857,
     "end_time": "2023-07-08T12:32:44.100231",
     "exception": false,
     "start_time": "2023-07-08T12:32:44.055374",
     "status": "completed"
    },
    "tags": []
   },
   "outputs": [
    {
     "data": {
      "text/html": [
       "<div>\n",
       "<style scoped>\n",
       "    .dataframe tbody tr th:only-of-type {\n",
       "        vertical-align: middle;\n",
       "    }\n",
       "\n",
       "    .dataframe tbody tr th {\n",
       "        vertical-align: top;\n",
       "    }\n",
       "\n",
       "    .dataframe thead th {\n",
       "        text-align: right;\n",
       "    }\n",
       "</style>\n",
       "<table border=\"1\" class=\"dataframe\">\n",
       "  <thead>\n",
       "    <tr style=\"text-align: right;\">\n",
       "      <th></th>\n",
       "      <th>Id</th>\n",
       "      <th>AB</th>\n",
       "      <th>AF</th>\n",
       "      <th>AH</th>\n",
       "      <th>AM</th>\n",
       "      <th>AR</th>\n",
       "      <th>AX</th>\n",
       "      <th>AY</th>\n",
       "      <th>AZ</th>\n",
       "      <th>BC</th>\n",
       "      <th>...</th>\n",
       "      <th>FL</th>\n",
       "      <th>FR</th>\n",
       "      <th>FS</th>\n",
       "      <th>GB</th>\n",
       "      <th>GE</th>\n",
       "      <th>GF</th>\n",
       "      <th>GH</th>\n",
       "      <th>GI</th>\n",
       "      <th>GL</th>\n",
       "      <th>Class</th>\n",
       "    </tr>\n",
       "  </thead>\n",
       "  <tbody>\n",
       "    <tr>\n",
       "      <th>0</th>\n",
       "      <td>000ff2bfdfe9</td>\n",
       "      <td>0.209377</td>\n",
       "      <td>3109.03329</td>\n",
       "      <td>85.200147</td>\n",
       "      <td>22.394407</td>\n",
       "      <td>8.138688</td>\n",
       "      <td>0.699861</td>\n",
       "      <td>0.025578</td>\n",
       "      <td>9.812214</td>\n",
       "      <td>5.555634</td>\n",
       "      <td>...</td>\n",
       "      <td>7.298162</td>\n",
       "      <td>1.73855</td>\n",
       "      <td>0.094822</td>\n",
       "      <td>11.339138</td>\n",
       "      <td>72.611063</td>\n",
       "      <td>2003.810319</td>\n",
       "      <td>22.136229</td>\n",
       "      <td>69.834944</td>\n",
       "      <td>0.120343</td>\n",
       "      <td>1</td>\n",
       "    </tr>\n",
       "    <tr>\n",
       "      <th>1</th>\n",
       "      <td>007255e47698</td>\n",
       "      <td>0.145282</td>\n",
       "      <td>978.76416</td>\n",
       "      <td>85.200147</td>\n",
       "      <td>36.968889</td>\n",
       "      <td>8.138688</td>\n",
       "      <td>3.632190</td>\n",
       "      <td>0.025578</td>\n",
       "      <td>13.517790</td>\n",
       "      <td>1.229900</td>\n",
       "      <td>...</td>\n",
       "      <td>0.173229</td>\n",
       "      <td>0.49706</td>\n",
       "      <td>0.568932</td>\n",
       "      <td>9.292698</td>\n",
       "      <td>72.611063</td>\n",
       "      <td>27981.562750</td>\n",
       "      <td>29.135430</td>\n",
       "      <td>32.131996</td>\n",
       "      <td>21.978000</td>\n",
       "      <td>0</td>\n",
       "    </tr>\n",
       "    <tr>\n",
       "      <th>2</th>\n",
       "      <td>013f2bd269f5</td>\n",
       "      <td>0.470030</td>\n",
       "      <td>2635.10654</td>\n",
       "      <td>85.200147</td>\n",
       "      <td>32.360553</td>\n",
       "      <td>8.138688</td>\n",
       "      <td>6.732840</td>\n",
       "      <td>0.025578</td>\n",
       "      <td>12.824570</td>\n",
       "      <td>1.229900</td>\n",
       "      <td>...</td>\n",
       "      <td>7.709560</td>\n",
       "      <td>0.97556</td>\n",
       "      <td>1.198821</td>\n",
       "      <td>37.077772</td>\n",
       "      <td>88.609437</td>\n",
       "      <td>13676.957810</td>\n",
       "      <td>28.022851</td>\n",
       "      <td>35.192676</td>\n",
       "      <td>0.196941</td>\n",
       "      <td>0</td>\n",
       "    </tr>\n",
       "    <tr>\n",
       "      <th>3</th>\n",
       "      <td>043ac50845d5</td>\n",
       "      <td>0.252107</td>\n",
       "      <td>3819.65177</td>\n",
       "      <td>120.201618</td>\n",
       "      <td>77.112203</td>\n",
       "      <td>8.138688</td>\n",
       "      <td>3.685344</td>\n",
       "      <td>0.025578</td>\n",
       "      <td>11.053708</td>\n",
       "      <td>1.229900</td>\n",
       "      <td>...</td>\n",
       "      <td>6.122162</td>\n",
       "      <td>0.49706</td>\n",
       "      <td>0.284466</td>\n",
       "      <td>18.529584</td>\n",
       "      <td>82.416803</td>\n",
       "      <td>2094.262452</td>\n",
       "      <td>39.948656</td>\n",
       "      <td>90.493248</td>\n",
       "      <td>0.155829</td>\n",
       "      <td>0</td>\n",
       "    </tr>\n",
       "    <tr>\n",
       "      <th>4</th>\n",
       "      <td>044fb8a146ec</td>\n",
       "      <td>0.380297</td>\n",
       "      <td>3733.04844</td>\n",
       "      <td>85.200147</td>\n",
       "      <td>14.103738</td>\n",
       "      <td>8.138688</td>\n",
       "      <td>3.942255</td>\n",
       "      <td>0.054810</td>\n",
       "      <td>3.396778</td>\n",
       "      <td>102.151980</td>\n",
       "      <td>...</td>\n",
       "      <td>8.153058</td>\n",
       "      <td>48.50134</td>\n",
       "      <td>0.121914</td>\n",
       "      <td>16.408728</td>\n",
       "      <td>146.109943</td>\n",
       "      <td>8524.370502</td>\n",
       "      <td>45.381316</td>\n",
       "      <td>36.262628</td>\n",
       "      <td>0.096614</td>\n",
       "      <td>1</td>\n",
       "    </tr>\n",
       "  </tbody>\n",
       "</table>\n",
       "<p>5 rows × 58 columns</p>\n",
       "</div>"
      ],
      "text/plain": [
       "             Id        AB          AF          AH         AM        AR  \\\n",
       "0  000ff2bfdfe9  0.209377  3109.03329   85.200147  22.394407  8.138688   \n",
       "1  007255e47698  0.145282   978.76416   85.200147  36.968889  8.138688   \n",
       "2  013f2bd269f5  0.470030  2635.10654   85.200147  32.360553  8.138688   \n",
       "3  043ac50845d5  0.252107  3819.65177  120.201618  77.112203  8.138688   \n",
       "4  044fb8a146ec  0.380297  3733.04844   85.200147  14.103738  8.138688   \n",
       "\n",
       "         AX        AY         AZ          BC  ...        FL        FR  \\\n",
       "0  0.699861  0.025578   9.812214    5.555634  ...  7.298162   1.73855   \n",
       "1  3.632190  0.025578  13.517790    1.229900  ...  0.173229   0.49706   \n",
       "2  6.732840  0.025578  12.824570    1.229900  ...  7.709560   0.97556   \n",
       "3  3.685344  0.025578  11.053708    1.229900  ...  6.122162   0.49706   \n",
       "4  3.942255  0.054810   3.396778  102.151980  ...  8.153058  48.50134   \n",
       "\n",
       "         FS         GB          GE            GF         GH         GI  \\\n",
       "0  0.094822  11.339138   72.611063   2003.810319  22.136229  69.834944   \n",
       "1  0.568932   9.292698   72.611063  27981.562750  29.135430  32.131996   \n",
       "2  1.198821  37.077772   88.609437  13676.957810  28.022851  35.192676   \n",
       "3  0.284466  18.529584   82.416803   2094.262452  39.948656  90.493248   \n",
       "4  0.121914  16.408728  146.109943   8524.370502  45.381316  36.262628   \n",
       "\n",
       "          GL  Class  \n",
       "0   0.120343      1  \n",
       "1  21.978000      0  \n",
       "2   0.196941      0  \n",
       "3   0.155829      0  \n",
       "4   0.096614      1  \n",
       "\n",
       "[5 rows x 58 columns]"
      ]
     },
     "execution_count": 5,
     "metadata": {},
     "output_type": "execute_result"
    }
   ],
   "source": [
    "dataset_df.head()"
   ]
  },
  {
   "cell_type": "markdown",
   "id": "4a010781",
   "metadata": {
    "papermill": {
     "duration": 0.010953,
     "end_time": "2023-07-08T12:32:44.122745",
     "exception": false,
     "start_time": "2023-07-08T12:32:44.111792",
     "status": "completed"
    },
    "tags": []
   },
   "source": [
    "`Class` is the label column indicating if a person has one or more of any of the three medical conditions (i.e,`Class 1`), or none of the three medical conditions (i.e,`Class 0`).\n",
    "Given the features of the dataset, the goal of our model is to predict the value of `Class` for any person."
   ]
  },
  {
   "cell_type": "markdown",
   "id": "8e7009f7",
   "metadata": {
    "papermill": {
     "duration": 0.010968,
     "end_time": "2023-07-08T12:32:44.144801",
     "exception": false,
     "start_time": "2023-07-08T12:32:44.133833",
     "status": "completed"
    },
    "tags": []
   },
   "source": [
    "# Quick basic dataset exploration"
   ]
  },
  {
   "cell_type": "code",
   "execution_count": 6,
   "id": "d51f1cf8",
   "metadata": {
    "execution": {
     "iopub.execute_input": "2023-07-08T12:32:44.168086Z",
     "iopub.status.busy": "2023-07-08T12:32:44.167785Z",
     "iopub.status.idle": "2023-07-08T12:32:44.282000Z",
     "shell.execute_reply": "2023-07-08T12:32:44.281147Z"
    },
    "papermill": {
     "duration": 0.128069,
     "end_time": "2023-07-08T12:32:44.283823",
     "exception": false,
     "start_time": "2023-07-08T12:32:44.155754",
     "status": "completed"
    },
    "tags": []
   },
   "outputs": [
    {
     "data": {
      "text/html": [
       "<div>\n",
       "<style scoped>\n",
       "    .dataframe tbody tr th:only-of-type {\n",
       "        vertical-align: middle;\n",
       "    }\n",
       "\n",
       "    .dataframe tbody tr th {\n",
       "        vertical-align: top;\n",
       "    }\n",
       "\n",
       "    .dataframe thead th {\n",
       "        text-align: right;\n",
       "    }\n",
       "</style>\n",
       "<table border=\"1\" class=\"dataframe\">\n",
       "  <thead>\n",
       "    <tr style=\"text-align: right;\">\n",
       "      <th></th>\n",
       "      <th>AB</th>\n",
       "      <th>AF</th>\n",
       "      <th>AH</th>\n",
       "      <th>AM</th>\n",
       "      <th>AR</th>\n",
       "      <th>AX</th>\n",
       "      <th>AY</th>\n",
       "      <th>AZ</th>\n",
       "      <th>BC</th>\n",
       "      <th>BD</th>\n",
       "      <th>...</th>\n",
       "      <th>FL</th>\n",
       "      <th>FR</th>\n",
       "      <th>FS</th>\n",
       "      <th>GB</th>\n",
       "      <th>GE</th>\n",
       "      <th>GF</th>\n",
       "      <th>GH</th>\n",
       "      <th>GI</th>\n",
       "      <th>GL</th>\n",
       "      <th>Class</th>\n",
       "    </tr>\n",
       "  </thead>\n",
       "  <tbody>\n",
       "    <tr>\n",
       "      <th>count</th>\n",
       "      <td>617.000000</td>\n",
       "      <td>617.000000</td>\n",
       "      <td>617.000000</td>\n",
       "      <td>617.000000</td>\n",
       "      <td>617.000000</td>\n",
       "      <td>617.000000</td>\n",
       "      <td>617.000000</td>\n",
       "      <td>617.000000</td>\n",
       "      <td>617.000000</td>\n",
       "      <td>617.000000</td>\n",
       "      <td>...</td>\n",
       "      <td>616.000000</td>\n",
       "      <td>617.000000</td>\n",
       "      <td>615.000000</td>\n",
       "      <td>617.000000</td>\n",
       "      <td>617.000000</td>\n",
       "      <td>617.000000</td>\n",
       "      <td>617.000000</td>\n",
       "      <td>617.000000</td>\n",
       "      <td>616.000000</td>\n",
       "      <td>617.000000</td>\n",
       "    </tr>\n",
       "    <tr>\n",
       "      <th>mean</th>\n",
       "      <td>0.477149</td>\n",
       "      <td>3502.013221</td>\n",
       "      <td>118.624513</td>\n",
       "      <td>38.968552</td>\n",
       "      <td>10.128242</td>\n",
       "      <td>5.545576</td>\n",
       "      <td>0.060320</td>\n",
       "      <td>10.566447</td>\n",
       "      <td>8.053012</td>\n",
       "      <td>5350.388655</td>\n",
       "      <td>...</td>\n",
       "      <td>5.433199</td>\n",
       "      <td>3.533905</td>\n",
       "      <td>0.421501</td>\n",
       "      <td>20.724856</td>\n",
       "      <td>131.714987</td>\n",
       "      <td>14679.595398</td>\n",
       "      <td>31.489716</td>\n",
       "      <td>50.584437</td>\n",
       "      <td>8.530961</td>\n",
       "      <td>0.175041</td>\n",
       "    </tr>\n",
       "    <tr>\n",
       "      <th>std</th>\n",
       "      <td>0.468388</td>\n",
       "      <td>2300.322717</td>\n",
       "      <td>127.838950</td>\n",
       "      <td>69.728226</td>\n",
       "      <td>10.518877</td>\n",
       "      <td>2.551696</td>\n",
       "      <td>0.416817</td>\n",
       "      <td>4.350645</td>\n",
       "      <td>65.166943</td>\n",
       "      <td>3021.326641</td>\n",
       "      <td>...</td>\n",
       "      <td>11.496257</td>\n",
       "      <td>50.181948</td>\n",
       "      <td>1.305365</td>\n",
       "      <td>9.991907</td>\n",
       "      <td>144.181524</td>\n",
       "      <td>19352.959387</td>\n",
       "      <td>9.864239</td>\n",
       "      <td>36.266251</td>\n",
       "      <td>10.327010</td>\n",
       "      <td>0.380310</td>\n",
       "    </tr>\n",
       "    <tr>\n",
       "      <th>min</th>\n",
       "      <td>0.081187</td>\n",
       "      <td>192.593280</td>\n",
       "      <td>85.200147</td>\n",
       "      <td>3.177522</td>\n",
       "      <td>8.138688</td>\n",
       "      <td>0.699861</td>\n",
       "      <td>0.025578</td>\n",
       "      <td>3.396778</td>\n",
       "      <td>1.229900</td>\n",
       "      <td>1693.624320</td>\n",
       "      <td>...</td>\n",
       "      <td>0.173229</td>\n",
       "      <td>0.497060</td>\n",
       "      <td>0.067730</td>\n",
       "      <td>4.102182</td>\n",
       "      <td>72.611063</td>\n",
       "      <td>13.038894</td>\n",
       "      <td>9.432735</td>\n",
       "      <td>0.897628</td>\n",
       "      <td>0.001129</td>\n",
       "      <td>0.000000</td>\n",
       "    </tr>\n",
       "    <tr>\n",
       "      <th>25%</th>\n",
       "      <td>0.252107</td>\n",
       "      <td>2197.345480</td>\n",
       "      <td>85.200147</td>\n",
       "      <td>12.270314</td>\n",
       "      <td>8.138688</td>\n",
       "      <td>4.128294</td>\n",
       "      <td>0.025578</td>\n",
       "      <td>8.129580</td>\n",
       "      <td>1.229900</td>\n",
       "      <td>4155.702870</td>\n",
       "      <td>...</td>\n",
       "      <td>0.173229</td>\n",
       "      <td>0.497060</td>\n",
       "      <td>0.067730</td>\n",
       "      <td>14.036718</td>\n",
       "      <td>72.611063</td>\n",
       "      <td>2798.992584</td>\n",
       "      <td>25.034888</td>\n",
       "      <td>23.011684</td>\n",
       "      <td>0.124392</td>\n",
       "      <td>0.000000</td>\n",
       "    </tr>\n",
       "    <tr>\n",
       "      <th>50%</th>\n",
       "      <td>0.354659</td>\n",
       "      <td>3120.318960</td>\n",
       "      <td>85.200147</td>\n",
       "      <td>20.533110</td>\n",
       "      <td>8.138688</td>\n",
       "      <td>5.031912</td>\n",
       "      <td>0.025578</td>\n",
       "      <td>10.461320</td>\n",
       "      <td>1.229900</td>\n",
       "      <td>4997.960730</td>\n",
       "      <td>...</td>\n",
       "      <td>3.028141</td>\n",
       "      <td>1.131000</td>\n",
       "      <td>0.250601</td>\n",
       "      <td>18.771436</td>\n",
       "      <td>72.611063</td>\n",
       "      <td>7838.273610</td>\n",
       "      <td>30.608946</td>\n",
       "      <td>41.007968</td>\n",
       "      <td>0.337827</td>\n",
       "      <td>0.000000</td>\n",
       "    </tr>\n",
       "    <tr>\n",
       "      <th>75%</th>\n",
       "      <td>0.559763</td>\n",
       "      <td>4361.637390</td>\n",
       "      <td>113.739540</td>\n",
       "      <td>39.139886</td>\n",
       "      <td>8.138688</td>\n",
       "      <td>6.431634</td>\n",
       "      <td>0.036845</td>\n",
       "      <td>12.969516</td>\n",
       "      <td>5.081244</td>\n",
       "      <td>6035.885700</td>\n",
       "      <td>...</td>\n",
       "      <td>6.238814</td>\n",
       "      <td>1.512060</td>\n",
       "      <td>0.535067</td>\n",
       "      <td>25.608406</td>\n",
       "      <td>127.591671</td>\n",
       "      <td>19035.709240</td>\n",
       "      <td>36.863947</td>\n",
       "      <td>67.931664</td>\n",
       "      <td>21.978000</td>\n",
       "      <td>0.000000</td>\n",
       "    </tr>\n",
       "    <tr>\n",
       "      <th>max</th>\n",
       "      <td>6.161666</td>\n",
       "      <td>28688.187660</td>\n",
       "      <td>1910.123198</td>\n",
       "      <td>630.518230</td>\n",
       "      <td>178.943634</td>\n",
       "      <td>38.270880</td>\n",
       "      <td>10.315851</td>\n",
       "      <td>38.971568</td>\n",
       "      <td>1463.693448</td>\n",
       "      <td>53060.599240</td>\n",
       "      <td>...</td>\n",
       "      <td>137.932739</td>\n",
       "      <td>1244.227020</td>\n",
       "      <td>31.365763</td>\n",
       "      <td>135.781294</td>\n",
       "      <td>1497.351958</td>\n",
       "      <td>143790.071200</td>\n",
       "      <td>81.210825</td>\n",
       "      <td>191.194764</td>\n",
       "      <td>21.978000</td>\n",
       "      <td>1.000000</td>\n",
       "    </tr>\n",
       "  </tbody>\n",
       "</table>\n",
       "<p>8 rows × 56 columns</p>\n",
       "</div>"
      ],
      "text/plain": [
       "               AB            AF           AH          AM          AR  \\\n",
       "count  617.000000    617.000000   617.000000  617.000000  617.000000   \n",
       "mean     0.477149   3502.013221   118.624513   38.968552   10.128242   \n",
       "std      0.468388   2300.322717   127.838950   69.728226   10.518877   \n",
       "min      0.081187    192.593280    85.200147    3.177522    8.138688   \n",
       "25%      0.252107   2197.345480    85.200147   12.270314    8.138688   \n",
       "50%      0.354659   3120.318960    85.200147   20.533110    8.138688   \n",
       "75%      0.559763   4361.637390   113.739540   39.139886    8.138688   \n",
       "max      6.161666  28688.187660  1910.123198  630.518230  178.943634   \n",
       "\n",
       "               AX          AY          AZ           BC           BD   ...  \\\n",
       "count  617.000000  617.000000  617.000000   617.000000    617.000000  ...   \n",
       "mean     5.545576    0.060320   10.566447     8.053012   5350.388655  ...   \n",
       "std      2.551696    0.416817    4.350645    65.166943   3021.326641  ...   \n",
       "min      0.699861    0.025578    3.396778     1.229900   1693.624320  ...   \n",
       "25%      4.128294    0.025578    8.129580     1.229900   4155.702870  ...   \n",
       "50%      5.031912    0.025578   10.461320     1.229900   4997.960730  ...   \n",
       "75%      6.431634    0.036845   12.969516     5.081244   6035.885700  ...   \n",
       "max     38.270880   10.315851   38.971568  1463.693448  53060.599240  ...   \n",
       "\n",
       "               FL           FR          FS          GB           GE  \\\n",
       "count  616.000000   617.000000  615.000000  617.000000   617.000000   \n",
       "mean     5.433199     3.533905    0.421501   20.724856   131.714987   \n",
       "std     11.496257    50.181948    1.305365    9.991907   144.181524   \n",
       "min      0.173229     0.497060    0.067730    4.102182    72.611063   \n",
       "25%      0.173229     0.497060    0.067730   14.036718    72.611063   \n",
       "50%      3.028141     1.131000    0.250601   18.771436    72.611063   \n",
       "75%      6.238814     1.512060    0.535067   25.608406   127.591671   \n",
       "max    137.932739  1244.227020   31.365763  135.781294  1497.351958   \n",
       "\n",
       "                  GF          GH          GI          GL       Class  \n",
       "count     617.000000  617.000000  617.000000  616.000000  617.000000  \n",
       "mean    14679.595398   31.489716   50.584437    8.530961    0.175041  \n",
       "std     19352.959387    9.864239   36.266251   10.327010    0.380310  \n",
       "min        13.038894    9.432735    0.897628    0.001129    0.000000  \n",
       "25%      2798.992584   25.034888   23.011684    0.124392    0.000000  \n",
       "50%      7838.273610   30.608946   41.007968    0.337827    0.000000  \n",
       "75%     19035.709240   36.863947   67.931664   21.978000    0.000000  \n",
       "max    143790.071200   81.210825  191.194764   21.978000    1.000000  \n",
       "\n",
       "[8 rows x 56 columns]"
      ]
     },
     "execution_count": 6,
     "metadata": {},
     "output_type": "execute_result"
    }
   ],
   "source": [
    "dataset_df.describe()"
   ]
  },
  {
   "cell_type": "raw",
   "id": "30fc848e",
   "metadata": {
    "execution": {
     "iopub.execute_input": "2023-06-05T08:39:29.187811Z",
     "iopub.status.busy": "2023-06-05T08:39:29.187353Z",
     "iopub.status.idle": "2023-06-05T08:39:29.214705Z",
     "shell.execute_reply": "2023-06-05T08:39:29.213636Z",
     "shell.execute_reply.started": "2023-06-05T08:39:29.187771Z"
    },
    "papermill": {
     "duration": 0.011386,
     "end_time": "2023-07-08T12:32:44.307267",
     "exception": false,
     "start_time": "2023-07-08T12:32:44.295881",
     "status": "completed"
    },
    "tags": []
   },
   "source": [
    "dataset_df.info()"
   ]
  },
  {
   "cell_type": "markdown",
   "id": "53020dcc",
   "metadata": {
    "papermill": {
     "duration": 0.011456,
     "end_time": "2023-07-08T12:32:44.330608",
     "exception": false,
     "start_time": "2023-07-08T12:32:44.319152",
     "status": "completed"
    },
    "tags": []
   },
   "source": [
    "## Pie chart for label column: Class"
   ]
  },
  {
   "cell_type": "code",
   "execution_count": 7,
   "id": "9205cc90",
   "metadata": {
    "execution": {
     "iopub.execute_input": "2023-07-08T12:32:44.355864Z",
     "iopub.status.busy": "2023-07-08T12:32:44.355539Z",
     "iopub.status.idle": "2023-07-08T12:32:44.528452Z",
     "shell.execute_reply": "2023-07-08T12:32:44.527290Z"
    },
    "papermill": {
     "duration": 0.187924,
     "end_time": "2023-07-08T12:32:44.530424",
     "exception": false,
     "start_time": "2023-07-08T12:32:44.342500",
     "status": "completed"
    },
    "tags": []
   },
   "outputs": [
    {
     "data": {
      "text/plain": [
       "<Axes: ylabel='Class'>"
      ]
     },
     "execution_count": 7,
     "metadata": {},
     "output_type": "execute_result"
    },
    {
     "data": {
      "image/png": "[encoded data removed]",
      "text/plain": [
       "<Figure size 640x480 with 1 Axes>"
      ]
     },
     "metadata": {},
     "output_type": "display_data"
    }
   ],
   "source": [
    "plot_df = dataset_df.Class.value_counts()\n",
    "plot_df.plot(kind=\"pie\")"
   ]
  },
  {
   "cell_type": "markdown",
   "id": "3a3a5c48",
   "metadata": {
    "papermill": {
     "duration": 0.015697,
     "end_time": "2023-07-08T12:32:44.562180",
     "exception": false,
     "start_time": "2023-07-08T12:32:44.546483",
     "status": "completed"
    },
    "tags": []
   },
   "source": [
    "**Important**: From the pie chart we can see that the dataset is heavily imbalanced since the fraction of positive(`1`) samples is very small compared to the negative(`0`) samples."
   ]
  },
  {
   "cell_type": "markdown",
   "id": "6980bfaa",
   "metadata": {
    "papermill": {
     "duration": 0.015651,
     "end_time": "2023-07-08T12:32:44.593691",
     "exception": false,
     "start_time": "2023-07-08T12:32:44.578040",
     "status": "completed"
    },
    "tags": []
   },
   "source": [
    "# Numerical data distribution\n",
    "\n",
    "First, we will list all the numerical columns names."
   ]
  },
  {
   "cell_type": "code",
   "execution_count": 8,
   "id": "957895ce",
   "metadata": {
    "execution": {
     "iopub.execute_input": "2023-07-08T12:32:44.624842Z",
     "iopub.status.busy": "2023-07-08T12:32:44.624514Z",
     "iopub.status.idle": "2023-07-08T12:32:44.628928Z",
     "shell.execute_reply": "2023-07-08T12:32:44.628245Z"
    },
    "papermill": {
     "duration": 0.021018,
     "end_time": "2023-07-08T12:32:44.630496",
     "exception": false,
     "start_time": "2023-07-08T12:32:44.609478",
     "status": "completed"
    },
    "tags": []
   },
   "outputs": [],
   "source": [
    "# Store all the numerical column names into a list\n",
    "NUM_FEATURE_COLUMNS = [i for i in dataset_df.columns if i not in [\"Id\", \"EJ\", \"Class\"]]"
   ]
  },
  {
   "cell_type": "markdown",
   "id": "0a6f9d6e",
   "metadata": {
    "papermill": {
     "duration": 0.01189,
     "end_time": "2023-07-08T12:32:44.654758",
     "exception": false,
     "start_time": "2023-07-08T12:32:44.642868",
     "status": "completed"
    },
    "tags": []
   },
   "source": [
    "Let us now plot the first 6 numerical columns and their values using bar charts."
   ]
  },
  {
   "cell_type": "markdown",
   "id": "7e696c67",
   "metadata": {
    "papermill": {
     "duration": 0.01335,
     "end_time": "2023-07-08T12:32:44.682169",
     "exception": false,
     "start_time": "2023-07-08T12:32:44.668819",
     "status": "completed"
    },
    "tags": []
   },
   "source": [
    "We will also create a list of feature columns that will be used for training. We will drop `Id` from the list since it is not needed."
   ]
  },
  {
   "cell_type": "code",
   "execution_count": 9,
   "id": "ec06b971",
   "metadata": {
    "execution": {
     "iopub.execute_input": "2023-07-08T12:32:44.707364Z",
     "iopub.status.busy": "2023-07-08T12:32:44.706999Z",
     "iopub.status.idle": "2023-07-08T12:32:44.710614Z",
     "shell.execute_reply": "2023-07-08T12:32:44.710012Z"
    },
    "papermill": {
     "duration": 0.018032,
     "end_time": "2023-07-08T12:32:44.712003",
     "exception": false,
     "start_time": "2023-07-08T12:32:44.693971",
     "status": "completed"
    },
    "tags": []
   },
   "outputs": [],
   "source": [
    "FEATURE_COLUMNS = [i for i in dataset_df.columns if i not in [\"Id\",\"Class\"]]"
   ]
  },
  {
   "cell_type": "markdown",
   "id": "6a830380",
   "metadata": {
    "papermill": {
     "duration": 0.011575,
     "end_time": "2023-07-08T12:32:44.735335",
     "exception": false,
     "start_time": "2023-07-08T12:32:44.723760",
     "status": "completed"
    },
    "tags": []
   },
   "source": [
    "Now let us split the dataset into training and testing datasets:"
   ]
  },
  {
   "cell_type": "markdown",
   "id": "5ebdac97",
   "metadata": {
    "papermill": {
     "duration": 0.012825,
     "end_time": "2023-07-08T12:32:44.760661",
     "exception": false,
     "start_time": "2023-07-08T12:32:44.747836",
     "status": "completed"
    },
    "tags": []
   },
   "source": [
    "# Feature Engineering"
   ]
  },
  {
   "cell_type": "markdown",
   "id": "76db2d21",
   "metadata": {
    "papermill": {
     "duration": 0.012213,
     "end_time": "2023-07-08T12:32:44.787963",
     "exception": false,
     "start_time": "2023-07-08T12:32:44.775750",
     "status": "completed"
    },
    "tags": []
   },
   "source": [
    "## Filter Monotonic Features"
   ]
  },
  {
   "cell_type": "code",
   "execution_count": 10,
   "id": "43601b23",
   "metadata": {
    "execution": {
     "iopub.execute_input": "2023-07-08T12:32:44.814593Z",
     "iopub.status.busy": "2023-07-08T12:32:44.814280Z",
     "iopub.status.idle": "2023-07-08T12:32:45.223701Z",
     "shell.execute_reply": "2023-07-08T12:32:45.223014Z"
    },
    "papermill": {
     "duration": 0.42405,
     "end_time": "2023-07-08T12:32:45.225234",
     "exception": false,
     "start_time": "2023-07-08T12:32:44.801184",
     "status": "completed"
    },
    "tags": []
   },
   "outputs": [
    {
     "data": {
      "application/vnd.jupyter.widget-view+json": {
       "model_id": "c2b61d8de0bd4a6e89d8c7c88760e54c",
       "version_major": 2,
       "version_minor": 0
      },
      "text/plain": [
       "  0%|          | 0/56 [00:00<?, ?it/s]"
      ]
     },
     "metadata": {},
     "output_type": "display_data"
    },
    {
     "data": {
      "text/html": [
       "<div>\n",
       "<style scoped>\n",
       "    .dataframe tbody tr th:only-of-type {\n",
       "        vertical-align: middle;\n",
       "    }\n",
       "\n",
       "    .dataframe tbody tr th {\n",
       "        vertical-align: top;\n",
       "    }\n",
       "\n",
       "    .dataframe thead th {\n",
       "        text-align: right;\n",
       "    }\n",
       "</style>\n",
       "<table border=\"1\" class=\"dataframe\">\n",
       "  <thead>\n",
       "    <tr style=\"text-align: right;\">\n",
       "      <th></th>\n",
       "      <th>nunique</th>\n",
       "      <th>na_share</th>\n",
       "      <th>dtype</th>\n",
       "      <th>correlation</th>\n",
       "      <th>min</th>\n",
       "      <th>max</th>\n",
       "      <th>std</th>\n",
       "      <th>mean</th>\n",
       "      <th>logloss</th>\n",
       "    </tr>\n",
       "  </thead>\n",
       "  <tbody>\n",
       "    <tr>\n",
       "      <th>DU</th>\n",
       "      <td>253</td>\n",
       "      <td>0.2</td>\n",
       "      <td>float64</td>\n",
       "      <td>0.26</td>\n",
       "      <td>0.005518</td>\n",
       "      <td>161.355315</td>\n",
       "      <td>9.034721</td>\n",
       "      <td>1.8029</td>\n",
       "      <td>5.55868</td>\n",
       "    </tr>\n",
       "    <tr>\n",
       "      <th>BC</th>\n",
       "      <td>259</td>\n",
       "      <td>0.0</td>\n",
       "      <td>float64</td>\n",
       "      <td>0.16</td>\n",
       "      <td>1.2299</td>\n",
       "      <td>1463.693448</td>\n",
       "      <td>65.166943</td>\n",
       "      <td>8.053012</td>\n",
       "      <td>5.724924</td>\n",
       "    </tr>\n",
       "    <tr>\n",
       "      <th>AF</th>\n",
       "      <td>599</td>\n",
       "      <td>0.0</td>\n",
       "      <td>float64</td>\n",
       "      <td>0.3</td>\n",
       "      <td>192.59328</td>\n",
       "      <td>28688.18766</td>\n",
       "      <td>2300.322717</td>\n",
       "      <td>3502.013221</td>\n",
       "      <td>5.900177</td>\n",
       "    </tr>\n",
       "    <tr>\n",
       "      <th>EH</th>\n",
       "      <td>127</td>\n",
       "      <td>0.0</td>\n",
       "      <td>float64</td>\n",
       "      <td>0.18</td>\n",
       "      <td>0.003042</td>\n",
       "      <td>42.569748</td>\n",
       "      <td>1.847499</td>\n",
       "      <td>0.305107</td>\n",
       "      <td>5.900177</td>\n",
       "    </tr>\n",
       "    <tr>\n",
       "      <th>AM</th>\n",
       "      <td>605</td>\n",
       "      <td>0.0</td>\n",
       "      <td>float64</td>\n",
       "      <td>0.24</td>\n",
       "      <td>3.177522</td>\n",
       "      <td>630.51823</td>\n",
       "      <td>69.728226</td>\n",
       "      <td>38.968552</td>\n",
       "      <td>5.900177</td>\n",
       "    </tr>\n",
       "    <tr>\n",
       "      <th>FD</th>\n",
       "      <td>337</td>\n",
       "      <td>0.0</td>\n",
       "      <td>float64</td>\n",
       "      <td>0.13</td>\n",
       "      <td>0.29685</td>\n",
       "      <td>1578.654237</td>\n",
       "      <td>64.754262</td>\n",
       "      <td>6.930086</td>\n",
       "      <td>5.900177</td>\n",
       "    </tr>\n",
       "    <tr>\n",
       "      <th>DI</th>\n",
       "      <td>571</td>\n",
       "      <td>0.0</td>\n",
       "      <td>float64</td>\n",
       "      <td>0.26</td>\n",
       "      <td>60.23247</td>\n",
       "      <td>1049.168078</td>\n",
       "      <td>86.084419</td>\n",
       "      <td>146.972099</td>\n",
       "      <td>5.900177</td>\n",
       "    </tr>\n",
       "    <tr>\n",
       "      <th>FR</th>\n",
       "      <td>435</td>\n",
       "      <td>0.0</td>\n",
       "      <td>float64</td>\n",
       "      <td>0.1</td>\n",
       "      <td>0.49706</td>\n",
       "      <td>1244.22702</td>\n",
       "      <td>50.181948</td>\n",
       "      <td>3.533905</td>\n",
       "      <td>5.900177</td>\n",
       "    </tr>\n",
       "    <tr>\n",
       "      <th>AB</th>\n",
       "      <td>217</td>\n",
       "      <td>0.0</td>\n",
       "      <td>float64</td>\n",
       "      <td>0.28</td>\n",
       "      <td>0.081187</td>\n",
       "      <td>6.161666</td>\n",
       "      <td>0.468388</td>\n",
       "      <td>0.477149</td>\n",
       "      <td>6.017012</td>\n",
       "    </tr>\n",
       "    <tr>\n",
       "      <th>CF</th>\n",
       "      <td>586</td>\n",
       "      <td>0.0</td>\n",
       "      <td>float64</td>\n",
       "      <td>0.11</td>\n",
       "      <td>0.510888</td>\n",
       "      <td>200.967526</td>\n",
       "      <td>13.571133</td>\n",
       "      <td>11.241064</td>\n",
       "      <td>6.192265</td>\n",
       "    </tr>\n",
       "    <tr>\n",
       "      <th>BZ</th>\n",
       "      <td>115</td>\n",
       "      <td>0.0</td>\n",
       "      <td>float64</td>\n",
       "      <td>0.11</td>\n",
       "      <td>257.432377</td>\n",
       "      <td>50092.4593</td>\n",
       "      <td>2076.371275</td>\n",
       "      <td>550.632525</td>\n",
       "      <td>6.192265</td>\n",
       "    </tr>\n",
       "    <tr>\n",
       "      <th>FE</th>\n",
       "      <td>615</td>\n",
       "      <td>0.0</td>\n",
       "      <td>float64</td>\n",
       "      <td>0.22</td>\n",
       "      <td>1563.136688</td>\n",
       "      <td>143224.6823</td>\n",
       "      <td>11331.294051</td>\n",
       "      <td>10306.810737</td>\n",
       "      <td>6.192265</td>\n",
       "    </tr>\n",
       "    <tr>\n",
       "      <th>AX</th>\n",
       "      <td>427</td>\n",
       "      <td>0.0</td>\n",
       "      <td>float64</td>\n",
       "      <td>0.1</td>\n",
       "      <td>0.699861</td>\n",
       "      <td>38.27088</td>\n",
       "      <td>2.551696</td>\n",
       "      <td>5.545576</td>\n",
       "      <td>6.250682</td>\n",
       "    </tr>\n",
       "    <tr>\n",
       "      <th>BR</th>\n",
       "      <td>566</td>\n",
       "      <td>0.0</td>\n",
       "      <td>float64</td>\n",
       "      <td>0.09</td>\n",
       "      <td>51.216883</td>\n",
       "      <td>179250.2529</td>\n",
       "      <td>7575.293707</td>\n",
       "      <td>1218.133238</td>\n",
       "      <td>6.250682</td>\n",
       "    </tr>\n",
       "    <tr>\n",
       "      <th>GB</th>\n",
       "      <td>560</td>\n",
       "      <td>0.0</td>\n",
       "      <td>float64</td>\n",
       "      <td>0.08</td>\n",
       "      <td>4.102182</td>\n",
       "      <td>135.781294</td>\n",
       "      <td>9.991907</td>\n",
       "      <td>20.724856</td>\n",
       "      <td>6.250682</td>\n",
       "    </tr>\n",
       "    <tr>\n",
       "      <th>AY</th>\n",
       "      <td>148</td>\n",
       "      <td>0.0</td>\n",
       "      <td>float64</td>\n",
       "      <td>0.08</td>\n",
       "      <td>0.025578</td>\n",
       "      <td>10.315851</td>\n",
       "      <td>0.416817</td>\n",
       "      <td>0.06032</td>\n",
       "      <td>6.250682</td>\n",
       "    </tr>\n",
       "    <tr>\n",
       "      <th>FC</th>\n",
       "      <td>600</td>\n",
       "      <td>0.2</td>\n",
       "      <td>float64</td>\n",
       "      <td>0.03</td>\n",
       "      <td>7.534128</td>\n",
       "      <td>3030.655824</td>\n",
       "      <td>165.551545</td>\n",
       "      <td>71.341526</td>\n",
       "      <td>6.260829</td>\n",
       "    </tr>\n",
       "    <tr>\n",
       "      <th>FS</th>\n",
       "      <td>161</td>\n",
       "      <td>0.3</td>\n",
       "      <td>float64</td>\n",
       "      <td>0.0</td>\n",
       "      <td>0.06773</td>\n",
       "      <td>31.365763</td>\n",
       "      <td>1.305365</td>\n",
       "      <td>0.421501</td>\n",
       "      <td>6.27101</td>\n",
       "    </tr>\n",
       "    <tr>\n",
       "      <th>CC</th>\n",
       "      <td>602</td>\n",
       "      <td>0.5</td>\n",
       "      <td>float64</td>\n",
       "      <td>-0.05</td>\n",
       "      <td>0.176874</td>\n",
       "      <td>4.103032</td>\n",
       "      <td>0.263994</td>\n",
       "      <td>0.688801</td>\n",
       "      <td>6.281223</td>\n",
       "    </tr>\n",
       "    <tr>\n",
       "      <th>GH</th>\n",
       "      <td>596</td>\n",
       "      <td>0.0</td>\n",
       "      <td>float64</td>\n",
       "      <td>0.03</td>\n",
       "      <td>9.432735</td>\n",
       "      <td>81.210825</td>\n",
       "      <td>9.864239</td>\n",
       "      <td>31.489716</td>\n",
       "      <td>6.3091</td>\n",
       "    </tr>\n",
       "    <tr>\n",
       "      <th>DV</th>\n",
       "      <td>39</td>\n",
       "      <td>0.0</td>\n",
       "      <td>float64</td>\n",
       "      <td>0.02</td>\n",
       "      <td>1.74307</td>\n",
       "      <td>25.19293</td>\n",
       "      <td>1.484555</td>\n",
       "      <td>1.92483</td>\n",
       "      <td>6.3091</td>\n",
       "    </tr>\n",
       "    <tr>\n",
       "      <th>DY</th>\n",
       "      <td>590</td>\n",
       "      <td>0.0</td>\n",
       "      <td>float64</td>\n",
       "      <td>0.06</td>\n",
       "      <td>0.804068</td>\n",
       "      <td>152.355164</td>\n",
       "      <td>18.116679</td>\n",
       "      <td>26.388989</td>\n",
       "      <td>6.3091</td>\n",
       "    </tr>\n",
       "    <tr>\n",
       "      <th>EE</th>\n",
       "      <td>513</td>\n",
       "      <td>0.0</td>\n",
       "      <td>float64</td>\n",
       "      <td>-0.14</td>\n",
       "      <td>0.286201</td>\n",
       "      <td>18.324926</td>\n",
       "      <td>2.058344</td>\n",
       "      <td>3.064778</td>\n",
       "      <td>6.3091</td>\n",
       "    </tr>\n",
       "    <tr>\n",
       "      <th>GE</th>\n",
       "      <td>264</td>\n",
       "      <td>0.0</td>\n",
       "      <td>float64</td>\n",
       "      <td>-0.07</td>\n",
       "      <td>72.611063</td>\n",
       "      <td>1497.351958</td>\n",
       "      <td>144.181524</td>\n",
       "      <td>131.714987</td>\n",
       "      <td>6.3091</td>\n",
       "    </tr>\n",
       "    <tr>\n",
       "      <th>AH</th>\n",
       "      <td>227</td>\n",
       "      <td>0.0</td>\n",
       "      <td>float64</td>\n",
       "      <td>0.04</td>\n",
       "      <td>85.200147</td>\n",
       "      <td>1910.123198</td>\n",
       "      <td>127.83895</td>\n",
       "      <td>118.624513</td>\n",
       "      <td>6.3091</td>\n",
       "    </tr>\n",
       "    <tr>\n",
       "      <th>DN</th>\n",
       "      <td>576</td>\n",
       "      <td>0.0</td>\n",
       "      <td>float64</td>\n",
       "      <td>-0.01</td>\n",
       "      <td>6.339496</td>\n",
       "      <td>62.808096</td>\n",
       "      <td>8.038825</td>\n",
       "      <td>26.370568</td>\n",
       "      <td>6.3091</td>\n",
       "    </tr>\n",
       "    <tr>\n",
       "      <th>EP</th>\n",
       "      <td>275</td>\n",
       "      <td>0.0</td>\n",
       "      <td>float64</td>\n",
       "      <td>-0.07</td>\n",
       "      <td>78.526968</td>\n",
       "      <td>1063.594578</td>\n",
       "      <td>68.44562</td>\n",
       "      <td>105.060712</td>\n",
       "      <td>6.3091</td>\n",
       "    </tr>\n",
       "    <tr>\n",
       "      <th>EU</th>\n",
       "      <td>455</td>\n",
       "      <td>0.0</td>\n",
       "      <td>float64</td>\n",
       "      <td>-0.04</td>\n",
       "      <td>3.828384</td>\n",
       "      <td>6501.26448</td>\n",
       "      <td>390.187057</td>\n",
       "      <td>69.117005</td>\n",
       "      <td>6.3091</td>\n",
       "    </tr>\n",
       "    <tr>\n",
       "      <th>EG</th>\n",
       "      <td>610</td>\n",
       "      <td>0.0</td>\n",
       "      <td>float64</td>\n",
       "      <td>-0.02</td>\n",
       "      <td>185.5941</td>\n",
       "      <td>30243.75878</td>\n",
       "      <td>1790.227476</td>\n",
       "      <td>1731.248215</td>\n",
       "      <td>6.3091</td>\n",
       "    </tr>\n",
       "    <tr>\n",
       "      <th>FI</th>\n",
       "      <td>498</td>\n",
       "      <td>0.0</td>\n",
       "      <td>float64</td>\n",
       "      <td>-0.09</td>\n",
       "      <td>3.58345</td>\n",
       "      <td>35.851039</td>\n",
       "      <td>2.934025</td>\n",
       "      <td>10.111079</td>\n",
       "      <td>6.3091</td>\n",
       "    </tr>\n",
       "    <tr>\n",
       "      <th>DH</th>\n",
       "      <td>191</td>\n",
       "      <td>0.0</td>\n",
       "      <td>float64</td>\n",
       "      <td>-0.21</td>\n",
       "      <td>0.040995</td>\n",
       "      <td>1.060404</td>\n",
       "      <td>0.112989</td>\n",
       "      <td>0.367002</td>\n",
       "      <td>6.3091</td>\n",
       "    </tr>\n",
       "    <tr>\n",
       "      <th>GF</th>\n",
       "      <td>611</td>\n",
       "      <td>0.0</td>\n",
       "      <td>float64</td>\n",
       "      <td>-0.13</td>\n",
       "      <td>13.038894</td>\n",
       "      <td>143790.0712</td>\n",
       "      <td>19352.959387</td>\n",
       "      <td>14679.595398</td>\n",
       "      <td>6.3091</td>\n",
       "    </tr>\n",
       "    <tr>\n",
       "      <th>GI</th>\n",
       "      <td>615</td>\n",
       "      <td>0.0</td>\n",
       "      <td>float64</td>\n",
       "      <td>0.08</td>\n",
       "      <td>0.897628</td>\n",
       "      <td>191.194764</td>\n",
       "      <td>36.266251</td>\n",
       "      <td>50.584437</td>\n",
       "      <td>6.3091</td>\n",
       "    </tr>\n",
       "    <tr>\n",
       "      <th>DE</th>\n",
       "      <td>616</td>\n",
       "      <td>0.0</td>\n",
       "      <td>float64</td>\n",
       "      <td>-0.12</td>\n",
       "      <td>35.998895</td>\n",
       "      <td>2103.40519</td>\n",
       "      <td>317.745623</td>\n",
       "      <td>401.901299</td>\n",
       "      <td>6.3091</td>\n",
       "    </tr>\n",
       "    <tr>\n",
       "      <th>DA</th>\n",
       "      <td>611</td>\n",
       "      <td>0.0</td>\n",
       "      <td>float64</td>\n",
       "      <td>-0.2</td>\n",
       "      <td>6.9064</td>\n",
       "      <td>210.33092</td>\n",
       "      <td>21.210888</td>\n",
       "      <td>51.128326</td>\n",
       "      <td>6.3091</td>\n",
       "    </tr>\n",
       "    <tr>\n",
       "      <th>CW</th>\n",
       "      <td>426</td>\n",
       "      <td>0.0</td>\n",
       "      <td>float64</td>\n",
       "      <td>-0.06</td>\n",
       "      <td>7.03064</td>\n",
       "      <td>64.521624</td>\n",
       "      <td>14.645993</td>\n",
       "      <td>27.165653</td>\n",
       "      <td>6.3091</td>\n",
       "    </tr>\n",
       "    <tr>\n",
       "      <th>CU</th>\n",
       "      <td>307</td>\n",
       "      <td>0.0</td>\n",
       "      <td>float64</td>\n",
       "      <td>-0.08</td>\n",
       "      <td>0.137925</td>\n",
       "      <td>4.951507</td>\n",
       "      <td>0.538717</td>\n",
       "      <td>1.383792</td>\n",
       "      <td>6.3091</td>\n",
       "    </tr>\n",
       "    <tr>\n",
       "      <th>AZ</th>\n",
       "      <td>484</td>\n",
       "      <td>0.0</td>\n",
       "      <td>float64</td>\n",
       "      <td>0.01</td>\n",
       "      <td>3.396778</td>\n",
       "      <td>38.971568</td>\n",
       "      <td>4.350645</td>\n",
       "      <td>10.566447</td>\n",
       "      <td>6.3091</td>\n",
       "    </tr>\n",
       "    <tr>\n",
       "      <th>CL</th>\n",
       "      <td>123</td>\n",
       "      <td>0.0</td>\n",
       "      <td>float64</td>\n",
       "      <td>0.02</td>\n",
       "      <td>1.050225</td>\n",
       "      <td>31.688153</td>\n",
       "      <td>1.92221</td>\n",
       "      <td>1.403761</td>\n",
       "      <td>6.3091</td>\n",
       "    </tr>\n",
       "    <tr>\n",
       "      <th>CH</th>\n",
       "      <td>135</td>\n",
       "      <td>0.0</td>\n",
       "      <td>float64</td>\n",
       "      <td>0.01</td>\n",
       "      <td>0.003184</td>\n",
       "      <td>0.224074</td>\n",
       "      <td>0.014808</td>\n",
       "      <td>0.030615</td>\n",
       "      <td>6.3091</td>\n",
       "    </tr>\n",
       "    <tr>\n",
       "      <th>BD</th>\n",
       "      <td>617</td>\n",
       "      <td>0.0</td>\n",
       "      <td>float64</td>\n",
       "      <td>0.11</td>\n",
       "      <td>1693.62432</td>\n",
       "      <td>53060.59924</td>\n",
       "      <td>3021.326641</td>\n",
       "      <td>5350.388655</td>\n",
       "      <td>6.3091</td>\n",
       "    </tr>\n",
       "    <tr>\n",
       "      <th>BN</th>\n",
       "      <td>53</td>\n",
       "      <td>0.0</td>\n",
       "      <td>float64</td>\n",
       "      <td>0.2</td>\n",
       "      <td>9.8868</td>\n",
       "      <td>29.3073</td>\n",
       "      <td>3.478278</td>\n",
       "      <td>21.419492</td>\n",
       "      <td>6.3091</td>\n",
       "    </tr>\n",
       "    <tr>\n",
       "      <th>DL</th>\n",
       "      <td>604</td>\n",
       "      <td>0.0</td>\n",
       "      <td>float64</td>\n",
       "      <td>-0.15</td>\n",
       "      <td>10.3456</td>\n",
       "      <td>326.2362</td>\n",
       "      <td>28.243187</td>\n",
       "      <td>94.795377</td>\n",
       "      <td>6.3091</td>\n",
       "    </tr>\n",
       "    <tr>\n",
       "      <th>CS</th>\n",
       "      <td>576</td>\n",
       "      <td>0.0</td>\n",
       "      <td>float64</td>\n",
       "      <td>-0.05</td>\n",
       "      <td>13.784111</td>\n",
       "      <td>267.942823</td>\n",
       "      <td>17.266347</td>\n",
       "      <td>36.91759</td>\n",
       "      <td>6.3091</td>\n",
       "    </tr>\n",
       "    <tr>\n",
       "      <th>FL</th>\n",
       "      <td>388</td>\n",
       "      <td>0.2</td>\n",
       "      <td>float64</td>\n",
       "      <td>0.24</td>\n",
       "      <td>0.173229</td>\n",
       "      <td>137.932739</td>\n",
       "      <td>11.496257</td>\n",
       "      <td>5.433199</td>\n",
       "      <td>6.319342</td>\n",
       "    </tr>\n",
       "    <tr>\n",
       "      <th>GL</th>\n",
       "      <td>355</td>\n",
       "      <td>0.2</td>\n",
       "      <td>float64</td>\n",
       "      <td>-0.12</td>\n",
       "      <td>0.001129</td>\n",
       "      <td>21.978</td>\n",
       "      <td>10.32701</td>\n",
       "      <td>8.530961</td>\n",
       "      <td>6.319342</td>\n",
       "    </tr>\n",
       "    <tr>\n",
       "      <th>CB</th>\n",
       "      <td>553</td>\n",
       "      <td>0.3</td>\n",
       "      <td>float64</td>\n",
       "      <td>-0.01</td>\n",
       "      <td>12.49976</td>\n",
       "      <td>2271.436167</td>\n",
       "      <td>159.049302</td>\n",
       "      <td>77.104151</td>\n",
       "      <td>6.329617</td>\n",
       "    </tr>\n",
       "    <tr>\n",
       "      <th>DF</th>\n",
       "      <td>137</td>\n",
       "      <td>0.0</td>\n",
       "      <td>float64</td>\n",
       "      <td>0.06</td>\n",
       "      <td>0.23868</td>\n",
       "      <td>37.895013</td>\n",
       "      <td>1.912384</td>\n",
       "      <td>0.633884</td>\n",
       "      <td>6.367517</td>\n",
       "    </tr>\n",
       "    <tr>\n",
       "      <th>BP</th>\n",
       "      <td>612</td>\n",
       "      <td>0.0</td>\n",
       "      <td>float64</td>\n",
       "      <td>0.16</td>\n",
       "      <td>72.948951</td>\n",
       "      <td>2447.81055</td>\n",
       "      <td>183.992505</td>\n",
       "      <td>231.322223</td>\n",
       "      <td>6.367517</td>\n",
       "    </tr>\n",
       "    <tr>\n",
       "      <th>EB</th>\n",
       "      <td>439</td>\n",
       "      <td>0.0</td>\n",
       "      <td>float64</td>\n",
       "      <td>0.09</td>\n",
       "      <td>4.926396</td>\n",
       "      <td>94.95858</td>\n",
       "      <td>6.200281</td>\n",
       "      <td>9.0727</td>\n",
       "      <td>6.425935</td>\n",
       "    </tr>\n",
       "    <tr>\n",
       "      <th>AR</th>\n",
       "      <td>130</td>\n",
       "      <td>0.0</td>\n",
       "      <td>float64</td>\n",
       "      <td>0.06</td>\n",
       "      <td>8.138688</td>\n",
       "      <td>178.943634</td>\n",
       "      <td>10.518877</td>\n",
       "      <td>10.128242</td>\n",
       "      <td>6.425935</td>\n",
       "    </tr>\n",
       "    <tr>\n",
       "      <th>CD</th>\n",
       "      <td>584</td>\n",
       "      <td>0.0</td>\n",
       "      <td>float64</td>\n",
       "      <td>0.17</td>\n",
       "      <td>23.3876</td>\n",
       "      <td>633.534408</td>\n",
       "      <td>51.58513</td>\n",
       "      <td>90.251735</td>\n",
       "      <td>6.425935</td>\n",
       "    </tr>\n",
       "    <tr>\n",
       "      <th>EL</th>\n",
       "      <td>311</td>\n",
       "      <td>10.8</td>\n",
       "      <td>float64</td>\n",
       "      <td>0.07</td>\n",
       "      <td>5.394675</td>\n",
       "      <td>109.125159</td>\n",
       "      <td>38.555707</td>\n",
       "      <td>69.582596</td>\n",
       "      <td>6.600454</td>\n",
       "    </tr>\n",
       "    <tr>\n",
       "      <th>CR</th>\n",
       "      <td>595</td>\n",
       "      <td>0.0</td>\n",
       "      <td>float64</td>\n",
       "      <td>-0.23</td>\n",
       "      <td>0.069225</td>\n",
       "      <td>3.039675</td>\n",
       "      <td>0.281195</td>\n",
       "      <td>0.742262</td>\n",
       "      <td>6.601188</td>\n",
       "    </tr>\n",
       "    <tr>\n",
       "      <th>BQ</th>\n",
       "      <td>515</td>\n",
       "      <td>10.8</td>\n",
       "      <td>float64</td>\n",
       "      <td>0.28</td>\n",
       "      <td>1.331155</td>\n",
       "      <td>344.644105</td>\n",
       "      <td>96.479371</td>\n",
       "      <td>98.328737</td>\n",
       "      <td>7.053426</td>\n",
       "    </tr>\n",
       "    <tr>\n",
       "      <th>EJ</th>\n",
       "      <td>2</td>\n",
       "      <td>0.0</td>\n",
       "      <td>object</td>\n",
       "      <td>NaN</td>\n",
       "      <td>NaN</td>\n",
       "      <td>NaN</td>\n",
       "      <td>NaN</td>\n",
       "      <td>NaN</td>\n",
       "      <td>NaN</td>\n",
       "    </tr>\n",
       "  </tbody>\n",
       "</table>\n",
       "</div>"
      ],
      "text/plain": [
       "    nunique na_share    dtype correlation          min          max  \\\n",
       "DU      253      0.2  float64        0.26     0.005518   161.355315   \n",
       "BC      259      0.0  float64        0.16       1.2299  1463.693448   \n",
       "AF      599      0.0  float64         0.3    192.59328  28688.18766   \n",
       "EH      127      0.0  float64        0.18     0.003042    42.569748   \n",
       "AM      605      0.0  float64        0.24     3.177522    630.51823   \n",
       "FD      337      0.0  float64        0.13      0.29685  1578.654237   \n",
       "DI      571      0.0  float64        0.26     60.23247  1049.168078   \n",
       "FR      435      0.0  float64         0.1      0.49706   1244.22702   \n",
       "AB      217      0.0  float64        0.28     0.081187     6.161666   \n",
       "CF      586      0.0  float64        0.11     0.510888   200.967526   \n",
       "BZ      115      0.0  float64        0.11   257.432377   50092.4593   \n",
       "FE      615      0.0  float64        0.22  1563.136688  143224.6823   \n",
       "AX      427      0.0  float64         0.1     0.699861     38.27088   \n",
       "BR      566      0.0  float64        0.09    51.216883  179250.2529   \n",
       "GB      560      0.0  float64        0.08     4.102182   135.781294   \n",
       "AY      148      0.0  float64        0.08     0.025578    10.315851   \n",
       "FC      600      0.2  float64        0.03     7.534128  3030.655824   \n",
       "FS      161      0.3  float64         0.0      0.06773    31.365763   \n",
       "CC      602      0.5  float64       -0.05     0.176874     4.103032   \n",
       "GH      596      0.0  float64        0.03     9.432735    81.210825   \n",
       "DV       39      0.0  float64        0.02      1.74307     25.19293   \n",
       "DY      590      0.0  float64        0.06     0.804068   152.355164   \n",
       "EE      513      0.0  float64       -0.14     0.286201    18.324926   \n",
       "GE      264      0.0  float64       -0.07    72.611063  1497.351958   \n",
       "AH      227      0.0  float64        0.04    85.200147  1910.123198   \n",
       "DN      576      0.0  float64       -0.01     6.339496    62.808096   \n",
       "EP      275      0.0  float64       -0.07    78.526968  1063.594578   \n",
       "EU      455      0.0  float64       -0.04     3.828384   6501.26448   \n",
       "EG      610      0.0  float64       -0.02     185.5941  30243.75878   \n",
       "FI      498      0.0  float64       -0.09      3.58345    35.851039   \n",
       "DH      191      0.0  float64       -0.21     0.040995     1.060404   \n",
       "GF      611      0.0  float64       -0.13    13.038894  143790.0712   \n",
       "GI      615      0.0  float64        0.08     0.897628   191.194764   \n",
       "DE      616      0.0  float64       -0.12    35.998895   2103.40519   \n",
       "DA      611      0.0  float64        -0.2       6.9064    210.33092   \n",
       "CW      426      0.0  float64       -0.06      7.03064    64.521624   \n",
       "CU      307      0.0  float64       -0.08     0.137925     4.951507   \n",
       "AZ      484      0.0  float64        0.01     3.396778    38.971568   \n",
       "CL      123      0.0  float64        0.02     1.050225    31.688153   \n",
       "CH      135      0.0  float64        0.01     0.003184     0.224074   \n",
       "BD      617      0.0  float64        0.11   1693.62432  53060.59924   \n",
       "BN       53      0.0  float64         0.2       9.8868      29.3073   \n",
       "DL      604      0.0  float64       -0.15      10.3456     326.2362   \n",
       "CS      576      0.0  float64       -0.05    13.784111   267.942823   \n",
       "FL      388      0.2  float64        0.24     0.173229   137.932739   \n",
       "GL      355      0.2  float64       -0.12     0.001129       21.978   \n",
       "CB      553      0.3  float64       -0.01     12.49976  2271.436167   \n",
       "DF      137      0.0  float64        0.06      0.23868    37.895013   \n",
       "BP      612      0.0  float64        0.16    72.948951   2447.81055   \n",
       "EB      439      0.0  float64        0.09     4.926396     94.95858   \n",
       "AR      130      0.0  float64        0.06     8.138688   178.943634   \n",
       "CD      584      0.0  float64        0.17      23.3876   633.534408   \n",
       "EL      311     10.8  float64        0.07     5.394675   109.125159   \n",
       "CR      595      0.0  float64       -0.23     0.069225     3.039675   \n",
       "BQ      515     10.8  float64        0.28     1.331155   344.644105   \n",
       "EJ        2      0.0   object         NaN          NaN          NaN   \n",
       "\n",
       "              std          mean   logloss  \n",
       "DU       9.034721        1.8029   5.55868  \n",
       "BC      65.166943      8.053012  5.724924  \n",
       "AF    2300.322717   3502.013221  5.900177  \n",
       "EH       1.847499      0.305107  5.900177  \n",
       "AM      69.728226     38.968552  5.900177  \n",
       "FD      64.754262      6.930086  5.900177  \n",
       "DI      86.084419    146.972099  5.900177  \n",
       "FR      50.181948      3.533905  5.900177  \n",
       "AB       0.468388      0.477149  6.017012  \n",
       "CF      13.571133     11.241064  6.192265  \n",
       "BZ    2076.371275    550.632525  6.192265  \n",
       "FE   11331.294051  10306.810737  6.192265  \n",
       "AX       2.551696      5.545576  6.250682  \n",
       "BR    7575.293707   1218.133238  6.250682  \n",
       "GB       9.991907     20.724856  6.250682  \n",
       "AY       0.416817       0.06032  6.250682  \n",
       "FC     165.551545     71.341526  6.260829  \n",
       "FS       1.305365      0.421501   6.27101  \n",
       "CC       0.263994      0.688801  6.281223  \n",
       "GH       9.864239     31.489716    6.3091  \n",
       "DV       1.484555       1.92483    6.3091  \n",
       "DY      18.116679     26.388989    6.3091  \n",
       "EE       2.058344      3.064778    6.3091  \n",
       "GE     144.181524    131.714987    6.3091  \n",
       "AH      127.83895    118.624513    6.3091  \n",
       "DN       8.038825     26.370568    6.3091  \n",
       "EP       68.44562    105.060712    6.3091  \n",
       "EU     390.187057     69.117005    6.3091  \n",
       "EG    1790.227476   1731.248215    6.3091  \n",
       "FI       2.934025     10.111079    6.3091  \n",
       "DH       0.112989      0.367002    6.3091  \n",
       "GF   19352.959387  14679.595398    6.3091  \n",
       "GI      36.266251     50.584437    6.3091  \n",
       "DE     317.745623    401.901299    6.3091  \n",
       "DA      21.210888     51.128326    6.3091  \n",
       "CW      14.645993     27.165653    6.3091  \n",
       "CU       0.538717      1.383792    6.3091  \n",
       "AZ       4.350645     10.566447    6.3091  \n",
       "CL        1.92221      1.403761    6.3091  \n",
       "CH       0.014808      0.030615    6.3091  \n",
       "BD    3021.326641   5350.388655    6.3091  \n",
       "BN       3.478278     21.419492    6.3091  \n",
       "DL      28.243187     94.795377    6.3091  \n",
       "CS      17.266347      36.91759    6.3091  \n",
       "FL      11.496257      5.433199  6.319342  \n",
       "GL       10.32701      8.530961  6.319342  \n",
       "CB     159.049302     77.104151  6.329617  \n",
       "DF       1.912384      0.633884  6.367517  \n",
       "BP     183.992505    231.322223  6.367517  \n",
       "EB       6.200281        9.0727  6.425935  \n",
       "AR      10.518877     10.128242  6.425935  \n",
       "CD       51.58513     90.251735  6.425935  \n",
       "EL      38.555707     69.582596  6.600454  \n",
       "CR       0.281195      0.742262  6.601188  \n",
       "BQ      96.479371     98.328737  7.053426  \n",
       "EJ            NaN           NaN       NaN  "
      ]
     },
     "execution_count": 10,
     "metadata": {},
     "output_type": "execute_result"
    }
   ],
   "source": [
    "def compute_basic_stats(columns, df):\n",
    "    out = {}\n",
    "    \n",
    "    for i in tqdm(columns):\n",
    "        mask = df[i].notna()\n",
    "        \n",
    "        out[i] = {'nunique':df[i].nunique(),\n",
    "                  'na_share':round(100*df[i].isna().sum()/df[i].count(),1),\n",
    "                  'dtype':df[i].dtype\n",
    "                 }\n",
    "        if is_numeric_dtype(df[i]):\n",
    "            out[i]['correlation'] = round(np.corrcoef(x=df.loc[mask,i],y=df.loc[mask,'Class'])[0,1],2)\n",
    "            out[i]['min'] = df.loc[mask,i].min()\n",
    "            out[i]['max'] = df.loc[mask,i].max()\n",
    "            out[i]['std'] = df.loc[mask,i].std()\n",
    "            out[i]['mean'] = df.loc[mask,i].mean()\n",
    "            i_lorreg = LogisticRegression()\n",
    "            X = df.loc[mask,i].values.reshape(-1,1)\n",
    "            y = df.loc[mask,'Class'].values\n",
    "            i_lorreg.fit(X=X, y=y)\n",
    "            y_pred = i_lorreg.predict(X)\n",
    "            out[i]['logloss'] = log_loss(y_true=y, y_pred=y_pred)\n",
    "            \n",
    "            \n",
    "    out = pd.DataFrame(out).T\n",
    "    \n",
    "    out = out.sort_values('logloss',ascending=True)\n",
    "    \n",
    "    return out\n",
    "\n",
    "basic_stats_1 = compute_basic_stats(columns=FEATURE_COLUMNS, df=dataset_df)\n",
    "\n",
    "basic_stats_1"
   ]
  },
  {
   "cell_type": "markdown",
   "id": "9c84c13b",
   "metadata": {
    "papermill": {
     "duration": 0.01246,
     "end_time": "2023-07-08T12:32:45.250683",
     "exception": false,
     "start_time": "2023-07-08T12:32:45.238223",
     "status": "completed"
    },
    "tags": []
   },
   "source": [
    "* Only one variable looks constrant over the target -> better to omit it.\n",
    "* Realised Better to add LogLoss metric for each feature -> loggloss\n"
   ]
  },
  {
   "cell_type": "markdown",
   "id": "b260a179",
   "metadata": {
    "papermill": {
     "duration": 0.012365,
     "end_time": "2023-07-08T12:32:45.275737",
     "exception": false,
     "start_time": "2023-07-08T12:32:45.263372",
     "status": "completed"
    },
    "tags": []
   },
   "source": [
    "## Normalise Features"
   ]
  },
  {
   "cell_type": "code",
   "execution_count": 11,
   "id": "f4264a13",
   "metadata": {
    "execution": {
     "iopub.execute_input": "2023-07-08T12:32:45.303061Z",
     "iopub.status.busy": "2023-07-08T12:32:45.302554Z",
     "iopub.status.idle": "2023-07-08T12:32:45.372667Z",
     "shell.execute_reply": "2023-07-08T12:32:45.371625Z"
    },
    "papermill": {
     "duration": 0.086672,
     "end_time": "2023-07-08T12:32:45.375121",
     "exception": false,
     "start_time": "2023-07-08T12:32:45.288449",
     "status": "completed"
    },
    "tags": []
   },
   "outputs": [],
   "source": [
    "def preprocess_1(train: pd.DataFrame, test: pd.DataFrame, stats: pd.DataFrame) -> (pd.DataFrame, pd.DataFrame, dict):\n",
    "    info = dict()\n",
    "    stats_features = stats[stats.logloss.notna()].index\n",
    "    train_out = train.copy()\n",
    "    test_out = test.copy()\n",
    "    for i in stats_features:\n",
    "        if i != 'EJ':\n",
    "\n",
    "            if stats.loc[i,'correlation'] > 0:\n",
    "                na_value = stats.loc[i,'max']\n",
    "            else:\n",
    "                na_value = stats.loc[i,'min']\n",
    "                \n",
    "            train_out[i] = train_out[i].fillna(na_value)\n",
    "            test_out[i] = test_out[i].fillna(na_value)\n",
    "            \n",
    "            train_out[i] = (train_out[i]-stats.loc[i,'mean'])/stats.loc[i,'std']\n",
    "            test_out[i] = (test_out[i]-stats.loc[i,'mean'])/stats.loc[i,'std']\n",
    "            \n",
    "    return train_out,test_out\n",
    "\n",
    "\n",
    "train_out_1,test_out_1 = preprocess_1(train=dataset_df, test=dataset_test_df, stats=basic_stats_1)"
   ]
  },
  {
   "cell_type": "markdown",
   "id": "82b5e05a",
   "metadata": {
    "papermill": {
     "duration": 0.012734,
     "end_time": "2023-07-08T12:32:45.401525",
     "exception": false,
     "start_time": "2023-07-08T12:32:45.388791",
     "status": "completed"
    },
    "tags": []
   },
   "source": [
    "# KFold validation\n",
    "\n",
    "We will use KFold cross validation for training this model since the normal train/test split training won't be enough to acheive decent score.\n",
    "\n",
    "We will split the dataset into 5 consecutive folds. Each fold is then used once as a validation set while the 4 (5-1) remaining folds form the training set.\n",
    "\n",
    "Read more about KFold [here](https://scikit-learn.org/stable/modules/generated/sklearn.model_selection.KFold.html)."
   ]
  },
  {
   "cell_type": "code",
   "execution_count": 12,
   "id": "c785c570",
   "metadata": {
    "execution": {
     "iopub.execute_input": "2023-07-08T12:32:45.428860Z",
     "iopub.status.busy": "2023-07-08T12:32:45.428547Z",
     "iopub.status.idle": "2023-07-08T12:32:45.433115Z",
     "shell.execute_reply": "2023-07-08T12:32:45.432062Z"
    },
    "papermill": {
     "duration": 0.020516,
     "end_time": "2023-07-08T12:32:45.435062",
     "exception": false,
     "start_time": "2023-07-08T12:32:45.414546",
     "status": "completed"
    },
    "tags": []
   },
   "outputs": [],
   "source": [
    "from sklearn.model_selection import StratifiedKFold, KFold\n",
    "# skf = StratifiedKFold(n_splits=8)\n",
    "# X,y = dataset_df_normalised.values.copy(),dataset_df['Class'].values.reshape(-1,1).copy()\n",
    "# for train, test in skf.split(X=X, y=y):\n",
    "#     print(f'train -  {y[train].sum()/len(y[train])}   |   test -  {y[train].sum()/len(y[train])}')"
   ]
  },
  {
   "cell_type": "markdown",
   "id": "c9b64678",
   "metadata": {
    "papermill": {
     "duration": 0.012661,
     "end_time": "2023-07-08T12:32:45.460577",
     "exception": false,
     "start_time": "2023-07-08T12:32:45.447916",
     "status": "completed"
    },
    "tags": []
   },
   "source": [
    "# Out of Fold (OOF)\n",
    "\n",
    "During KFold cross validation, the predictions made on the test set of each fold is known as Out of Fold(OOF) predictions. We will estimate the performance of the model using the predictions made across all the k (5 in this example) folds.\n",
    "\n",
    "For our training loop, we will create a pandas dataframe named `oof` to store the predictions of the validation set during each fold."
   ]
  },
  {
   "cell_type": "code",
   "execution_count": 13,
   "id": "09438c7f",
   "metadata": {
    "execution": {
     "iopub.execute_input": "2023-07-08T12:32:45.487920Z",
     "iopub.status.busy": "2023-07-08T12:32:45.487590Z",
     "iopub.status.idle": "2023-07-08T12:32:45.492557Z",
     "shell.execute_reply": "2023-07-08T12:32:45.491647Z"
    },
    "papermill": {
     "duration": 0.020704,
     "end_time": "2023-07-08T12:32:45.494081",
     "exception": false,
     "start_time": "2023-07-08T12:32:45.473377",
     "status": "completed"
    },
    "tags": []
   },
   "outputs": [],
   "source": [
    "# Added to train step\n",
    "# Create list of ids for the creation of oof dataframe.\n",
    "ID_LIST = dataset_df.index\n",
    "\n",
    "# Create a dataframe of required size with zero values.\n",
    "oof = pd.DataFrame(data=np.zeros((len(ID_LIST),1)), index=ID_LIST)\n",
    "\n",
    "# Create an empty dictionary to store the models trained for each fold.\n",
    "models = {}\n",
    "\n",
    "# Create empty dict to save metircs for the models trained for each fold.\n",
    "accuracy = {}\n",
    "cross_entropy = {}\n",
    "\n",
    "# Save the name of the label column to a variable.\n",
    "label = \"Class\""
   ]
  },
  {
   "cell_type": "markdown",
   "id": "5c15533f",
   "metadata": {
    "papermill": {
     "duration": 0.012405,
     "end_time": "2023-07-08T12:32:45.519396",
     "exception": false,
     "start_time": "2023-07-08T12:32:45.506991",
     "status": "completed"
    },
    "tags": []
   },
   "source": [
    "# Select a Model\n",
    "\n",
    "There are several tree-based models for you to choose from.\n",
    "\n",
    "* RandomForestModel\n",
    "* GradientBoostedTreesModel\n",
    "* CartModel\n",
    "* DistributedGradientBoostedTreesModel\n",
    "\n",
    "To start, we'll work with a Random Forest. This is the most well-known of the Decision Forest training algorithms.\n",
    "\n",
    "A Random Forest is a collection of decision trees, each trained independently on a random subset of the training dataset (sampled with replacement). The algorithm is unique in that it is robust to overfitting, and easy to use.\n",
    "\n",
    "We can list the all the available models in TensorFlow Decision Forests using the following code:"
   ]
  },
  {
   "cell_type": "code",
   "execution_count": 14,
   "id": "14497eae",
   "metadata": {
    "execution": {
     "iopub.execute_input": "2023-07-08T12:32:45.546794Z",
     "iopub.status.busy": "2023-07-08T12:32:45.545789Z",
     "iopub.status.idle": "2023-07-08T12:32:45.551712Z",
     "shell.execute_reply": "2023-07-08T12:32:45.551079Z"
    },
    "papermill": {
     "duration": 0.021364,
     "end_time": "2023-07-08T12:32:45.553373",
     "exception": false,
     "start_time": "2023-07-08T12:32:45.532009",
     "status": "completed"
    },
    "tags": []
   },
   "outputs": [
    {
     "data": {
      "text/plain": [
       "[tensorflow_decision_forests.keras.RandomForestModel,\n",
       " tensorflow_decision_forests.keras.GradientBoostedTreesModel,\n",
       " tensorflow_decision_forests.keras.CartModel,\n",
       " tensorflow_decision_forests.keras.DistributedGradientBoostedTreesModel]"
      ]
     },
     "execution_count": 14,
     "metadata": {},
     "output_type": "execute_result"
    }
   ],
   "source": [
    "tfdf.keras.get_all_models()"
   ]
  },
  {
   "cell_type": "markdown",
   "id": "95cd9fad",
   "metadata": {
    "papermill": {
     "duration": 0.013987,
     "end_time": "2023-07-08T12:32:45.580984",
     "exception": false,
     "start_time": "2023-07-08T12:32:45.566997",
     "status": "completed"
    },
    "tags": []
   },
   "source": [
    "# How can I configure them?\n",
    "\n",
    "TensorFlow Decision Forests provides good defaults for you (e.g. the top ranking hyperparameters on our benchmarks, slightly modified to run in reasonable time). If you would like to configure the learning algorithm, you will find many options you can explore to get a better score.\n",
    "\n",
    "You can select a template and/or set parameters as follows:\n",
    "\n",
    "```rf = tfdf.keras.RandomForestModel(hyperparameter_template=\"benchmark_rank1\")```\n",
    "\n",
    "Read more [here](https://www.tensorflow.org/decision_forests/api_docs/python/tfdf/keras/RandomForestModel)."
   ]
  },
  {
   "cell_type": "markdown",
   "id": "18328a0b",
   "metadata": {
    "papermill": {
     "duration": 0.012607,
     "end_time": "2023-07-08T12:32:45.607752",
     "exception": false,
     "start_time": "2023-07-08T12:32:45.595145",
     "status": "completed"
    },
    "tags": []
   },
   "source": [
    "# Hyperparameter tuning to avoid overfitting\n",
    "\n",
    "Because of the smaller size of the dataset, it is likely that the model will overfit during training.\n",
    "Numerous parameters, primarily `max_depth` and `num_trees` can be changed to fine-tune the model and prevent overfitting.\n",
    "\n",
    "The attribute`max_depth` indicates the maximum depth of the tree. To avoid overfitting, we can try to reduce the depth of the tree from it's default value, which is `16`. Another way to tackle overfitting is to increase the number of individual decision trees. To do this, we have to increase the value of the parameter `num_trees` from its default value(`300`).\n",
    "\n",
    "You can set these parameters as follows:\n",
    "\n",
    "```rf = tfdf.keras.RandomForestModel(max_depth=5, num_trees=500)```"
   ]
  },
  {
   "cell_type": "markdown",
   "id": "2a526121",
   "metadata": {
    "papermill": {
     "duration": 0.012098,
     "end_time": "2023-07-08T12:32:45.632481",
     "exception": false,
     "start_time": "2023-07-08T12:32:45.620383",
     "status": "completed"
    },
    "tags": []
   },
   "source": [
    "# Strategies to handle the dataset imbalance\n",
    "\n",
    "Let's examine the fraction of positive and negative samples in this dataset's  by examining the`Class` column."
   ]
  },
  {
   "cell_type": "code",
   "execution_count": 15,
   "id": "61e901df",
   "metadata": {
    "execution": {
     "iopub.execute_input": "2023-07-08T12:32:45.659445Z",
     "iopub.status.busy": "2023-07-08T12:32:45.658883Z",
     "iopub.status.idle": "2023-07-08T12:32:45.664242Z",
     "shell.execute_reply": "2023-07-08T12:32:45.663447Z"
    },
    "papermill": {
     "duration": 0.020817,
     "end_time": "2023-07-08T12:32:45.665766",
     "exception": false,
     "start_time": "2023-07-08T12:32:45.644949",
     "status": "completed"
    },
    "tags": []
   },
   "outputs": [
    {
     "name": "stdout",
     "output_type": "stream",
     "text": [
      "Examples:\n",
      "    Total: 617\n",
      "    Positive: 108 (17.50% of total)\n",
      "\n"
     ]
    }
   ],
   "source": [
    "# Calculate the number of negative and positive values in `Class` column\n",
    "neg, pos = np.bincount(dataset_df['Class'])\n",
    "# Calculate total samples\n",
    "total = neg + pos\n",
    "print('Examples:\\n    Total: {}\\n    Positive: {} ({:.2f}% of total)\\n'.format(\n",
    "    total, pos, 100 * pos / total))"
   ]
  },
  {
   "cell_type": "markdown",
   "id": "8c6961ca",
   "metadata": {
    "papermill": {
     "duration": 0.012322,
     "end_time": "2023-07-08T12:32:45.691538",
     "exception": false,
     "start_time": "2023-07-08T12:32:45.679216",
     "status": "completed"
    },
    "tags": []
   },
   "source": [
    "As we can see, positive samples only account for 17.50% of the data. This means that our datastet is heavily imbalanced.\n",
    "\n",
    "In classification problems with imbalanced datasets, a model tends to be more biased towards the majority class leading to the model performing poorly on the samples belonging to the minority class."
   ]
  },
  {
   "cell_type": "markdown",
   "id": "3f6ce8f7",
   "metadata": {
    "papermill": {
     "duration": 0.012196,
     "end_time": "2023-07-08T12:32:45.716183",
     "exception": false,
     "start_time": "2023-07-08T12:32:45.703987",
     "status": "completed"
    },
    "tags": []
   },
   "source": [
    "There are many techniques for dealing with imbalanced data. The most suitable techniques for this dataset are:\n",
    "\n",
    "* Undersampling\n",
    "* Class weighting\n",
    "\n",
    "In this notebook we will use **Class weighting** to deal with imbalanced data. But first, we will quickly outline how undersampling can be performed."
   ]
  },
  {
   "cell_type": "markdown",
   "id": "e5d271f7",
   "metadata": {
    "papermill": {
     "duration": 0.014427,
     "end_time": "2023-07-08T12:32:45.744371",
     "exception": false,
     "start_time": "2023-07-08T12:32:45.729944",
     "status": "completed"
    },
    "tags": []
   },
   "source": [
    "# Undersampling\n",
    "\n",
    "One approach to deal with an imbalanced dataset would be to under-sample the majority class(es) by choosing a smaller subset of the majority class samples(negative or `0` class in this case) from the dataset rather than picking the entire data.\n",
    "\n",
    "Note: You have to loop through the dataset and try different random subsets for a better score.\n",
    "\n",
    "The code snippet below illustrates how to perform undersampling.\n",
    "\n",
    "```\n",
    "# This function generates undersampled dataset.\n",
    "def random_under_sampler(df):\n",
    "    # Calculate the number of samples for each label. \n",
    "    neg, pos = np.bincount(df['Class'])\n",
    "\n",
    "    # Choose the samples with class label `1`.\n",
    "    one_df = df.loc[df['Class'] == 1] \n",
    "    # Choose the samples with class label `0`.\n",
    "    zero_df = df.loc[df['Class'] == 0]\n",
    "    # Select `pos` number of negative samples.\n",
    "    # This makes sure that we have equal number of samples for each label.\n",
    "    zero_df = zero_df.sample(n=pos)\n",
    "\n",
    "    # Join both label dataframes.\n",
    "    undersampled_df = pd.concat([zero_df, one_df])\n",
    "\n",
    "    # Shuffle the data and return\n",
    "    return undersampled_df.sample(frac = 1)\n",
    "```"
   ]
  },
  {
   "cell_type": "markdown",
   "id": "126fd483",
   "metadata": {
    "papermill": {
     "duration": 0.012735,
     "end_time": "2023-07-08T12:32:45.769630",
     "exception": false,
     "start_time": "2023-07-08T12:32:45.756895",
     "status": "completed"
    },
    "tags": []
   },
   "source": [
    "# Class weighting\n",
    "\n",
    "Since the postive(`1`) `Class` labels are only a small fraction of the dataset, we would want the classifier to heavily weight those examples. You can do this by passing **Keras weights** for each class through a parameter. This will cause the model to \"pay more attention\" to examples from an under-represented class. Read more about class weights [here](https://www.tensorflow.org/tutorials/structured_data/imbalanced_data#class_weights)."
   ]
  },
  {
   "cell_type": "code",
   "execution_count": 16,
   "id": "6c509773",
   "metadata": {
    "execution": {
     "iopub.execute_input": "2023-07-08T12:32:45.796377Z",
     "iopub.status.busy": "2023-07-08T12:32:45.796090Z",
     "iopub.status.idle": "2023-07-08T12:32:45.801989Z",
     "shell.execute_reply": "2023-07-08T12:32:45.800891Z"
    },
    "papermill": {
     "duration": 0.022166,
     "end_time": "2023-07-08T12:32:45.804298",
     "exception": false,
     "start_time": "2023-07-08T12:32:45.782132",
     "status": "completed"
    },
    "tags": []
   },
   "outputs": [
    {
     "name": "stdout",
     "output_type": "stream",
     "text": [
      "Weight for class 0: 0.61\n",
      "Weight for class 1: 2.86\n"
     ]
    }
   ],
   "source": [
    "# Added to Train Step\n",
    "# Calculate the number of samples for each label.\n",
    "neg, pos = np.bincount(dataset_df['Class'])\n",
    "\n",
    "# Calculate total samples.\n",
    "total = neg + pos\n",
    "\n",
    "# Calculate the weight for each label.\n",
    "weight_for_0 = (1 / neg) * (total / 2.0)\n",
    "weight_for_1 = (1 / pos) * (total / 2.0)\n",
    "\n",
    "class_weight = {0: weight_for_0, 1: weight_for_1}\n",
    "\n",
    "print('Weight for class 0: {:.2f}'.format(weight_for_0))\n",
    "print('Weight for class 1: {:.2f}'.format(weight_for_1))"
   ]
  },
  {
   "cell_type": "markdown",
   "id": "8b39e7c4",
   "metadata": {
    "papermill": {
     "duration": 0.013037,
     "end_time": "2023-07-08T12:32:45.831262",
     "exception": false,
     "start_time": "2023-07-08T12:32:45.818225",
     "status": "completed"
    },
    "tags": []
   },
   "source": [
    "To train and evaluate the models using class weights, use the dict in model.fit() as an argument as shown below.\n",
    "\n",
    "```model.fit(x=train_ds, class_weight=class_weight)```"
   ]
  },
  {
   "cell_type": "markdown",
   "id": "afd2db0d",
   "metadata": {
    "papermill": {
     "duration": 0.01343,
     "end_time": "2023-07-08T12:32:45.858320",
     "exception": false,
     "start_time": "2023-07-08T12:32:45.844890",
     "status": "completed"
    },
    "tags": []
   },
   "source": [
    "# Train Random Forest Model\n",
    "\n",
    "Today, we will use the defaults to create the Random Forest Model. By default the model is set to train for a classification task.\n",
    "We will train a model for each fold and after training we will store the model and metrics. Here, we have chosen `accuracy` and `binary_crossentropy` as the metrics."
   ]
  },
  {
   "cell_type": "code",
   "execution_count": 17,
   "id": "35a51852",
   "metadata": {
    "execution": {
     "iopub.execute_input": "2023-07-08T12:32:45.886027Z",
     "iopub.status.busy": "2023-07-08T12:32:45.885733Z",
     "iopub.status.idle": "2023-07-08T12:32:45.889277Z",
     "shell.execute_reply": "2023-07-08T12:32:45.888347Z"
    },
    "papermill": {
     "duration": 0.019392,
     "end_time": "2023-07-08T12:32:45.890848",
     "exception": false,
     "start_time": "2023-07-08T12:32:45.871456",
     "status": "completed"
    },
    "tags": []
   },
   "outputs": [],
   "source": [
    "# basic_stats_1[basic_stats_1.logloss.notna()].index.tolist()"
   ]
  },
  {
   "cell_type": "code",
   "execution_count": 18,
   "id": "7b54d717",
   "metadata": {
    "execution": {
     "iopub.execute_input": "2023-07-08T12:32:45.918793Z",
     "iopub.status.busy": "2023-07-08T12:32:45.918292Z",
     "iopub.status.idle": "2023-07-08T12:32:46.022143Z",
     "shell.execute_reply": "2023-07-08T12:32:46.021195Z"
    },
    "papermill": {
     "duration": 0.119652,
     "end_time": "2023-07-08T12:32:46.024075",
     "exception": false,
     "start_time": "2023-07-08T12:32:45.904423",
     "status": "completed"
    },
    "tags": []
   },
   "outputs": [
    {
     "name": "stdout",
     "output_type": "stream",
     "text": [
      "Use /tmp/tmpqzt854rr as temporary training directory\n"
     ]
    }
   ],
   "source": [
    "rf = tfdf.keras.RandomForestModel()"
   ]
  },
  {
   "cell_type": "code",
   "execution_count": 19,
   "id": "5af0658b",
   "metadata": {
    "execution": {
     "iopub.execute_input": "2023-07-08T12:32:46.051520Z",
     "iopub.status.busy": "2023-07-08T12:32:46.051185Z",
     "iopub.status.idle": "2023-07-08T12:32:46.056347Z",
     "shell.execute_reply": "2023-07-08T12:32:46.055489Z"
    },
    "papermill": {
     "duration": 0.020546,
     "end_time": "2023-07-08T12:32:46.057889",
     "exception": false,
     "start_time": "2023-07-08T12:32:46.037343",
     "status": "completed"
    },
    "tags": []
   },
   "outputs": [
    {
     "name": "stdout",
     "output_type": "stream",
     "text": [
      "Help on method compile in module tensorflow_decision_forests.keras.core_inference:\n",
      "\n",
      "compile(metrics=None, weighted_metrics=None) method of tensorflow_decision_forests.keras.RandomForestModel instance\n",
      "    Configure the model for training.\n",
      "    \n",
      "    Unlike for most Keras model, calling \"compile\" is optional before calling\n",
      "    \"fit\".\n",
      "    \n",
      "    Args:\n",
      "      metrics: List of metrics to be evaluated by the model during training and\n",
      "        testing.\n",
      "      weighted_metrics: List of metrics to be evaluated and weighted by\n",
      "        `sample_weight` or `class_weight` during training and testing.\n",
      "    \n",
      "    Raises:\n",
      "      ValueError: Invalid arguments.\n",
      "\n"
     ]
    }
   ],
   "source": [
    "help(rf.compile)"
   ]
  },
  {
   "cell_type": "code",
   "execution_count": 20,
   "id": "fb0d3d84",
   "metadata": {
    "execution": {
     "iopub.execute_input": "2023-07-08T12:32:46.086978Z",
     "iopub.status.busy": "2023-07-08T12:32:46.086535Z",
     "iopub.status.idle": "2023-07-08T12:33:04.997888Z",
     "shell.execute_reply": "2023-07-08T12:33:04.997141Z"
    },
    "papermill": {
     "duration": 18.927823,
     "end_time": "2023-07-08T12:33:04.999718",
     "exception": false,
     "start_time": "2023-07-08T12:32:46.071895",
     "status": "completed"
    },
    "tags": []
   },
   "outputs": [
    {
     "name": "stdout",
     "output_type": "stream",
     "text": [
      "Weight for class 0: 0.61\n",
      "Weight for class 1: 2.86\n",
      "Warning: Some of the feature names have been changed automatically to be compatible with SavedModels because fix_feature_names=True.\n",
      "##### Fold 1\n",
      "Warning: Some of the feature names have been changed automatically to be compatible with SavedModels because fix_feature_names=True.\n",
      "Warning: Some of the feature names have been changed automatically to be compatible with SavedModels because fix_feature_names=True.\n",
      "Use /tmp/tmpzil8zzta as temporary training directory\n",
      "Reading training dataset...\n",
      "Training dataset read in 0:00:05.277852. Found 514 examples.\n",
      "Training model...\n",
      "Model trained in 0:00:00.187091\n",
      "Compiling model...\n"
     ]
    },
    {
     "name": "stderr",
     "output_type": "stream",
     "text": [
      "[INFO 23-07-08 12:32:51.7456 UTC kernel.cc:1242] Loading model from path /tmp/tmpzil8zzta/model/ with prefix 097d4ed3e6fb4588\n",
      "[INFO 23-07-08 12:32:51.7674 UTC decision_forest.cc:660] Model loaded with 500 root(s), 11450 node(s), and 55 input feature(s).\n",
      "[INFO 23-07-08 12:32:51.7675 UTC abstract_model.cc:1311] Engine \"RandomForestOptPred\" built\n",
      "[INFO 23-07-08 12:32:51.7675 UTC kernel.cc:1074] Use fast generic engine\n"
     ]
    },
    {
     "name": "stdout",
     "output_type": "stream",
     "text": [
      "WARNING: AutoGraph could not transform <function simple_ml_inference_op_with_handle at 0x7a1fbe1817e0> and will run it as-is.\n",
      "Please report this to the TensorFlow team. When filing the bug, set the verbosity to 10 (on Linux, `export AUTOGRAPH_VERBOSITY=10`) and attach the full output.\n",
      "Cause: could not get source code\n",
      "To silence this warning, decorate the function with @tf.autograph.experimental.do_not_convert\n",
      "Model compiled.\n",
      "1/1 [==============================] - 0s 94ms/step\n",
      "1/1 [==============================] - 0s 325ms/step\n"
     ]
    },
    {
     "name": "stderr",
     "output_type": "stream",
     "text": [
      "/tmp/ipykernel_20/826072915.py:93: DeprecationWarning: In a future version, `df.iloc[:, i] = newvals` will attempt to set the values inplace instead of always setting a new array. To retain the old behavior, use either `df[df.columns[i]] = newvals` or, if columns are non-unique, `df.isetitem(i, newvals)`\n",
      "  submition.loc[:, i] = rf.predict(x=submition_ds).flatten()\n"
     ]
    },
    {
     "name": "stdout",
     "output_type": "stream",
     "text": [
      "1/1 [==============================] - 1s 519ms/step - loss: 0.0000e+00 - accuracy: 0.9515 - binary_crossentropy: 0.2348\n",
      "##### Fold 2\n",
      "Warning: Some of the feature names have been changed automatically to be compatible with SavedModels because fix_feature_names=True.\n",
      "Warning: Some of the feature names have been changed automatically to be compatible with SavedModels because fix_feature_names=True.\n",
      "Use /tmp/tmpo3yv5vwb as temporary training directory\n",
      "Reading training dataset...\n",
      "Training dataset read in 0:00:00.671881. Found 514 examples.\n",
      "Training model...\n",
      "Model trained in 0:00:00.149816\n",
      "Compiling model...\n"
     ]
    },
    {
     "name": "stderr",
     "output_type": "stream",
     "text": [
      "[INFO 23-07-08 12:32:55.7855 UTC kernel.cc:1242] Loading model from path /tmp/tmpo3yv5vwb/model/ with prefix a0421aef13c24202\n",
      "[INFO 23-07-08 12:32:55.8028 UTC decision_forest.cc:660] Model loaded with 500 root(s), 11516 node(s), and 55 input feature(s).\n",
      "[INFO 23-07-08 12:32:55.8028 UTC kernel.cc:1074] Use fast generic engine\n"
     ]
    },
    {
     "name": "stdout",
     "output_type": "stream",
     "text": [
      "Model compiled.\n",
      "1/1 [==============================] - 0s 131ms/step\n",
      "1/1 [==============================] - 0s 318ms/step\n"
     ]
    },
    {
     "name": "stderr",
     "output_type": "stream",
     "text": [
      "/tmp/ipykernel_20/826072915.py:93: DeprecationWarning: In a future version, `df.iloc[:, i] = newvals` will attempt to set the values inplace instead of always setting a new array. To retain the old behavior, use either `df[df.columns[i]] = newvals` or, if columns are non-unique, `df.isetitem(i, newvals)`\n",
      "  submition.loc[:, i] = rf.predict(x=submition_ds).flatten()\n"
     ]
    },
    {
     "name": "stdout",
     "output_type": "stream",
     "text": [
      "1/1 [==============================] - 0s 247ms/step - loss: 0.0000e+00 - accuracy: 0.8350 - binary_crossentropy: 0.3214\n",
      "##### Fold 3\n",
      "Warning: Some of the feature names have been changed automatically to be compatible with SavedModels because fix_feature_names=True.\n",
      "Warning: Some of the feature names have been changed automatically to be compatible with SavedModels because fix_feature_names=True.\n",
      "Use /tmp/tmpd9ga8nho as temporary training directory\n",
      "Reading training dataset...\n",
      "Training dataset read in 0:00:00.676194. Found 514 examples.\n",
      "Training model...\n",
      "Model trained in 0:00:00.152529\n",
      "Compiling model...\n"
     ]
    },
    {
     "name": "stderr",
     "output_type": "stream",
     "text": [
      "[INFO 23-07-08 12:32:57.8171 UTC kernel.cc:1242] Loading model from path /tmp/tmpd9ga8nho/model/ with prefix 77f7eec0fd8f459d\n",
      "[INFO 23-07-08 12:32:57.8345 UTC decision_forest.cc:660] Model loaded with 500 root(s), 11570 node(s), and 55 input feature(s).\n",
      "[INFO 23-07-08 12:32:57.8345 UTC kernel.cc:1074] Use fast generic engine\n"
     ]
    },
    {
     "name": "stdout",
     "output_type": "stream",
     "text": [
      "Model compiled.\n",
      "1/1 [==============================] - 0s 96ms/step\n",
      "1/1 [==============================] - 0s 319ms/step\n"
     ]
    },
    {
     "name": "stderr",
     "output_type": "stream",
     "text": [
      "/tmp/ipykernel_20/826072915.py:93: DeprecationWarning: In a future version, `df.iloc[:, i] = newvals` will attempt to set the values inplace instead of always setting a new array. To retain the old behavior, use either `df[df.columns[i]] = newvals` or, if columns are non-unique, `df.isetitem(i, newvals)`\n",
      "  submition.loc[:, i] = rf.predict(x=submition_ds).flatten()\n"
     ]
    },
    {
     "name": "stdout",
     "output_type": "stream",
     "text": [
      "1/1 [==============================] - 0s 243ms/step - loss: 0.0000e+00 - accuracy: 0.9320 - binary_crossentropy: 0.2678\n",
      "##### Fold 4\n",
      "Warning: Some of the feature names have been changed automatically to be compatible with SavedModels because fix_feature_names=True.\n",
      "Warning: Some of the feature names have been changed automatically to be compatible with SavedModels because fix_feature_names=True.\n",
      "Use /tmp/tmpofya4ryu as temporary training directory\n",
      "Reading training dataset...\n",
      "Training dataset read in 0:00:00.665395. Found 514 examples.\n",
      "Training model...\n",
      "Model trained in 0:00:00.157454\n",
      "Compiling model...\n"
     ]
    },
    {
     "name": "stderr",
     "output_type": "stream",
     "text": [
      "[INFO 23-07-08 12:32:59.8167 UTC kernel.cc:1242] Loading model from path /tmp/tmpofya4ryu/model/ with prefix 1c304218cb314d0e\n",
      "[INFO 23-07-08 12:32:59.8357 UTC decision_forest.cc:660] Model loaded with 500 root(s), 11614 node(s), and 55 input feature(s).\n",
      "[INFO 23-07-08 12:32:59.8357 UTC kernel.cc:1074] Use fast generic engine\n"
     ]
    },
    {
     "name": "stdout",
     "output_type": "stream",
     "text": [
      "Model compiled.\n",
      "1/1 [==============================] - 0s 96ms/step\n",
      "1/1 [==============================] - 0s 326ms/step\n"
     ]
    },
    {
     "name": "stderr",
     "output_type": "stream",
     "text": [
      "/tmp/ipykernel_20/826072915.py:93: DeprecationWarning: In a future version, `df.iloc[:, i] = newvals` will attempt to set the values inplace instead of always setting a new array. To retain the old behavior, use either `df[df.columns[i]] = newvals` or, if columns are non-unique, `df.isetitem(i, newvals)`\n",
      "  submition.loc[:, i] = rf.predict(x=submition_ds).flatten()\n"
     ]
    },
    {
     "name": "stdout",
     "output_type": "stream",
     "text": [
      "1/1 [==============================] - 0s 251ms/step - loss: 0.0000e+00 - accuracy: 0.9126 - binary_crossentropy: 0.2985\n",
      "##### Fold 5\n",
      "Warning: Some of the feature names have been changed automatically to be compatible with SavedModels because fix_feature_names=True.\n",
      "Warning: Some of the feature names have been changed automatically to be compatible with SavedModels because fix_feature_names=True.\n",
      "Use /tmp/tmpphkjmca8 as temporary training directory\n",
      "Reading training dataset...\n",
      "Training dataset read in 0:00:00.668905. Found 514 examples.\n",
      "Training model...\n",
      "Model trained in 0:00:00.150907\n",
      "Compiling model...\n"
     ]
    },
    {
     "name": "stderr",
     "output_type": "stream",
     "text": [
      "[INFO 23-07-08 12:33:01.8215 UTC kernel.cc:1242] Loading model from path /tmp/tmpphkjmca8/model/ with prefix 3714126a2b144cca\n",
      "[INFO 23-07-08 12:33:01.8384 UTC decision_forest.cc:660] Model loaded with 500 root(s), 11490 node(s), and 55 input feature(s).\n",
      "[INFO 23-07-08 12:33:01.8384 UTC abstract_model.cc:1311] Engine \"RandomForestOptPred\" built\n",
      "[INFO 23-07-08 12:33:01.8384 UTC kernel.cc:1074] Use fast generic engine\n"
     ]
    },
    {
     "name": "stdout",
     "output_type": "stream",
     "text": [
      "Model compiled.\n",
      "1/1 [==============================] - 0s 93ms/step\n",
      "1/1 [==============================] - 0s 322ms/step\n"
     ]
    },
    {
     "name": "stderr",
     "output_type": "stream",
     "text": [
      "/tmp/ipykernel_20/826072915.py:93: DeprecationWarning: In a future version, `df.iloc[:, i] = newvals` will attempt to set the values inplace instead of always setting a new array. To retain the old behavior, use either `df[df.columns[i]] = newvals` or, if columns are non-unique, `df.isetitem(i, newvals)`\n",
      "  submition.loc[:, i] = rf.predict(x=submition_ds).flatten()\n"
     ]
    },
    {
     "name": "stdout",
     "output_type": "stream",
     "text": [
      "1/1 [==============================] - 0s 246ms/step - loss: 0.0000e+00 - accuracy: 0.9126 - binary_crossentropy: 0.3046\n",
      "##### Fold 6\n",
      "Warning: Some of the feature names have been changed automatically to be compatible with SavedModels because fix_feature_names=True.\n",
      "Warning: Some of the feature names have been changed automatically to be compatible with SavedModels because fix_feature_names=True.\n",
      "Use /tmp/tmpblrteh8w as temporary training directory\n",
      "Reading training dataset...\n",
      "Training dataset read in 0:00:00.676595. Found 515 examples.\n",
      "Training model...\n",
      "Model trained in 0:00:00.149723\n",
      "Compiling model...\n"
     ]
    },
    {
     "name": "stderr",
     "output_type": "stream",
     "text": [
      "[INFO 23-07-08 12:33:03.8238 UTC kernel.cc:1242] Loading model from path /tmp/tmpblrteh8w/model/ with prefix b6a9bfe3c1be4a29\n",
      "[INFO 23-07-08 12:33:03.8408 UTC decision_forest.cc:660] Model loaded with 500 root(s), 11562 node(s), and 55 input feature(s).\n",
      "[INFO 23-07-08 12:33:03.8408 UTC kernel.cc:1074] Use fast generic engine\n"
     ]
    },
    {
     "name": "stdout",
     "output_type": "stream",
     "text": [
      "Model compiled.\n",
      "1/1 [==============================] - 0s 93ms/step\n",
      "1/1 [==============================] - 0s 324ms/step\n"
     ]
    },
    {
     "name": "stderr",
     "output_type": "stream",
     "text": [
      "/tmp/ipykernel_20/826072915.py:93: DeprecationWarning: In a future version, `df.iloc[:, i] = newvals` will attempt to set the values inplace instead of always setting a new array. To retain the old behavior, use either `df[df.columns[i]] = newvals` or, if columns are non-unique, `df.isetitem(i, newvals)`\n",
      "  submition.loc[:, i] = rf.predict(x=submition_ds).flatten()\n"
     ]
    },
    {
     "name": "stdout",
     "output_type": "stream",
     "text": [
      "1/1 [==============================] - 0s 261ms/step - loss: 0.0000e+00 - accuracy: 0.9510 - binary_crossentropy: 0.2450\n"
     ]
    }
   ],
   "source": [
    "def train_model(train: pd.DataFrame, test: pd.DataFrame, stats: pd.DataFrame,\n",
    "               n_splits: int = 6) -> (pd.DataFrame, pd.DataFrame, pd.DataFrame, dict):\n",
    "    \n",
    "    # Create list of ids for the creation of oof dataframe.\n",
    "    ID_LIST = train.index\n",
    "\n",
    "    # Create a dataframe of required size with zero values.\n",
    "    oof = pd.DataFrame(data=np.zeros((len(ID_LIST),1)), index=ID_LIST)\n",
    "    \n",
    "    submition = pd.DataFrame(data=np.zeros((len(test.index),n_splits)),index=test.index)\n",
    "\n",
    "    # Create an empty dictionary to store the models trained for each fold.\n",
    "    models = {}\n",
    "\n",
    "    # Create empty dict to save metircs for the models trained for each fold.\n",
    "    accuracy = {}\n",
    "    cross_entropy = {}\n",
    "\n",
    "    # Save the name of the label column to a variable.\n",
    "    label = \"Class\"\n",
    "    \n",
    "    \n",
    "    # Calculate the number of samples for each label.\n",
    "    neg, pos = np.bincount(train[label])\n",
    "\n",
    "    # Calculate total samples.\n",
    "    total = neg + pos\n",
    "\n",
    "    # Calculate the weight for each label.\n",
    "    weight_for_0 = (1 / neg) * (total / 2.0)\n",
    "    weight_for_1 = (1 / pos) * (total / 2.0)\n",
    "\n",
    "    class_weight = {0: weight_for_0, 1: weight_for_1}\n",
    "\n",
    "    print('Weight for class 0: {:.2f}'.format(weight_for_0))\n",
    "    print('Weight for class 1: {:.2f}'.format(weight_for_1))\n",
    "    \n",
    "    # Names of columns\n",
    "    cols_features = stats[stats.logloss.notna()].index.tolist()\n",
    "    # Loop through each fold\n",
    "    \n",
    "    skf = StratifiedKFold(n_splits=n_splits)\n",
    "    \n",
    "    submition_ds = tfdf.keras.pd_dataframe_to_tf_dataset(test)\n",
    "    \n",
    "    for i, (train_index, valid_index) in enumerate(skf.split(X=train,y=train['Class'])):\n",
    "            print('##### Fold',i+1)\n",
    "\n",
    "            # Fetch values corresponding to the index \n",
    "            train_df = train.iloc[train_index]\n",
    "            valid_df = train.iloc[valid_index]\n",
    "            valid_ids = valid_df.index.values\n",
    "\n",
    "            # Select only feature columns for training.\n",
    "            train_df = train_df[cols_features+[label]]\n",
    "            valid_df = valid_df[cols_features+[label]]\n",
    "\n",
    "            # There's one more step required before we can train the model. \n",
    "            # We need to convert the datatset from Pandas format (pd.DataFrame)\n",
    "            # into TensorFlow Datasets format (tf.data.Dataset).\n",
    "            # TensorFlow Datasets is a high performance data loading library \n",
    "            # which is helpful when training neural networks with accelerators like GPUs and TPUs.\n",
    "            # Note: Some column names contains white spaces at the end of their name, \n",
    "            # which is non-comaptible with SavedModels save format. \n",
    "            # By default, `pd_dataframe_to_tf_dataset` function will convert \n",
    "            # this column names into a compatible format. \n",
    "            # So you can safely ignore the warnings related to this.\n",
    "            train_ds = tfdf.keras.pd_dataframe_to_tf_dataset(train_df, label=label)\n",
    "            valid_ds = tfdf.keras.pd_dataframe_to_tf_dataset(valid_df, label=label)\n",
    "\n",
    "            # Define the model and metrics\n",
    "            rf = tfdf.keras.RandomForestModel(max_depth=5, num_trees=500)\n",
    "            rf.compile(metrics=[\"accuracy\", \"binary_crossentropy\"]) \n",
    "\n",
    "            # Train the model\n",
    "            # We will train the model using a one-liner.\n",
    "            # Note: you may see a warning about Autograph. \n",
    "            # You can safely ignore this, it will be fixed in the next release.\n",
    "            # Previously calculated class weights is used to handle imbalance.\n",
    "            rf.fit(x=train_ds, class_weight=class_weight)\n",
    "\n",
    "            # Store the model\n",
    "            models[f\"fold_{i+1}\"] = rf\n",
    "\n",
    "            # Predict OOF value for validation data\n",
    "            predict = rf.predict(x=valid_ds)\n",
    "\n",
    "            # Store the predictions in oof dataframe\n",
    "            oof.loc[valid_ids, 0] = predict.flatten() \n",
    "            \n",
    "            # Predict Submition values\n",
    "            # Store the predictions in oof dataframe\n",
    "            submition.loc[:, i] = rf.predict(x=submition_ds).flatten() \n",
    "\n",
    "            # Evaluate and store the metrics in respective dicts\n",
    "            evaluation = rf.evaluate(x=valid_ds,return_dict=True)\n",
    "            accuracy[f\"fold_{i+1}\"] = evaluation[\"accuracy\"]\n",
    "            cross_entropy[f\"fold_{i+1}\"]= evaluation[\"binary_crossentropy\"]\n",
    "            \n",
    "    return submition,models,accuracy,cross_entropy\n",
    "\n",
    "\n",
    "submition_1, model_1,accuracy_1,cross_entropy_1  = train_model(train=train_out_1,test=test_out_1, stats=basic_stats_1)"
   ]
  },
  {
   "cell_type": "code",
   "execution_count": 21,
   "id": "54118889",
   "metadata": {
    "execution": {
     "iopub.execute_input": "2023-07-08T12:33:05.038514Z",
     "iopub.status.busy": "2023-07-08T12:33:05.038203Z",
     "iopub.status.idle": "2023-07-08T12:33:05.046499Z",
     "shell.execute_reply": "2023-07-08T12:33:05.045406Z"
    },
    "papermill": {
     "duration": 0.029477,
     "end_time": "2023-07-08T12:33:05.048200",
     "exception": false,
     "start_time": "2023-07-08T12:33:05.018723",
     "status": "completed"
    },
    "tags": []
   },
   "outputs": [
    {
     "data": {
      "text/plain": [
       "0    0.356\n",
       "1    0.386\n",
       "2    0.352\n",
       "3    0.390\n",
       "4    0.332\n",
       "5    0.338\n",
       "dtype: float32"
      ]
     },
     "execution_count": 21,
     "metadata": {},
     "output_type": "execute_result"
    }
   ],
   "source": [
    "submition_1.mean()\n",
    "# Exponetial weighting"
   ]
  },
  {
   "cell_type": "markdown",
   "id": "7d826b37",
   "metadata": {
    "papermill": {
     "duration": 0.018387,
     "end_time": "2023-07-08T12:33:05.086073",
     "exception": false,
     "start_time": "2023-07-08T12:33:05.067686",
     "status": "completed"
    },
    "tags": []
   },
   "source": [
    "# Visualize the model\n",
    "One benefit of tree-based models is that we can easily visualize them. The default number of trees used in the Random Forests is 300. We can select any tree for display.\n",
    "\n",
    "Let us pick one model from the `models` dict and select a tree for display."
   ]
  },
  {
   "cell_type": "code",
   "execution_count": 22,
   "id": "0623255d",
   "metadata": {
    "execution": {
     "iopub.execute_input": "2023-07-08T12:33:05.125302Z",
     "iopub.status.busy": "2023-07-08T12:33:05.124714Z",
     "iopub.status.idle": "2023-07-08T12:33:05.134051Z",
     "shell.execute_reply": "2023-07-08T12:33:05.133490Z"
    },
    "papermill": {
     "duration": 0.030664,
     "end_time": "2023-07-08T12:33:05.135473",
     "exception": false,
     "start_time": "2023-07-08T12:33:05.104809",
     "status": "completed"
    },
    "tags": []
   },
   "outputs": [
    {
     "data": {
      "text/html": [
       "\n",
       "<script src=\"https://d3js.org/d3.v6.min.js\"></script>\n",
       "<div id=\"tree_plot_8783bf7c2e394903b6a2b9e2e07ce19b\"></div>\n",
       "<script>\n",
       "/*\n",
       " * Copyright 2021 Google LLC.\n",
       " * Licensed under the Apache License, Version 2.0 (the \"License\");\n",
       " * you may not use this file except in compliance with the License.\n",
       " * You may obtain a copy of the License at\n",
       " *\n",
       " *     https://www.apache.org/licenses/LICENSE-2.0\n",
       " *\n",
       " * Unless required by applicable law or agreed to in writing, software\n",
       " * distributed under the License is distributed on an \"AS IS\" BASIS,\n",
       " * WITHOUT WARRANTIES OR CONDITIONS OF ANY KIND, either express or implied.\n",
       " * See the License for the specific language governing permissions and\n",
       " * limitations under the License.\n",
       " */\n",
       "\n",
       "/**\n",
       " *  Plotting of decision trees generated by TF-DF.\n",
       " *\n",
       " *  A tree is a recursive structure of node objects.\n",
       " *  A node contains one or more of the following components:\n",
       " *\n",
       " *    - A value: Representing the output of the node. If the node is not a leaf,\n",
       " *      the value is only present for analysis i.e. it is not used for\n",
       " *      predictions.\n",
       " *\n",
       " *    - A condition : For non-leaf nodes, the condition (also known as split)\n",
       " *      defines a binary test to branch to the positive or negative child.\n",
       " *\n",
       " *    - An explanation: Generally a plot showing the relation between the label\n",
       " *      and the condition to give insights about the effect of the condition.\n",
       " *\n",
       " *    - Two children : For non-leaf nodes, the children nodes. The first\n",
       " *      children (i.e. \"node.children[0]\") is the negative children (drawn in\n",
       " *      red). The second children is the positive one (drawn in green).\n",
       " *\n",
       " */\n",
       "\n",
       "/**\n",
       " * Plots a single decision tree into a DOM element.\n",
       " * @param {!options} options Dictionary of configurations.\n",
       " * @param {!tree} raw_tree Recursive tree structure.\n",
       " * @param {string} canvas_id Id of the output dom element.\n",
       " */\n",
       "function display_tree(options, raw_tree, canvas_id) {\n",
       "  console.log(options);\n",
       "\n",
       "  // Determine the node placement.\n",
       "  const tree_struct = d3.tree().nodeSize(\n",
       "      [options.node_y_offset, options.node_x_offset])(d3.hierarchy(raw_tree));\n",
       "\n",
       "  // Boundaries of the node placement.\n",
       "  let x_min = Infinity;\n",
       "  let x_max = -x_min;\n",
       "  let y_min = Infinity;\n",
       "  let y_max = -x_min;\n",
       "\n",
       "  tree_struct.each(d => {\n",
       "    if (d.x > x_max) x_max = d.x;\n",
       "    if (d.x < x_min) x_min = d.x;\n",
       "    if (d.y > y_max) y_max = d.y;\n",
       "    if (d.y < y_min) y_min = d.y;\n",
       "  });\n",
       "\n",
       "  // Size of the plot.\n",
       "  const width = y_max - y_min + options.node_x_size + options.margin * 2;\n",
       "  const height = x_max - x_min + options.node_y_size + options.margin * 2 +\n",
       "      options.node_y_offset - options.node_y_size;\n",
       "\n",
       "  const plot = d3.select(canvas_id);\n",
       "\n",
       "  // Tool tip\n",
       "  options.tooltip = plot.append('div')\n",
       "                        .attr('width', 100)\n",
       "                        .attr('height', 100)\n",
       "                        .style('padding', '4px')\n",
       "                        .style('background', '#fff')\n",
       "                        .style('box-shadow', '4px 4px 0px rgba(0,0,0,0.1)')\n",
       "                        .style('border', '1px solid black')\n",
       "                        .style('font-family', 'sans-serif')\n",
       "                        .style('font-size', options.font_size)\n",
       "                        .style('position', 'absolute')\n",
       "                        .style('z-index', '10')\n",
       "                        .attr('pointer-events', 'none')\n",
       "                        .style('display', 'none');\n",
       "\n",
       "  // Create canvas\n",
       "  const svg = plot.append('svg').attr('width', width).attr('height', height);\n",
       "  const graph =\n",
       "      svg.style('overflow', 'visible')\n",
       "          .append('g')\n",
       "          .attr('font-family', 'sans-serif')\n",
       "          .attr('font-size', options.font_size)\n",
       "          .attr(\n",
       "              'transform',\n",
       "              () => `translate(${options.margin},${\n",
       "                  - x_min + options.node_y_offset / 2 + options.margin})`);\n",
       "\n",
       "  // Plot bounding box.\n",
       "  if (options.show_plot_bounding_box) {\n",
       "    svg.append('rect')\n",
       "        .attr('width', width)\n",
       "        .attr('height', height)\n",
       "        .attr('fill', 'none')\n",
       "        .attr('stroke-width', 1.0)\n",
       "        .attr('stroke', 'black');\n",
       "  }\n",
       "\n",
       "  // Draw the edges.\n",
       "  display_edges(options, graph, tree_struct);\n",
       "\n",
       "  // Draw the nodes.\n",
       "  display_nodes(options, graph, tree_struct);\n",
       "}\n",
       "\n",
       "/**\n",
       " * Draw the nodes of the tree.\n",
       " * @param {!options} options Dictionary of configurations.\n",
       " * @param {!graph} graph D3 search handle containing the graph.\n",
       " * @param {!tree_struct} tree_struct Structure of the tree (node placement,\n",
       " *     data, etc.).\n",
       " */\n",
       "function display_nodes(options, graph, tree_struct) {\n",
       "  const nodes = graph.append('g')\n",
       "                    .selectAll('g')\n",
       "                    .data(tree_struct.descendants())\n",
       "                    .join('g')\n",
       "                    .attr('transform', d => `translate(${d.y},${d.x})`);\n",
       "\n",
       "  nodes.append('rect')\n",
       "      .attr('x', 0.5)\n",
       "      .attr('y', 0.5)\n",
       "      .attr('width', options.node_x_size)\n",
       "      .attr('height', options.node_y_size)\n",
       "      .attr('stroke', 'lightgrey')\n",
       "      .attr('stroke-width', 1)\n",
       "      .attr('fill', 'white')\n",
       "      .attr('y', -options.node_y_size / 2);\n",
       "\n",
       "  // Brackets on the right of condition nodes without children.\n",
       "  non_leaf_node_without_children =\n",
       "      nodes.filter(node => node.data.condition != null && node.children == null)\n",
       "          .append('g')\n",
       "          .attr('transform', `translate(${options.node_x_size},0)`);\n",
       "\n",
       "  non_leaf_node_without_children.append('path')\n",
       "      .attr('d', 'M0,0 C 10,0 0,10 10,10')\n",
       "      .attr('fill', 'none')\n",
       "      .attr('stroke-width', 1.0)\n",
       "      .attr('stroke', '#F00');\n",
       "\n",
       "  non_leaf_node_without_children.append('path')\n",
       "      .attr('d', 'M0,0 C 10,0 0,-10 10,-10')\n",
       "      .attr('fill', 'none')\n",
       "      .attr('stroke-width', 1.0)\n",
       "      .attr('stroke', '#0F0');\n",
       "\n",
       "  const node_content = nodes.append('g').attr(\n",
       "      'transform',\n",
       "      `translate(0,${options.node_padding - options.node_y_size / 2})`);\n",
       "\n",
       "  node_content.append(node => create_node_element(options, node));\n",
       "}\n",
       "\n",
       "/**\n",
       " * Creates the D3 content for a single node.\n",
       " * @param {!options} options Dictionary of configurations.\n",
       " * @param {!node} node Node to draw.\n",
       " * @return {!d3} D3 content.\n",
       " */\n",
       "function create_node_element(options, node) {\n",
       "  // Output accumulator.\n",
       "  let output = {\n",
       "    // Content to draw.\n",
       "    content: d3.create('svg:g'),\n",
       "    // Vertical offset to the next element to draw.\n",
       "    vertical_offset: 0\n",
       "  };\n",
       "\n",
       "  // Conditions.\n",
       "  if (node.data.condition != null) {\n",
       "    display_condition(options, node.data.condition, output);\n",
       "  }\n",
       "\n",
       "  // Values.\n",
       "  if (node.data.value != null) {\n",
       "    display_value(options, node.data.value, output);\n",
       "  }\n",
       "\n",
       "  // Explanations.\n",
       "  if (node.data.explanation != null) {\n",
       "    display_explanation(options, node.data.explanation, output);\n",
       "  }\n",
       "\n",
       "  return output.content.node();\n",
       "}\n",
       "\n",
       "\n",
       "/**\n",
       " * Adds a single line of text inside of a node.\n",
       " * @param {!options} options Dictionary of configurations.\n",
       " * @param {string} text Text to display.\n",
       " * @param {!output} output Output display accumulator.\n",
       " */\n",
       "function display_node_text(options, text, output) {\n",
       "  output.content.append('text')\n",
       "      .attr('x', options.node_padding)\n",
       "      .attr('y', output.vertical_offset)\n",
       "      .attr('alignment-baseline', 'hanging')\n",
       "      .text(text);\n",
       "  output.vertical_offset += 10;\n",
       "}\n",
       "\n",
       "/**\n",
       " * Adds a single line of text inside of a node with a tooltip.\n",
       " * @param {!options} options Dictionary of configurations.\n",
       " * @param {string} text Text to display.\n",
       " * @param {string} tooltip Text in the Tooltip.\n",
       " * @param {!output} output Output display accumulator.\n",
       " */\n",
       "function display_node_text_with_tooltip(options, text, tooltip, output) {\n",
       "  const item = output.content.append('text')\n",
       "                   .attr('x', options.node_padding)\n",
       "                   .attr('alignment-baseline', 'hanging')\n",
       "                   .text(text);\n",
       "\n",
       "  add_tooltip(options, item, () => tooltip);\n",
       "  output.vertical_offset += 10;\n",
       "}\n",
       "\n",
       "/**\n",
       " * Adds a tooltip to a dom element.\n",
       " * @param {!options} options Dictionary of configurations.\n",
       " * @param {!dom} target Dom element to equip with a tooltip.\n",
       " * @param {!func} get_content Generates the html content of the tooltip.\n",
       " */\n",
       "function add_tooltip(options, target, get_content) {\n",
       "  function show(d) {\n",
       "    options.tooltip.style('display', 'block');\n",
       "    options.tooltip.html(get_content());\n",
       "  }\n",
       "\n",
       "  function hide(d) {\n",
       "    options.tooltip.style('display', 'none');\n",
       "  }\n",
       "\n",
       "  function move(d) {\n",
       "    options.tooltip.style('display', 'block');\n",
       "    options.tooltip.style('left', (d.pageX + 5) + 'px');\n",
       "    options.tooltip.style('top', d.pageY + 'px');\n",
       "  }\n",
       "\n",
       "  target.on('mouseover', show);\n",
       "  target.on('mouseout', hide);\n",
       "  target.on('mousemove', move);\n",
       "}\n",
       "\n",
       "/**\n",
       " * Adds a condition inside of a node.\n",
       " * @param {!options} options Dictionary of configurations.\n",
       " * @param {!condition} condition Condition to display.\n",
       " * @param {!output} output Output display accumulator.\n",
       " */\n",
       "function display_condition(options, condition, output) {\n",
       "  threshold_format = d3.format('r');\n",
       "\n",
       "  if (condition.type === 'IS_MISSING') {\n",
       "    display_node_text(options, `${condition.attribute} is missing`, output);\n",
       "    return;\n",
       "  }\n",
       "\n",
       "  if (condition.type === 'IS_TRUE') {\n",
       "    display_node_text(options, `${condition.attribute} is true`, output);\n",
       "    return;\n",
       "  }\n",
       "\n",
       "  if (condition.type === 'NUMERICAL_IS_HIGHER_THAN') {\n",
       "    format = d3.format('r');\n",
       "    display_node_text(\n",
       "        options,\n",
       "        `${condition.attribute} >= ${threshold_format(condition.threshold)}`,\n",
       "        output);\n",
       "    return;\n",
       "  }\n",
       "\n",
       "  if (condition.type === 'CATEGORICAL_IS_IN') {\n",
       "    display_node_text_with_tooltip(\n",
       "        options, `${condition.attribute} in [...]`,\n",
       "        `${condition.attribute} in [${condition.mask}]`, output);\n",
       "    return;\n",
       "  }\n",
       "\n",
       "  if (condition.type === 'CATEGORICAL_SET_CONTAINS') {\n",
       "    display_node_text_with_tooltip(\n",
       "        options, `${condition.attribute} intersect [...]`,\n",
       "        `${condition.attribute} intersect [${condition.mask}]`, output);\n",
       "    return;\n",
       "  }\n",
       "\n",
       "  if (condition.type === 'NUMERICAL_SPARSE_OBLIQUE') {\n",
       "    display_node_text_with_tooltip(\n",
       "        options, `Sparse oblique split...`,\n",
       "        `[${condition.attributes}]*[${condition.weights}]>=${\n",
       "            threshold_format(condition.threshold)}`,\n",
       "        output);\n",
       "    return;\n",
       "  }\n",
       "\n",
       "  display_node_text(\n",
       "      options, `Non supported condition ${condition.type}`, output);\n",
       "}\n",
       "\n",
       "/**\n",
       " * Adds a value inside of a node.\n",
       " * @param {!options} options Dictionary of configurations.\n",
       " * @param {!value} value Value to display.\n",
       " * @param {!output} output Output display accumulator.\n",
       " */\n",
       "function display_value(options, value, output) {\n",
       "  if (value.type === 'PROBABILITY') {\n",
       "    const left_margin = 0;\n",
       "    const right_margin = 50;\n",
       "    const plot_width = options.node_x_size - options.node_padding * 2 -\n",
       "        left_margin - right_margin;\n",
       "\n",
       "    let cusum = Array.from(d3.cumsum(value.distribution));\n",
       "    cusum.unshift(0);\n",
       "    const distribution_plot = output.content.append('g').attr(\n",
       "        'transform', `translate(0,${output.vertical_offset + 0.5})`);\n",
       "\n",
       "    distribution_plot.selectAll('rect')\n",
       "        .data(value.distribution)\n",
       "        .join('rect')\n",
       "        .attr('height', 10)\n",
       "        .attr(\n",
       "            'x',\n",
       "            (d, i) =>\n",
       "                (cusum[i] * plot_width + left_margin + options.node_padding))\n",
       "        .attr('width', (d, i) => d * plot_width)\n",
       "        .style('fill', (d, i) => d3.schemeSet1[i]);\n",
       "\n",
       "    const num_examples =\n",
       "        output.content.append('g')\n",
       "            .attr('transform', `translate(0,${output.vertical_offset})`)\n",
       "            .append('text')\n",
       "            .attr('x', options.node_x_size - options.node_padding)\n",
       "            .attr('alignment-baseline', 'hanging')\n",
       "            .attr('text-anchor', 'end')\n",
       "            .text(`(${value.num_examples})`);\n",
       "\n",
       "    const distribution_details = d3.create('ul');\n",
       "    distribution_details.selectAll('li')\n",
       "        .data(value.distribution)\n",
       "        .join('li')\n",
       "        .append('span')\n",
       "        .text(\n",
       "            (d, i) =>\n",
       "                'class ' + i + ': ' + d3.format('.3%')(value.distribution[i]));\n",
       "\n",
       "    add_tooltip(options, distribution_plot, () => distribution_details.html());\n",
       "    add_tooltip(options, num_examples, () => 'Number of examples');\n",
       "\n",
       "    output.vertical_offset += 10;\n",
       "    return;\n",
       "  }\n",
       "\n",
       "  if (value.type === 'REGRESSION') {\n",
       "    display_node_text(\n",
       "        options,\n",
       "        'value: ' + d3.format('r')(value.value) + ` (` +\n",
       "            d3.format('.6')(value.num_examples) + `)`,\n",
       "        output);\n",
       "    return;\n",
       "  }\n",
       "\n",
       "  display_node_text(options, `Non supported value ${value.type}`, output);\n",
       "}\n",
       "\n",
       "/**\n",
       " * Adds an explanation inside of a node.\n",
       " * @param {!options} options Dictionary of configurations.\n",
       " * @param {!explanation} explanation Explanation to display.\n",
       " * @param {!output} output Output display accumulator.\n",
       " */\n",
       "function display_explanation(options, explanation, output) {\n",
       "  // Margin before the explanation.\n",
       "  output.vertical_offset += 10;\n",
       "\n",
       "  display_node_text(\n",
       "      options, `Non supported explanation ${explanation.type}`, output);\n",
       "}\n",
       "\n",
       "\n",
       "/**\n",
       " * Draw the edges of the tree.\n",
       " * @param {!options} options Dictionary of configurations.\n",
       " * @param {!graph} graph D3 search handle containing the graph.\n",
       " * @param {!tree_struct} tree_struct Structure of the tree (node placement,\n",
       " *     data, etc.).\n",
       " */\n",
       "function display_edges(options, graph, tree_struct) {\n",
       "  // Draw an edge between a parent and a child node with a bezier.\n",
       "  function draw_single_edge(d) {\n",
       "    return 'M' + (d.source.y + options.node_x_size) + ',' + d.source.x + ' C' +\n",
       "        (d.source.y + options.node_x_size + options.edge_rounding) + ',' +\n",
       "        d.source.x + ' ' + (d.target.y - options.edge_rounding) + ',' +\n",
       "        d.target.x + ' ' + d.target.y + ',' + d.target.x;\n",
       "  }\n",
       "\n",
       "  graph.append('g')\n",
       "      .attr('fill', 'none')\n",
       "      .attr('stroke-width', 1.2)\n",
       "      .selectAll('path')\n",
       "      .data(tree_struct.links())\n",
       "      .join('path')\n",
       "      .attr('d', draw_single_edge)\n",
       "      .attr(\n",
       "          'stroke', d => (d.target === d.source.children[0]) ? '#0F0' : '#F00');\n",
       "}\n",
       "\n",
       "display_tree({\"margin\": 10, \"node_x_size\": 160, \"node_y_size\": 28, \"node_x_offset\": 180, \"node_y_offset\": 33, \"font_size\": 10, \"edge_rounding\": 20, \"node_padding\": 2, \"show_plot_bounding_box\": false}, {\"value\": {\"type\": \"PROBABILITY\", \"distribution\": [0.5101383776509479, 0.48986162234905206], \"num_examples\": 507.31448167562485}, \"condition\": {\"type\": \"NUMERICAL_IS_HIGHER_THAN\", \"attribute\": \"DI\", \"threshold\": 1.413719654083252}, \"children\": [{\"value\": {\"type\": \"PROBABILITY\", \"distribution\": [0.016691136117019518, 0.9833088638829804], \"num_examples\": 72.62421953678131}, \"condition\": {\"type\": \"NUMERICAL_IS_HIGHER_THAN\", \"attribute\": \"CL\", \"threshold\": -0.10113935172557831}, \"children\": [{\"value\": {\"type\": \"PROBABILITY\", \"distribution\": [0.1239242646639714, 0.8760757353360286], \"num_examples\": 9.781625390052795}}, {\"value\": {\"type\": \"PROBABILITY\", \"distribution\": [0.0, 1.0], \"num_examples\": 62.842594146728516}}]}, {\"value\": {\"type\": \"PROBABILITY\", \"distribution\": [0.5925791956776761, 0.4074208043223239], \"num_examples\": 434.69026213884354}, \"condition\": {\"type\": \"NUMERICAL_IS_HIGHER_THAN\", \"attribute\": \"GL\", \"threshold\": -0.819392204284668}, \"children\": [{\"value\": {\"type\": \"PROBABILITY\", \"distribution\": [0.6995277375506388, 0.30047226244936126], \"num_examples\": 342.23903077840805}, \"condition\": {\"type\": \"NUMERICAL_IS_HIGHER_THAN\", \"attribute\": \"AB\", \"threshold\": -0.13835710287094116}, \"children\": [{\"value\": {\"type\": \"PROBABILITY\", \"distribution\": [0.5010782111176498, 0.49892178888235017], \"num_examples\": 171.75927865505219}, \"condition\": {\"type\": \"NUMERICAL_IS_HIGHER_THAN\", \"attribute\": \"DN\", \"threshold\": -0.6611807346343994}, \"children\": [{\"value\": {\"type\": \"PROBABILITY\", \"distribution\": [0.6350207862983628, 0.36497921370163716], \"num_examples\": 117.39633840322495}}, {\"value\": {\"type\": \"PROBABILITY\", \"distribution\": [0.2118302821117153, 0.7881697178882847], \"num_examples\": 54.36294025182724}}]}, {\"value\": {\"type\": \"PROBABILITY\", \"distribution\": [0.8994667161391532, 0.10053328386084683], \"num_examples\": 170.47975212335587}, \"condition\": {\"type\": \"NUMERICAL_IS_HIGHER_THAN\", \"attribute\": \"CS\", \"threshold\": 0.4666728973388672}, \"children\": [{\"value\": {\"type\": \"PROBABILITY\", \"distribution\": [0.5796862011292642, 0.42031379887073583], \"num_examples\": 27.18427574634552}}, {\"value\": {\"type\": \"PROBABILITY\", \"distribution\": [0.9601315879001145, 0.03986841209988544], \"num_examples\": 143.29547637701035}}]}]}, {\"value\": {\"type\": \"PROBABILITY\", \"distribution\": [0.19667354060783412, 0.8033264593921658], \"num_examples\": 92.45123136043549}, \"condition\": {\"type\": \"NUMERICAL_IS_HIGHER_THAN\", \"attribute\": \"AX\", \"threshold\": 0.2760707139968872}, \"children\": [{\"value\": {\"type\": \"PROBABILITY\", \"distribution\": [1.0, 0.0], \"num_examples\": 9.6974458694458}}, {\"value\": {\"type\": \"PROBABILITY\", \"distribution\": [0.10253627777171546, 0.8974637222282845], \"num_examples\": 82.75378549098969}, \"condition\": {\"type\": \"NUMERICAL_IS_HIGHER_THAN\", \"attribute\": \"EE\", \"threshold\": -0.8524830341339111}, \"children\": [{\"value\": {\"type\": \"PROBABILITY\", \"distribution\": [0.017374516770879075, 0.9826254832291209], \"num_examples\": 69.76773798465729}}, {\"value\": {\"type\": \"PROBABILITY\", \"distribution\": [0.5600691356271237, 0.4399308643728763], \"num_examples\": 12.986047506332397}}]}]}]}]}, \"#tree_plot_8783bf7c2e394903b6a2b9e2e07ce19b\")\n",
       "</script>\n"
      ],
      "text/plain": [
       "<IPython.core.display.HTML object>"
      ]
     },
     "execution_count": 22,
     "metadata": {},
     "output_type": "execute_result"
    }
   ],
   "source": [
    "tfdf.model_plotter.plot_model_in_colab(model_1['fold_1'], tree_idx=0, max_depth=5)"
   ]
  },
  {
   "cell_type": "markdown",
   "id": "fbabd89d",
   "metadata": {
    "papermill": {
     "duration": 0.018584,
     "end_time": "2023-07-08T12:33:05.173464",
     "exception": false,
     "start_time": "2023-07-08T12:33:05.154880",
     "status": "completed"
    },
    "tags": []
   },
   "source": [
    "# Evaluate the model on the Out of bag (OOB) data and the validation dataset\n",
    "\n",
    "Before training, we have manually seperated 20% of the dataset for validation named as `valid_ds`.\n",
    "\n",
    "We can also use Out of bag (OOB) score to validate our RandomForestModel.\n",
    "To train a Random Forest Model, a set of random samples from training set are choosen by the algorithm and the rest of the samples are used to finetune the model. The subset of data that is not chosen is known as Out of bag data (OOB).\n",
    "OOB score is computed on the OOB data.\n",
    "\n",
    "Read more about OOB data [here](https://developers.google.com/machine-learning/decision-forests/out-of-bag).\n",
    "\n",
    "The training logs show the `binary_crossentropy` evaluated on the out of bag dataset according to the number of trees in the model. Let us plot this for the models of each fold.\n",
    "\n",
    "Note: Smaller values are better for this hyperparameter."
   ]
  },
  {
   "cell_type": "code",
   "execution_count": 23,
   "id": "4b99b190",
   "metadata": {
    "execution": {
     "iopub.execute_input": "2023-07-08T12:33:05.213655Z",
     "iopub.status.busy": "2023-07-08T12:33:05.213113Z",
     "iopub.status.idle": "2023-07-08T12:33:06.336342Z",
     "shell.execute_reply": "2023-07-08T12:33:06.335621Z"
    },
    "papermill": {
     "duration": 1.145413,
     "end_time": "2023-07-08T12:33:06.337988",
     "exception": false,
     "start_time": "2023-07-08T12:33:05.192575",
     "status": "completed"
    },
    "tags": []
   },
   "outputs": [
    {
     "data": {
      "image/png": "[encoded data removed]",
      "text/plain": [
       "<Figure size 1000x1000 with 6 Axes>"
      ]
     },
     "metadata": {},
     "output_type": "display_data"
    }
   ],
   "source": [
    "figure, axis = plt.subplots(3, 2, figsize=(10, 10))\n",
    "plt.subplots_adjust(hspace=0.5, wspace=0.3)\n",
    "\n",
    "for i, fold_no in enumerate(model_1.keys()):\n",
    "    row = i//2\n",
    "    col = i % 2\n",
    "    logs = model_1[fold_no].make_inspector().training_logs()\n",
    "    axis[row, col].plot([log.num_trees for log in logs], [log.evaluation.loss for log in logs])\n",
    "    axis[row, col].set_title(f\"Fold {i+1}\")\n",
    "    axis[row, col].set_xlabel('Number of trees')\n",
    "    axis[row, col].set_ylabel('Loss (out-of-bag)')\n",
    "\n",
    "# axis[2][1].set_visible(False)\n",
    "plt.show()"
   ]
  },
  {
   "cell_type": "markdown",
   "id": "10aceb22",
   "metadata": {
    "papermill": {
     "duration": 0.019954,
     "end_time": "2023-07-08T12:33:06.378547",
     "exception": false,
     "start_time": "2023-07-08T12:33:06.358593",
     "status": "completed"
    },
    "tags": []
   },
   "source": [
    "We can also see some general stats on the OOB dataset:"
   ]
  },
  {
   "cell_type": "code",
   "execution_count": 24,
   "id": "95539285",
   "metadata": {
    "execution": {
     "iopub.execute_input": "2023-07-08T12:33:06.420116Z",
     "iopub.status.busy": "2023-07-08T12:33:06.419035Z",
     "iopub.status.idle": "2023-07-08T12:33:06.431756Z",
     "shell.execute_reply": "2023-07-08T12:33:06.430952Z"
    },
    "papermill": {
     "duration": 0.035112,
     "end_time": "2023-07-08T12:33:06.433579",
     "exception": false,
     "start_time": "2023-07-08T12:33:06.398467",
     "status": "completed"
    },
    "tags": []
   },
   "outputs": [
    {
     "name": "stdout",
     "output_type": "stream",
     "text": [
      "fold_1 Evaluation(num_examples=514, accuracy=0.8459203931533753, loss=0.4132374980936038, rmse=None, ndcg=None, aucs=None, auuc=None, qini=None)\n",
      "fold_2 Evaluation(num_examples=514, accuracy=0.8831357381207969, loss=0.37214773842065174, rmse=None, ndcg=None, aucs=None, auuc=None, qini=None)\n",
      "fold_3 Evaluation(num_examples=514, accuracy=0.8582127013571651, loss=0.40341492732782036, rmse=None, ndcg=None, aucs=None, auuc=None, qini=None)\n",
      "fold_4 Evaluation(num_examples=514, accuracy=0.8652867825840167, loss=0.38076066497595723, rmse=None, ndcg=None, aucs=None, auuc=None, qini=None)\n",
      "fold_5 Evaluation(num_examples=514, accuracy=0.873703629818328, loss=0.36866335373794357, rmse=None, ndcg=None, aucs=None, auuc=None, qini=None)\n",
      "fold_6 Evaluation(num_examples=515, accuracy=0.8373568839986084, loss=0.40672869003695966, rmse=None, ndcg=None, aucs=None, auuc=None, qini=None)\n"
     ]
    }
   ],
   "source": [
    "for _model in model_1:\n",
    "    inspector = model_1[_model].make_inspector()\n",
    "    print(_model, inspector.evaluation())"
   ]
  },
  {
   "cell_type": "markdown",
   "id": "db4b459e",
   "metadata": {
    "papermill": {
     "duration": 0.019959,
     "end_time": "2023-07-08T12:33:06.474696",
     "exception": false,
     "start_time": "2023-07-08T12:33:06.454737",
     "status": "completed"
    },
    "tags": []
   },
   "source": [
    "Now, let us check the evaluation metrics for each fold and its average value."
   ]
  },
  {
   "cell_type": "code",
   "execution_count": 25,
   "id": "f4f1d3a8",
   "metadata": {
    "execution": {
     "iopub.execute_input": "2023-07-08T12:33:06.515597Z",
     "iopub.status.busy": "2023-07-08T12:33:06.515299Z",
     "iopub.status.idle": "2023-07-08T12:33:06.521312Z",
     "shell.execute_reply": "2023-07-08T12:33:06.520320Z"
    },
    "papermill": {
     "duration": 0.028563,
     "end_time": "2023-07-08T12:33:06.523016",
     "exception": false,
     "start_time": "2023-07-08T12:33:06.494453",
     "status": "completed"
    },
    "tags": []
   },
   "outputs": [
    {
     "name": "stdout",
     "output_type": "stream",
     "text": [
      "fold_1: acc: 0.9515 loss: 0.2348\n",
      "fold_2: acc: 0.8350 loss: 0.3214\n",
      "fold_3: acc: 0.9320 loss: 0.2678\n",
      "fold_4: acc: 0.9126 loss: 0.2985\n",
      "fold_5: acc: 0.9126 loss: 0.3046\n",
      "fold_6: acc: 0.9510 loss: 0.2450\n",
      "\n",
      "Average accuracy: 0.9158  Average loss: 0.2787\n"
     ]
    }
   ],
   "source": [
    "def print_average_accuracy(models,cross_entropy,accuracy):\n",
    "    average_loss = 0\n",
    "    average_acc = 0\n",
    "\n",
    "    for _model in  models:\n",
    "        average_loss += cross_entropy[_model]\n",
    "        average_acc += accuracy[_model]\n",
    "        print(f\"{_model}: acc: {accuracy[_model]:.4f} loss: {cross_entropy[_model]:.4f}\")\n",
    "\n",
    "    print(f\"\\nAverage accuracy: {average_acc/len(models):.4f}  Average loss: {average_loss/len(models):.4f}\")\n",
    "    \n",
    "print_average_accuracy(models=model_1, cross_entropy=cross_entropy_1, accuracy=accuracy_1)"
   ]
  },
  {
   "cell_type": "markdown",
   "id": "7821f58f",
   "metadata": {
    "papermill": {
     "duration": 0.019496,
     "end_time": "2023-07-08T12:33:06.562527",
     "exception": false,
     "start_time": "2023-07-08T12:33:06.543031",
     "status": "completed"
    },
    "tags": []
   },
   "source": [
    "# Variable importances\n",
    "\n",
    "Variable importances generally indicate how much a feature contributes to the model predictions or quality. There are several ways to identify important features using TensorFlow Decision Forests. Let us pick one model from models dict and inspect it.\n",
    "\n",
    "Let us list the available `Variable Importances` for Decision Trees:"
   ]
  },
  {
   "cell_type": "code",
   "execution_count": 26,
   "id": "07fe562a",
   "metadata": {
    "execution": {
     "iopub.execute_input": "2023-07-08T12:33:06.604219Z",
     "iopub.status.busy": "2023-07-08T12:33:06.603884Z",
     "iopub.status.idle": "2023-07-08T12:33:06.608169Z",
     "shell.execute_reply": "2023-07-08T12:33:06.607266Z"
    },
    "papermill": {
     "duration": 0.027335,
     "end_time": "2023-07-08T12:33:06.609981",
     "exception": false,
     "start_time": "2023-07-08T12:33:06.582646",
     "status": "completed"
    },
    "tags": []
   },
   "outputs": [],
   "source": [
    "# inspector = model_1['fold_1'].make_inspector()\n",
    "\n",
    "# print(f\"Available variable importances:\")\n",
    "# for importance in inspector.variable_importances().keys():\n",
    "#     print(\"\\t\", importance)"
   ]
  },
  {
   "cell_type": "markdown",
   "id": "540b84b3",
   "metadata": {
    "papermill": {
     "duration": 0.020589,
     "end_time": "2023-07-08T12:33:06.651431",
     "exception": false,
     "start_time": "2023-07-08T12:33:06.630842",
     "status": "completed"
    },
    "tags": []
   },
   "source": [
    "As an example, let us display the important features for the Variable Importance `NUM_AS_ROOT`.\n",
    "\n",
    "The larger the importance score for `NUM_AS_ROOT`, the more impact it has on the outcome of the model.\n",
    "\n",
    "By default, the list is sorted from the most important to the least. From the output you can infer that the feature at the top of the list is used as the root node in most number of trees in the random forest than any other feature."
   ]
  },
  {
   "cell_type": "code",
   "execution_count": 27,
   "id": "d6892ec3",
   "metadata": {
    "execution": {
     "iopub.execute_input": "2023-07-08T12:33:06.693189Z",
     "iopub.status.busy": "2023-07-08T12:33:06.692852Z",
     "iopub.status.idle": "2023-07-08T12:33:06.697278Z",
     "shell.execute_reply": "2023-07-08T12:33:06.696159Z"
    },
    "papermill": {
     "duration": 0.027401,
     "end_time": "2023-07-08T12:33:06.698934",
     "exception": false,
     "start_time": "2023-07-08T12:33:06.671533",
     "status": "completed"
    },
    "tags": []
   },
   "outputs": [],
   "source": [
    "# Each line is: (feature name, (index of the feature), importance score)\n",
    "# inspector.variable_importances()[\"NUM_AS_ROOT\"]"
   ]
  },
  {
   "cell_type": "markdown",
   "id": "4f7502ac",
   "metadata": {
    "papermill": {
     "duration": 0.020975,
     "end_time": "2023-07-08T12:33:06.741942",
     "exception": false,
     "start_time": "2023-07-08T12:33:06.720967",
     "status": "completed"
    },
    "tags": []
   },
   "source": [
    "# Submission"
   ]
  },
  {
   "cell_type": "code",
   "execution_count": 28,
   "id": "fc63494f",
   "metadata": {
    "execution": {
     "iopub.execute_input": "2023-07-08T12:33:06.785852Z",
     "iopub.status.busy": "2023-07-08T12:33:06.785246Z",
     "iopub.status.idle": "2023-07-08T12:33:06.789844Z",
     "shell.execute_reply": "2023-07-08T12:33:06.789299Z"
    },
    "papermill": {
     "duration": 0.028048,
     "end_time": "2023-07-08T12:33:06.791261",
     "exception": false,
     "start_time": "2023-07-08T12:33:06.763213",
     "status": "completed"
    },
    "tags": []
   },
   "outputs": [],
   "source": [
    "def create_submitions(submition: pd.DataFrame) -> pd.DataFrame:\n",
    "    \n",
    "    df = pd.DataFrame(data=np.zeros((len(submition.index),2)),index=submition.index, columns=['class_0','class_1'])\n",
    "    \n",
    "    df['class_1'] = submition_1.mean(axis=1)\n",
    "    df['class_0'] = 1 - df['class_1']\n",
    "    \n",
    "    return df"
   ]
  },
  {
   "cell_type": "code",
   "execution_count": 29,
   "id": "86a8b983",
   "metadata": {
    "execution": {
     "iopub.execute_input": "2023-07-08T12:33:06.834369Z",
     "iopub.status.busy": "2023-07-08T12:33:06.833820Z",
     "iopub.status.idle": "2023-07-08T12:33:06.838828Z",
     "shell.execute_reply": "2023-07-08T12:33:06.838238Z"
    },
    "papermill": {
     "duration": 0.028196,
     "end_time": "2023-07-08T12:33:06.840206",
     "exception": false,
     "start_time": "2023-07-08T12:33:06.812010",
     "status": "completed"
    },
    "tags": []
   },
   "outputs": [],
   "source": [
    "submition_1_final = create_submitions(submition=submition_1)"
   ]
  },
  {
   "cell_type": "code",
   "execution_count": 30,
   "id": "d70c5273",
   "metadata": {
    "execution": {
     "iopub.execute_input": "2023-07-08T12:33:06.882337Z",
     "iopub.status.busy": "2023-07-08T12:33:06.881673Z",
     "iopub.status.idle": "2023-07-08T12:33:06.891412Z",
     "shell.execute_reply": "2023-07-08T12:33:06.890484Z"
    },
    "papermill": {
     "duration": 0.032873,
     "end_time": "2023-07-08T12:33:06.893233",
     "exception": false,
     "start_time": "2023-07-08T12:33:06.860360",
     "status": "completed"
    },
    "tags": []
   },
   "outputs": [],
   "source": [
    "submition_1_final.to_csv('/kaggle/working/submission.csv', index=True)"
   ]
  }
 ],
 "metadata": {
  "kernelspec": {
   "display_name": "Python 3",
   "language": "python",
   "name": "python3"
  },
  "language_info": {
   "codemirror_mode": {
    "name": "ipython",
    "version": 3
   },
   "file_extension": ".py",
   "mimetype": "text/x-python",
   "name": "python",
   "nbconvert_exporter": "python",
   "pygments_lexer": "ipython3",
   "version": "3.10.10"
  },
  "papermill": {
   "default_parameters": {},
   "duration": 44.338105,
   "end_time": "2023-07-08T12:33:09.915423",
   "environment_variables": {},
   "exception": null,
   "input_path": "__notebook__.ipynb",
   "output_path": "__notebook__.ipynb",
   "parameters": {},
   "start_time": "2023-07-08T12:32:25.577318",
   "version": "2.4.0"
  },
  "widgets": {
   "application/vnd.jupyter.widget-state+json": {
    "state": {
     "263b74ee71d94b66a82fcf5399c390a2": {
      "model_module": "@jupyter-widgets/controls",
      "model_module_version": "1.5.0",
      "model_name": "DescriptionStyleModel",
      "state": {
       "_model_module": "@jupyter-widgets/controls",
       "_model_module_version": "1.5.0",
       "_model_name": "DescriptionStyleModel",
       "_view_count": null,
       "_view_module": "@jupyter-widgets/base",
       "_view_module_version": "1.2.0",
       "_view_name": "StyleView",
       "description_width": ""
      }
     },
     "7006a89a18cb46fbad0e8c2af996e9ee": {
      "model_module": "@jupyter-widgets/controls",
      "model_module_version": "1.5.0",
      "model_name": "HTMLModel",
      "state": {
       "_dom_classes": [],
       "_model_module": "@jupyter-widgets/controls",
       "_model_module_version": "1.5.0",
       "_model_name": "HTMLModel",
       "_view_count": null,
       "_view_module": "@jupyter-widgets/controls",
       "_view_module_version": "1.5.0",
       "_view_name": "HTMLView",
       "description": "",
       "description_tooltip": null,
       "layout": "IPY_MODEL_caeaacdb343a444e8b7623068ec0bb8d",
       "placeholder": "​",
       "style": "IPY_MODEL_263b74ee71d94b66a82fcf5399c390a2",
       "value": "100%"
      }
     },
     "86869a1fe519465da7f8ec3c285c3b47": {
      "model_module": "@jupyter-widgets/base",
      "model_module_version": "1.2.0",
      "model_name": "LayoutModel",
      "state": {
       "_model_module": "@jupyter-widgets/base",
       "_model_module_version": "1.2.0",
       "_model_name": "LayoutModel",
       "_view_count": null,
       "_view_module": "@jupyter-widgets/base",
       "_view_module_version": "1.2.0",
       "_view_name": "LayoutView",
       "align_content": null,
       "align_items": null,
       "align_self": null,
       "border": null,
       "bottom": null,
       "display": null,
       "flex": null,
       "flex_flow": null,
       "grid_area": null,
       "grid_auto_columns": null,
       "grid_auto_flow": null,
       "grid_auto_rows": null,
       "grid_column": null,
       "grid_gap": null,
       "grid_row": null,
       "grid_template_areas": null,
       "grid_template_columns": null,
       "grid_template_rows": null,
       "height": null,
       "justify_content": null,
       "justify_items": null,
       "left": null,
       "margin": null,
       "max_height": null,
       "max_width": null,
       "min_height": null,
       "min_width": null,
       "object_fit": null,
       "object_position": null,
       "order": null,
       "overflow": null,
       "overflow_x": null,
       "overflow_y": null,
       "padding": null,
       "right": null,
       "top": null,
       "visibility": null,
       "width": null
      }
     },
     "96d3f52629f047e4ab8167a820ac53b1": {
      "model_module": "@jupyter-widgets/controls",
      "model_module_version": "1.5.0",
      "model_name": "FloatProgressModel",
      "state": {
       "_dom_classes": [],
       "_model_module": "@jupyter-widgets/controls",
       "_model_module_version": "1.5.0",
       "_model_name": "FloatProgressModel",
       "_view_count": null,
       "_view_module": "@jupyter-widgets/controls",
       "_view_module_version": "1.5.0",
       "_view_name": "ProgressView",
       "bar_style": "success",
       "description": "",
       "description_tooltip": null,
       "layout": "IPY_MODEL_da875ee4a36b4feeb4567278cfd92920",
       "max": 56.0,
       "min": 0.0,
       "orientation": "horizontal",
       "style": "IPY_MODEL_bfbedf95514c459da4d4f4bf85baf930",
       "value": 56.0
      }
     },
     "b603d5e9d8d34225a5a6acc4e79d61e2": {
      "model_module": "@jupyter-widgets/controls",
      "model_module_version": "1.5.0",
      "model_name": "DescriptionStyleModel",
      "state": {
       "_model_module": "@jupyter-widgets/controls",
       "_model_module_version": "1.5.0",
       "_model_name": "DescriptionStyleModel",
       "_view_count": null,
       "_view_module": "@jupyter-widgets/base",
       "_view_module_version": "1.2.0",
       "_view_name": "StyleView",
       "description_width": ""
      }
     },
     "b64d64ccc8874eb5abaf9e555b2d2023": {
      "model_module": "@jupyter-widgets/base",
      "model_module_version": "1.2.0",
      "model_name": "LayoutModel",
      "state": {
       "_model_module": "@jupyter-widgets/base",
       "_model_module_version": "1.2.0",
       "_model_name": "LayoutModel",
       "_view_count": null,
       "_view_module": "@jupyter-widgets/base",
       "_view_module_version": "1.2.0",
       "_view_name": "LayoutView",
       "align_content": null,
       "align_items": null,
       "align_self": null,
       "border": null,
       "bottom": null,
       "display": null,
       "flex": null,
       "flex_flow": null,
       "grid_area": null,
       "grid_auto_columns": null,
       "grid_auto_flow": null,
       "grid_auto_rows": null,
       "grid_column": null,
       "grid_gap": null,
       "grid_row": null,
       "grid_template_areas": null,
       "grid_template_columns": null,
       "grid_template_rows": null,
       "height": null,
       "justify_content": null,
       "justify_items": null,
       "left": null,
       "margin": null,
       "max_height": null,
       "max_width": null,
       "min_height": null,
       "min_width": null,
       "object_fit": null,
       "object_position": null,
       "order": null,
       "overflow": null,
       "overflow_x": null,
       "overflow_y": null,
       "padding": null,
       "right": null,
       "top": null,
       "visibility": null,
       "width": null
      }
     },
     "bfbedf95514c459da4d4f4bf85baf930": {
      "model_module": "@jupyter-widgets/controls",
      "model_module_version": "1.5.0",
      "model_name": "ProgressStyleModel",
      "state": {
       "_model_module": "@jupyter-widgets/controls",
       "_model_module_version": "1.5.0",
       "_model_name": "ProgressStyleModel",
       "_view_count": null,
       "_view_module": "@jupyter-widgets/base",
       "_view_module_version": "1.2.0",
       "_view_name": "StyleView",
       "bar_color": null,
       "description_width": ""
      }
     },
     "c0ace51203b749e68581cbd62d9c59bb": {
      "model_module": "@jupyter-widgets/controls",
      "model_module_version": "1.5.0",
      "model_name": "HTMLModel",
      "state": {
       "_dom_classes": [],
       "_model_module": "@jupyter-widgets/controls",
       "_model_module_version": "1.5.0",
       "_model_name": "HTMLModel",
       "_view_count": null,
       "_view_module": "@jupyter-widgets/controls",
       "_view_module_version": "1.5.0",
       "_view_name": "HTMLView",
       "description": "",
       "description_tooltip": null,
       "layout": "IPY_MODEL_86869a1fe519465da7f8ec3c285c3b47",
       "placeholder": "​",
       "style": "IPY_MODEL_b603d5e9d8d34225a5a6acc4e79d61e2",
       "value": " 56/56 [00:00&lt;00:00, 150.41it/s]"
      }
     },
     "c2b61d8de0bd4a6e89d8c7c88760e54c": {
      "model_module": "@jupyter-widgets/controls",
      "model_module_version": "1.5.0",
      "model_name": "HBoxModel",
      "state": {
       "_dom_classes": [],
       "_model_module": "@jupyter-widgets/controls",
       "_model_module_version": "1.5.0",
       "_model_name": "HBoxModel",
       "_view_count": null,
       "_view_module": "@jupyter-widgets/controls",
       "_view_module_version": "1.5.0",
       "_view_name": "HBoxView",
       "box_style": "",
       "children": [
        "IPY_MODEL_7006a89a18cb46fbad0e8c2af996e9ee",
        "IPY_MODEL_96d3f52629f047e4ab8167a820ac53b1",
        "IPY_MODEL_c0ace51203b749e68581cbd62d9c59bb"
       ],
       "layout": "IPY_MODEL_b64d64ccc8874eb5abaf9e555b2d2023"
      }
     },
     "caeaacdb343a444e8b7623068ec0bb8d": {
      "model_module": "@jupyter-widgets/base",
      "model_module_version": "1.2.0",
      "model_name": "LayoutModel",
      "state": {
       "_model_module": "@jupyter-widgets/base",
       "_model_module_version": "1.2.0",
       "_model_name": "LayoutModel",
       "_view_count": null,
       "_view_module": "@jupyter-widgets/base",
       "_view_module_version": "1.2.0",
       "_view_name": "LayoutView",
       "align_content": null,
       "align_items": null,
       "align_self": null,
       "border": null,
       "bottom": null,
       "display": null,
       "flex": null,
       "flex_flow": null,
       "grid_area": null,
       "grid_auto_columns": null,
       "grid_auto_flow": null,
       "grid_auto_rows": null,
       "grid_column": null,
       "grid_gap": null,
       "grid_row": null,
       "grid_template_areas": null,
       "grid_template_columns": null,
       "grid_template_rows": null,
       "height": null,
       "justify_content": null,
       "justify_items": null,
       "left": null,
       "margin": null,
       "max_height": null,
       "max_width": null,
       "min_height": null,
       "min_width": null,
       "object_fit": null,
       "object_position": null,
       "order": null,
       "overflow": null,
       "overflow_x": null,
       "overflow_y": null,
       "padding": null,
       "right": null,
       "top": null,
       "visibility": null,
       "width": null
      }
     },
     "da875ee4a36b4feeb4567278cfd92920": {
      "model_module": "@jupyter-widgets/base",
      "model_module_version": "1.2.0",
      "model_name": "LayoutModel",
      "state": {
       "_model_module": "@jupyter-widgets/base",
       "_model_module_version": "1.2.0",
       "_model_name": "LayoutModel",
       "_view_count": null,
       "_view_module": "@jupyter-widgets/base",
       "_view_module_version": "1.2.0",
       "_view_name": "LayoutView",
       "align_content": null,
       "align_items": null,
       "align_self": null,
       "border": null,
       "bottom": null,
       "display": null,
       "flex": null,
       "flex_flow": null,
       "grid_area": null,
       "grid_auto_columns": null,
       "grid_auto_flow": null,
       "grid_auto_rows": null,
       "grid_column": null,
       "grid_gap": null,
       "grid_row": null,
       "grid_template_areas": null,
       "grid_template_columns": null,
       "grid_template_rows": null,
       "height": null,
       "justify_content": null,
       "justify_items": null,
       "left": null,
       "margin": null,
       "max_height": null,
       "max_width": null,
       "min_height": null,
       "min_width": null,
       "object_fit": null,
       "object_position": null,
       "order": null,
       "overflow": null,
       "overflow_x": null,
       "overflow_y": null,
       "padding": null,
       "right": null,
       "top": null,
       "visibility": null,
       "width": null
      }
     }
    },
    "version_major": 2,
    "version_minor": 0
   }
  }
 },
 "nbformat": 4,
 "nbformat_minor": 5
}
