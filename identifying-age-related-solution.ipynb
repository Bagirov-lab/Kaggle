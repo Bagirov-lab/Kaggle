{
 "cells": [
  {
   "cell_type": "markdown",
   "id": "70f0a714",
   "metadata": {
    "papermill": {
     "duration": 0.011523,
     "end_time": "2023-07-09T21:42:51.774980",
     "exception": false,
     "start_time": "2023-07-09T21:42:51.763457",
     "status": "completed"
    },
    "tags": []
   },
   "source": [
    "# Read Before"
   ]
  },
  {
   "cell_type": "markdown",
   "id": "277ff490",
   "metadata": {
    "papermill": {
     "duration": 0.010619,
     "end_time": "2023-07-09T21:42:51.796980",
     "exception": false,
     "start_time": "2023-07-09T21:42:51.786361",
     "status": "completed"
    },
    "tags": []
   },
   "source": [
    "- https://www.kaggle.com/code/raddar/icr-competition-analysis-and-findings/notebook"
   ]
  },
  {
   "cell_type": "markdown",
   "id": "7d879338",
   "metadata": {
    "papermill": {
     "duration": 0.01096,
     "end_time": "2023-07-09T21:42:51.818799",
     "exception": false,
     "start_time": "2023-07-09T21:42:51.807839",
     "status": "completed"
    },
    "tags": []
   },
   "source": [
    "Plan:\n",
    "- [x] Feature Engineering (1 day)\n",
    "- [x] CV and Model Selection (1 day)\n",
    "- [x] Validation (1 day)\n",
    "- [x] Review\n",
    "- [ ] Found that some variables are constant as they represent some features for categroical column which takes only two values, so makes sense to drop them in order not overtrain. I will make split -> make two versions of model which is run if Group A (on all data), which is Group B ( which finetuned after )\n"
   ]
  },
  {
   "cell_type": "code",
   "execution_count": 1,
   "id": "219996b1",
   "metadata": {
    "execution": {
     "iopub.execute_input": "2023-07-09T21:42:51.842367Z",
     "iopub.status.busy": "2023-07-09T21:42:51.841933Z",
     "iopub.status.idle": "2023-07-09T21:42:52.223896Z",
     "shell.execute_reply": "2023-07-09T21:42:52.222682Z"
    },
    "papermill": {
     "duration": 0.396482,
     "end_time": "2023-07-09T21:42:52.226217",
     "exception": false,
     "start_time": "2023-07-09T21:42:51.829735",
     "status": "completed"
    },
    "tags": []
   },
   "outputs": [],
   "source": [
    "!cp -R /kaggle/input/tmp-auto/AutoML-main /kaggle/working/AutoML-main"
   ]
  },
  {
   "cell_type": "code",
   "execution_count": 2,
   "id": "725adf87",
   "metadata": {
    "execution": {
     "iopub.execute_input": "2023-07-09T21:42:52.250326Z",
     "iopub.status.busy": "2023-07-09T21:42:52.249682Z",
     "iopub.status.idle": "2023-07-09T21:43:24.656727Z",
     "shell.execute_reply": "2023-07-09T21:43:24.655149Z"
    },
    "papermill": {
     "duration": 32.422516,
     "end_time": "2023-07-09T21:43:24.659727",
     "exception": false,
     "start_time": "2023-07-09T21:42:52.237211",
     "status": "completed"
    },
    "tags": []
   },
   "outputs": [
    {
     "name": "stdout",
     "output_type": "stream",
     "text": [
      "Processing ./AutoML-main\r\n",
      "  Preparing metadata (setup.py) ... \u001b[?25l-\b \bdone\r\n",
      "\u001b[?25hRequirement already satisfied: pandas>=0.25.3 in /opt/conda/lib/python3.10/site-packages (from sme-utils==0.2.0) (1.5.3)\r\n",
      "Requirement already satisfied: numpy>=1.19.3 in /opt/conda/lib/python3.10/site-packages (from sme-utils==0.2.0) (1.23.5)\r\n",
      "Requirement already satisfied: matplotlib>=3.0.1 in /opt/conda/lib/python3.10/site-packages (from sme-utils==0.2.0) (3.6.3)\r\n",
      "Requirement already satisfied: scipy>=1.5.2 in /opt/conda/lib/python3.10/site-packages (from sme-utils==0.2.0) (1.10.1)\r\n",
      "Requirement already satisfied: tqdm>=4.63.0 in /opt/conda/lib/python3.10/site-packages (from sme-utils==0.2.0) (4.64.1)\r\n",
      "Requirement already satisfied: seaborn>=0.9.0 in /opt/conda/lib/python3.10/site-packages (from sme-utils==0.2.0) (0.12.2)\r\n",
      "Requirement already satisfied: scikit-learn>=0.20.0 in /opt/conda/lib/python3.10/site-packages (from sme-utils==0.2.0) (1.2.2)\r\n",
      "Requirement already satisfied: joblib>=0.13.2 in /opt/conda/lib/python3.10/site-packages (from sme-utils==0.2.0) (1.2.0)\r\n",
      "Requirement already satisfied: plotly>=5.8.0 in /opt/conda/lib/python3.10/site-packages (from sme-utils==0.2.0) (5.14.1)\r\n",
      "Requirement already satisfied: contourpy>=1.0.1 in /opt/conda/lib/python3.10/site-packages (from matplotlib>=3.0.1->sme-utils==0.2.0) (1.0.7)\r\n",
      "Requirement already satisfied: cycler>=0.10 in /opt/conda/lib/python3.10/site-packages (from matplotlib>=3.0.1->sme-utils==0.2.0) (0.11.0)\r\n",
      "Requirement already satisfied: fonttools>=4.22.0 in /opt/conda/lib/python3.10/site-packages (from matplotlib>=3.0.1->sme-utils==0.2.0) (4.39.3)\r\n",
      "Requirement already satisfied: kiwisolver>=1.0.1 in /opt/conda/lib/python3.10/site-packages (from matplotlib>=3.0.1->sme-utils==0.2.0) (1.4.4)\r\n",
      "Requirement already satisfied: packaging>=20.0 in /opt/conda/lib/python3.10/site-packages (from matplotlib>=3.0.1->sme-utils==0.2.0) (21.3)\r\n",
      "Requirement already satisfied: pillow>=6.2.0 in /opt/conda/lib/python3.10/site-packages (from matplotlib>=3.0.1->sme-utils==0.2.0) (9.5.0)\r\n",
      "Requirement already satisfied: pyparsing>=2.2.1 in /opt/conda/lib/python3.10/site-packages (from matplotlib>=3.0.1->sme-utils==0.2.0) (3.0.9)\r\n",
      "Requirement already satisfied: python-dateutil>=2.7 in /opt/conda/lib/python3.10/site-packages (from matplotlib>=3.0.1->sme-utils==0.2.0) (2.8.2)\r\n",
      "Requirement already satisfied: pytz>=2020.1 in /opt/conda/lib/python3.10/site-packages (from pandas>=0.25.3->sme-utils==0.2.0) (2023.3)\r\n",
      "Requirement already satisfied: tenacity>=6.2.0 in /opt/conda/lib/python3.10/site-packages (from plotly>=5.8.0->sme-utils==0.2.0) (8.2.2)\r\n",
      "Requirement already satisfied: threadpoolctl>=2.0.0 in /opt/conda/lib/python3.10/site-packages (from scikit-learn>=0.20.0->sme-utils==0.2.0) (3.1.0)\r\n",
      "Requirement already satisfied: six>=1.5 in /opt/conda/lib/python3.10/site-packages (from python-dateutil>=2.7->matplotlib>=3.0.1->sme-utils==0.2.0) (1.16.0)\r\n",
      "Building wheels for collected packages: sme-utils\r\n",
      "  Building wheel for sme-utils (setup.py) ... \u001b[?25l-\b \b\\\b \bdone\r\n",
      "\u001b[?25h  Created wheel for sme-utils: filename=sme_utils-0.2.0-py3-none-any.whl size=51501 sha256=f600dc48dfc147439c44952766c5fea0d4c6ae621063455136806d078befbebe\r\n",
      "  Stored in directory: /root/.cache/pip/wheels/f5/a3/0c/cce8196426f85ae65fc8a012518ccef81c2be285fbb3d2f78b\r\n",
      "Successfully built sme-utils\r\n",
      "Installing collected packages: sme-utils\r\n",
      "Successfully installed sme-utils-0.2.0\r\n",
      "\u001b[33mWARNING: Running pip as the 'root' user can result in broken permissions and conflicting behaviour with the system package manager. It is recommended to use a virtual environment instead: https://pip.pypa.io/warnings/venv\u001b[0m\u001b[33m\r\n",
      "\u001b[0m"
     ]
    }
   ],
   "source": [
    "!pip install /kaggle/working/AutoML-main"
   ]
  },
  {
   "cell_type": "code",
   "execution_count": 3,
   "id": "9c4aefd4",
   "metadata": {
    "execution": {
     "iopub.execute_input": "2023-07-09T21:43:24.685839Z",
     "iopub.status.busy": "2023-07-09T21:43:24.685485Z",
     "iopub.status.idle": "2023-07-09T21:43:26.460637Z",
     "shell.execute_reply": "2023-07-09T21:43:26.459052Z"
    },
    "papermill": {
     "duration": 1.791578,
     "end_time": "2023-07-09T21:43:26.463166",
     "exception": false,
     "start_time": "2023-07-09T21:43:24.671588",
     "status": "completed"
    },
    "tags": []
   },
   "outputs": [],
   "source": [
    "from sme_utils.encoding_and_transforms import WOENumericalComplex"
   ]
  },
  {
   "cell_type": "markdown",
   "id": "1720626e",
   "metadata": {
    "papermill": {
     "duration": 0.011211,
     "end_time": "2023-07-09T21:43:26.486032",
     "exception": false,
     "start_time": "2023-07-09T21:43:26.474821",
     "status": "completed"
    },
    "tags": []
   },
   "source": [
    "# ICR - Identifying Age-Related Conditions Dataset with TensorFlow Decision Forests"
   ]
  },
  {
   "cell_type": "markdown",
   "id": "b8dde575",
   "metadata": {
    "papermill": {
     "duration": 0.011346,
     "end_time": "2023-07-09T21:43:26.508690",
     "exception": false,
     "start_time": "2023-07-09T21:43:26.497344",
     "status": "completed"
    },
    "tags": []
   },
   "source": [
    "This notebook walks you through how to train a baseline Random Forest model using TensorFlow Decision Forests on the ICR - Identifying Age-Related Conditions dataset made available for this competition. The goal of the model is to predict if a person has one or more of any of three medical conditions or none.\n",
    "\n",
    "Roughly, the code will look as follows:\n",
    "\n",
    "```\n",
    "import tensorflow_decision_forests as tfdf\n",
    "import pandas as pd\n",
    "\n",
    "dataset = pd.read_csv(\"project/dataset.csv\")\n",
    "tf_dataset = tfdf.keras.pd_dataframe_to_tf_dataset(dataset, label=\"my_label\")\n",
    "\n",
    "model = tfdf.keras.RandomForestModel()\n",
    "model.fit(tf_dataset)\n",
    "\n",
    "print(model.summary())\n",
    "```\n",
    "\n",
    "Decision Forests are a family of tree-based models including Random Forests and Gradient Boosted Trees. They are the best place to start when working with tabular data, and will often outperform (or provide a strong baseline) before you begin experimenting with neural networks."
   ]
  },
  {
   "cell_type": "markdown",
   "id": "4707aa0d",
   "metadata": {
    "papermill": {
     "duration": 0.011593,
     "end_time": "2023-07-09T21:43:26.531668",
     "exception": false,
     "start_time": "2023-07-09T21:43:26.520075",
     "status": "completed"
    },
    "tags": []
   },
   "source": [
    "# Import the libraries"
   ]
  },
  {
   "cell_type": "code",
   "execution_count": 4,
   "id": "03083733",
   "metadata": {
    "execution": {
     "iopub.execute_input": "2023-07-09T21:43:26.556635Z",
     "iopub.status.busy": "2023-07-09T21:43:26.556235Z",
     "iopub.status.idle": "2023-07-09T21:43:36.184938Z",
     "shell.execute_reply": "2023-07-09T21:43:36.183048Z"
    },
    "papermill": {
     "duration": 9.644749,
     "end_time": "2023-07-09T21:43:36.188164",
     "exception": false,
     "start_time": "2023-07-09T21:43:26.543415",
     "status": "completed"
    },
    "tags": []
   },
   "outputs": [
    {
     "name": "stderr",
     "output_type": "stream",
     "text": [
      "/opt/conda/lib/python3.10/site-packages/tensorflow_io/python/ops/__init__.py:98: UserWarning: unable to load libtensorflow_io_plugins.so: unable to open file: libtensorflow_io_plugins.so, from paths: ['/opt/conda/lib/python3.10/site-packages/tensorflow_io/python/ops/libtensorflow_io_plugins.so']\n",
      "caused by: ['/opt/conda/lib/python3.10/site-packages/tensorflow_io/python/ops/libtensorflow_io_plugins.so: undefined symbol: _ZN3tsl6StatusC1EN10tensorflow5error4CodeESt17basic_string_viewIcSt11char_traitsIcEENS_14SourceLocationE']\n",
      "  warnings.warn(f\"unable to load libtensorflow_io_plugins.so: {e}\")\n",
      "/opt/conda/lib/python3.10/site-packages/tensorflow_io/python/ops/__init__.py:104: UserWarning: file system plugins are not loaded: unable to open file: libtensorflow_io.so, from paths: ['/opt/conda/lib/python3.10/site-packages/tensorflow_io/python/ops/libtensorflow_io.so']\n",
      "caused by: ['/opt/conda/lib/python3.10/site-packages/tensorflow_io/python/ops/libtensorflow_io.so: undefined symbol: _ZTVN10tensorflow13GcsFileSystemE']\n",
      "  warnings.warn(f\"file system plugins are not loaded: {e}\")\n"
     ]
    }
   ],
   "source": [
    "import tensorflow as tf\n",
    "import tensorflow_decision_forests as tfdf\n",
    "import keras_tuner as kt\n",
    "\n",
    "import pandas as pd\n",
    "from pandas.api.types import is_numeric_dtype\n",
    "\n",
    "import numpy as np\n",
    "import seaborn as sns\n",
    "import matplotlib.pyplot as plt\n",
    "\n",
    "from sklearn.metrics import log_loss\n",
    "from sklearn.linear_model import LogisticRegression\n",
    "from sklearn.preprocessing import Normalizer\n",
    "from sklearn.model_selection import StratifiedKFold, KFold\n",
    "\n",
    "# new\n",
    "from tqdm.notebook import tqdm"
   ]
  },
  {
   "cell_type": "markdown",
   "id": "93fb0c7d",
   "metadata": {
    "papermill": {
     "duration": 0.012541,
     "end_time": "2023-07-09T21:43:36.213175",
     "exception": false,
     "start_time": "2023-07-09T21:43:36.200634",
     "status": "completed"
    },
    "tags": []
   },
   "source": [
    "# Load the Dataset"
   ]
  },
  {
   "cell_type": "code",
   "execution_count": 5,
   "id": "c09ea6e8",
   "metadata": {
    "execution": {
     "iopub.execute_input": "2023-07-09T21:43:36.239349Z",
     "iopub.status.busy": "2023-07-09T21:43:36.238437Z",
     "iopub.status.idle": "2023-07-09T21:43:36.290937Z",
     "shell.execute_reply": "2023-07-09T21:43:36.289969Z"
    },
    "papermill": {
     "duration": 0.067641,
     "end_time": "2023-07-09T21:43:36.292933",
     "exception": false,
     "start_time": "2023-07-09T21:43:36.225292",
     "status": "completed"
    },
    "tags": []
   },
   "outputs": [
    {
     "name": "stdout",
     "output_type": "stream",
     "text": [
      "Full train dataset shape is (617, 57)\n",
      "Full test dataset shape is (5, 56)\n"
     ]
    }
   ],
   "source": [
    "dataset_df = pd.read_csv('/kaggle/input/icr-identify-age-related-conditions/train.csv', index_col='Id')\n",
    "dataset_df.columns = dataset_df.columns.str.rstrip()\n",
    "print(\"Full train dataset shape is {}\".format(dataset_df.shape))\n",
    "\n",
    "dataset_test_df = pd.read_csv('/kaggle/input/icr-identify-age-related-conditions/test.csv', index_col='Id')\n",
    "dataset_test_df.columns = dataset_test_df.columns.str.rstrip()\n",
    "print(\"Full test dataset shape is {}\".format(dataset_test_df.shape))"
   ]
  },
  {
   "cell_type": "markdown",
   "id": "cc0a479b",
   "metadata": {
    "papermill": {
     "duration": 0.011693,
     "end_time": "2023-07-09T21:43:36.317562",
     "exception": false,
     "start_time": "2023-07-09T21:43:36.305869",
     "status": "completed"
    },
    "tags": []
   },
   "source": [
    "The data is composed of 58 columns and 617 entries. We can see all 58 dimensions(results will be truncated since the number of columns is big) of our dataset by printing out the first 5 entries using the following code:"
   ]
  },
  {
   "cell_type": "code",
   "execution_count": 6,
   "id": "241bb042",
   "metadata": {
    "execution": {
     "iopub.execute_input": "2023-07-09T21:43:36.343534Z",
     "iopub.status.busy": "2023-07-09T21:43:36.343155Z",
     "iopub.status.idle": "2023-07-09T21:43:36.381482Z",
     "shell.execute_reply": "2023-07-09T21:43:36.380548Z"
    },
    "papermill": {
     "duration": 0.053853,
     "end_time": "2023-07-09T21:43:36.383397",
     "exception": false,
     "start_time": "2023-07-09T21:43:36.329544",
     "status": "completed"
    },
    "tags": []
   },
   "outputs": [
    {
     "data": {
      "text/html": [
       "<div>\n",
       "<style scoped>\n",
       "    .dataframe tbody tr th:only-of-type {\n",
       "        vertical-align: middle;\n",
       "    }\n",
       "\n",
       "    .dataframe tbody tr th {\n",
       "        vertical-align: top;\n",
       "    }\n",
       "\n",
       "    .dataframe thead th {\n",
       "        text-align: right;\n",
       "    }\n",
       "</style>\n",
       "<table border=\"1\" class=\"dataframe\">\n",
       "  <thead>\n",
       "    <tr style=\"text-align: right;\">\n",
       "      <th></th>\n",
       "      <th>AB</th>\n",
       "      <th>AF</th>\n",
       "      <th>AH</th>\n",
       "      <th>AM</th>\n",
       "      <th>AR</th>\n",
       "      <th>AX</th>\n",
       "      <th>AY</th>\n",
       "      <th>AZ</th>\n",
       "      <th>BC</th>\n",
       "      <th>BD</th>\n",
       "      <th>...</th>\n",
       "      <th>FL</th>\n",
       "      <th>FR</th>\n",
       "      <th>FS</th>\n",
       "      <th>GB</th>\n",
       "      <th>GE</th>\n",
       "      <th>GF</th>\n",
       "      <th>GH</th>\n",
       "      <th>GI</th>\n",
       "      <th>GL</th>\n",
       "      <th>Class</th>\n",
       "    </tr>\n",
       "    <tr>\n",
       "      <th>Id</th>\n",
       "      <th></th>\n",
       "      <th></th>\n",
       "      <th></th>\n",
       "      <th></th>\n",
       "      <th></th>\n",
       "      <th></th>\n",
       "      <th></th>\n",
       "      <th></th>\n",
       "      <th></th>\n",
       "      <th></th>\n",
       "      <th></th>\n",
       "      <th></th>\n",
       "      <th></th>\n",
       "      <th></th>\n",
       "      <th></th>\n",
       "      <th></th>\n",
       "      <th></th>\n",
       "      <th></th>\n",
       "      <th></th>\n",
       "      <th></th>\n",
       "      <th></th>\n",
       "    </tr>\n",
       "  </thead>\n",
       "  <tbody>\n",
       "    <tr>\n",
       "      <th>000ff2bfdfe9</th>\n",
       "      <td>0.209377</td>\n",
       "      <td>3109.03329</td>\n",
       "      <td>85.200147</td>\n",
       "      <td>22.394407</td>\n",
       "      <td>8.138688</td>\n",
       "      <td>0.699861</td>\n",
       "      <td>0.025578</td>\n",
       "      <td>9.812214</td>\n",
       "      <td>5.555634</td>\n",
       "      <td>4126.58731</td>\n",
       "      <td>...</td>\n",
       "      <td>7.298162</td>\n",
       "      <td>1.73855</td>\n",
       "      <td>0.094822</td>\n",
       "      <td>11.339138</td>\n",
       "      <td>72.611063</td>\n",
       "      <td>2003.810319</td>\n",
       "      <td>22.136229</td>\n",
       "      <td>69.834944</td>\n",
       "      <td>0.120343</td>\n",
       "      <td>1</td>\n",
       "    </tr>\n",
       "    <tr>\n",
       "      <th>007255e47698</th>\n",
       "      <td>0.145282</td>\n",
       "      <td>978.76416</td>\n",
       "      <td>85.200147</td>\n",
       "      <td>36.968889</td>\n",
       "      <td>8.138688</td>\n",
       "      <td>3.632190</td>\n",
       "      <td>0.025578</td>\n",
       "      <td>13.517790</td>\n",
       "      <td>1.229900</td>\n",
       "      <td>5496.92824</td>\n",
       "      <td>...</td>\n",
       "      <td>0.173229</td>\n",
       "      <td>0.49706</td>\n",
       "      <td>0.568932</td>\n",
       "      <td>9.292698</td>\n",
       "      <td>72.611063</td>\n",
       "      <td>27981.562750</td>\n",
       "      <td>29.135430</td>\n",
       "      <td>32.131996</td>\n",
       "      <td>21.978000</td>\n",
       "      <td>0</td>\n",
       "    </tr>\n",
       "    <tr>\n",
       "      <th>013f2bd269f5</th>\n",
       "      <td>0.470030</td>\n",
       "      <td>2635.10654</td>\n",
       "      <td>85.200147</td>\n",
       "      <td>32.360553</td>\n",
       "      <td>8.138688</td>\n",
       "      <td>6.732840</td>\n",
       "      <td>0.025578</td>\n",
       "      <td>12.824570</td>\n",
       "      <td>1.229900</td>\n",
       "      <td>5135.78024</td>\n",
       "      <td>...</td>\n",
       "      <td>7.709560</td>\n",
       "      <td>0.97556</td>\n",
       "      <td>1.198821</td>\n",
       "      <td>37.077772</td>\n",
       "      <td>88.609437</td>\n",
       "      <td>13676.957810</td>\n",
       "      <td>28.022851</td>\n",
       "      <td>35.192676</td>\n",
       "      <td>0.196941</td>\n",
       "      <td>0</td>\n",
       "    </tr>\n",
       "    <tr>\n",
       "      <th>043ac50845d5</th>\n",
       "      <td>0.252107</td>\n",
       "      <td>3819.65177</td>\n",
       "      <td>120.201618</td>\n",
       "      <td>77.112203</td>\n",
       "      <td>8.138688</td>\n",
       "      <td>3.685344</td>\n",
       "      <td>0.025578</td>\n",
       "      <td>11.053708</td>\n",
       "      <td>1.229900</td>\n",
       "      <td>4169.67738</td>\n",
       "      <td>...</td>\n",
       "      <td>6.122162</td>\n",
       "      <td>0.49706</td>\n",
       "      <td>0.284466</td>\n",
       "      <td>18.529584</td>\n",
       "      <td>82.416803</td>\n",
       "      <td>2094.262452</td>\n",
       "      <td>39.948656</td>\n",
       "      <td>90.493248</td>\n",
       "      <td>0.155829</td>\n",
       "      <td>0</td>\n",
       "    </tr>\n",
       "    <tr>\n",
       "      <th>044fb8a146ec</th>\n",
       "      <td>0.380297</td>\n",
       "      <td>3733.04844</td>\n",
       "      <td>85.200147</td>\n",
       "      <td>14.103738</td>\n",
       "      <td>8.138688</td>\n",
       "      <td>3.942255</td>\n",
       "      <td>0.054810</td>\n",
       "      <td>3.396778</td>\n",
       "      <td>102.151980</td>\n",
       "      <td>5728.73412</td>\n",
       "      <td>...</td>\n",
       "      <td>8.153058</td>\n",
       "      <td>48.50134</td>\n",
       "      <td>0.121914</td>\n",
       "      <td>16.408728</td>\n",
       "      <td>146.109943</td>\n",
       "      <td>8524.370502</td>\n",
       "      <td>45.381316</td>\n",
       "      <td>36.262628</td>\n",
       "      <td>0.096614</td>\n",
       "      <td>1</td>\n",
       "    </tr>\n",
       "  </tbody>\n",
       "</table>\n",
       "<p>5 rows × 57 columns</p>\n",
       "</div>"
      ],
      "text/plain": [
       "                    AB          AF          AH         AM        AR        AX  \\\n",
       "Id                                                                              \n",
       "000ff2bfdfe9  0.209377  3109.03329   85.200147  22.394407  8.138688  0.699861   \n",
       "007255e47698  0.145282   978.76416   85.200147  36.968889  8.138688  3.632190   \n",
       "013f2bd269f5  0.470030  2635.10654   85.200147  32.360553  8.138688  6.732840   \n",
       "043ac50845d5  0.252107  3819.65177  120.201618  77.112203  8.138688  3.685344   \n",
       "044fb8a146ec  0.380297  3733.04844   85.200147  14.103738  8.138688  3.942255   \n",
       "\n",
       "                    AY         AZ          BC          BD  ...        FL  \\\n",
       "Id                                                         ...             \n",
       "000ff2bfdfe9  0.025578   9.812214    5.555634  4126.58731  ...  7.298162   \n",
       "007255e47698  0.025578  13.517790    1.229900  5496.92824  ...  0.173229   \n",
       "013f2bd269f5  0.025578  12.824570    1.229900  5135.78024  ...  7.709560   \n",
       "043ac50845d5  0.025578  11.053708    1.229900  4169.67738  ...  6.122162   \n",
       "044fb8a146ec  0.054810   3.396778  102.151980  5728.73412  ...  8.153058   \n",
       "\n",
       "                    FR        FS         GB          GE            GF  \\\n",
       "Id                                                                      \n",
       "000ff2bfdfe9   1.73855  0.094822  11.339138   72.611063   2003.810319   \n",
       "007255e47698   0.49706  0.568932   9.292698   72.611063  27981.562750   \n",
       "013f2bd269f5   0.97556  1.198821  37.077772   88.609437  13676.957810   \n",
       "043ac50845d5   0.49706  0.284466  18.529584   82.416803   2094.262452   \n",
       "044fb8a146ec  48.50134  0.121914  16.408728  146.109943   8524.370502   \n",
       "\n",
       "                     GH         GI         GL  Class  \n",
       "Id                                                    \n",
       "000ff2bfdfe9  22.136229  69.834944   0.120343      1  \n",
       "007255e47698  29.135430  32.131996  21.978000      0  \n",
       "013f2bd269f5  28.022851  35.192676   0.196941      0  \n",
       "043ac50845d5  39.948656  90.493248   0.155829      0  \n",
       "044fb8a146ec  45.381316  36.262628   0.096614      1  \n",
       "\n",
       "[5 rows x 57 columns]"
      ]
     },
     "execution_count": 6,
     "metadata": {},
     "output_type": "execute_result"
    }
   ],
   "source": [
    "dataset_df.head()"
   ]
  },
  {
   "cell_type": "markdown",
   "id": "a6c224e5",
   "metadata": {
    "papermill": {
     "duration": 0.011797,
     "end_time": "2023-07-09T21:43:36.408037",
     "exception": false,
     "start_time": "2023-07-09T21:43:36.396240",
     "status": "completed"
    },
    "tags": []
   },
   "source": [
    "`Class` is the label column indicating if a person has one or more of any of the three medical conditions (i.e,`Class 1`), or none of the three medical conditions (i.e,`Class 0`).\n",
    "Given the features of the dataset, the goal of our model is to predict the value of `Class` for any person."
   ]
  },
  {
   "cell_type": "markdown",
   "id": "a745b812",
   "metadata": {
    "papermill": {
     "duration": 0.013566,
     "end_time": "2023-07-09T21:43:36.433860",
     "exception": false,
     "start_time": "2023-07-09T21:43:36.420294",
     "status": "completed"
    },
    "tags": []
   },
   "source": [
    "# Quick basic dataset exploration"
   ]
  },
  {
   "cell_type": "code",
   "execution_count": 7,
   "id": "f58e8a2d",
   "metadata": {
    "execution": {
     "iopub.execute_input": "2023-07-09T21:43:36.461348Z",
     "iopub.status.busy": "2023-07-09T21:43:36.460257Z",
     "iopub.status.idle": "2023-07-09T21:43:36.464689Z",
     "shell.execute_reply": "2023-07-09T21:43:36.463642Z"
    },
    "papermill": {
     "duration": 0.020381,
     "end_time": "2023-07-09T21:43:36.466862",
     "exception": false,
     "start_time": "2023-07-09T21:43:36.446481",
     "status": "completed"
    },
    "tags": []
   },
   "outputs": [],
   "source": [
    "# dataset_df.describe()"
   ]
  },
  {
   "cell_type": "markdown",
   "id": "f9f6bc09",
   "metadata": {
    "papermill": {
     "duration": 0.01124,
     "end_time": "2023-07-09T21:43:36.490176",
     "exception": false,
     "start_time": "2023-07-09T21:43:36.478936",
     "status": "completed"
    },
    "tags": []
   },
   "source": [
    "## Pie chart for label column: Class"
   ]
  },
  {
   "cell_type": "code",
   "execution_count": 8,
   "id": "4cbef3ad",
   "metadata": {
    "execution": {
     "iopub.execute_input": "2023-07-09T21:43:36.515437Z",
     "iopub.status.busy": "2023-07-09T21:43:36.514772Z",
     "iopub.status.idle": "2023-07-09T21:43:36.693366Z",
     "shell.execute_reply": "2023-07-09T21:43:36.692615Z"
    },
    "papermill": {
     "duration": 0.193366,
     "end_time": "2023-07-09T21:43:36.695144",
     "exception": false,
     "start_time": "2023-07-09T21:43:36.501778",
     "status": "completed"
    },
    "tags": []
   },
   "outputs": [
    {
     "data": {
      "image/png": "[encoded data removed]",
      "text/plain": [
       "<Figure size 640x480 with 1 Axes>"
      ]
     },
     "metadata": {},
     "output_type": "display_data"
    }
   ],
   "source": [
    "plot_df = dataset_df.Class.value_counts()\n",
    "plot_df.plot(kind=\"pie\")\n",
    "plt.show()"
   ]
  },
  {
   "cell_type": "markdown",
   "id": "7a1211c2",
   "metadata": {
    "papermill": {
     "duration": 0.016005,
     "end_time": "2023-07-09T21:43:36.726835",
     "exception": false,
     "start_time": "2023-07-09T21:43:36.710830",
     "status": "completed"
    },
    "tags": []
   },
   "source": [
    "**Important**: From the pie chart we can see that the dataset is heavily imbalanced since the fraction of positive(`1`) samples is very small compared to the negative(`0`) samples."
   ]
  },
  {
   "cell_type": "markdown",
   "id": "f33baea1",
   "metadata": {
    "papermill": {
     "duration": 0.016115,
     "end_time": "2023-07-09T21:43:36.759990",
     "exception": false,
     "start_time": "2023-07-09T21:43:36.743875",
     "status": "completed"
    },
    "tags": []
   },
   "source": [
    "# Numerical data distribution\n",
    "\n",
    "First, we will list all the numerical columns names."
   ]
  },
  {
   "cell_type": "markdown",
   "id": "990bd873",
   "metadata": {
    "papermill": {
     "duration": 0.012178,
     "end_time": "2023-07-09T21:43:36.788142",
     "exception": false,
     "start_time": "2023-07-09T21:43:36.775964",
     "status": "completed"
    },
    "tags": []
   },
   "source": [
    "We will also create a list of feature columns that will be used for training. We will drop `Id` from the list since it is not needed."
   ]
  },
  {
   "cell_type": "code",
   "execution_count": 9,
   "id": "41fc17e5",
   "metadata": {
    "execution": {
     "iopub.execute_input": "2023-07-09T21:43:36.815595Z",
     "iopub.status.busy": "2023-07-09T21:43:36.814761Z",
     "iopub.status.idle": "2023-07-09T21:43:36.821631Z",
     "shell.execute_reply": "2023-07-09T21:43:36.820672Z"
    },
    "papermill": {
     "duration": 0.023268,
     "end_time": "2023-07-09T21:43:36.824000",
     "exception": false,
     "start_time": "2023-07-09T21:43:36.800732",
     "status": "completed"
    },
    "tags": []
   },
   "outputs": [
    {
     "data": {
      "text/plain": [
       "Index(['AB', 'AF', 'AH', 'AM', 'AR', 'AX', 'AY', 'AZ', 'BC', 'BD', 'BN', 'BP',\n",
       "       'BQ', 'BR', 'BZ', 'CB', 'CC', 'CD', 'CF', 'CH', 'CL', 'CR', 'CS', 'CU',\n",
       "       'CW', 'DA', 'DE', 'DF', 'DH', 'DI', 'DL', 'DN', 'DU', 'DV', 'DY', 'EB',\n",
       "       'EE', 'EG', 'EH', 'EJ', 'EL', 'EP', 'EU', 'FC', 'FD', 'FE', 'FI', 'FL',\n",
       "       'FR', 'FS', 'GB', 'GE', 'GF', 'GH', 'GI', 'GL', 'Class'],\n",
       "      dtype='object')"
      ]
     },
     "execution_count": 9,
     "metadata": {},
     "output_type": "execute_result"
    }
   ],
   "source": [
    "dataset_df.columns"
   ]
  },
  {
   "cell_type": "code",
   "execution_count": 10,
   "id": "c9972cd2",
   "metadata": {
    "execution": {
     "iopub.execute_input": "2023-07-09T21:43:36.852550Z",
     "iopub.status.busy": "2023-07-09T21:43:36.851940Z",
     "iopub.status.idle": "2023-07-09T21:43:36.875784Z",
     "shell.execute_reply": "2023-07-09T21:43:36.874920Z"
    },
    "papermill": {
     "duration": 0.040254,
     "end_time": "2023-07-09T21:43:36.877612",
     "exception": false,
     "start_time": "2023-07-09T21:43:36.837358",
     "status": "completed"
    },
    "tags": []
   },
   "outputs": [
    {
     "data": {
      "text/plain": [
       "EJ  DU          EH         FD           FL          GL       \n",
       "A   0.005518    0.003042   0.296850     0.173229    21.978000    222\n",
       "B   0.006897    0.024336   0.296850     0.296625    2.376000       4\n",
       "    0.055176    0.012168   1.139904     6.443383    0.148500       3\n",
       "    0.006897    0.006084   1.027101     4.105290    0.594000       2\n",
       "    1.338018    0.091260   1.502061     5.574782    0.045928       1\n",
       "                                                                ... \n",
       "    0.482790    0.006084   1.763289     58.966209   0.008486       1\n",
       "    0.462099    0.097344   2.119509     4.333945    0.141851       1\n",
       "    0.448305    0.152100   2.172942     2.800886    0.228462       1\n",
       "                0.127764   3.004122     4.609838    0.191908       1\n",
       "    161.355315  42.569748  1578.654237  137.932739  0.177654       1\n",
       "Length: 389, dtype: int64"
      ]
     },
     "execution_count": 10,
     "metadata": {},
     "output_type": "execute_result"
    }
   ],
   "source": [
    "dataset_df[['EJ','DU','EH','FD','FL','GL']].value_counts()"
   ]
  },
  {
   "cell_type": "markdown",
   "id": "d9bf56a1",
   "metadata": {
    "papermill": {
     "duration": 0.012351,
     "end_time": "2023-07-09T21:43:36.902449",
     "exception": false,
     "start_time": "2023-07-09T21:43:36.890098",
     "status": "completed"
    },
    "tags": []
   },
   "source": [
    "Now let us split the dataset into training and testing datasets:"
   ]
  },
  {
   "cell_type": "markdown",
   "id": "17f41734",
   "metadata": {
    "papermill": {
     "duration": 0.0123,
     "end_time": "2023-07-09T21:43:36.926989",
     "exception": false,
     "start_time": "2023-07-09T21:43:36.914689",
     "status": "completed"
    },
    "tags": []
   },
   "source": [
    "# Feature Engineering"
   ]
  },
  {
   "cell_type": "markdown",
   "id": "6e3969e2",
   "metadata": {
    "papermill": {
     "duration": 0.012167,
     "end_time": "2023-07-09T21:43:36.951652",
     "exception": false,
     "start_time": "2023-07-09T21:43:36.939485",
     "status": "completed"
    },
    "tags": []
   },
   "source": [
    "## Filter Monotonic Features"
   ]
  },
  {
   "cell_type": "code",
   "execution_count": 11,
   "id": "b0f23aa8",
   "metadata": {
    "execution": {
     "iopub.execute_input": "2023-07-09T21:43:36.979707Z",
     "iopub.status.busy": "2023-07-09T21:43:36.979318Z",
     "iopub.status.idle": "2023-07-09T21:43:37.450033Z",
     "shell.execute_reply": "2023-07-09T21:43:37.448636Z"
    },
    "papermill": {
     "duration": 0.487433,
     "end_time": "2023-07-09T21:43:37.452187",
     "exception": false,
     "start_time": "2023-07-09T21:43:36.964754",
     "status": "completed"
    },
    "tags": []
   },
   "outputs": [
    {
     "data": {
      "application/vnd.jupyter.widget-view+json": {
       "model_id": "6e713b1612cc4b25b383af4a65d8e9bc",
       "version_major": 2,
       "version_minor": 0
      },
      "text/plain": [
       "  0%|          | 0/56 [00:00<?, ?it/s]"
      ]
     },
     "metadata": {},
     "output_type": "display_data"
    },
    {
     "data": {
      "text/html": [
       "<div>\n",
       "<style scoped>\n",
       "    .dataframe tbody tr th:only-of-type {\n",
       "        vertical-align: middle;\n",
       "    }\n",
       "\n",
       "    .dataframe tbody tr th {\n",
       "        vertical-align: top;\n",
       "    }\n",
       "\n",
       "    .dataframe thead th {\n",
       "        text-align: right;\n",
       "    }\n",
       "</style>\n",
       "<table border=\"1\" class=\"dataframe\">\n",
       "  <thead>\n",
       "    <tr style=\"text-align: right;\">\n",
       "      <th></th>\n",
       "      <th>nunique</th>\n",
       "      <th>na_share</th>\n",
       "      <th>dtype</th>\n",
       "      <th>correlation</th>\n",
       "      <th>min</th>\n",
       "      <th>max</th>\n",
       "      <th>std</th>\n",
       "      <th>mean</th>\n",
       "      <th>logloss</th>\n",
       "    </tr>\n",
       "  </thead>\n",
       "  <tbody>\n",
       "    <tr>\n",
       "      <th>DU</th>\n",
       "      <td>253</td>\n",
       "      <td>0.2</td>\n",
       "      <td>float64</td>\n",
       "      <td>0.26</td>\n",
       "      <td>0.005518</td>\n",
       "      <td>161.355315</td>\n",
       "      <td>9.034721</td>\n",
       "      <td>1.8029</td>\n",
       "      <td>5.55868</td>\n",
       "    </tr>\n",
       "    <tr>\n",
       "      <th>BC</th>\n",
       "      <td>259</td>\n",
       "      <td>0.0</td>\n",
       "      <td>float64</td>\n",
       "      <td>0.16</td>\n",
       "      <td>1.2299</td>\n",
       "      <td>1463.693448</td>\n",
       "      <td>65.166943</td>\n",
       "      <td>8.053012</td>\n",
       "      <td>5.724924</td>\n",
       "    </tr>\n",
       "    <tr>\n",
       "      <th>AF</th>\n",
       "      <td>599</td>\n",
       "      <td>0.0</td>\n",
       "      <td>float64</td>\n",
       "      <td>0.3</td>\n",
       "      <td>192.59328</td>\n",
       "      <td>28688.18766</td>\n",
       "      <td>2300.322717</td>\n",
       "      <td>3502.013221</td>\n",
       "      <td>5.900177</td>\n",
       "    </tr>\n",
       "    <tr>\n",
       "      <th>EH</th>\n",
       "      <td>127</td>\n",
       "      <td>0.0</td>\n",
       "      <td>float64</td>\n",
       "      <td>0.18</td>\n",
       "      <td>0.003042</td>\n",
       "      <td>42.569748</td>\n",
       "      <td>1.847499</td>\n",
       "      <td>0.305107</td>\n",
       "      <td>5.900177</td>\n",
       "    </tr>\n",
       "    <tr>\n",
       "      <th>AM</th>\n",
       "      <td>605</td>\n",
       "      <td>0.0</td>\n",
       "      <td>float64</td>\n",
       "      <td>0.24</td>\n",
       "      <td>3.177522</td>\n",
       "      <td>630.51823</td>\n",
       "      <td>69.728226</td>\n",
       "      <td>38.968552</td>\n",
       "      <td>5.900177</td>\n",
       "    </tr>\n",
       "    <tr>\n",
       "      <th>FD</th>\n",
       "      <td>337</td>\n",
       "      <td>0.0</td>\n",
       "      <td>float64</td>\n",
       "      <td>0.13</td>\n",
       "      <td>0.29685</td>\n",
       "      <td>1578.654237</td>\n",
       "      <td>64.754262</td>\n",
       "      <td>6.930086</td>\n",
       "      <td>5.900177</td>\n",
       "    </tr>\n",
       "    <tr>\n",
       "      <th>DI</th>\n",
       "      <td>571</td>\n",
       "      <td>0.0</td>\n",
       "      <td>float64</td>\n",
       "      <td>0.26</td>\n",
       "      <td>60.23247</td>\n",
       "      <td>1049.168078</td>\n",
       "      <td>86.084419</td>\n",
       "      <td>146.972099</td>\n",
       "      <td>5.900177</td>\n",
       "    </tr>\n",
       "    <tr>\n",
       "      <th>FR</th>\n",
       "      <td>435</td>\n",
       "      <td>0.0</td>\n",
       "      <td>float64</td>\n",
       "      <td>0.1</td>\n",
       "      <td>0.49706</td>\n",
       "      <td>1244.22702</td>\n",
       "      <td>50.181948</td>\n",
       "      <td>3.533905</td>\n",
       "      <td>5.900177</td>\n",
       "    </tr>\n",
       "    <tr>\n",
       "      <th>AB</th>\n",
       "      <td>217</td>\n",
       "      <td>0.0</td>\n",
       "      <td>float64</td>\n",
       "      <td>0.28</td>\n",
       "      <td>0.081187</td>\n",
       "      <td>6.161666</td>\n",
       "      <td>0.468388</td>\n",
       "      <td>0.477149</td>\n",
       "      <td>6.017012</td>\n",
       "    </tr>\n",
       "    <tr>\n",
       "      <th>CF</th>\n",
       "      <td>586</td>\n",
       "      <td>0.0</td>\n",
       "      <td>float64</td>\n",
       "      <td>0.11</td>\n",
       "      <td>0.510888</td>\n",
       "      <td>200.967526</td>\n",
       "      <td>13.571133</td>\n",
       "      <td>11.241064</td>\n",
       "      <td>6.192265</td>\n",
       "    </tr>\n",
       "    <tr>\n",
       "      <th>BZ</th>\n",
       "      <td>115</td>\n",
       "      <td>0.0</td>\n",
       "      <td>float64</td>\n",
       "      <td>0.11</td>\n",
       "      <td>257.432377</td>\n",
       "      <td>50092.4593</td>\n",
       "      <td>2076.371275</td>\n",
       "      <td>550.632525</td>\n",
       "      <td>6.192265</td>\n",
       "    </tr>\n",
       "    <tr>\n",
       "      <th>FE</th>\n",
       "      <td>615</td>\n",
       "      <td>0.0</td>\n",
       "      <td>float64</td>\n",
       "      <td>0.22</td>\n",
       "      <td>1563.136688</td>\n",
       "      <td>143224.6823</td>\n",
       "      <td>11331.294051</td>\n",
       "      <td>10306.810737</td>\n",
       "      <td>6.192265</td>\n",
       "    </tr>\n",
       "    <tr>\n",
       "      <th>AX</th>\n",
       "      <td>427</td>\n",
       "      <td>0.0</td>\n",
       "      <td>float64</td>\n",
       "      <td>0.1</td>\n",
       "      <td>0.699861</td>\n",
       "      <td>38.27088</td>\n",
       "      <td>2.551696</td>\n",
       "      <td>5.545576</td>\n",
       "      <td>6.250682</td>\n",
       "    </tr>\n",
       "    <tr>\n",
       "      <th>BR</th>\n",
       "      <td>566</td>\n",
       "      <td>0.0</td>\n",
       "      <td>float64</td>\n",
       "      <td>0.09</td>\n",
       "      <td>51.216883</td>\n",
       "      <td>179250.2529</td>\n",
       "      <td>7575.293707</td>\n",
       "      <td>1218.133238</td>\n",
       "      <td>6.250682</td>\n",
       "    </tr>\n",
       "    <tr>\n",
       "      <th>GB</th>\n",
       "      <td>560</td>\n",
       "      <td>0.0</td>\n",
       "      <td>float64</td>\n",
       "      <td>0.08</td>\n",
       "      <td>4.102182</td>\n",
       "      <td>135.781294</td>\n",
       "      <td>9.991907</td>\n",
       "      <td>20.724856</td>\n",
       "      <td>6.250682</td>\n",
       "    </tr>\n",
       "    <tr>\n",
       "      <th>AY</th>\n",
       "      <td>148</td>\n",
       "      <td>0.0</td>\n",
       "      <td>float64</td>\n",
       "      <td>0.08</td>\n",
       "      <td>0.025578</td>\n",
       "      <td>10.315851</td>\n",
       "      <td>0.416817</td>\n",
       "      <td>0.06032</td>\n",
       "      <td>6.250682</td>\n",
       "    </tr>\n",
       "    <tr>\n",
       "      <th>FC</th>\n",
       "      <td>600</td>\n",
       "      <td>0.2</td>\n",
       "      <td>float64</td>\n",
       "      <td>0.03</td>\n",
       "      <td>7.534128</td>\n",
       "      <td>3030.655824</td>\n",
       "      <td>165.551545</td>\n",
       "      <td>71.341526</td>\n",
       "      <td>6.260829</td>\n",
       "    </tr>\n",
       "    <tr>\n",
       "      <th>FS</th>\n",
       "      <td>161</td>\n",
       "      <td>0.3</td>\n",
       "      <td>float64</td>\n",
       "      <td>0.0</td>\n",
       "      <td>0.06773</td>\n",
       "      <td>31.365763</td>\n",
       "      <td>1.305365</td>\n",
       "      <td>0.421501</td>\n",
       "      <td>6.27101</td>\n",
       "    </tr>\n",
       "    <tr>\n",
       "      <th>CC</th>\n",
       "      <td>602</td>\n",
       "      <td>0.5</td>\n",
       "      <td>float64</td>\n",
       "      <td>-0.05</td>\n",
       "      <td>0.176874</td>\n",
       "      <td>4.103032</td>\n",
       "      <td>0.263994</td>\n",
       "      <td>0.688801</td>\n",
       "      <td>6.281223</td>\n",
       "    </tr>\n",
       "    <tr>\n",
       "      <th>GH</th>\n",
       "      <td>596</td>\n",
       "      <td>0.0</td>\n",
       "      <td>float64</td>\n",
       "      <td>0.03</td>\n",
       "      <td>9.432735</td>\n",
       "      <td>81.210825</td>\n",
       "      <td>9.864239</td>\n",
       "      <td>31.489716</td>\n",
       "      <td>6.3091</td>\n",
       "    </tr>\n",
       "    <tr>\n",
       "      <th>DV</th>\n",
       "      <td>39</td>\n",
       "      <td>0.0</td>\n",
       "      <td>float64</td>\n",
       "      <td>0.02</td>\n",
       "      <td>1.74307</td>\n",
       "      <td>25.19293</td>\n",
       "      <td>1.484555</td>\n",
       "      <td>1.92483</td>\n",
       "      <td>6.3091</td>\n",
       "    </tr>\n",
       "    <tr>\n",
       "      <th>DY</th>\n",
       "      <td>590</td>\n",
       "      <td>0.0</td>\n",
       "      <td>float64</td>\n",
       "      <td>0.06</td>\n",
       "      <td>0.804068</td>\n",
       "      <td>152.355164</td>\n",
       "      <td>18.116679</td>\n",
       "      <td>26.388989</td>\n",
       "      <td>6.3091</td>\n",
       "    </tr>\n",
       "    <tr>\n",
       "      <th>EE</th>\n",
       "      <td>513</td>\n",
       "      <td>0.0</td>\n",
       "      <td>float64</td>\n",
       "      <td>-0.14</td>\n",
       "      <td>0.286201</td>\n",
       "      <td>18.324926</td>\n",
       "      <td>2.058344</td>\n",
       "      <td>3.064778</td>\n",
       "      <td>6.3091</td>\n",
       "    </tr>\n",
       "    <tr>\n",
       "      <th>GE</th>\n",
       "      <td>264</td>\n",
       "      <td>0.0</td>\n",
       "      <td>float64</td>\n",
       "      <td>-0.07</td>\n",
       "      <td>72.611063</td>\n",
       "      <td>1497.351958</td>\n",
       "      <td>144.181524</td>\n",
       "      <td>131.714987</td>\n",
       "      <td>6.3091</td>\n",
       "    </tr>\n",
       "    <tr>\n",
       "      <th>AH</th>\n",
       "      <td>227</td>\n",
       "      <td>0.0</td>\n",
       "      <td>float64</td>\n",
       "      <td>0.04</td>\n",
       "      <td>85.200147</td>\n",
       "      <td>1910.123198</td>\n",
       "      <td>127.83895</td>\n",
       "      <td>118.624513</td>\n",
       "      <td>6.3091</td>\n",
       "    </tr>\n",
       "    <tr>\n",
       "      <th>DN</th>\n",
       "      <td>576</td>\n",
       "      <td>0.0</td>\n",
       "      <td>float64</td>\n",
       "      <td>-0.01</td>\n",
       "      <td>6.339496</td>\n",
       "      <td>62.808096</td>\n",
       "      <td>8.038825</td>\n",
       "      <td>26.370568</td>\n",
       "      <td>6.3091</td>\n",
       "    </tr>\n",
       "    <tr>\n",
       "      <th>EP</th>\n",
       "      <td>275</td>\n",
       "      <td>0.0</td>\n",
       "      <td>float64</td>\n",
       "      <td>-0.07</td>\n",
       "      <td>78.526968</td>\n",
       "      <td>1063.594578</td>\n",
       "      <td>68.44562</td>\n",
       "      <td>105.060712</td>\n",
       "      <td>6.3091</td>\n",
       "    </tr>\n",
       "    <tr>\n",
       "      <th>EU</th>\n",
       "      <td>455</td>\n",
       "      <td>0.0</td>\n",
       "      <td>float64</td>\n",
       "      <td>-0.04</td>\n",
       "      <td>3.828384</td>\n",
       "      <td>6501.26448</td>\n",
       "      <td>390.187057</td>\n",
       "      <td>69.117005</td>\n",
       "      <td>6.3091</td>\n",
       "    </tr>\n",
       "    <tr>\n",
       "      <th>EG</th>\n",
       "      <td>610</td>\n",
       "      <td>0.0</td>\n",
       "      <td>float64</td>\n",
       "      <td>-0.02</td>\n",
       "      <td>185.5941</td>\n",
       "      <td>30243.75878</td>\n",
       "      <td>1790.227476</td>\n",
       "      <td>1731.248215</td>\n",
       "      <td>6.3091</td>\n",
       "    </tr>\n",
       "    <tr>\n",
       "      <th>FI</th>\n",
       "      <td>498</td>\n",
       "      <td>0.0</td>\n",
       "      <td>float64</td>\n",
       "      <td>-0.09</td>\n",
       "      <td>3.58345</td>\n",
       "      <td>35.851039</td>\n",
       "      <td>2.934025</td>\n",
       "      <td>10.111079</td>\n",
       "      <td>6.3091</td>\n",
       "    </tr>\n",
       "    <tr>\n",
       "      <th>DH</th>\n",
       "      <td>191</td>\n",
       "      <td>0.0</td>\n",
       "      <td>float64</td>\n",
       "      <td>-0.21</td>\n",
       "      <td>0.040995</td>\n",
       "      <td>1.060404</td>\n",
       "      <td>0.112989</td>\n",
       "      <td>0.367002</td>\n",
       "      <td>6.3091</td>\n",
       "    </tr>\n",
       "    <tr>\n",
       "      <th>GF</th>\n",
       "      <td>611</td>\n",
       "      <td>0.0</td>\n",
       "      <td>float64</td>\n",
       "      <td>-0.13</td>\n",
       "      <td>13.038894</td>\n",
       "      <td>143790.0712</td>\n",
       "      <td>19352.959387</td>\n",
       "      <td>14679.595398</td>\n",
       "      <td>6.3091</td>\n",
       "    </tr>\n",
       "    <tr>\n",
       "      <th>GI</th>\n",
       "      <td>615</td>\n",
       "      <td>0.0</td>\n",
       "      <td>float64</td>\n",
       "      <td>0.08</td>\n",
       "      <td>0.897628</td>\n",
       "      <td>191.194764</td>\n",
       "      <td>36.266251</td>\n",
       "      <td>50.584437</td>\n",
       "      <td>6.3091</td>\n",
       "    </tr>\n",
       "    <tr>\n",
       "      <th>DE</th>\n",
       "      <td>616</td>\n",
       "      <td>0.0</td>\n",
       "      <td>float64</td>\n",
       "      <td>-0.12</td>\n",
       "      <td>35.998895</td>\n",
       "      <td>2103.40519</td>\n",
       "      <td>317.745623</td>\n",
       "      <td>401.901299</td>\n",
       "      <td>6.3091</td>\n",
       "    </tr>\n",
       "    <tr>\n",
       "      <th>DA</th>\n",
       "      <td>611</td>\n",
       "      <td>0.0</td>\n",
       "      <td>float64</td>\n",
       "      <td>-0.2</td>\n",
       "      <td>6.9064</td>\n",
       "      <td>210.33092</td>\n",
       "      <td>21.210888</td>\n",
       "      <td>51.128326</td>\n",
       "      <td>6.3091</td>\n",
       "    </tr>\n",
       "    <tr>\n",
       "      <th>CW</th>\n",
       "      <td>426</td>\n",
       "      <td>0.0</td>\n",
       "      <td>float64</td>\n",
       "      <td>-0.06</td>\n",
       "      <td>7.03064</td>\n",
       "      <td>64.521624</td>\n",
       "      <td>14.645993</td>\n",
       "      <td>27.165653</td>\n",
       "      <td>6.3091</td>\n",
       "    </tr>\n",
       "    <tr>\n",
       "      <th>CU</th>\n",
       "      <td>307</td>\n",
       "      <td>0.0</td>\n",
       "      <td>float64</td>\n",
       "      <td>-0.08</td>\n",
       "      <td>0.137925</td>\n",
       "      <td>4.951507</td>\n",
       "      <td>0.538717</td>\n",
       "      <td>1.383792</td>\n",
       "      <td>6.3091</td>\n",
       "    </tr>\n",
       "    <tr>\n",
       "      <th>AZ</th>\n",
       "      <td>484</td>\n",
       "      <td>0.0</td>\n",
       "      <td>float64</td>\n",
       "      <td>0.01</td>\n",
       "      <td>3.396778</td>\n",
       "      <td>38.971568</td>\n",
       "      <td>4.350645</td>\n",
       "      <td>10.566447</td>\n",
       "      <td>6.3091</td>\n",
       "    </tr>\n",
       "    <tr>\n",
       "      <th>CL</th>\n",
       "      <td>123</td>\n",
       "      <td>0.0</td>\n",
       "      <td>float64</td>\n",
       "      <td>0.02</td>\n",
       "      <td>1.050225</td>\n",
       "      <td>31.688153</td>\n",
       "      <td>1.92221</td>\n",
       "      <td>1.403761</td>\n",
       "      <td>6.3091</td>\n",
       "    </tr>\n",
       "    <tr>\n",
       "      <th>CH</th>\n",
       "      <td>135</td>\n",
       "      <td>0.0</td>\n",
       "      <td>float64</td>\n",
       "      <td>0.01</td>\n",
       "      <td>0.003184</td>\n",
       "      <td>0.224074</td>\n",
       "      <td>0.014808</td>\n",
       "      <td>0.030615</td>\n",
       "      <td>6.3091</td>\n",
       "    </tr>\n",
       "    <tr>\n",
       "      <th>BD</th>\n",
       "      <td>617</td>\n",
       "      <td>0.0</td>\n",
       "      <td>float64</td>\n",
       "      <td>0.11</td>\n",
       "      <td>1693.62432</td>\n",
       "      <td>53060.59924</td>\n",
       "      <td>3021.326641</td>\n",
       "      <td>5350.388655</td>\n",
       "      <td>6.3091</td>\n",
       "    </tr>\n",
       "    <tr>\n",
       "      <th>BN</th>\n",
       "      <td>53</td>\n",
       "      <td>0.0</td>\n",
       "      <td>float64</td>\n",
       "      <td>0.2</td>\n",
       "      <td>9.8868</td>\n",
       "      <td>29.3073</td>\n",
       "      <td>3.478278</td>\n",
       "      <td>21.419492</td>\n",
       "      <td>6.3091</td>\n",
       "    </tr>\n",
       "    <tr>\n",
       "      <th>DL</th>\n",
       "      <td>604</td>\n",
       "      <td>0.0</td>\n",
       "      <td>float64</td>\n",
       "      <td>-0.15</td>\n",
       "      <td>10.3456</td>\n",
       "      <td>326.2362</td>\n",
       "      <td>28.243187</td>\n",
       "      <td>94.795377</td>\n",
       "      <td>6.3091</td>\n",
       "    </tr>\n",
       "    <tr>\n",
       "      <th>CS</th>\n",
       "      <td>576</td>\n",
       "      <td>0.0</td>\n",
       "      <td>float64</td>\n",
       "      <td>-0.05</td>\n",
       "      <td>13.784111</td>\n",
       "      <td>267.942823</td>\n",
       "      <td>17.266347</td>\n",
       "      <td>36.91759</td>\n",
       "      <td>6.3091</td>\n",
       "    </tr>\n",
       "    <tr>\n",
       "      <th>FL</th>\n",
       "      <td>388</td>\n",
       "      <td>0.2</td>\n",
       "      <td>float64</td>\n",
       "      <td>0.24</td>\n",
       "      <td>0.173229</td>\n",
       "      <td>137.932739</td>\n",
       "      <td>11.496257</td>\n",
       "      <td>5.433199</td>\n",
       "      <td>6.319342</td>\n",
       "    </tr>\n",
       "    <tr>\n",
       "      <th>GL</th>\n",
       "      <td>355</td>\n",
       "      <td>0.2</td>\n",
       "      <td>float64</td>\n",
       "      <td>-0.12</td>\n",
       "      <td>0.001129</td>\n",
       "      <td>21.978</td>\n",
       "      <td>10.32701</td>\n",
       "      <td>8.530961</td>\n",
       "      <td>6.319342</td>\n",
       "    </tr>\n",
       "    <tr>\n",
       "      <th>CB</th>\n",
       "      <td>553</td>\n",
       "      <td>0.3</td>\n",
       "      <td>float64</td>\n",
       "      <td>-0.01</td>\n",
       "      <td>12.49976</td>\n",
       "      <td>2271.436167</td>\n",
       "      <td>159.049302</td>\n",
       "      <td>77.104151</td>\n",
       "      <td>6.329617</td>\n",
       "    </tr>\n",
       "    <tr>\n",
       "      <th>DF</th>\n",
       "      <td>137</td>\n",
       "      <td>0.0</td>\n",
       "      <td>float64</td>\n",
       "      <td>0.06</td>\n",
       "      <td>0.23868</td>\n",
       "      <td>37.895013</td>\n",
       "      <td>1.912384</td>\n",
       "      <td>0.633884</td>\n",
       "      <td>6.367517</td>\n",
       "    </tr>\n",
       "    <tr>\n",
       "      <th>BP</th>\n",
       "      <td>612</td>\n",
       "      <td>0.0</td>\n",
       "      <td>float64</td>\n",
       "      <td>0.16</td>\n",
       "      <td>72.948951</td>\n",
       "      <td>2447.81055</td>\n",
       "      <td>183.992505</td>\n",
       "      <td>231.322223</td>\n",
       "      <td>6.367517</td>\n",
       "    </tr>\n",
       "    <tr>\n",
       "      <th>EB</th>\n",
       "      <td>439</td>\n",
       "      <td>0.0</td>\n",
       "      <td>float64</td>\n",
       "      <td>0.09</td>\n",
       "      <td>4.926396</td>\n",
       "      <td>94.95858</td>\n",
       "      <td>6.200281</td>\n",
       "      <td>9.0727</td>\n",
       "      <td>6.425935</td>\n",
       "    </tr>\n",
       "    <tr>\n",
       "      <th>AR</th>\n",
       "      <td>130</td>\n",
       "      <td>0.0</td>\n",
       "      <td>float64</td>\n",
       "      <td>0.06</td>\n",
       "      <td>8.138688</td>\n",
       "      <td>178.943634</td>\n",
       "      <td>10.518877</td>\n",
       "      <td>10.128242</td>\n",
       "      <td>6.425935</td>\n",
       "    </tr>\n",
       "    <tr>\n",
       "      <th>CD</th>\n",
       "      <td>584</td>\n",
       "      <td>0.0</td>\n",
       "      <td>float64</td>\n",
       "      <td>0.17</td>\n",
       "      <td>23.3876</td>\n",
       "      <td>633.534408</td>\n",
       "      <td>51.58513</td>\n",
       "      <td>90.251735</td>\n",
       "      <td>6.425935</td>\n",
       "    </tr>\n",
       "    <tr>\n",
       "      <th>EL</th>\n",
       "      <td>311</td>\n",
       "      <td>10.8</td>\n",
       "      <td>float64</td>\n",
       "      <td>0.07</td>\n",
       "      <td>5.394675</td>\n",
       "      <td>109.125159</td>\n",
       "      <td>38.555707</td>\n",
       "      <td>69.582596</td>\n",
       "      <td>6.600454</td>\n",
       "    </tr>\n",
       "    <tr>\n",
       "      <th>CR</th>\n",
       "      <td>595</td>\n",
       "      <td>0.0</td>\n",
       "      <td>float64</td>\n",
       "      <td>-0.23</td>\n",
       "      <td>0.069225</td>\n",
       "      <td>3.039675</td>\n",
       "      <td>0.281195</td>\n",
       "      <td>0.742262</td>\n",
       "      <td>6.601188</td>\n",
       "    </tr>\n",
       "    <tr>\n",
       "      <th>BQ</th>\n",
       "      <td>515</td>\n",
       "      <td>10.8</td>\n",
       "      <td>float64</td>\n",
       "      <td>0.28</td>\n",
       "      <td>1.331155</td>\n",
       "      <td>344.644105</td>\n",
       "      <td>96.479371</td>\n",
       "      <td>98.328737</td>\n",
       "      <td>7.053426</td>\n",
       "    </tr>\n",
       "    <tr>\n",
       "      <th>EJ</th>\n",
       "      <td>2</td>\n",
       "      <td>0.0</td>\n",
       "      <td>object</td>\n",
       "      <td>NaN</td>\n",
       "      <td>NaN</td>\n",
       "      <td>NaN</td>\n",
       "      <td>NaN</td>\n",
       "      <td>NaN</td>\n",
       "      <td>NaN</td>\n",
       "    </tr>\n",
       "  </tbody>\n",
       "</table>\n",
       "</div>"
      ],
      "text/plain": [
       "   nunique na_share    dtype correlation          min          max  \\\n",
       "DU     253      0.2  float64        0.26     0.005518   161.355315   \n",
       "BC     259      0.0  float64        0.16       1.2299  1463.693448   \n",
       "AF     599      0.0  float64         0.3    192.59328  28688.18766   \n",
       "EH     127      0.0  float64        0.18     0.003042    42.569748   \n",
       "AM     605      0.0  float64        0.24     3.177522    630.51823   \n",
       "FD     337      0.0  float64        0.13      0.29685  1578.654237   \n",
       "DI     571      0.0  float64        0.26     60.23247  1049.168078   \n",
       "FR     435      0.0  float64         0.1      0.49706   1244.22702   \n",
       "AB     217      0.0  float64        0.28     0.081187     6.161666   \n",
       "CF     586      0.0  float64        0.11     0.510888   200.967526   \n",
       "BZ     115      0.0  float64        0.11   257.432377   50092.4593   \n",
       "FE     615      0.0  float64        0.22  1563.136688  143224.6823   \n",
       "AX     427      0.0  float64         0.1     0.699861     38.27088   \n",
       "BR     566      0.0  float64        0.09    51.216883  179250.2529   \n",
       "GB     560      0.0  float64        0.08     4.102182   135.781294   \n",
       "AY     148      0.0  float64        0.08     0.025578    10.315851   \n",
       "FC     600      0.2  float64        0.03     7.534128  3030.655824   \n",
       "FS     161      0.3  float64         0.0      0.06773    31.365763   \n",
       "CC     602      0.5  float64       -0.05     0.176874     4.103032   \n",
       "GH     596      0.0  float64        0.03     9.432735    81.210825   \n",
       "DV      39      0.0  float64        0.02      1.74307     25.19293   \n",
       "DY     590      0.0  float64        0.06     0.804068   152.355164   \n",
       "EE     513      0.0  float64       -0.14     0.286201    18.324926   \n",
       "GE     264      0.0  float64       -0.07    72.611063  1497.351958   \n",
       "AH     227      0.0  float64        0.04    85.200147  1910.123198   \n",
       "DN     576      0.0  float64       -0.01     6.339496    62.808096   \n",
       "EP     275      0.0  float64       -0.07    78.526968  1063.594578   \n",
       "EU     455      0.0  float64       -0.04     3.828384   6501.26448   \n",
       "EG     610      0.0  float64       -0.02     185.5941  30243.75878   \n",
       "FI     498      0.0  float64       -0.09      3.58345    35.851039   \n",
       "DH     191      0.0  float64       -0.21     0.040995     1.060404   \n",
       "GF     611      0.0  float64       -0.13    13.038894  143790.0712   \n",
       "GI     615      0.0  float64        0.08     0.897628   191.194764   \n",
       "DE     616      0.0  float64       -0.12    35.998895   2103.40519   \n",
       "DA     611      0.0  float64        -0.2       6.9064    210.33092   \n",
       "CW     426      0.0  float64       -0.06      7.03064    64.521624   \n",
       "CU     307      0.0  float64       -0.08     0.137925     4.951507   \n",
       "AZ     484      0.0  float64        0.01     3.396778    38.971568   \n",
       "CL     123      0.0  float64        0.02     1.050225    31.688153   \n",
       "CH     135      0.0  float64        0.01     0.003184     0.224074   \n",
       "BD     617      0.0  float64        0.11   1693.62432  53060.59924   \n",
       "BN      53      0.0  float64         0.2       9.8868      29.3073   \n",
       "DL     604      0.0  float64       -0.15      10.3456     326.2362   \n",
       "CS     576      0.0  float64       -0.05    13.784111   267.942823   \n",
       "FL     388      0.2  float64        0.24     0.173229   137.932739   \n",
       "GL     355      0.2  float64       -0.12     0.001129       21.978   \n",
       "CB     553      0.3  float64       -0.01     12.49976  2271.436167   \n",
       "DF     137      0.0  float64        0.06      0.23868    37.895013   \n",
       "BP     612      0.0  float64        0.16    72.948951   2447.81055   \n",
       "EB     439      0.0  float64        0.09     4.926396     94.95858   \n",
       "AR     130      0.0  float64        0.06     8.138688   178.943634   \n",
       "CD     584      0.0  float64        0.17      23.3876   633.534408   \n",
       "EL     311     10.8  float64        0.07     5.394675   109.125159   \n",
       "CR     595      0.0  float64       -0.23     0.069225     3.039675   \n",
       "BQ     515     10.8  float64        0.28     1.331155   344.644105   \n",
       "EJ       2      0.0   object         NaN          NaN          NaN   \n",
       "\n",
       "             std          mean   logloss  \n",
       "DU      9.034721        1.8029   5.55868  \n",
       "BC     65.166943      8.053012  5.724924  \n",
       "AF   2300.322717   3502.013221  5.900177  \n",
       "EH      1.847499      0.305107  5.900177  \n",
       "AM     69.728226     38.968552  5.900177  \n",
       "FD     64.754262      6.930086  5.900177  \n",
       "DI     86.084419    146.972099  5.900177  \n",
       "FR     50.181948      3.533905  5.900177  \n",
       "AB      0.468388      0.477149  6.017012  \n",
       "CF     13.571133     11.241064  6.192265  \n",
       "BZ   2076.371275    550.632525  6.192265  \n",
       "FE  11331.294051  10306.810737  6.192265  \n",
       "AX      2.551696      5.545576  6.250682  \n",
       "BR   7575.293707   1218.133238  6.250682  \n",
       "GB      9.991907     20.724856  6.250682  \n",
       "AY      0.416817       0.06032  6.250682  \n",
       "FC    165.551545     71.341526  6.260829  \n",
       "FS      1.305365      0.421501   6.27101  \n",
       "CC      0.263994      0.688801  6.281223  \n",
       "GH      9.864239     31.489716    6.3091  \n",
       "DV      1.484555       1.92483    6.3091  \n",
       "DY     18.116679     26.388989    6.3091  \n",
       "EE      2.058344      3.064778    6.3091  \n",
       "GE    144.181524    131.714987    6.3091  \n",
       "AH     127.83895    118.624513    6.3091  \n",
       "DN      8.038825     26.370568    6.3091  \n",
       "EP      68.44562    105.060712    6.3091  \n",
       "EU    390.187057     69.117005    6.3091  \n",
       "EG   1790.227476   1731.248215    6.3091  \n",
       "FI      2.934025     10.111079    6.3091  \n",
       "DH      0.112989      0.367002    6.3091  \n",
       "GF  19352.959387  14679.595398    6.3091  \n",
       "GI     36.266251     50.584437    6.3091  \n",
       "DE    317.745623    401.901299    6.3091  \n",
       "DA     21.210888     51.128326    6.3091  \n",
       "CW     14.645993     27.165653    6.3091  \n",
       "CU      0.538717      1.383792    6.3091  \n",
       "AZ      4.350645     10.566447    6.3091  \n",
       "CL       1.92221      1.403761    6.3091  \n",
       "CH      0.014808      0.030615    6.3091  \n",
       "BD   3021.326641   5350.388655    6.3091  \n",
       "BN      3.478278     21.419492    6.3091  \n",
       "DL     28.243187     94.795377    6.3091  \n",
       "CS     17.266347      36.91759    6.3091  \n",
       "FL     11.496257      5.433199  6.319342  \n",
       "GL      10.32701      8.530961  6.319342  \n",
       "CB    159.049302     77.104151  6.329617  \n",
       "DF      1.912384      0.633884  6.367517  \n",
       "BP    183.992505    231.322223  6.367517  \n",
       "EB      6.200281        9.0727  6.425935  \n",
       "AR     10.518877     10.128242  6.425935  \n",
       "CD      51.58513     90.251735  6.425935  \n",
       "EL     38.555707     69.582596  6.600454  \n",
       "CR      0.281195      0.742262  6.601188  \n",
       "BQ     96.479371     98.328737  7.053426  \n",
       "EJ           NaN           NaN       NaN  "
      ]
     },
     "execution_count": 11,
     "metadata": {},
     "output_type": "execute_result"
    }
   ],
   "source": [
    "def compute_basic_stats(columns, df):\n",
    "    out = {}\n",
    "    \n",
    "    for i in tqdm(columns):\n",
    "        mask = df[i].notna()\n",
    "        \n",
    "        out[i] = {'nunique':df[i].nunique(),\n",
    "                  'na_share':round(100*df[i].isna().sum()/df[i].count(),1),\n",
    "                  'dtype':df[i].dtype\n",
    "                 }\n",
    "        if is_numeric_dtype(df[i]):\n",
    "            out[i]['correlation'] = round(np.corrcoef(x=df.loc[mask,i],y=df.loc[mask,'Class'])[0,1],2)\n",
    "            out[i]['min'] = df.loc[mask,i].min()\n",
    "            out[i]['max'] = df.loc[mask,i].max()\n",
    "            out[i]['std'] = df.loc[mask,i].std()\n",
    "            out[i]['mean'] = df.loc[mask,i].mean()\n",
    "            i_lorreg = LogisticRegression()\n",
    "            X = df.loc[mask,i].values.reshape(-1,1)\n",
    "            y = df.loc[mask,'Class'].values\n",
    "            i_lorreg.fit(X=X, y=y)\n",
    "            y_pred = i_lorreg.predict(X)\n",
    "            out[i]['logloss'] = log_loss(y_true=y, y_pred=y_pred)\n",
    "            \n",
    "            \n",
    "    out = pd.DataFrame(out).T\n",
    "    \n",
    "    out = out.sort_values('logloss',ascending=True)\n",
    "    \n",
    "    return out\n",
    "\n",
    "basic_stats_1 = compute_basic_stats(\n",
    "    columns=[i for i in dataset_df.columns if i not in [\"Id\",\"Class\"]],         \n",
    "    df=dataset_df)\n",
    "\n",
    "basic_stats_1"
   ]
  },
  {
   "cell_type": "code",
   "execution_count": 12,
   "id": "713be86e",
   "metadata": {
    "execution": {
     "iopub.execute_input": "2023-07-09T21:43:37.480726Z",
     "iopub.status.busy": "2023-07-09T21:43:37.480366Z",
     "iopub.status.idle": "2023-07-09T21:43:37.492822Z",
     "shell.execute_reply": "2023-07-09T21:43:37.491265Z"
    },
    "papermill": {
     "duration": 0.029525,
     "end_time": "2023-07-09T21:43:37.495072",
     "exception": false,
     "start_time": "2023-07-09T21:43:37.465547",
     "status": "completed"
    },
    "tags": []
   },
   "outputs": [
    {
     "data": {
      "text/plain": [
       "Index(['DU', 'FC', 'FS', 'CC', 'FL', 'GL', 'CB', 'EL', 'BQ'], dtype='object')"
      ]
     },
     "execution_count": 12,
     "metadata": {},
     "output_type": "execute_result"
    }
   ],
   "source": [
    "basic_stats_1.query('na_share > 0').index"
   ]
  },
  {
   "cell_type": "markdown",
   "id": "79b1ee32",
   "metadata": {
    "papermill": {
     "duration": 0.013358,
     "end_time": "2023-07-09T21:43:37.521919",
     "exception": false,
     "start_time": "2023-07-09T21:43:37.508561",
     "status": "completed"
    },
    "tags": []
   },
   "source": [
    "* Only one variable looks constrant over the target -> better to omit it.\n",
    "* Realised Better to add LogLoss metric for each feature -> loggloss\n"
   ]
  },
  {
   "cell_type": "markdown",
   "id": "60a699a2",
   "metadata": {
    "papermill": {
     "duration": 0.01309,
     "end_time": "2023-07-09T21:43:37.548911",
     "exception": false,
     "start_time": "2023-07-09T21:43:37.535821",
     "status": "completed"
    },
    "tags": []
   },
   "source": [
    "## Normalise Features"
   ]
  },
  {
   "cell_type": "code",
   "execution_count": 13,
   "id": "f4a71875",
   "metadata": {
    "execution": {
     "iopub.execute_input": "2023-07-09T21:43:37.577124Z",
     "iopub.status.busy": "2023-07-09T21:43:37.576677Z",
     "iopub.status.idle": "2023-07-09T21:43:54.693754Z",
     "shell.execute_reply": "2023-07-09T21:43:54.692606Z"
    },
    "papermill": {
     "duration": 17.133853,
     "end_time": "2023-07-09T21:43:54.696082",
     "exception": false,
     "start_time": "2023-07-09T21:43:37.562229",
     "status": "completed"
    },
    "tags": []
   },
   "outputs": [
    {
     "name": "stderr",
     "output_type": "stream",
     "text": [
      "/tmp/ipykernel_20/393966730.py:44: PerformanceWarning: DataFrame is highly fragmented.  This is usually the result of calling `frame.insert` many times, which has poor performance.  Consider joining all columns at once using pd.concat(axis=1) instead. To get a de-fragmented frame, use `newframe = frame.copy()`\n",
      "  train_out[i + '_A'] = np.where(train_out[i] == 'A',1,0)\n",
      "/tmp/ipykernel_20/393966730.py:45: PerformanceWarning: DataFrame is highly fragmented.  This is usually the result of calling `frame.insert` many times, which has poor performance.  Consider joining all columns at once using pd.concat(axis=1) instead. To get a de-fragmented frame, use `newframe = frame.copy()`\n",
      "  test_out[i + '_A'] = np.where(test_out[i] == 'A',1,0)\n"
     ]
    }
   ],
   "source": [
    "def preprocess_1(train: pd.DataFrame, test: pd.DataFrame, stats: pd.DataFrame) -> (pd.DataFrame, pd.DataFrame, dict):\n",
    "    info = dict()\n",
    "    stats_features = stats[stats.logloss.notna()].index\n",
    "    train_out = train.copy()\n",
    "    test_out = test.copy()\n",
    "    \n",
    "    out_features = list()\n",
    "    \n",
    "    # Make WoE Columns\n",
    "    for i in stats_features:\n",
    "        if i != 'EJ':\n",
    "            tmp_woe = WOENumericalComplex()\n",
    "            tmp_woe.fit(x=train_out[i], y=train_out['Class'])\n",
    "            train_out[i + '_WoE'] = tmp_woe.transform(X=train_out[i])\n",
    "            test_out[i + '_WoE'] = tmp_woe.transform(X=test_out[i])\n",
    "            out_features.append(i + '_WoE')\n",
    "    \n",
    "    \n",
    "    # Make NA columns\n",
    "    for i in ['DU', 'FC', 'FS', 'CC', 'FL', 'GL', 'CB', 'EL', 'BQ']:\n",
    "        train_out[i+'_na'] = np.where(train_out[i].isna(),1,0)\n",
    "        test_out[i+'_na'] = np.where(test_out[i].isna(),1,0)\n",
    "        out_features.append(i + '_na')\n",
    "    \n",
    "    # Basic Logic -> normalise\n",
    "    for i in stats_features:\n",
    "        if i != 'EJ':\n",
    "\n",
    "            if stats.loc[i,'correlation'] > 0:\n",
    "                na_value = stats.loc[i,'max']\n",
    "            else:\n",
    "                na_value = stats.loc[i,'min']\n",
    "                \n",
    "            train_out[i] = train_out[i].fillna(na_value)\n",
    "            test_out[i] = test_out[i].fillna(na_value)\n",
    "            \n",
    "            train_out[i] = (train_out[i]-stats.loc[i,'mean'])/stats.loc[i,'std']\n",
    "            test_out[i] = (test_out[i]-stats.loc[i,'mean'])/stats.loc[i,'std']\n",
    "            \n",
    "            out_features.append(i)\n",
    "            \n",
    "            \n",
    "    # Addition EJ -> has only two values, so if EJ == 'A'\n",
    "    train_out[i + '_A'] = np.where(train_out[i] == 'A',1,0)\n",
    "    test_out[i + '_A'] = np.where(test_out[i] == 'A',1,0)\n",
    "    out_features.append(i + '_A')\n",
    "    \n",
    "    return train_out,test_out,out_features\n",
    "\n",
    "\n",
    "train_out_1,test_out_1,out_features_1 = preprocess_1(train=dataset_df, test=dataset_test_df, stats=basic_stats_1)"
   ]
  },
  {
   "cell_type": "code",
   "execution_count": 14,
   "id": "f84af6b5",
   "metadata": {
    "execution": {
     "iopub.execute_input": "2023-07-09T21:43:54.726068Z",
     "iopub.status.busy": "2023-07-09T21:43:54.725674Z",
     "iopub.status.idle": "2023-07-09T21:43:54.734579Z",
     "shell.execute_reply": "2023-07-09T21:43:54.733203Z"
    },
    "papermill": {
     "duration": 0.026628,
     "end_time": "2023-07-09T21:43:54.736763",
     "exception": false,
     "start_time": "2023-07-09T21:43:54.710135",
     "status": "completed"
    },
    "tags": []
   },
   "outputs": [
    {
     "data": {
      "text/plain": [
       "['DU_WoE',\n",
       " 'BC_WoE',\n",
       " 'AF_WoE',\n",
       " 'EH_WoE',\n",
       " 'AM_WoE',\n",
       " 'FD_WoE',\n",
       " 'DI_WoE',\n",
       " 'FR_WoE',\n",
       " 'AB_WoE',\n",
       " 'CF_WoE',\n",
       " 'BZ_WoE',\n",
       " 'FE_WoE',\n",
       " 'AX_WoE',\n",
       " 'BR_WoE',\n",
       " 'GB_WoE',\n",
       " 'AY_WoE',\n",
       " 'FC_WoE',\n",
       " 'FS_WoE',\n",
       " 'CC_WoE',\n",
       " 'GH_WoE',\n",
       " 'DV_WoE',\n",
       " 'DY_WoE',\n",
       " 'EE_WoE',\n",
       " 'GE_WoE',\n",
       " 'AH_WoE',\n",
       " 'DN_WoE',\n",
       " 'EP_WoE',\n",
       " 'EU_WoE',\n",
       " 'EG_WoE',\n",
       " 'FI_WoE',\n",
       " 'DH_WoE',\n",
       " 'GF_WoE',\n",
       " 'GI_WoE',\n",
       " 'DE_WoE',\n",
       " 'DA_WoE',\n",
       " 'CW_WoE',\n",
       " 'CU_WoE',\n",
       " 'AZ_WoE',\n",
       " 'CL_WoE',\n",
       " 'CH_WoE',\n",
       " 'BD_WoE',\n",
       " 'BN_WoE',\n",
       " 'DL_WoE',\n",
       " 'CS_WoE',\n",
       " 'FL_WoE',\n",
       " 'GL_WoE',\n",
       " 'CB_WoE',\n",
       " 'DF_WoE',\n",
       " 'BP_WoE',\n",
       " 'EB_WoE',\n",
       " 'AR_WoE',\n",
       " 'CD_WoE',\n",
       " 'EL_WoE',\n",
       " 'CR_WoE',\n",
       " 'BQ_WoE',\n",
       " 'DU_na',\n",
       " 'FC_na',\n",
       " 'FS_na',\n",
       " 'CC_na',\n",
       " 'FL_na',\n",
       " 'GL_na',\n",
       " 'CB_na',\n",
       " 'EL_na',\n",
       " 'BQ_na',\n",
       " 'DU',\n",
       " 'BC',\n",
       " 'AF',\n",
       " 'EH',\n",
       " 'AM',\n",
       " 'FD',\n",
       " 'DI',\n",
       " 'FR',\n",
       " 'AB',\n",
       " 'CF',\n",
       " 'BZ',\n",
       " 'FE',\n",
       " 'AX',\n",
       " 'BR',\n",
       " 'GB',\n",
       " 'AY',\n",
       " 'FC',\n",
       " 'FS',\n",
       " 'CC',\n",
       " 'GH',\n",
       " 'DV',\n",
       " 'DY',\n",
       " 'EE',\n",
       " 'GE',\n",
       " 'AH',\n",
       " 'DN',\n",
       " 'EP',\n",
       " 'EU',\n",
       " 'EG',\n",
       " 'FI',\n",
       " 'DH',\n",
       " 'GF',\n",
       " 'GI',\n",
       " 'DE',\n",
       " 'DA',\n",
       " 'CW',\n",
       " 'CU',\n",
       " 'AZ',\n",
       " 'CL',\n",
       " 'CH',\n",
       " 'BD',\n",
       " 'BN',\n",
       " 'DL',\n",
       " 'CS',\n",
       " 'FL',\n",
       " 'GL',\n",
       " 'CB',\n",
       " 'DF',\n",
       " 'BP',\n",
       " 'EB',\n",
       " 'AR',\n",
       " 'CD',\n",
       " 'EL',\n",
       " 'CR',\n",
       " 'BQ',\n",
       " 'BQ_A']"
      ]
     },
     "execution_count": 14,
     "metadata": {},
     "output_type": "execute_result"
    }
   ],
   "source": [
    "out_features_1"
   ]
  },
  {
   "cell_type": "markdown",
   "id": "516fbe8e",
   "metadata": {
    "papermill": {
     "duration": 0.013869,
     "end_time": "2023-07-09T21:43:54.765021",
     "exception": false,
     "start_time": "2023-07-09T21:43:54.751152",
     "status": "completed"
    },
    "tags": []
   },
   "source": [
    "# KFold validation\n",
    "\n",
    "We will use KFold cross validation for training this model since the normal train/test split training won't be enough to acheive decent score.\n",
    "\n",
    "We will split the dataset into 5 consecutive folds. Each fold is then used once as a validation set while the 4 (5-1) remaining folds form the training set.\n",
    "\n",
    "Read more about KFold [here](https://scikit-learn.org/stable/modules/generated/sklearn.model_selection.KFold.html)."
   ]
  },
  {
   "cell_type": "code",
   "execution_count": 15,
   "id": "c5f2b7e3",
   "metadata": {
    "execution": {
     "iopub.execute_input": "2023-07-09T21:43:54.795738Z",
     "iopub.status.busy": "2023-07-09T21:43:54.795360Z",
     "iopub.status.idle": "2023-07-09T21:43:54.801513Z",
     "shell.execute_reply": "2023-07-09T21:43:54.799704Z"
    },
    "papermill": {
     "duration": 0.024397,
     "end_time": "2023-07-09T21:43:54.804266",
     "exception": false,
     "start_time": "2023-07-09T21:43:54.779869",
     "status": "completed"
    },
    "tags": []
   },
   "outputs": [],
   "source": [
    "# skf = StratifiedKFold(n_splits=8)\n",
    "# X,y = dataset_df_normalised.values.copy(),dataset_df['Class'].values.reshape(-1,1).copy()\n",
    "# for train, test in skf.split(X=X, y=y):\n",
    "#     print(f'train -  {y[train].sum()/len(y[train])}   |   test -  {y[train].sum()/len(y[train])}')"
   ]
  },
  {
   "cell_type": "markdown",
   "id": "93eeb66f",
   "metadata": {
    "papermill": {
     "duration": 0.01423,
     "end_time": "2023-07-09T21:43:54.833201",
     "exception": false,
     "start_time": "2023-07-09T21:43:54.818971",
     "status": "completed"
    },
    "tags": []
   },
   "source": [
    "# Out of Fold (OOF)\n",
    "\n",
    "During KFold cross validation, the predictions made on the test set of each fold is known as Out of Fold(OOF) predictions. We will estimate the performance of the model using the predictions made across all the k (5 in this example) folds.\n",
    "\n",
    "For our training loop, we will create a pandas dataframe named `oof` to store the predictions of the validation set during each fold."
   ]
  },
  {
   "cell_type": "code",
   "execution_count": 16,
   "id": "752b2fb9",
   "metadata": {
    "execution": {
     "iopub.execute_input": "2023-07-09T21:43:54.863375Z",
     "iopub.status.busy": "2023-07-09T21:43:54.863041Z",
     "iopub.status.idle": "2023-07-09T21:43:54.868207Z",
     "shell.execute_reply": "2023-07-09T21:43:54.866890Z"
    },
    "papermill": {
     "duration": 0.023259,
     "end_time": "2023-07-09T21:43:54.870715",
     "exception": false,
     "start_time": "2023-07-09T21:43:54.847456",
     "status": "completed"
    },
    "tags": []
   },
   "outputs": [],
   "source": [
    "# # Added to train step\n",
    "# # Create list of ids for the creation of oof dataframe.\n",
    "# ID_LIST = dataset_df.index\n",
    "\n",
    "# # Create a dataframe of required size with zero values.\n",
    "# oof = pd.DataFrame(data=np.zeros((len(ID_LIST),1)), index=ID_LIST)\n",
    "\n",
    "# # Create an empty dictionary to store the models trained for each fold.\n",
    "# models = {}\n",
    "\n",
    "# # Create empty dict to save metircs for the models trained for each fold.\n",
    "# accuracy = {}\n",
    "# cross_entropy = {}\n",
    "\n",
    "# # Save the name of the label column to a variable.\n",
    "# label = \"Class\""
   ]
  },
  {
   "cell_type": "markdown",
   "id": "57a09d18",
   "metadata": {
    "papermill": {
     "duration": 0.014282,
     "end_time": "2023-07-09T21:43:54.900379",
     "exception": false,
     "start_time": "2023-07-09T21:43:54.886097",
     "status": "completed"
    },
    "tags": []
   },
   "source": [
    "# Select a Model\n",
    "\n",
    "There are several tree-based models for you to choose from.\n",
    "\n",
    "* RandomForestModel\n",
    "* GradientBoostedTreesModel\n",
    "* CartModel\n",
    "* DistributedGradientBoostedTreesModel\n",
    "\n",
    "To start, we'll work with a Random Forest. This is the most well-known of the Decision Forest training algorithms.\n",
    "\n",
    "A Random Forest is a collection of decision trees, each trained independently on a random subset of the training dataset (sampled with replacement). The algorithm is unique in that it is robust to overfitting, and easy to use.\n",
    "\n",
    "We can list the all the available models in TensorFlow Decision Forests using the following code:"
   ]
  },
  {
   "cell_type": "code",
   "execution_count": 17,
   "id": "7b71702b",
   "metadata": {
    "execution": {
     "iopub.execute_input": "2023-07-09T21:43:54.931535Z",
     "iopub.status.busy": "2023-07-09T21:43:54.931161Z",
     "iopub.status.idle": "2023-07-09T21:43:54.938346Z",
     "shell.execute_reply": "2023-07-09T21:43:54.936968Z"
    },
    "papermill": {
     "duration": 0.025305,
     "end_time": "2023-07-09T21:43:54.940472",
     "exception": false,
     "start_time": "2023-07-09T21:43:54.915167",
     "status": "completed"
    },
    "tags": []
   },
   "outputs": [
    {
     "data": {
      "text/plain": [
       "[tensorflow_decision_forests.keras.RandomForestModel,\n",
       " tensorflow_decision_forests.keras.GradientBoostedTreesModel,\n",
       " tensorflow_decision_forests.keras.CartModel,\n",
       " tensorflow_decision_forests.keras.DistributedGradientBoostedTreesModel]"
      ]
     },
     "execution_count": 17,
     "metadata": {},
     "output_type": "execute_result"
    }
   ],
   "source": [
    "tfdf.keras.get_all_models()"
   ]
  },
  {
   "cell_type": "markdown",
   "id": "34647871",
   "metadata": {
    "papermill": {
     "duration": 0.013233,
     "end_time": "2023-07-09T21:43:54.967456",
     "exception": false,
     "start_time": "2023-07-09T21:43:54.954223",
     "status": "completed"
    },
    "tags": []
   },
   "source": [
    "# How can I configure them?\n",
    "\n",
    "TensorFlow Decision Forests provides good defaults for you (e.g. the top ranking hyperparameters on our benchmarks, slightly modified to run in reasonable time). If you would like to configure the learning algorithm, you will find many options you can explore to get a better score.\n",
    "\n",
    "You can select a template and/or set parameters as follows:\n",
    "\n",
    "```rf = tfdf.keras.RandomForestModel(hyperparameter_template=\"benchmark_rank1\")```\n",
    "\n",
    "Read more [here](https://www.tensorflow.org/decision_forests/api_docs/python/tfdf/keras/RandomForestModel)."
   ]
  },
  {
   "cell_type": "markdown",
   "id": "9a28faf5",
   "metadata": {
    "papermill": {
     "duration": 0.0131,
     "end_time": "2023-07-09T21:43:54.993831",
     "exception": false,
     "start_time": "2023-07-09T21:43:54.980731",
     "status": "completed"
    },
    "tags": []
   },
   "source": [
    "# Hyperparameter tuning to avoid overfitting\n",
    "\n",
    "Because of the smaller size of the dataset, it is likely that the model will overfit during training.\n",
    "Numerous parameters, primarily `max_depth` and `num_trees` can be changed to fine-tune the model and prevent overfitting.\n",
    "\n",
    "The attribute`max_depth` indicates the maximum depth of the tree. To avoid overfitting, we can try to reduce the depth of the tree from it's default value, which is `16`. Another way to tackle overfitting is to increase the number of individual decision trees. To do this, we have to increase the value of the parameter `num_trees` from its default value(`300`).\n",
    "\n",
    "You can set these parameters as follows:\n",
    "\n",
    "```rf = tfdf.keras.RandomForestModel(max_depth=5, num_trees=500)```"
   ]
  },
  {
   "cell_type": "markdown",
   "id": "ebf893af",
   "metadata": {
    "papermill": {
     "duration": 0.01334,
     "end_time": "2023-07-09T21:43:55.020555",
     "exception": false,
     "start_time": "2023-07-09T21:43:55.007215",
     "status": "completed"
    },
    "tags": []
   },
   "source": [
    "# Strategies to handle the dataset imbalance\n",
    "\n",
    "Let's examine the fraction of positive and negative samples in this dataset's  by examining the`Class` column."
   ]
  },
  {
   "cell_type": "code",
   "execution_count": 18,
   "id": "fdc884e9",
   "metadata": {
    "execution": {
     "iopub.execute_input": "2023-07-09T21:43:55.048925Z",
     "iopub.status.busy": "2023-07-09T21:43:55.048538Z",
     "iopub.status.idle": "2023-07-09T21:43:55.053314Z",
     "shell.execute_reply": "2023-07-09T21:43:55.052369Z"
    },
    "papermill": {
     "duration": 0.021432,
     "end_time": "2023-07-09T21:43:55.055285",
     "exception": false,
     "start_time": "2023-07-09T21:43:55.033853",
     "status": "completed"
    },
    "tags": []
   },
   "outputs": [],
   "source": [
    "# # Calculate the number of negative and positive values in `Class` column\n",
    "# neg, pos = np.bincount(dataset_df['Class'])\n",
    "# # Calculate total samples\n",
    "# total = neg + pos\n",
    "# print('Examples:\\n    Total: {}\\n    Positive: {} ({:.2f}% of total)\\n'.format(total, pos, 100 * pos / total))"
   ]
  },
  {
   "cell_type": "markdown",
   "id": "91534ebd",
   "metadata": {
    "papermill": {
     "duration": 0.015128,
     "end_time": "2023-07-09T21:43:55.084762",
     "exception": false,
     "start_time": "2023-07-09T21:43:55.069634",
     "status": "completed"
    },
    "tags": []
   },
   "source": [
    "As we can see, positive samples only account for 17.50% of the data. This means that our datastet is heavily imbalanced.\n",
    "\n",
    "In classification problems with imbalanced datasets, a model tends to be more biased towards the majority class leading to the model performing poorly on the samples belonging to the minority class."
   ]
  },
  {
   "cell_type": "markdown",
   "id": "2b31396d",
   "metadata": {
    "papermill": {
     "duration": 0.014365,
     "end_time": "2023-07-09T21:43:55.113543",
     "exception": false,
     "start_time": "2023-07-09T21:43:55.099178",
     "status": "completed"
    },
    "tags": []
   },
   "source": [
    "There are many techniques for dealing with imbalanced data. The most suitable techniques for this dataset are:\n",
    "\n",
    "* Undersampling\n",
    "* Class weighting\n",
    "\n",
    "In this notebook we will use **Class weighting** to deal with imbalanced data. But first, we will quickly outline how undersampling can be performed."
   ]
  },
  {
   "cell_type": "markdown",
   "id": "e01ba210",
   "metadata": {
    "papermill": {
     "duration": 0.013258,
     "end_time": "2023-07-09T21:43:55.141256",
     "exception": false,
     "start_time": "2023-07-09T21:43:55.127998",
     "status": "completed"
    },
    "tags": []
   },
   "source": [
    "# Undersampling\n",
    "\n",
    "One approach to deal with an imbalanced dataset would be to under-sample the majority class(es) by choosing a smaller subset of the majority class samples(negative or `0` class in this case) from the dataset rather than picking the entire data.\n",
    "\n",
    "Note: You have to loop through the dataset and try different random subsets for a better score.\n",
    "\n",
    "The code snippet below illustrates how to perform undersampling.\n",
    "\n",
    "```\n",
    "# This function generates undersampled dataset.\n",
    "def random_under_sampler(df):\n",
    "    # Calculate the number of samples for each label. \n",
    "    neg, pos = np.bincount(df['Class'])\n",
    "\n",
    "    # Choose the samples with class label `1`.\n",
    "    one_df = df.loc[df['Class'] == 1] \n",
    "    # Choose the samples with class label `0`.\n",
    "    zero_df = df.loc[df['Class'] == 0]\n",
    "    # Select `pos` number of negative samples.\n",
    "    # This makes sure that we have equal number of samples for each label.\n",
    "    zero_df = zero_df.sample(n=pos)\n",
    "\n",
    "    # Join both label dataframes.\n",
    "    undersampled_df = pd.concat([zero_df, one_df])\n",
    "\n",
    "    # Shuffle the data and return\n",
    "    return undersampled_df.sample(frac = 1)\n",
    "```"
   ]
  },
  {
   "cell_type": "markdown",
   "id": "ade0adde",
   "metadata": {
    "papermill": {
     "duration": 0.013346,
     "end_time": "2023-07-09T21:43:55.168347",
     "exception": false,
     "start_time": "2023-07-09T21:43:55.155001",
     "status": "completed"
    },
    "tags": []
   },
   "source": [
    "# Class weighting\n",
    "\n",
    "Since the postive(`1`) `Class` labels are only a small fraction of the dataset, we would want the classifier to heavily weight those examples. You can do this by passing **Keras weights** for each class through a parameter. This will cause the model to \"pay more attention\" to examples from an under-represented class. Read more about class weights [here](https://www.tensorflow.org/tutorials/structured_data/imbalanced_data#class_weights)."
   ]
  },
  {
   "cell_type": "code",
   "execution_count": 19,
   "id": "abb07d79",
   "metadata": {
    "execution": {
     "iopub.execute_input": "2023-07-09T21:43:55.198617Z",
     "iopub.status.busy": "2023-07-09T21:43:55.198181Z",
     "iopub.status.idle": "2023-07-09T21:43:55.203900Z",
     "shell.execute_reply": "2023-07-09T21:43:55.202312Z"
    },
    "papermill": {
     "duration": 0.02397,
     "end_time": "2023-07-09T21:43:55.206443",
     "exception": false,
     "start_time": "2023-07-09T21:43:55.182473",
     "status": "completed"
    },
    "tags": []
   },
   "outputs": [],
   "source": [
    "# # Added to Train Step\n",
    "# # Calculate the number of samples for each label.\n",
    "# neg, pos = np.bincount(dataset_df['Class'])\n",
    "\n",
    "# # Calculate total samples.\n",
    "# total = neg + pos\n",
    "\n",
    "# # Calculate the weight for each label.\n",
    "# weight_for_0 = (1 / neg) * (total / 2.0)\n",
    "# weight_for_1 = (1 / pos) * (total / 2.0)\n",
    "\n",
    "# class_weight = {0: weight_for_0, 1: weight_for_1}\n",
    "\n",
    "# print('Weight for class 0: {:.2f}'.format(weight_for_0))\n",
    "# print('Weight for class 1: {:.2f}'.format(weight_for_1))"
   ]
  },
  {
   "cell_type": "markdown",
   "id": "ec625bda",
   "metadata": {
    "papermill": {
     "duration": 0.014038,
     "end_time": "2023-07-09T21:43:55.235376",
     "exception": false,
     "start_time": "2023-07-09T21:43:55.221338",
     "status": "completed"
    },
    "tags": []
   },
   "source": [
    "To train and evaluate the models using class weights, use the dict in model.fit() as an argument as shown below.\n",
    "\n",
    "```model.fit(x=train_ds, class_weight=class_weight)```"
   ]
  },
  {
   "cell_type": "markdown",
   "id": "ac5b789e",
   "metadata": {
    "papermill": {
     "duration": 0.01456,
     "end_time": "2023-07-09T21:43:55.264272",
     "exception": false,
     "start_time": "2023-07-09T21:43:55.249712",
     "status": "completed"
    },
    "tags": []
   },
   "source": [
    "# Train Random Forest Model\n",
    "\n",
    "Today, we will use the defaults to create the Random Forest Model. By default the model is set to train for a classification task.\n",
    "We will train a model for each fold and after training we will store the model and metrics. Here, we have chosen `accuracy` and `binary_crossentropy` as the metrics."
   ]
  },
  {
   "cell_type": "code",
   "execution_count": 20,
   "id": "845a7d47",
   "metadata": {
    "execution": {
     "iopub.execute_input": "2023-07-09T21:43:55.294100Z",
     "iopub.status.busy": "2023-07-09T21:43:55.293789Z",
     "iopub.status.idle": "2023-07-09T21:43:55.308678Z",
     "shell.execute_reply": "2023-07-09T21:43:55.307617Z"
    },
    "papermill": {
     "duration": 0.032206,
     "end_time": "2023-07-09T21:43:55.310916",
     "exception": false,
     "start_time": "2023-07-09T21:43:55.278710",
     "status": "completed"
    },
    "tags": []
   },
   "outputs": [],
   "source": [
    "def train_model(train: pd.DataFrame, test: pd.DataFrame, features: list, label = \"Class\",\n",
    "                n_splits: int = 6,\n",
    "                model_obj = tfdf.keras.RandomForestModel,\n",
    "                model_kwargs = dict(),\n",
    "                model_compile_kwargs = dict()) -> (pd.DataFrame, pd.DataFrame, pd.DataFrame, dict):\n",
    "\n",
    "    # Create a dataframe of required size with zero values.\n",
    "    oof = pd.DataFrame(data=np.zeros((len(train.index),1)), index=train.index)\n",
    "    submition = pd.DataFrame(data=np.zeros((len(test.index),n_splits)),index=test.index)\n",
    "\n",
    "    # Create an empty dictionary to store the models trained for each fold.\n",
    "    models = {}\n",
    "\n",
    "    # Create empty dict to save metircs for the models trained for each fold.\n",
    "    accuracy = {}\n",
    "    cross_entropy = {}\n",
    "    \n",
    "    # Calculate the number of samples for each label.\n",
    "    neg, pos = np.bincount(train[label])\n",
    "    total = neg + pos\n",
    "    weight_for_0 = (1 / neg) * (total / 2.0)\n",
    "    weight_for_1 = (1 / pos) * (total / 2.0)\n",
    "    class_weight = {0: weight_for_0, 1: weight_for_1}\n",
    "\n",
    "    print('Weight for class 0: {:.2f}'.format(weight_for_0))\n",
    "    print('Weight for class 1: {:.2f}'.format(weight_for_1))\n",
    "    \n",
    "    # Names of columns\n",
    "    submition_ds = tfdf.keras.pd_dataframe_to_tf_dataset(test)\n",
    "    # Loop through each fold\n",
    "    skf = StratifiedKFold(n_splits=n_splits)\n",
    "    \n",
    "    for i, (train_index, valid_index) in enumerate(skf.split(X=train,y=train['Class'])):\n",
    "            print('##### Fold',i+1)\n",
    "\n",
    "            # Fetch values corresponding to the index \n",
    "            train_df = train.iloc[train_index]\n",
    "            valid_df = train.iloc[valid_index]\n",
    "            valid_ids = valid_df.index.values\n",
    "\n",
    "            # Select only feature columns for training.\n",
    "            train_df = train_df[features+[label]]\n",
    "            valid_df = valid_df[features+[label]]\n",
    "\n",
    "            # We need to convert the datatset from Pandas format (pd.DataFrame)\n",
    "            # into TensorFlow Datasets format (tf.data.Dataset).\n",
    "            train_ds = tfdf.keras.pd_dataframe_to_tf_dataset(train_df, label=label)\n",
    "            valid_ds = tfdf.keras.pd_dataframe_to_tf_dataset(valid_df, label=label)\n",
    "\n",
    "            # Define & Train the model and metrics\n",
    "            model = model_obj(**model_kwargs)\n",
    "            model.compile(**model_compile_kwargs) \n",
    "            model.fit(x=train_ds, class_weight=class_weight)\n",
    "\n",
    "            # Store the model\n",
    "            models[f\"fold_{i+1}\"] = model\n",
    "\n",
    "            # Predict value for validation/Submition data\n",
    "            # Store the predictions in oof dataframe\n",
    "            oof.loc[valid_ids, 0] = model.predict(x=valid_ds).flatten()\n",
    "            submition.loc[:, i] = model.predict(x=submition_ds).flatten() \n",
    "\n",
    "            # Evaluate and store the metrics in respective dicts\n",
    "            evaluation = model.evaluate(x=valid_ds,return_dict=True)\n",
    "            accuracy[f\"fold_{i+1}\"] = evaluation[\"accuracy\"]\n",
    "            cross_entropy[f\"fold_{i+1}\"] = evaluation[\"binary_crossentropy\"]\n",
    "            \n",
    "    return submition,models,accuracy,cross_entropy\n",
    "\n",
    "\n",
    "def print_average_accuracy(models,cross_entropy,accuracy):\n",
    "    average_loss = 0\n",
    "    average_acc = 0\n",
    "\n",
    "    for _model in  models:\n",
    "        average_loss += cross_entropy[_model]\n",
    "        average_acc += accuracy[_model]\n",
    "        print(f\"{_model}: acc: {accuracy[_model]:.4f} loss: {cross_entropy[_model]:.4f}\")\n",
    "\n",
    "    print(f\"\\nAverage accuracy: {average_acc/len(models):.4f}  Average loss: {average_loss/len(models):.4f}\")"
   ]
  },
  {
   "cell_type": "code",
   "execution_count": 21,
   "id": "b508fde0",
   "metadata": {
    "execution": {
     "iopub.execute_input": "2023-07-09T21:43:55.341672Z",
     "iopub.status.busy": "2023-07-09T21:43:55.341320Z",
     "iopub.status.idle": "2023-07-09T21:44:47.719432Z",
     "shell.execute_reply": "2023-07-09T21:44:47.718652Z"
    },
    "papermill": {
     "duration": 52.396325,
     "end_time": "2023-07-09T21:44:47.721633",
     "exception": false,
     "start_time": "2023-07-09T21:43:55.325308",
     "status": "completed"
    },
    "tags": []
   },
   "outputs": [
    {
     "name": "stdout",
     "output_type": "stream",
     "text": [
      "Weight for class 0: 0.61\n",
      "Weight for class 1: 2.86\n",
      "##### Fold 1\n",
      "Use /tmp/tmp7fe8z_yq as temporary training directory\n",
      "Reading training dataset...\n",
      "Training dataset read in 0:00:06.581445. Found 555 examples.\n",
      "Training model...\n",
      "Model trained in 0:00:00.516614\n",
      "Compiling model...\n"
     ]
    },
    {
     "name": "stderr",
     "output_type": "stream",
     "text": [
      "[INFO 23-07-09 21:44:02.8440 UTC kernel.cc:1242] Loading model from path /tmp/tmp7fe8z_yq/model/ with prefix c9aa3a4b85c44ee1\n",
      "[INFO 23-07-09 21:44:02.9019 UTC decision_forest.cc:660] Model loaded with 1000 root(s), 34340 node(s), and 112 input feature(s).\n",
      "[INFO 23-07-09 21:44:02.9021 UTC abstract_model.cc:1311] Engine \"RandomForestOptPred\" built\n",
      "[INFO 23-07-09 21:44:02.9022 UTC kernel.cc:1074] Use fast generic engine\n"
     ]
    },
    {
     "name": "stdout",
     "output_type": "stream",
     "text": [
      "WARNING: AutoGraph could not transform <function simple_ml_inference_op_with_handle at 0x791bc48a4550> and will run it as-is.\n",
      "Please report this to the TensorFlow team. When filing the bug, set the verbosity to 10 (on Linux, `export AUTOGRAPH_VERBOSITY=10`) and attach the full output.\n",
      "Cause: could not get source code\n",
      "To silence this warning, decorate the function with @tf.autograph.experimental.do_not_convert\n",
      "Model compiled.\n",
      "1/1 [==============================] - 0s 177ms/step\n",
      "1/1 [==============================] - 1s 707ms/step\n"
     ]
    },
    {
     "name": "stderr",
     "output_type": "stream",
     "text": [
      "/tmp/ipykernel_20/2061138087.py:61: DeprecationWarning: In a future version, `df.iloc[:, i] = newvals` will attempt to set the values inplace instead of always setting a new array. To retain the old behavior, use either `df[df.columns[i]] = newvals` or, if columns are non-unique, `df.isetitem(i, newvals)`\n",
      "  submition.loc[:, i] = model.predict(x=submition_ds).flatten()\n"
     ]
    },
    {
     "name": "stdout",
     "output_type": "stream",
     "text": [
      "1/1 [==============================] - 1s 669ms/step - loss: 0.0000e+00 - accuracy: 0.9677 - binary_crossentropy: 0.2042\n",
      "##### Fold 2\n",
      "Use /tmp/tmplivg_9j0 as temporary training directory\n",
      "Reading training dataset...\n",
      "Training dataset read in 0:00:01.766357. Found 555 examples.\n",
      "Training model...\n",
      "Model trained in 0:00:00.459867\n",
      "Compiling model...\n"
     ]
    },
    {
     "name": "stderr",
     "output_type": "stream",
     "text": [
      "[INFO 23-07-09 21:44:11.4432 UTC kernel.cc:1242] Loading model from path /tmp/tmplivg_9j0/model/ with prefix 80548a7e5e544c11\n",
      "[INFO 23-07-09 21:44:11.4971 UTC decision_forest.cc:660] Model loaded with 1000 root(s), 34608 node(s), and 112 input feature(s).\n",
      "[INFO 23-07-09 21:44:11.4973 UTC kernel.cc:1074] Use fast generic engine\n"
     ]
    },
    {
     "name": "stdout",
     "output_type": "stream",
     "text": [
      "Model compiled.\n",
      "1/1 [==============================] - 0s 179ms/step\n",
      "1/1 [==============================] - 1s 727ms/step\n"
     ]
    },
    {
     "name": "stderr",
     "output_type": "stream",
     "text": [
      "/tmp/ipykernel_20/2061138087.py:61: DeprecationWarning: In a future version, `df.iloc[:, i] = newvals` will attempt to set the values inplace instead of always setting a new array. To retain the old behavior, use either `df[df.columns[i]] = newvals` or, if columns are non-unique, `df.isetitem(i, newvals)`\n",
      "  submition.loc[:, i] = model.predict(x=submition_ds).flatten()\n"
     ]
    },
    {
     "name": "stdout",
     "output_type": "stream",
     "text": [
      "1/1 [==============================] - 0s 416ms/step - loss: 0.0000e+00 - accuracy: 0.9355 - binary_crossentropy: 0.2154\n",
      "##### Fold 3\n",
      "Use /tmp/tmpucys0ozz as temporary training directory\n",
      "Reading training dataset...\n",
      "Training dataset read in 0:00:01.417227. Found 555 examples.\n",
      "Training model...\n",
      "Model trained in 0:00:00.451310\n",
      "Compiling model...\n"
     ]
    },
    {
     "name": "stderr",
     "output_type": "stream",
     "text": [
      "[INFO 23-07-09 21:44:15.6797 UTC kernel.cc:1242] Loading model from path /tmp/tmpucys0ozz/model/ with prefix 5372bb9902204cb9\n",
      "[INFO 23-07-09 21:44:15.7334 UTC decision_forest.cc:660] Model loaded with 1000 root(s), 34544 node(s), and 112 input feature(s).\n",
      "[INFO 23-07-09 21:44:15.7334 UTC abstract_model.cc:1311] Engine \"RandomForestOptPred\" built\n",
      "[INFO 23-07-09 21:44:15.7334 UTC kernel.cc:1074] Use fast generic engine\n"
     ]
    },
    {
     "name": "stdout",
     "output_type": "stream",
     "text": [
      "Model compiled.\n",
      "1/1 [==============================] - 0s 180ms/step\n",
      "1/1 [==============================] - 1s 678ms/step\n"
     ]
    },
    {
     "name": "stderr",
     "output_type": "stream",
     "text": [
      "/tmp/ipykernel_20/2061138087.py:61: DeprecationWarning: In a future version, `df.iloc[:, i] = newvals` will attempt to set the values inplace instead of always setting a new array. To retain the old behavior, use either `df[df.columns[i]] = newvals` or, if columns are non-unique, `df.isetitem(i, newvals)`\n",
      "  submition.loc[:, i] = model.predict(x=submition_ds).flatten()\n"
     ]
    },
    {
     "name": "stdout",
     "output_type": "stream",
     "text": [
      "1/1 [==============================] - 0s 402ms/step - loss: 0.0000e+00 - accuracy: 0.8548 - binary_crossentropy: 0.2748\n",
      "##### Fold 4\n",
      "Use /tmp/tmpp6oog_zx as temporary training directory\n",
      "Reading training dataset...\n",
      "Training dataset read in 0:00:01.453028. Found 555 examples.\n",
      "Training model...\n",
      "Model trained in 0:00:00.453429\n",
      "Compiling model...\n"
     ]
    },
    {
     "name": "stderr",
     "output_type": "stream",
     "text": [
      "[INFO 23-07-09 21:44:19.8898 UTC kernel.cc:1242] Loading model from path /tmp/tmpp6oog_zx/model/ with prefix 4b1f207c5bb44525\n",
      "[INFO 23-07-09 21:44:19.9464 UTC decision_forest.cc:660] Model loaded with 1000 root(s), 34348 node(s), and 112 input feature(s).\n",
      "[INFO 23-07-09 21:44:19.9465 UTC kernel.cc:1074] Use fast generic engine\n"
     ]
    },
    {
     "name": "stdout",
     "output_type": "stream",
     "text": [
      "Model compiled.\n",
      "1/1 [==============================] - 0s 188ms/step\n",
      "1/1 [==============================] - 1s 687ms/step\n"
     ]
    },
    {
     "name": "stderr",
     "output_type": "stream",
     "text": [
      "/tmp/ipykernel_20/2061138087.py:61: DeprecationWarning: In a future version, `df.iloc[:, i] = newvals` will attempt to set the values inplace instead of always setting a new array. To retain the old behavior, use either `df[df.columns[i]] = newvals` or, if columns are non-unique, `df.isetitem(i, newvals)`\n",
      "  submition.loc[:, i] = model.predict(x=submition_ds).flatten()\n"
     ]
    },
    {
     "name": "stdout",
     "output_type": "stream",
     "text": [
      "1/1 [==============================] - 0s 403ms/step - loss: 0.0000e+00 - accuracy: 0.8710 - binary_crossentropy: 0.2786\n",
      "##### Fold 5\n",
      "Use /tmp/tmpl1ue5tmk as temporary training directory\n",
      "Reading training dataset...\n",
      "Training dataset read in 0:00:01.436304. Found 555 examples.\n",
      "Training model...\n",
      "Model trained in 0:00:00.454156\n",
      "Compiling model...\n"
     ]
    },
    {
     "name": "stderr",
     "output_type": "stream",
     "text": [
      "[INFO 23-07-09 21:44:24.1179 UTC kernel.cc:1242] Loading model from path /tmp/tmpl1ue5tmk/model/ with prefix 00952987d5fc48ad\n",
      "[INFO 23-07-09 21:44:24.1737 UTC decision_forest.cc:660] Model loaded with 1000 root(s), 34704 node(s), and 112 input feature(s).\n",
      "[INFO 23-07-09 21:44:24.1738 UTC kernel.cc:1074] Use fast generic engine\n"
     ]
    },
    {
     "name": "stdout",
     "output_type": "stream",
     "text": [
      "Model compiled.\n",
      "1/1 [==============================] - 0s 178ms/step\n",
      "1/1 [==============================] - 1s 688ms/step\n"
     ]
    },
    {
     "name": "stderr",
     "output_type": "stream",
     "text": [
      "/tmp/ipykernel_20/2061138087.py:61: DeprecationWarning: In a future version, `df.iloc[:, i] = newvals` will attempt to set the values inplace instead of always setting a new array. To retain the old behavior, use either `df[df.columns[i]] = newvals` or, if columns are non-unique, `df.isetitem(i, newvals)`\n",
      "  submition.loc[:, i] = model.predict(x=submition_ds).flatten()\n"
     ]
    },
    {
     "name": "stdout",
     "output_type": "stream",
     "text": [
      "1/1 [==============================] - 0s 405ms/step - loss: 0.0000e+00 - accuracy: 0.9355 - binary_crossentropy: 0.2320\n",
      "##### Fold 6\n",
      "Use /tmp/tmpcnthug6z as temporary training directory\n",
      "Reading training dataset...\n",
      "Training dataset read in 0:00:01.429097. Found 555 examples.\n",
      "Training model...\n",
      "Model trained in 0:00:00.457473\n",
      "Compiling model...\n"
     ]
    },
    {
     "name": "stderr",
     "output_type": "stream",
     "text": [
      "[INFO 23-07-09 21:44:28.3154 UTC kernel.cc:1242] Loading model from path /tmp/tmpcnthug6z/model/ with prefix 87938af63d794e0c\n",
      "[INFO 23-07-09 21:44:28.3734 UTC decision_forest.cc:660] Model loaded with 1000 root(s), 34388 node(s), and 112 input feature(s).\n",
      "[INFO 23-07-09 21:44:28.3734 UTC abstract_model.cc:1311] Engine \"RandomForestOptPred\" built\n",
      "[INFO 23-07-09 21:44:28.3735 UTC kernel.cc:1074] Use fast generic engine\n"
     ]
    },
    {
     "name": "stdout",
     "output_type": "stream",
     "text": [
      "Model compiled.\n",
      "1/1 [==============================] - 0s 199ms/step\n",
      "1/1 [==============================] - 1s 1s/step\n"
     ]
    },
    {
     "name": "stderr",
     "output_type": "stream",
     "text": [
      "/tmp/ipykernel_20/2061138087.py:61: DeprecationWarning: In a future version, `df.iloc[:, i] = newvals` will attempt to set the values inplace instead of always setting a new array. To retain the old behavior, use either `df[df.columns[i]] = newvals` or, if columns are non-unique, `df.isetitem(i, newvals)`\n",
      "  submition.loc[:, i] = model.predict(x=submition_ds).flatten()\n"
     ]
    },
    {
     "name": "stdout",
     "output_type": "stream",
     "text": [
      "1/1 [==============================] - 0s 401ms/step - loss: 0.0000e+00 - accuracy: 0.9194 - binary_crossentropy: 0.2703\n",
      "##### Fold 7\n",
      "Use /tmp/tmpy2639i1i as temporary training directory\n",
      "Reading training dataset...\n",
      "Training dataset read in 0:00:01.423394. Found 555 examples.\n",
      "Training model...\n",
      "Model trained in 0:00:00.450073\n",
      "Compiling model...\n"
     ]
    },
    {
     "name": "stderr",
     "output_type": "stream",
     "text": [
      "[INFO 23-07-09 21:44:32.8975 UTC kernel.cc:1242] Loading model from path /tmp/tmpy2639i1i/model/ with prefix 3ec5ed1a2b814847\n",
      "[INFO 23-07-09 21:44:32.9547 UTC decision_forest.cc:660] Model loaded with 1000 root(s), 34538 node(s), and 112 input feature(s).\n",
      "[INFO 23-07-09 21:44:32.9547 UTC kernel.cc:1074] Use fast generic engine\n"
     ]
    },
    {
     "name": "stdout",
     "output_type": "stream",
     "text": [
      "Model compiled.\n",
      "1/1 [==============================] - 0s 173ms/step\n",
      "1/1 [==============================] - 1s 675ms/step\n"
     ]
    },
    {
     "name": "stderr",
     "output_type": "stream",
     "text": [
      "/tmp/ipykernel_20/2061138087.py:61: DeprecationWarning: In a future version, `df.iloc[:, i] = newvals` will attempt to set the values inplace instead of always setting a new array. To retain the old behavior, use either `df[df.columns[i]] = newvals` or, if columns are non-unique, `df.isetitem(i, newvals)`\n",
      "  submition.loc[:, i] = model.predict(x=submition_ds).flatten()\n"
     ]
    },
    {
     "name": "stdout",
     "output_type": "stream",
     "text": [
      "1/1 [==============================] - 0s 415ms/step - loss: 0.0000e+00 - accuracy: 0.9194 - binary_crossentropy: 0.2685\n",
      "##### Fold 8\n",
      "Use /tmp/tmpzdr5dtb2 as temporary training directory\n",
      "Reading training dataset...\n",
      "Training dataset read in 0:00:01.456586. Found 556 examples.\n",
      "Training model...\n",
      "Model trained in 0:00:00.456988\n",
      "Compiling model...\n"
     ]
    },
    {
     "name": "stderr",
     "output_type": "stream",
     "text": [
      "[INFO 23-07-09 21:44:37.1167 UTC kernel.cc:1242] Loading model from path /tmp/tmpzdr5dtb2/model/ with prefix 7625fa80e7ed4c4b\n",
      "[INFO 23-07-09 21:44:37.1741 UTC decision_forest.cc:660] Model loaded with 1000 root(s), 34352 node(s), and 112 input feature(s).\n",
      "[INFO 23-07-09 21:44:37.1742 UTC kernel.cc:1074] Use fast generic engine\n"
     ]
    },
    {
     "name": "stdout",
     "output_type": "stream",
     "text": [
      "Model compiled.\n",
      "1/1 [==============================] - 0s 182ms/step\n",
      "1/1 [==============================] - 1s 688ms/step\n"
     ]
    },
    {
     "name": "stderr",
     "output_type": "stream",
     "text": [
      "/tmp/ipykernel_20/2061138087.py:61: DeprecationWarning: In a future version, `df.iloc[:, i] = newvals` will attempt to set the values inplace instead of always setting a new array. To retain the old behavior, use either `df[df.columns[i]] = newvals` or, if columns are non-unique, `df.isetitem(i, newvals)`\n",
      "  submition.loc[:, i] = model.predict(x=submition_ds).flatten()\n"
     ]
    },
    {
     "name": "stdout",
     "output_type": "stream",
     "text": [
      "1/1 [==============================] - 0s 409ms/step - loss: 0.0000e+00 - accuracy: 0.9344 - binary_crossentropy: 0.2563\n",
      "##### Fold 9\n",
      "Use /tmp/tmpuqu4hil_ as temporary training directory\n",
      "Reading training dataset...\n",
      "Training dataset read in 0:00:01.436025. Found 556 examples.\n",
      "Training model...\n",
      "Model trained in 0:00:00.444343\n",
      "Compiling model...\n"
     ]
    },
    {
     "name": "stderr",
     "output_type": "stream",
     "text": [
      "[INFO 23-07-09 21:44:41.3534 UTC kernel.cc:1242] Loading model from path /tmp/tmpuqu4hil_/model/ with prefix 03f5ef088dcd4a12\n",
      "[INFO 23-07-09 21:44:41.4098 UTC decision_forest.cc:660] Model loaded with 1000 root(s), 34134 node(s), and 112 input feature(s).\n",
      "[INFO 23-07-09 21:44:41.4098 UTC abstract_model.cc:1311] Engine \"RandomForestOptPred\" built\n",
      "[INFO 23-07-09 21:44:41.4098 UTC kernel.cc:1074] Use fast generic engine\n"
     ]
    },
    {
     "name": "stdout",
     "output_type": "stream",
     "text": [
      "Model compiled.\n",
      "1/1 [==============================] - 0s 181ms/step\n",
      "1/1 [==============================] - 1s 684ms/step\n"
     ]
    },
    {
     "name": "stderr",
     "output_type": "stream",
     "text": [
      "/tmp/ipykernel_20/2061138087.py:61: DeprecationWarning: In a future version, `df.iloc[:, i] = newvals` will attempt to set the values inplace instead of always setting a new array. To retain the old behavior, use either `df[df.columns[i]] = newvals` or, if columns are non-unique, `df.isetitem(i, newvals)`\n",
      "  submition.loc[:, i] = model.predict(x=submition_ds).flatten()\n"
     ]
    },
    {
     "name": "stdout",
     "output_type": "stream",
     "text": [
      "1/1 [==============================] - 0s 405ms/step - loss: 0.0000e+00 - accuracy: 0.9180 - binary_crossentropy: 0.2567\n",
      "##### Fold 10\n",
      "Use /tmp/tmp0qedhidt as temporary training directory\n",
      "Reading training dataset...\n",
      "Training dataset read in 0:00:01.442476. Found 556 examples.\n",
      "Training model...\n",
      "Model trained in 0:00:00.442225\n",
      "Compiling model...\n"
     ]
    },
    {
     "name": "stderr",
     "output_type": "stream",
     "text": [
      "[INFO 23-07-09 21:44:45.5876 UTC kernel.cc:1242] Loading model from path /tmp/tmp0qedhidt/model/ with prefix 10e6532c5eca4f3a\n",
      "[INFO 23-07-09 21:44:45.6433 UTC decision_forest.cc:660] Model loaded with 1000 root(s), 34658 node(s), and 112 input feature(s).\n",
      "[INFO 23-07-09 21:44:45.6433 UTC kernel.cc:1074] Use fast generic engine\n"
     ]
    },
    {
     "name": "stdout",
     "output_type": "stream",
     "text": [
      "Model compiled.\n",
      "1/1 [==============================] - 0s 176ms/step\n",
      "1/1 [==============================] - 1s 681ms/step\n"
     ]
    },
    {
     "name": "stderr",
     "output_type": "stream",
     "text": [
      "/tmp/ipykernel_20/2061138087.py:61: DeprecationWarning: In a future version, `df.iloc[:, i] = newvals` will attempt to set the values inplace instead of always setting a new array. To retain the old behavior, use either `df[df.columns[i]] = newvals` or, if columns are non-unique, `df.isetitem(i, newvals)`\n",
      "  submition.loc[:, i] = model.predict(x=submition_ds).flatten()\n"
     ]
    },
    {
     "name": "stdout",
     "output_type": "stream",
     "text": [
      "1/1 [==============================] - 0s 409ms/step - loss: 0.0000e+00 - accuracy: 0.9672 - binary_crossentropy: 0.2142\n"
     ]
    }
   ],
   "source": [
    "# RandomForestModel\n",
    "submition_1, model_1,accuracy_1,cross_entropy_1 = train_model(train=train_out_1,test=test_out_1, features=out_features_1,\n",
    "                                                              n_splits=10, \n",
    "                                                              model_obj=tfdf.keras.RandomForestModel,\n",
    "                                                              model_kwargs=dict(max_depth=6, num_trees=1000),\n",
    "                                                              model_compile_kwargs=dict(metrics=[\"accuracy\", \"binary_crossentropy\"]))"
   ]
  },
  {
   "cell_type": "code",
   "execution_count": 22,
   "id": "edb0c8ce",
   "metadata": {
    "execution": {
     "iopub.execute_input": "2023-07-09T21:44:47.770757Z",
     "iopub.status.busy": "2023-07-09T21:44:47.769931Z",
     "iopub.status.idle": "2023-07-09T21:44:47.776088Z",
     "shell.execute_reply": "2023-07-09T21:44:47.774517Z"
    },
    "papermill": {
     "duration": 0.032896,
     "end_time": "2023-07-09T21:44:47.778074",
     "exception": false,
     "start_time": "2023-07-09T21:44:47.745178",
     "status": "completed"
    },
    "tags": []
   },
   "outputs": [
    {
     "name": "stdout",
     "output_type": "stream",
     "text": [
      "Type 1\n",
      "fold_1: acc: 0.9677 loss: 0.2042\n",
      "fold_2: acc: 0.9355 loss: 0.2154\n",
      "fold_3: acc: 0.8548 loss: 0.2748\n",
      "fold_4: acc: 0.8710 loss: 0.2786\n",
      "fold_5: acc: 0.9355 loss: 0.2320\n",
      "fold_6: acc: 0.9194 loss: 0.2703\n",
      "fold_7: acc: 0.9194 loss: 0.2685\n",
      "fold_8: acc: 0.9344 loss: 0.2563\n",
      "fold_9: acc: 0.9180 loss: 0.2567\n",
      "fold_10: acc: 0.9672 loss: 0.2142\n",
      "\n",
      "Average accuracy: 0.9223  Average loss: 0.2471\n"
     ]
    }
   ],
   "source": [
    "print('Type 1')\n",
    "print_average_accuracy(models=model_1, cross_entropy=cross_entropy_1, accuracy=accuracy_1)"
   ]
  },
  {
   "cell_type": "markdown",
   "id": "66f085f3",
   "metadata": {
    "papermill": {
     "duration": 0.02315,
     "end_time": "2023-07-09T21:44:47.824656",
     "exception": false,
     "start_time": "2023-07-09T21:44:47.801506",
     "status": "completed"
    },
    "tags": []
   },
   "source": [
    "# Visualize the model\n",
    "One benefit of tree-based models is that we can easily visualize them. The default number of trees used in the Random Forests is 300. We can select any tree for display.\n",
    "\n",
    "Let us pick one model from the `models` dict and select a tree for display."
   ]
  },
  {
   "cell_type": "code",
   "execution_count": 23,
   "id": "140b51b0",
   "metadata": {
    "execution": {
     "iopub.execute_input": "2023-07-09T21:44:47.871919Z",
     "iopub.status.busy": "2023-07-09T21:44:47.871538Z",
     "iopub.status.idle": "2023-07-09T21:44:47.876592Z",
     "shell.execute_reply": "2023-07-09T21:44:47.875131Z"
    },
    "papermill": {
     "duration": 0.031657,
     "end_time": "2023-07-09T21:44:47.879181",
     "exception": false,
     "start_time": "2023-07-09T21:44:47.847524",
     "status": "completed"
    },
    "tags": []
   },
   "outputs": [],
   "source": [
    "# tfdf.model_plotter.plot_model_in_colab(model_2['fold_1'], tree_idx=20, max_depth=10)"
   ]
  },
  {
   "cell_type": "markdown",
   "id": "db6af655",
   "metadata": {
    "papermill": {
     "duration": 0.023124,
     "end_time": "2023-07-09T21:44:47.925470",
     "exception": false,
     "start_time": "2023-07-09T21:44:47.902346",
     "status": "completed"
    },
    "tags": []
   },
   "source": [
    "# Evaluate the model on the Out of bag (OOB) data and the validation dataset\n",
    "\n",
    "Before training, we have manually seperated 20% of the dataset for validation named as `valid_ds`.\n",
    "\n",
    "We can also use Out of bag (OOB) score to validate our RandomForestModel.\n",
    "To train a Random Forest Model, a set of random samples from training set are choosen by the algorithm and the rest of the samples are used to finetune the model. The subset of data that is not chosen is known as Out of bag data (OOB).\n",
    "OOB score is computed on the OOB data.\n",
    "\n",
    "Read more about OOB data [here](https://developers.google.com/machine-learning/decision-forests/out-of-bag).\n",
    "\n",
    "The training logs show the `binary_crossentropy` evaluated on the out of bag dataset according to the number of trees in the model. Let us plot this for the models of each fold.\n",
    "\n",
    "Note: Smaller values are better for this hyperparameter."
   ]
  },
  {
   "cell_type": "code",
   "execution_count": 24,
   "id": "386b4db1",
   "metadata": {
    "execution": {
     "iopub.execute_input": "2023-07-09T21:44:47.974241Z",
     "iopub.status.busy": "2023-07-09T21:44:47.973856Z",
     "iopub.status.idle": "2023-07-09T21:44:47.979508Z",
     "shell.execute_reply": "2023-07-09T21:44:47.977697Z"
    },
    "papermill": {
     "duration": 0.032834,
     "end_time": "2023-07-09T21:44:47.981907",
     "exception": false,
     "start_time": "2023-07-09T21:44:47.949073",
     "status": "completed"
    },
    "tags": []
   },
   "outputs": [],
   "source": [
    "# figure, axis = plt.subplots(3, 2, figsize=(10, 10))\n",
    "# plt.subplots_adjust(hspace=0.5, wspace=0.3)\n",
    "\n",
    "# for i, fold_no in enumerate(model_2.keys()):\n",
    "#     row = i//2\n",
    "#     col = i % 2\n",
    "#     logs = model_1[fold_no].make_inspector().training_logs()\n",
    "#     axis[row, col].plot([log.num_trees for log in logs], [log.evaluation.loss for log in logs])\n",
    "#     axis[row, col].set_title(f\"Fold {i+1}\")\n",
    "#     axis[row, col].set_xlabel('Number of trees')\n",
    "#     axis[row, col].set_ylabel('Loss (out-of-bag)')\n",
    "\n",
    "# # axis[2][1].set_visible(False)\n",
    "# plt.show()"
   ]
  },
  {
   "cell_type": "markdown",
   "id": "b059130f",
   "metadata": {
    "papermill": {
     "duration": 0.022312,
     "end_time": "2023-07-09T21:44:48.027013",
     "exception": false,
     "start_time": "2023-07-09T21:44:48.004701",
     "status": "completed"
    },
    "tags": []
   },
   "source": [
    "We can also see some general stats on the OOB dataset:"
   ]
  },
  {
   "cell_type": "code",
   "execution_count": 25,
   "id": "1bb6e045",
   "metadata": {
    "execution": {
     "iopub.execute_input": "2023-07-09T21:44:48.074070Z",
     "iopub.status.busy": "2023-07-09T21:44:48.073718Z",
     "iopub.status.idle": "2023-07-09T21:44:48.078328Z",
     "shell.execute_reply": "2023-07-09T21:44:48.077052Z"
    },
    "papermill": {
     "duration": 0.030593,
     "end_time": "2023-07-09T21:44:48.080251",
     "exception": false,
     "start_time": "2023-07-09T21:44:48.049658",
     "status": "completed"
    },
    "tags": []
   },
   "outputs": [],
   "source": [
    "# for _model in model_1:\n",
    "#     inspector = model_1[_model].make_inspector()\n",
    "#     print(_model, inspector.evaluation())"
   ]
  },
  {
   "cell_type": "markdown",
   "id": "5e32ede6",
   "metadata": {
    "papermill": {
     "duration": 0.022189,
     "end_time": "2023-07-09T21:44:48.125189",
     "exception": false,
     "start_time": "2023-07-09T21:44:48.103000",
     "status": "completed"
    },
    "tags": []
   },
   "source": [
    "# Variable importances\n",
    "\n",
    "Variable importances generally indicate how much a feature contributes to the model predictions or quality. There are several ways to identify important features using TensorFlow Decision Forests. Let us pick one model from models dict and inspect it.\n",
    "\n",
    "Let us list the available `Variable Importances` for Decision Trees:"
   ]
  },
  {
   "cell_type": "code",
   "execution_count": 26,
   "id": "093c6f2a",
   "metadata": {
    "execution": {
     "iopub.execute_input": "2023-07-09T21:44:48.171972Z",
     "iopub.status.busy": "2023-07-09T21:44:48.171642Z",
     "iopub.status.idle": "2023-07-09T21:44:48.176395Z",
     "shell.execute_reply": "2023-07-09T21:44:48.175181Z"
    },
    "papermill": {
     "duration": 0.030429,
     "end_time": "2023-07-09T21:44:48.178240",
     "exception": false,
     "start_time": "2023-07-09T21:44:48.147811",
     "status": "completed"
    },
    "tags": []
   },
   "outputs": [],
   "source": [
    "# inspector = model_1['fold_1'].make_inspector()\n",
    "\n",
    "# print(f\"Available variable importances:\")\n",
    "# for importance in inspector.variable_importances().keys():\n",
    "#     print(\"\\t\", importance)"
   ]
  },
  {
   "cell_type": "markdown",
   "id": "1f196aa8",
   "metadata": {
    "papermill": {
     "duration": 0.022316,
     "end_time": "2023-07-09T21:44:48.223472",
     "exception": false,
     "start_time": "2023-07-09T21:44:48.201156",
     "status": "completed"
    },
    "tags": []
   },
   "source": [
    "As an example, let us display the important features for the Variable Importance `NUM_AS_ROOT`.\n",
    "\n",
    "The larger the importance score for `NUM_AS_ROOT`, the more impact it has on the outcome of the model.\n",
    "\n",
    "By default, the list is sorted from the most important to the least. From the output you can infer that the feature at the top of the list is used as the root node in most number of trees in the random forest than any other feature."
   ]
  },
  {
   "cell_type": "code",
   "execution_count": 27,
   "id": "8e15c3e5",
   "metadata": {
    "execution": {
     "iopub.execute_input": "2023-07-09T21:44:48.270511Z",
     "iopub.status.busy": "2023-07-09T21:44:48.269732Z",
     "iopub.status.idle": "2023-07-09T21:44:48.273094Z",
     "shell.execute_reply": "2023-07-09T21:44:48.272420Z"
    },
    "papermill": {
     "duration": 0.028841,
     "end_time": "2023-07-09T21:44:48.274801",
     "exception": false,
     "start_time": "2023-07-09T21:44:48.245960",
     "status": "completed"
    },
    "tags": []
   },
   "outputs": [],
   "source": [
    "# Each line is: (feature name, (index of the feature), importance score)\n",
    "# inspector.variable_importances()[\"NUM_AS_ROOT\"]"
   ]
  },
  {
   "cell_type": "markdown",
   "id": "14096747",
   "metadata": {
    "papermill": {
     "duration": 0.022584,
     "end_time": "2023-07-09T21:44:48.320195",
     "exception": false,
     "start_time": "2023-07-09T21:44:48.297611",
     "status": "completed"
    },
    "tags": []
   },
   "source": [
    "# Submission"
   ]
  },
  {
   "cell_type": "code",
   "execution_count": 28,
   "id": "01aaeffd",
   "metadata": {
    "execution": {
     "iopub.execute_input": "2023-07-09T21:44:48.366704Z",
     "iopub.status.busy": "2023-07-09T21:44:48.366406Z",
     "iopub.status.idle": "2023-07-09T21:44:48.652210Z",
     "shell.execute_reply": "2023-07-09T21:44:48.650714Z"
    },
    "papermill": {
     "duration": 0.311657,
     "end_time": "2023-07-09T21:44:48.654561",
     "exception": false,
     "start_time": "2023-07-09T21:44:48.342904",
     "status": "completed"
    },
    "tags": []
   },
   "outputs": [],
   "source": [
    "!rm -rf AutoML-main"
   ]
  },
  {
   "cell_type": "code",
   "execution_count": 29,
   "id": "0125d3ed",
   "metadata": {
    "execution": {
     "iopub.execute_input": "2023-07-09T21:44:48.705640Z",
     "iopub.status.busy": "2023-07-09T21:44:48.705042Z",
     "iopub.status.idle": "2023-07-09T21:44:48.720640Z",
     "shell.execute_reply": "2023-07-09T21:44:48.719397Z"
    },
    "papermill": {
     "duration": 0.045385,
     "end_time": "2023-07-09T21:44:48.723166",
     "exception": false,
     "start_time": "2023-07-09T21:44:48.677781",
     "status": "completed"
    },
    "tags": []
   },
   "outputs": [],
   "source": [
    "def create_submitions(submition: pd.DataFrame) -> pd.DataFrame:\n",
    "    \n",
    "    df = pd.DataFrame(data=np.zeros((len(submition.index),2)),index=submition.index, columns=['class_0','class_1'])\n",
    "    \n",
    "    df['class_1'] = submition_1.mean(axis=1)\n",
    "    df['class_0'] = 1 - df['class_1']\n",
    "    \n",
    "    return df\n",
    "\n",
    "submition_1_final = create_submitions(submition=submition_1)\n",
    "\n",
    "submition_1_final.to_csv('/kaggle/working/submission.csv', index=True)"
   ]
  },
  {
   "cell_type": "code",
   "execution_count": 30,
   "id": "dd4565ce",
   "metadata": {
    "execution": {
     "iopub.execute_input": "2023-07-09T21:44:48.773228Z",
     "iopub.status.busy": "2023-07-09T21:44:48.772866Z",
     "iopub.status.idle": "2023-07-09T21:44:48.783282Z",
     "shell.execute_reply": "2023-07-09T21:44:48.782233Z"
    },
    "papermill": {
     "duration": 0.03949,
     "end_time": "2023-07-09T21:44:48.785843",
     "exception": false,
     "start_time": "2023-07-09T21:44:48.746353",
     "status": "completed"
    },
    "tags": []
   },
   "outputs": [
    {
     "data": {
      "text/html": [
       "<div>\n",
       "<style scoped>\n",
       "    .dataframe tbody tr th:only-of-type {\n",
       "        vertical-align: middle;\n",
       "    }\n",
       "\n",
       "    .dataframe tbody tr th {\n",
       "        vertical-align: top;\n",
       "    }\n",
       "\n",
       "    .dataframe thead th {\n",
       "        text-align: right;\n",
       "    }\n",
       "</style>\n",
       "<table border=\"1\" class=\"dataframe\">\n",
       "  <thead>\n",
       "    <tr style=\"text-align: right;\">\n",
       "      <th></th>\n",
       "      <th>class_0</th>\n",
       "      <th>class_1</th>\n",
       "    </tr>\n",
       "    <tr>\n",
       "      <th>Id</th>\n",
       "      <th></th>\n",
       "      <th></th>\n",
       "    </tr>\n",
       "  </thead>\n",
       "  <tbody>\n",
       "    <tr>\n",
       "      <th>00eed32682bb</th>\n",
       "      <td>0.653601</td>\n",
       "      <td>0.346399</td>\n",
       "    </tr>\n",
       "    <tr>\n",
       "      <th>010ebe33f668</th>\n",
       "      <td>0.653601</td>\n",
       "      <td>0.346399</td>\n",
       "    </tr>\n",
       "    <tr>\n",
       "      <th>02fa521e1838</th>\n",
       "      <td>0.653601</td>\n",
       "      <td>0.346399</td>\n",
       "    </tr>\n",
       "    <tr>\n",
       "      <th>040e15f562a2</th>\n",
       "      <td>0.653601</td>\n",
       "      <td>0.346399</td>\n",
       "    </tr>\n",
       "    <tr>\n",
       "      <th>046e85c7cc7f</th>\n",
       "      <td>0.653601</td>\n",
       "      <td>0.346399</td>\n",
       "    </tr>\n",
       "  </tbody>\n",
       "</table>\n",
       "</div>"
      ],
      "text/plain": [
       "               class_0   class_1\n",
       "Id                              \n",
       "00eed32682bb  0.653601  0.346399\n",
       "010ebe33f668  0.653601  0.346399\n",
       "02fa521e1838  0.653601  0.346399\n",
       "040e15f562a2  0.653601  0.346399\n",
       "046e85c7cc7f  0.653601  0.346399"
      ]
     },
     "execution_count": 30,
     "metadata": {},
     "output_type": "execute_result"
    }
   ],
   "source": [
    "submition_1_final"
   ]
  }
 ],
 "metadata": {
  "kernelspec": {
   "display_name": "Python 3",
   "language": "python",
   "name": "python3"
  },
  "language_info": {
   "codemirror_mode": {
    "name": "ipython",
    "version": 3
   },
   "file_extension": ".py",
   "mimetype": "text/x-python",
   "name": "python",
   "nbconvert_exporter": "python",
   "pygments_lexer": "ipython3",
   "version": "3.10.10"
  },
  "papermill": {
   "default_parameters": {},
   "duration": 130.577443,
   "end_time": "2023-07-09T21:44:51.942139",
   "environment_variables": {},
   "exception": null,
   "input_path": "__notebook__.ipynb",
   "output_path": "__notebook__.ipynb",
   "parameters": {},
   "start_time": "2023-07-09T21:42:41.364696",
   "version": "2.4.0"
  },
  "widgets": {
   "application/vnd.jupyter.widget-state+json": {
    "state": {
     "065c3ba5ad8c46aab13a72f36bfebb1c": {
      "model_module": "@jupyter-widgets/controls",
      "model_module_version": "1.5.0",
      "model_name": "DescriptionStyleModel",
      "state": {
       "_model_module": "@jupyter-widgets/controls",
       "_model_module_version": "1.5.0",
       "_model_name": "DescriptionStyleModel",
       "_view_count": null,
       "_view_module": "@jupyter-widgets/base",
       "_view_module_version": "1.2.0",
       "_view_name": "StyleView",
       "description_width": ""
      }
     },
     "524caa6968fb4b0e8d249726278c0e91": {
      "model_module": "@jupyter-widgets/base",
      "model_module_version": "1.2.0",
      "model_name": "LayoutModel",
      "state": {
       "_model_module": "@jupyter-widgets/base",
       "_model_module_version": "1.2.0",
       "_model_name": "LayoutModel",
       "_view_count": null,
       "_view_module": "@jupyter-widgets/base",
       "_view_module_version": "1.2.0",
       "_view_name": "LayoutView",
       "align_content": null,
       "align_items": null,
       "align_self": null,
       "border": null,
       "bottom": null,
       "display": null,
       "flex": null,
       "flex_flow": null,
       "grid_area": null,
       "grid_auto_columns": null,
       "grid_auto_flow": null,
       "grid_auto_rows": null,
       "grid_column": null,
       "grid_gap": null,
       "grid_row": null,
       "grid_template_areas": null,
       "grid_template_columns": null,
       "grid_template_rows": null,
       "height": null,
       "justify_content": null,
       "justify_items": null,
       "left": null,
       "margin": null,
       "max_height": null,
       "max_width": null,
       "min_height": null,
       "min_width": null,
       "object_fit": null,
       "object_position": null,
       "order": null,
       "overflow": null,
       "overflow_x": null,
       "overflow_y": null,
       "padding": null,
       "right": null,
       "top": null,
       "visibility": null,
       "width": null
      }
     },
     "6e713b1612cc4b25b383af4a65d8e9bc": {
      "model_module": "@jupyter-widgets/controls",
      "model_module_version": "1.5.0",
      "model_name": "HBoxModel",
      "state": {
       "_dom_classes": [],
       "_model_module": "@jupyter-widgets/controls",
       "_model_module_version": "1.5.0",
       "_model_name": "HBoxModel",
       "_view_count": null,
       "_view_module": "@jupyter-widgets/controls",
       "_view_module_version": "1.5.0",
       "_view_name": "HBoxView",
       "box_style": "",
       "children": [
        "IPY_MODEL_f7be8d8e28874f51be3f74c423e2bcb9",
        "IPY_MODEL_be0079f70ad44eefada6439190de5540",
        "IPY_MODEL_f795080f31f64797ae1aa9a9b1c2c505"
       ],
       "layout": "IPY_MODEL_70d365710e004588928991273b564f8c"
      }
     },
     "70d365710e004588928991273b564f8c": {
      "model_module": "@jupyter-widgets/base",
      "model_module_version": "1.2.0",
      "model_name": "LayoutModel",
      "state": {
       "_model_module": "@jupyter-widgets/base",
       "_model_module_version": "1.2.0",
       "_model_name": "LayoutModel",
       "_view_count": null,
       "_view_module": "@jupyter-widgets/base",
       "_view_module_version": "1.2.0",
       "_view_name": "LayoutView",
       "align_content": null,
       "align_items": null,
       "align_self": null,
       "border": null,
       "bottom": null,
       "display": null,
       "flex": null,
       "flex_flow": null,
       "grid_area": null,
       "grid_auto_columns": null,
       "grid_auto_flow": null,
       "grid_auto_rows": null,
       "grid_column": null,
       "grid_gap": null,
       "grid_row": null,
       "grid_template_areas": null,
       "grid_template_columns": null,
       "grid_template_rows": null,
       "height": null,
       "justify_content": null,
       "justify_items": null,
       "left": null,
       "margin": null,
       "max_height": null,
       "max_width": null,
       "min_height": null,
       "min_width": null,
       "object_fit": null,
       "object_position": null,
       "order": null,
       "overflow": null,
       "overflow_x": null,
       "overflow_y": null,
       "padding": null,
       "right": null,
       "top": null,
       "visibility": null,
       "width": null
      }
     },
     "90b917fe225948bd9be93f78fdf06c00": {
      "model_module": "@jupyter-widgets/base",
      "model_module_version": "1.2.0",
      "model_name": "LayoutModel",
      "state": {
       "_model_module": "@jupyter-widgets/base",
       "_model_module_version": "1.2.0",
       "_model_name": "LayoutModel",
       "_view_count": null,
       "_view_module": "@jupyter-widgets/base",
       "_view_module_version": "1.2.0",
       "_view_name": "LayoutView",
       "align_content": null,
       "align_items": null,
       "align_self": null,
       "border": null,
       "bottom": null,
       "display": null,
       "flex": null,
       "flex_flow": null,
       "grid_area": null,
       "grid_auto_columns": null,
       "grid_auto_flow": null,
       "grid_auto_rows": null,
       "grid_column": null,
       "grid_gap": null,
       "grid_row": null,
       "grid_template_areas": null,
       "grid_template_columns": null,
       "grid_template_rows": null,
       "height": null,
       "justify_content": null,
       "justify_items": null,
       "left": null,
       "margin": null,
       "max_height": null,
       "max_width": null,
       "min_height": null,
       "min_width": null,
       "object_fit": null,
       "object_position": null,
       "order": null,
       "overflow": null,
       "overflow_x": null,
       "overflow_y": null,
       "padding": null,
       "right": null,
       "top": null,
       "visibility": null,
       "width": null
      }
     },
     "be0079f70ad44eefada6439190de5540": {
      "model_module": "@jupyter-widgets/controls",
      "model_module_version": "1.5.0",
      "model_name": "FloatProgressModel",
      "state": {
       "_dom_classes": [],
       "_model_module": "@jupyter-widgets/controls",
       "_model_module_version": "1.5.0",
       "_model_name": "FloatProgressModel",
       "_view_count": null,
       "_view_module": "@jupyter-widgets/controls",
       "_view_module_version": "1.5.0",
       "_view_name": "ProgressView",
       "bar_style": "success",
       "description": "",
       "description_tooltip": null,
       "layout": "IPY_MODEL_90b917fe225948bd9be93f78fdf06c00",
       "max": 56.0,
       "min": 0.0,
       "orientation": "horizontal",
       "style": "IPY_MODEL_eb7c8ae260f843e4ba3ac742b956e402",
       "value": 56.0
      }
     },
     "c59df2a8c87845029815199173e2fe39": {
      "model_module": "@jupyter-widgets/controls",
      "model_module_version": "1.5.0",
      "model_name": "DescriptionStyleModel",
      "state": {
       "_model_module": "@jupyter-widgets/controls",
       "_model_module_version": "1.5.0",
       "_model_name": "DescriptionStyleModel",
       "_view_count": null,
       "_view_module": "@jupyter-widgets/base",
       "_view_module_version": "1.2.0",
       "_view_name": "StyleView",
       "description_width": ""
      }
     },
     "d1eece62ccfa400d9e1b584f3fef6dca": {
      "model_module": "@jupyter-widgets/base",
      "model_module_version": "1.2.0",
      "model_name": "LayoutModel",
      "state": {
       "_model_module": "@jupyter-widgets/base",
       "_model_module_version": "1.2.0",
       "_model_name": "LayoutModel",
       "_view_count": null,
       "_view_module": "@jupyter-widgets/base",
       "_view_module_version": "1.2.0",
       "_view_name": "LayoutView",
       "align_content": null,
       "align_items": null,
       "align_self": null,
       "border": null,
       "bottom": null,
       "display": null,
       "flex": null,
       "flex_flow": null,
       "grid_area": null,
       "grid_auto_columns": null,
       "grid_auto_flow": null,
       "grid_auto_rows": null,
       "grid_column": null,
       "grid_gap": null,
       "grid_row": null,
       "grid_template_areas": null,
       "grid_template_columns": null,
       "grid_template_rows": null,
       "height": null,
       "justify_content": null,
       "justify_items": null,
       "left": null,
       "margin": null,
       "max_height": null,
       "max_width": null,
       "min_height": null,
       "min_width": null,
       "object_fit": null,
       "object_position": null,
       "order": null,
       "overflow": null,
       "overflow_x": null,
       "overflow_y": null,
       "padding": null,
       "right": null,
       "top": null,
       "visibility": null,
       "width": null
      }
     },
     "eb7c8ae260f843e4ba3ac742b956e402": {
      "model_module": "@jupyter-widgets/controls",
      "model_module_version": "1.5.0",
      "model_name": "ProgressStyleModel",
      "state": {
       "_model_module": "@jupyter-widgets/controls",
       "_model_module_version": "1.5.0",
       "_model_name": "ProgressStyleModel",
       "_view_count": null,
       "_view_module": "@jupyter-widgets/base",
       "_view_module_version": "1.2.0",
       "_view_name": "StyleView",
       "bar_color": null,
       "description_width": ""
      }
     },
     "f795080f31f64797ae1aa9a9b1c2c505": {
      "model_module": "@jupyter-widgets/controls",
      "model_module_version": "1.5.0",
      "model_name": "HTMLModel",
      "state": {
       "_dom_classes": [],
       "_model_module": "@jupyter-widgets/controls",
       "_model_module_version": "1.5.0",
       "_model_name": "HTMLModel",
       "_view_count": null,
       "_view_module": "@jupyter-widgets/controls",
       "_view_module_version": "1.5.0",
       "_view_name": "HTMLView",
       "description": "",
       "description_tooltip": null,
       "layout": "IPY_MODEL_d1eece62ccfa400d9e1b584f3fef6dca",
       "placeholder": "​",
       "style": "IPY_MODEL_c59df2a8c87845029815199173e2fe39",
       "value": " 56/56 [00:00&lt;00:00, 132.10it/s]"
      }
     },
     "f7be8d8e28874f51be3f74c423e2bcb9": {
      "model_module": "@jupyter-widgets/controls",
      "model_module_version": "1.5.0",
      "model_name": "HTMLModel",
      "state": {
       "_dom_classes": [],
       "_model_module": "@jupyter-widgets/controls",
       "_model_module_version": "1.5.0",
       "_model_name": "HTMLModel",
       "_view_count": null,
       "_view_module": "@jupyter-widgets/controls",
       "_view_module_version": "1.5.0",
       "_view_name": "HTMLView",
       "description": "",
       "description_tooltip": null,
       "layout": "IPY_MODEL_524caa6968fb4b0e8d249726278c0e91",
       "placeholder": "​",
       "style": "IPY_MODEL_065c3ba5ad8c46aab13a72f36bfebb1c",
       "value": "100%"
      }
     }
    },
    "version_major": 2,
    "version_minor": 0
   }
  }
 },
 "nbformat": 4,
 "nbformat_minor": 5
}
