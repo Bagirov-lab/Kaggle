{
 "cells": [
  {
   "cell_type": "markdown",
   "id": "b82e7089",
   "metadata": {
    "papermill": {
     "duration": 0.02345,
     "end_time": "2023-07-09T21:24:32.030346",
     "exception": false,
     "start_time": "2023-07-09T21:24:32.006896",
     "status": "completed"
    },
    "tags": []
   },
   "source": [
    "# Read Before"
   ]
  },
  {
   "cell_type": "markdown",
   "id": "ce8bac14",
   "metadata": {
    "papermill": {
     "duration": 0.021052,
     "end_time": "2023-07-09T21:24:32.069795",
     "exception": false,
     "start_time": "2023-07-09T21:24:32.048743",
     "status": "completed"
    },
    "tags": []
   },
   "source": [
    "- https://www.kaggle.com/code/raddar/icr-competition-analysis-and-findings/notebook"
   ]
  },
  {
   "cell_type": "markdown",
   "id": "a0e70043",
   "metadata": {
    "papermill": {
     "duration": 0.019053,
     "end_time": "2023-07-09T21:24:32.110104",
     "exception": false,
     "start_time": "2023-07-09T21:24:32.091051",
     "status": "completed"
    },
    "tags": []
   },
   "source": [
    "Plan:\n",
    "- [x] Feature Engineering (1 day)\n",
    "- [x] CV and Model Selection (1 day)\n",
    "- [x] Validation (1 day)\n",
    "- [x] Review\n",
    "- [ ] Found that some variables are constant as they represent some features for categroical column which takes only two values, so makes sense to drop them in order not overtrain. I will make split -> make two versions of model which is run if Group A (on all data), which is Group B ( which finetuned after )\n"
   ]
  },
  {
   "cell_type": "code",
   "execution_count": 1,
   "id": "6662d64f",
   "metadata": {
    "execution": {
     "iopub.execute_input": "2023-07-09T21:24:32.151866Z",
     "iopub.status.busy": "2023-07-09T21:24:32.150879Z",
     "iopub.status.idle": "2023-07-09T21:24:33.404194Z",
     "shell.execute_reply": "2023-07-09T21:24:33.402436Z"
    },
    "papermill": {
     "duration": 1.276533,
     "end_time": "2023-07-09T21:24:33.407178",
     "exception": false,
     "start_time": "2023-07-09T21:24:32.130645",
     "status": "completed"
    },
    "tags": []
   },
   "outputs": [],
   "source": [
    "!cp -R /kaggle/input/tmp-auto/AutoML-main /kaggle/working/AutoML-main"
   ]
  },
  {
   "cell_type": "code",
   "execution_count": 2,
   "id": "9cb83d51",
   "metadata": {
    "execution": {
     "iopub.execute_input": "2023-07-09T21:24:33.446775Z",
     "iopub.status.busy": "2023-07-09T21:24:33.445532Z",
     "iopub.status.idle": "2023-07-09T21:25:12.036477Z",
     "shell.execute_reply": "2023-07-09T21:25:12.034642Z"
    },
    "papermill": {
     "duration": 38.614816,
     "end_time": "2023-07-09T21:25:12.039909",
     "exception": false,
     "start_time": "2023-07-09T21:24:33.425093",
     "status": "completed"
    },
    "tags": []
   },
   "outputs": [
    {
     "name": "stdout",
     "output_type": "stream",
     "text": [
      "Processing ./AutoML-main\r\n",
      "  Preparing metadata (setup.py) ... \u001b[?25l-\b \b\\\b \bdone\r\n",
      "\u001b[?25hRequirement already satisfied: pandas>=0.25.3 in /opt/conda/lib/python3.10/site-packages (from sme-utils==0.2.0) (1.5.3)\r\n",
      "Requirement already satisfied: numpy>=1.19.3 in /opt/conda/lib/python3.10/site-packages (from sme-utils==0.2.0) (1.23.5)\r\n",
      "Requirement already satisfied: matplotlib>=3.0.1 in /opt/conda/lib/python3.10/site-packages (from sme-utils==0.2.0) (3.6.3)\r\n",
      "Requirement already satisfied: scipy>=1.5.2 in /opt/conda/lib/python3.10/site-packages (from sme-utils==0.2.0) (1.10.1)\r\n",
      "Requirement already satisfied: tqdm>=4.63.0 in /opt/conda/lib/python3.10/site-packages (from sme-utils==0.2.0) (4.64.1)\r\n",
      "Requirement already satisfied: seaborn>=0.9.0 in /opt/conda/lib/python3.10/site-packages (from sme-utils==0.2.0) (0.12.2)\r\n",
      "Requirement already satisfied: scikit-learn>=0.20.0 in /opt/conda/lib/python3.10/site-packages (from sme-utils==0.2.0) (1.2.2)\r\n",
      "Requirement already satisfied: joblib>=0.13.2 in /opt/conda/lib/python3.10/site-packages (from sme-utils==0.2.0) (1.2.0)\r\n",
      "Requirement already satisfied: plotly>=5.8.0 in /opt/conda/lib/python3.10/site-packages (from sme-utils==0.2.0) (5.14.1)\r\n",
      "Requirement already satisfied: contourpy>=1.0.1 in /opt/conda/lib/python3.10/site-packages (from matplotlib>=3.0.1->sme-utils==0.2.0) (1.0.7)\r\n",
      "Requirement already satisfied: cycler>=0.10 in /opt/conda/lib/python3.10/site-packages (from matplotlib>=3.0.1->sme-utils==0.2.0) (0.11.0)\r\n",
      "Requirement already satisfied: fonttools>=4.22.0 in /opt/conda/lib/python3.10/site-packages (from matplotlib>=3.0.1->sme-utils==0.2.0) (4.39.3)\r\n",
      "Requirement already satisfied: kiwisolver>=1.0.1 in /opt/conda/lib/python3.10/site-packages (from matplotlib>=3.0.1->sme-utils==0.2.0) (1.4.4)\r\n",
      "Requirement already satisfied: packaging>=20.0 in /opt/conda/lib/python3.10/site-packages (from matplotlib>=3.0.1->sme-utils==0.2.0) (21.3)\r\n",
      "Requirement already satisfied: pillow>=6.2.0 in /opt/conda/lib/python3.10/site-packages (from matplotlib>=3.0.1->sme-utils==0.2.0) (9.5.0)\r\n",
      "Requirement already satisfied: pyparsing>=2.2.1 in /opt/conda/lib/python3.10/site-packages (from matplotlib>=3.0.1->sme-utils==0.2.0) (3.0.9)\r\n",
      "Requirement already satisfied: python-dateutil>=2.7 in /opt/conda/lib/python3.10/site-packages (from matplotlib>=3.0.1->sme-utils==0.2.0) (2.8.2)\r\n",
      "Requirement already satisfied: pytz>=2020.1 in /opt/conda/lib/python3.10/site-packages (from pandas>=0.25.3->sme-utils==0.2.0) (2023.3)\r\n",
      "Requirement already satisfied: tenacity>=6.2.0 in /opt/conda/lib/python3.10/site-packages (from plotly>=5.8.0->sme-utils==0.2.0) (8.2.2)\r\n",
      "Requirement already satisfied: threadpoolctl>=2.0.0 in /opt/conda/lib/python3.10/site-packages (from scikit-learn>=0.20.0->sme-utils==0.2.0) (3.1.0)\r\n",
      "Requirement already satisfied: six>=1.5 in /opt/conda/lib/python3.10/site-packages (from python-dateutil>=2.7->matplotlib>=3.0.1->sme-utils==0.2.0) (1.16.0)\r\n",
      "Building wheels for collected packages: sme-utils\r\n",
      "  Building wheel for sme-utils (setup.py) ... \u001b[?25l-\b \b\\\b \b|\b \bdone\r\n",
      "\u001b[?25h  Created wheel for sme-utils: filename=sme_utils-0.2.0-py3-none-any.whl size=51501 sha256=b6813a0ed037665969de5caa572725bde4ca3931fabbca9b050d6c3b75b41bc2\r\n",
      "  Stored in directory: /root/.cache/pip/wheels/f5/a3/0c/cce8196426f85ae65fc8a012518ccef81c2be285fbb3d2f78b\r\n",
      "Successfully built sme-utils\r\n",
      "Installing collected packages: sme-utils\r\n",
      "Successfully installed sme-utils-0.2.0\r\n",
      "\u001b[33mWARNING: Running pip as the 'root' user can result in broken permissions and conflicting behaviour with the system package manager. It is recommended to use a virtual environment instead: https://pip.pypa.io/warnings/venv\u001b[0m\u001b[33m\r\n",
      "\u001b[0m"
     ]
    }
   ],
   "source": [
    "!pip install /kaggle/working/AutoML-main"
   ]
  },
  {
   "cell_type": "code",
   "execution_count": 3,
   "id": "a38343f2",
   "metadata": {
    "execution": {
     "iopub.execute_input": "2023-07-09T21:25:12.085699Z",
     "iopub.status.busy": "2023-07-09T21:25:12.085178Z",
     "iopub.status.idle": "2023-07-09T21:25:14.155968Z",
     "shell.execute_reply": "2023-07-09T21:25:14.155037Z"
    },
    "papermill": {
     "duration": 2.098171,
     "end_time": "2023-07-09T21:25:14.158884",
     "exception": false,
     "start_time": "2023-07-09T21:25:12.060713",
     "status": "completed"
    },
    "tags": []
   },
   "outputs": [],
   "source": [
    "from sme_utils.encoding_and_transforms import WOENumericalComplex "
   ]
  },
  {
   "cell_type": "markdown",
   "id": "c5cbdda4",
   "metadata": {
    "papermill": {
     "duration": 0.020702,
     "end_time": "2023-07-09T21:25:14.200810",
     "exception": false,
     "start_time": "2023-07-09T21:25:14.180108",
     "status": "completed"
    },
    "tags": []
   },
   "source": [
    "# ICR - Identifying Age-Related Conditions Dataset with TensorFlow Decision Forests"
   ]
  },
  {
   "cell_type": "markdown",
   "id": "4fb51db3",
   "metadata": {
    "papermill": {
     "duration": 0.021884,
     "end_time": "2023-07-09T21:25:14.245062",
     "exception": false,
     "start_time": "2023-07-09T21:25:14.223178",
     "status": "completed"
    },
    "tags": []
   },
   "source": [
    "This notebook walks you through how to train a baseline Random Forest model using TensorFlow Decision Forests on the ICR - Identifying Age-Related Conditions dataset made available for this competition. The goal of the model is to predict if a person has one or more of any of three medical conditions or none.\n",
    "\n",
    "Roughly, the code will look as follows:\n",
    "\n",
    "```\n",
    "import tensorflow_decision_forests as tfdf\n",
    "import pandas as pd\n",
    "\n",
    "dataset = pd.read_csv(\"project/dataset.csv\")\n",
    "tf_dataset = tfdf.keras.pd_dataframe_to_tf_dataset(dataset, label=\"my_label\")\n",
    "\n",
    "model = tfdf.keras.RandomForestModel()\n",
    "model.fit(tf_dataset)\n",
    "\n",
    "print(model.summary())\n",
    "```\n",
    "\n",
    "Decision Forests are a family of tree-based models including Random Forests and Gradient Boosted Trees. They are the best place to start when working with tabular data, and will often outperform (or provide a strong baseline) before you begin experimenting with neural networks."
   ]
  },
  {
   "cell_type": "markdown",
   "id": "0f1962c0",
   "metadata": {
    "papermill": {
     "duration": 0.021013,
     "end_time": "2023-07-09T21:25:14.286756",
     "exception": false,
     "start_time": "2023-07-09T21:25:14.265743",
     "status": "completed"
    },
    "tags": []
   },
   "source": [
    "# Import the libraries"
   ]
  },
  {
   "cell_type": "code",
   "execution_count": 4,
   "id": "94a79877",
   "metadata": {
    "execution": {
     "iopub.execute_input": "2023-07-09T21:25:14.333306Z",
     "iopub.status.busy": "2023-07-09T21:25:14.332819Z",
     "iopub.status.idle": "2023-07-09T21:25:14.338322Z",
     "shell.execute_reply": "2023-07-09T21:25:14.337032Z"
    },
    "papermill": {
     "duration": 0.031158,
     "end_time": "2023-07-09T21:25:14.340982",
     "exception": false,
     "start_time": "2023-07-09T21:25:14.309824",
     "status": "completed"
    },
    "tags": []
   },
   "outputs": [],
   "source": [
    "# !pip list"
   ]
  },
  {
   "cell_type": "code",
   "execution_count": 5,
   "id": "14511410",
   "metadata": {
    "execution": {
     "iopub.execute_input": "2023-07-09T21:25:14.382405Z",
     "iopub.status.busy": "2023-07-09T21:25:14.381705Z",
     "iopub.status.idle": "2023-07-09T21:25:25.708535Z",
     "shell.execute_reply": "2023-07-09T21:25:25.707028Z"
    },
    "papermill": {
     "duration": 11.351652,
     "end_time": "2023-07-09T21:25:25.711978",
     "exception": false,
     "start_time": "2023-07-09T21:25:14.360326",
     "status": "completed"
    },
    "tags": []
   },
   "outputs": [
    {
     "name": "stderr",
     "output_type": "stream",
     "text": [
      "/opt/conda/lib/python3.10/site-packages/tensorflow_io/python/ops/__init__.py:98: UserWarning: unable to load libtensorflow_io_plugins.so: unable to open file: libtensorflow_io_plugins.so, from paths: ['/opt/conda/lib/python3.10/site-packages/tensorflow_io/python/ops/libtensorflow_io_plugins.so']\n",
      "caused by: ['/opt/conda/lib/python3.10/site-packages/tensorflow_io/python/ops/libtensorflow_io_plugins.so: undefined symbol: _ZN3tsl6StatusC1EN10tensorflow5error4CodeESt17basic_string_viewIcSt11char_traitsIcEENS_14SourceLocationE']\n",
      "  warnings.warn(f\"unable to load libtensorflow_io_plugins.so: {e}\")\n",
      "/opt/conda/lib/python3.10/site-packages/tensorflow_io/python/ops/__init__.py:104: UserWarning: file system plugins are not loaded: unable to open file: libtensorflow_io.so, from paths: ['/opt/conda/lib/python3.10/site-packages/tensorflow_io/python/ops/libtensorflow_io.so']\n",
      "caused by: ['/opt/conda/lib/python3.10/site-packages/tensorflow_io/python/ops/libtensorflow_io.so: undefined symbol: _ZTVN10tensorflow13GcsFileSystemE']\n",
      "  warnings.warn(f\"file system plugins are not loaded: {e}\")\n"
     ]
    }
   ],
   "source": [
    "import tensorflow as tf\n",
    "import tensorflow_decision_forests as tfdf\n",
    "import keras_tuner as kt\n",
    "\n",
    "import pandas as pd\n",
    "from pandas.api.types import is_numeric_dtype\n",
    "\n",
    "import numpy as np\n",
    "import seaborn as sns\n",
    "import matplotlib.pyplot as plt\n",
    "\n",
    "from sklearn.metrics import log_loss\n",
    "from sklearn.linear_model import LogisticRegression\n",
    "from sklearn.preprocessing import Normalizer\n",
    "from sklearn.model_selection import StratifiedKFold, KFold\n",
    "\n",
    "# new\n",
    "from tqdm.notebook import tqdm"
   ]
  },
  {
   "cell_type": "markdown",
   "id": "f134c83b",
   "metadata": {
    "papermill": {
     "duration": 0.01944,
     "end_time": "2023-07-09T21:25:25.753172",
     "exception": false,
     "start_time": "2023-07-09T21:25:25.733732",
     "status": "completed"
    },
    "tags": []
   },
   "source": [
    "# Load the Dataset"
   ]
  },
  {
   "cell_type": "code",
   "execution_count": 6,
   "id": "20190a3f",
   "metadata": {
    "execution": {
     "iopub.execute_input": "2023-07-09T21:25:25.795967Z",
     "iopub.status.busy": "2023-07-09T21:25:25.795186Z",
     "iopub.status.idle": "2023-07-09T21:25:25.858132Z",
     "shell.execute_reply": "2023-07-09T21:25:25.856896Z"
    },
    "papermill": {
     "duration": 0.0875,
     "end_time": "2023-07-09T21:25:25.861114",
     "exception": false,
     "start_time": "2023-07-09T21:25:25.773614",
     "status": "completed"
    },
    "tags": []
   },
   "outputs": [
    {
     "name": "stdout",
     "output_type": "stream",
     "text": [
      "Full train dataset shape is (617, 57)\n",
      "Full test dataset shape is (5, 56)\n"
     ]
    }
   ],
   "source": [
    "dataset_df = pd.read_csv('/kaggle/input/icr-identify-age-related-conditions/train.csv', index_col='Id')\n",
    "dataset_df.columns = dataset_df.columns.str.rstrip()\n",
    "print(\"Full train dataset shape is {}\".format(dataset_df.shape))\n",
    "\n",
    "dataset_test_df = pd.read_csv('/kaggle/input/icr-identify-age-related-conditions/test.csv', index_col='Id')\n",
    "dataset_test_df.columns = dataset_test_df.columns.str.rstrip()\n",
    "print(\"Full test dataset shape is {}\".format(dataset_test_df.shape))"
   ]
  },
  {
   "cell_type": "markdown",
   "id": "021352a4",
   "metadata": {
    "papermill": {
     "duration": 0.019966,
     "end_time": "2023-07-09T21:25:25.900733",
     "exception": false,
     "start_time": "2023-07-09T21:25:25.880767",
     "status": "completed"
    },
    "tags": []
   },
   "source": [
    "The data is composed of 58 columns and 617 entries. We can see all 58 dimensions(results will be truncated since the number of columns is big) of our dataset by printing out the first 5 entries using the following code:"
   ]
  },
  {
   "cell_type": "code",
   "execution_count": 7,
   "id": "df7128c3",
   "metadata": {
    "execution": {
     "iopub.execute_input": "2023-07-09T21:25:25.946927Z",
     "iopub.status.busy": "2023-07-09T21:25:25.946475Z",
     "iopub.status.idle": "2023-07-09T21:25:25.991895Z",
     "shell.execute_reply": "2023-07-09T21:25:25.990940Z"
    },
    "papermill": {
     "duration": 0.073942,
     "end_time": "2023-07-09T21:25:25.994655",
     "exception": false,
     "start_time": "2023-07-09T21:25:25.920713",
     "status": "completed"
    },
    "tags": []
   },
   "outputs": [
    {
     "data": {
      "text/html": [
       "<div>\n",
       "<style scoped>\n",
       "    .dataframe tbody tr th:only-of-type {\n",
       "        vertical-align: middle;\n",
       "    }\n",
       "\n",
       "    .dataframe tbody tr th {\n",
       "        vertical-align: top;\n",
       "    }\n",
       "\n",
       "    .dataframe thead th {\n",
       "        text-align: right;\n",
       "    }\n",
       "</style>\n",
       "<table border=\"1\" class=\"dataframe\">\n",
       "  <thead>\n",
       "    <tr style=\"text-align: right;\">\n",
       "      <th></th>\n",
       "      <th>AB</th>\n",
       "      <th>AF</th>\n",
       "      <th>AH</th>\n",
       "      <th>AM</th>\n",
       "      <th>AR</th>\n",
       "      <th>AX</th>\n",
       "      <th>AY</th>\n",
       "      <th>AZ</th>\n",
       "      <th>BC</th>\n",
       "      <th>BD</th>\n",
       "      <th>...</th>\n",
       "      <th>FL</th>\n",
       "      <th>FR</th>\n",
       "      <th>FS</th>\n",
       "      <th>GB</th>\n",
       "      <th>GE</th>\n",
       "      <th>GF</th>\n",
       "      <th>GH</th>\n",
       "      <th>GI</th>\n",
       "      <th>GL</th>\n",
       "      <th>Class</th>\n",
       "    </tr>\n",
       "    <tr>\n",
       "      <th>Id</th>\n",
       "      <th></th>\n",
       "      <th></th>\n",
       "      <th></th>\n",
       "      <th></th>\n",
       "      <th></th>\n",
       "      <th></th>\n",
       "      <th></th>\n",
       "      <th></th>\n",
       "      <th></th>\n",
       "      <th></th>\n",
       "      <th></th>\n",
       "      <th></th>\n",
       "      <th></th>\n",
       "      <th></th>\n",
       "      <th></th>\n",
       "      <th></th>\n",
       "      <th></th>\n",
       "      <th></th>\n",
       "      <th></th>\n",
       "      <th></th>\n",
       "      <th></th>\n",
       "    </tr>\n",
       "  </thead>\n",
       "  <tbody>\n",
       "    <tr>\n",
       "      <th>000ff2bfdfe9</th>\n",
       "      <td>0.209377</td>\n",
       "      <td>3109.03329</td>\n",
       "      <td>85.200147</td>\n",
       "      <td>22.394407</td>\n",
       "      <td>8.138688</td>\n",
       "      <td>0.699861</td>\n",
       "      <td>0.025578</td>\n",
       "      <td>9.812214</td>\n",
       "      <td>5.555634</td>\n",
       "      <td>4126.58731</td>\n",
       "      <td>...</td>\n",
       "      <td>7.298162</td>\n",
       "      <td>1.73855</td>\n",
       "      <td>0.094822</td>\n",
       "      <td>11.339138</td>\n",
       "      <td>72.611063</td>\n",
       "      <td>2003.810319</td>\n",
       "      <td>22.136229</td>\n",
       "      <td>69.834944</td>\n",
       "      <td>0.120343</td>\n",
       "      <td>1</td>\n",
       "    </tr>\n",
       "    <tr>\n",
       "      <th>007255e47698</th>\n",
       "      <td>0.145282</td>\n",
       "      <td>978.76416</td>\n",
       "      <td>85.200147</td>\n",
       "      <td>36.968889</td>\n",
       "      <td>8.138688</td>\n",
       "      <td>3.632190</td>\n",
       "      <td>0.025578</td>\n",
       "      <td>13.517790</td>\n",
       "      <td>1.229900</td>\n",
       "      <td>5496.92824</td>\n",
       "      <td>...</td>\n",
       "      <td>0.173229</td>\n",
       "      <td>0.49706</td>\n",
       "      <td>0.568932</td>\n",
       "      <td>9.292698</td>\n",
       "      <td>72.611063</td>\n",
       "      <td>27981.562750</td>\n",
       "      <td>29.135430</td>\n",
       "      <td>32.131996</td>\n",
       "      <td>21.978000</td>\n",
       "      <td>0</td>\n",
       "    </tr>\n",
       "    <tr>\n",
       "      <th>013f2bd269f5</th>\n",
       "      <td>0.470030</td>\n",
       "      <td>2635.10654</td>\n",
       "      <td>85.200147</td>\n",
       "      <td>32.360553</td>\n",
       "      <td>8.138688</td>\n",
       "      <td>6.732840</td>\n",
       "      <td>0.025578</td>\n",
       "      <td>12.824570</td>\n",
       "      <td>1.229900</td>\n",
       "      <td>5135.78024</td>\n",
       "      <td>...</td>\n",
       "      <td>7.709560</td>\n",
       "      <td>0.97556</td>\n",
       "      <td>1.198821</td>\n",
       "      <td>37.077772</td>\n",
       "      <td>88.609437</td>\n",
       "      <td>13676.957810</td>\n",
       "      <td>28.022851</td>\n",
       "      <td>35.192676</td>\n",
       "      <td>0.196941</td>\n",
       "      <td>0</td>\n",
       "    </tr>\n",
       "    <tr>\n",
       "      <th>043ac50845d5</th>\n",
       "      <td>0.252107</td>\n",
       "      <td>3819.65177</td>\n",
       "      <td>120.201618</td>\n",
       "      <td>77.112203</td>\n",
       "      <td>8.138688</td>\n",
       "      <td>3.685344</td>\n",
       "      <td>0.025578</td>\n",
       "      <td>11.053708</td>\n",
       "      <td>1.229900</td>\n",
       "      <td>4169.67738</td>\n",
       "      <td>...</td>\n",
       "      <td>6.122162</td>\n",
       "      <td>0.49706</td>\n",
       "      <td>0.284466</td>\n",
       "      <td>18.529584</td>\n",
       "      <td>82.416803</td>\n",
       "      <td>2094.262452</td>\n",
       "      <td>39.948656</td>\n",
       "      <td>90.493248</td>\n",
       "      <td>0.155829</td>\n",
       "      <td>0</td>\n",
       "    </tr>\n",
       "    <tr>\n",
       "      <th>044fb8a146ec</th>\n",
       "      <td>0.380297</td>\n",
       "      <td>3733.04844</td>\n",
       "      <td>85.200147</td>\n",
       "      <td>14.103738</td>\n",
       "      <td>8.138688</td>\n",
       "      <td>3.942255</td>\n",
       "      <td>0.054810</td>\n",
       "      <td>3.396778</td>\n",
       "      <td>102.151980</td>\n",
       "      <td>5728.73412</td>\n",
       "      <td>...</td>\n",
       "      <td>8.153058</td>\n",
       "      <td>48.50134</td>\n",
       "      <td>0.121914</td>\n",
       "      <td>16.408728</td>\n",
       "      <td>146.109943</td>\n",
       "      <td>8524.370502</td>\n",
       "      <td>45.381316</td>\n",
       "      <td>36.262628</td>\n",
       "      <td>0.096614</td>\n",
       "      <td>1</td>\n",
       "    </tr>\n",
       "  </tbody>\n",
       "</table>\n",
       "<p>5 rows × 57 columns</p>\n",
       "</div>"
      ],
      "text/plain": [
       "                    AB          AF          AH         AM        AR        AX  \\\n",
       "Id                                                                              \n",
       "000ff2bfdfe9  0.209377  3109.03329   85.200147  22.394407  8.138688  0.699861   \n",
       "007255e47698  0.145282   978.76416   85.200147  36.968889  8.138688  3.632190   \n",
       "013f2bd269f5  0.470030  2635.10654   85.200147  32.360553  8.138688  6.732840   \n",
       "043ac50845d5  0.252107  3819.65177  120.201618  77.112203  8.138688  3.685344   \n",
       "044fb8a146ec  0.380297  3733.04844   85.200147  14.103738  8.138688  3.942255   \n",
       "\n",
       "                    AY         AZ          BC          BD  ...        FL  \\\n",
       "Id                                                         ...             \n",
       "000ff2bfdfe9  0.025578   9.812214    5.555634  4126.58731  ...  7.298162   \n",
       "007255e47698  0.025578  13.517790    1.229900  5496.92824  ...  0.173229   \n",
       "013f2bd269f5  0.025578  12.824570    1.229900  5135.78024  ...  7.709560   \n",
       "043ac50845d5  0.025578  11.053708    1.229900  4169.67738  ...  6.122162   \n",
       "044fb8a146ec  0.054810   3.396778  102.151980  5728.73412  ...  8.153058   \n",
       "\n",
       "                    FR        FS         GB          GE            GF  \\\n",
       "Id                                                                      \n",
       "000ff2bfdfe9   1.73855  0.094822  11.339138   72.611063   2003.810319   \n",
       "007255e47698   0.49706  0.568932   9.292698   72.611063  27981.562750   \n",
       "013f2bd269f5   0.97556  1.198821  37.077772   88.609437  13676.957810   \n",
       "043ac50845d5   0.49706  0.284466  18.529584   82.416803   2094.262452   \n",
       "044fb8a146ec  48.50134  0.121914  16.408728  146.109943   8524.370502   \n",
       "\n",
       "                     GH         GI         GL  Class  \n",
       "Id                                                    \n",
       "000ff2bfdfe9  22.136229  69.834944   0.120343      1  \n",
       "007255e47698  29.135430  32.131996  21.978000      0  \n",
       "013f2bd269f5  28.022851  35.192676   0.196941      0  \n",
       "043ac50845d5  39.948656  90.493248   0.155829      0  \n",
       "044fb8a146ec  45.381316  36.262628   0.096614      1  \n",
       "\n",
       "[5 rows x 57 columns]"
      ]
     },
     "execution_count": 7,
     "metadata": {},
     "output_type": "execute_result"
    }
   ],
   "source": [
    "dataset_df.head()"
   ]
  },
  {
   "cell_type": "markdown",
   "id": "2ef815cb",
   "metadata": {
    "papermill": {
     "duration": 0.021728,
     "end_time": "2023-07-09T21:25:26.045726",
     "exception": false,
     "start_time": "2023-07-09T21:25:26.023998",
     "status": "completed"
    },
    "tags": []
   },
   "source": [
    "`Class` is the label column indicating if a person has one or more of any of the three medical conditions (i.e,`Class 1`), or none of the three medical conditions (i.e,`Class 0`).\n",
    "Given the features of the dataset, the goal of our model is to predict the value of `Class` for any person."
   ]
  },
  {
   "cell_type": "markdown",
   "id": "57d0e0f4",
   "metadata": {
    "papermill": {
     "duration": 0.021233,
     "end_time": "2023-07-09T21:25:26.088057",
     "exception": false,
     "start_time": "2023-07-09T21:25:26.066824",
     "status": "completed"
    },
    "tags": []
   },
   "source": [
    "# Quick basic dataset exploration"
   ]
  },
  {
   "cell_type": "code",
   "execution_count": 8,
   "id": "2fa0802f",
   "metadata": {
    "execution": {
     "iopub.execute_input": "2023-07-09T21:25:26.131491Z",
     "iopub.status.busy": "2023-07-09T21:25:26.131054Z",
     "iopub.status.idle": "2023-07-09T21:25:26.135426Z",
     "shell.execute_reply": "2023-07-09T21:25:26.134595Z"
    },
    "papermill": {
     "duration": 0.028981,
     "end_time": "2023-07-09T21:25:26.137717",
     "exception": false,
     "start_time": "2023-07-09T21:25:26.108736",
     "status": "completed"
    },
    "tags": []
   },
   "outputs": [],
   "source": [
    "# dataset_df.describe()"
   ]
  },
  {
   "cell_type": "markdown",
   "id": "932904bc",
   "metadata": {
    "papermill": {
     "duration": 0.026124,
     "end_time": "2023-07-09T21:25:26.185710",
     "exception": false,
     "start_time": "2023-07-09T21:25:26.159586",
     "status": "completed"
    },
    "tags": []
   },
   "source": [
    "## Pie chart for label column: Class"
   ]
  },
  {
   "cell_type": "code",
   "execution_count": 9,
   "id": "22cadbac",
   "metadata": {
    "execution": {
     "iopub.execute_input": "2023-07-09T21:25:26.242842Z",
     "iopub.status.busy": "2023-07-09T21:25:26.242263Z",
     "iopub.status.idle": "2023-07-09T21:25:26.484520Z",
     "shell.execute_reply": "2023-07-09T21:25:26.483026Z"
    },
    "papermill": {
     "duration": 0.276528,
     "end_time": "2023-07-09T21:25:26.489267",
     "exception": false,
     "start_time": "2023-07-09T21:25:26.212739",
     "status": "completed"
    },
    "tags": []
   },
   "outputs": [
    {
     "data": {
      "image/png": "[encoded data removed]",
      "text/plain": [
       "<Figure size 640x480 with 1 Axes>"
      ]
     },
     "metadata": {},
     "output_type": "display_data"
    }
   ],
   "source": [
    "plot_df = dataset_df.Class.value_counts()\n",
    "plot_df.plot(kind=\"pie\")\n",
    "plt.show()"
   ]
  },
  {
   "cell_type": "markdown",
   "id": "6be6d888",
   "metadata": {
    "papermill": {
     "duration": 0.026876,
     "end_time": "2023-07-09T21:25:26.563468",
     "exception": false,
     "start_time": "2023-07-09T21:25:26.536592",
     "status": "completed"
    },
    "tags": []
   },
   "source": [
    "**Important**: From the pie chart we can see that the dataset is heavily imbalanced since the fraction of positive(`1`) samples is very small compared to the negative(`0`) samples."
   ]
  },
  {
   "cell_type": "markdown",
   "id": "67fbe9ac",
   "metadata": {
    "papermill": {
     "duration": 0.020644,
     "end_time": "2023-07-09T21:25:26.605735",
     "exception": false,
     "start_time": "2023-07-09T21:25:26.585091",
     "status": "completed"
    },
    "tags": []
   },
   "source": [
    "# Numerical data distribution\n",
    "\n",
    "First, we will list all the numerical columns names."
   ]
  },
  {
   "cell_type": "markdown",
   "id": "68e31cd7",
   "metadata": {
    "papermill": {
     "duration": 0.020976,
     "end_time": "2023-07-09T21:25:26.648637",
     "exception": false,
     "start_time": "2023-07-09T21:25:26.627661",
     "status": "completed"
    },
    "tags": []
   },
   "source": [
    "We will also create a list of feature columns that will be used for training. We will drop `Id` from the list since it is not needed."
   ]
  },
  {
   "cell_type": "code",
   "execution_count": 10,
   "id": "de1d8f10",
   "metadata": {
    "execution": {
     "iopub.execute_input": "2023-07-09T21:25:26.693804Z",
     "iopub.status.busy": "2023-07-09T21:25:26.693375Z",
     "iopub.status.idle": "2023-07-09T21:25:26.701702Z",
     "shell.execute_reply": "2023-07-09T21:25:26.700585Z"
    },
    "papermill": {
     "duration": 0.034066,
     "end_time": "2023-07-09T21:25:26.704125",
     "exception": false,
     "start_time": "2023-07-09T21:25:26.670059",
     "status": "completed"
    },
    "tags": []
   },
   "outputs": [
    {
     "data": {
      "text/plain": [
       "Index(['AB', 'AF', 'AH', 'AM', 'AR', 'AX', 'AY', 'AZ', 'BC', 'BD', 'BN', 'BP',\n",
       "       'BQ', 'BR', 'BZ', 'CB', 'CC', 'CD', 'CF', 'CH', 'CL', 'CR', 'CS', 'CU',\n",
       "       'CW', 'DA', 'DE', 'DF', 'DH', 'DI', 'DL', 'DN', 'DU', 'DV', 'DY', 'EB',\n",
       "       'EE', 'EG', 'EH', 'EJ', 'EL', 'EP', 'EU', 'FC', 'FD', 'FE', 'FI', 'FL',\n",
       "       'FR', 'FS', 'GB', 'GE', 'GF', 'GH', 'GI', 'GL', 'Class'],\n",
       "      dtype='object')"
      ]
     },
     "execution_count": 10,
     "metadata": {},
     "output_type": "execute_result"
    }
   ],
   "source": [
    "dataset_df.columns"
   ]
  },
  {
   "cell_type": "code",
   "execution_count": 11,
   "id": "6939c0df",
   "metadata": {
    "execution": {
     "iopub.execute_input": "2023-07-09T21:25:26.750996Z",
     "iopub.status.busy": "2023-07-09T21:25:26.750293Z",
     "iopub.status.idle": "2023-07-09T21:25:26.777196Z",
     "shell.execute_reply": "2023-07-09T21:25:26.775757Z"
    },
    "papermill": {
     "duration": 0.053106,
     "end_time": "2023-07-09T21:25:26.780549",
     "exception": false,
     "start_time": "2023-07-09T21:25:26.727443",
     "status": "completed"
    },
    "tags": []
   },
   "outputs": [
    {
     "data": {
      "text/plain": [
       "EJ  DU          EH         FD           FL          GL       \n",
       "A   0.005518    0.003042   0.296850     0.173229    21.978000    222\n",
       "B   0.006897    0.024336   0.296850     0.296625    2.376000       4\n",
       "    0.055176    0.012168   1.139904     6.443383    0.148500       3\n",
       "    0.006897    0.006084   1.027101     4.105290    0.594000       2\n",
       "    1.338018    0.091260   1.502061     5.574782    0.045928       1\n",
       "                                                                ... \n",
       "    0.482790    0.006084   1.763289     58.966209   0.008486       1\n",
       "    0.462099    0.097344   2.119509     4.333945    0.141851       1\n",
       "    0.448305    0.152100   2.172942     2.800886    0.228462       1\n",
       "                0.127764   3.004122     4.609838    0.191908       1\n",
       "    161.355315  42.569748  1578.654237  137.932739  0.177654       1\n",
       "Length: 389, dtype: int64"
      ]
     },
     "execution_count": 11,
     "metadata": {},
     "output_type": "execute_result"
    }
   ],
   "source": [
    "dataset_df[['EJ','DU','EH','FD','FL','GL']].value_counts()"
   ]
  },
  {
   "cell_type": "markdown",
   "id": "a44da2be",
   "metadata": {
    "papermill": {
     "duration": 0.021462,
     "end_time": "2023-07-09T21:25:26.823644",
     "exception": false,
     "start_time": "2023-07-09T21:25:26.802182",
     "status": "completed"
    },
    "tags": []
   },
   "source": [
    "Now let us split the dataset into training and testing datasets:"
   ]
  },
  {
   "cell_type": "markdown",
   "id": "8a58a1a4",
   "metadata": {
    "papermill": {
     "duration": 0.022593,
     "end_time": "2023-07-09T21:25:26.867314",
     "exception": false,
     "start_time": "2023-07-09T21:25:26.844721",
     "status": "completed"
    },
    "tags": []
   },
   "source": [
    "# Feature Engineering"
   ]
  },
  {
   "cell_type": "markdown",
   "id": "baefcb80",
   "metadata": {
    "papermill": {
     "duration": 0.02206,
     "end_time": "2023-07-09T21:25:26.910876",
     "exception": false,
     "start_time": "2023-07-09T21:25:26.888816",
     "status": "completed"
    },
    "tags": []
   },
   "source": [
    "## Filter Monotonic Features"
   ]
  },
  {
   "cell_type": "code",
   "execution_count": 12,
   "id": "1d9c7d26",
   "metadata": {
    "execution": {
     "iopub.execute_input": "2023-07-09T21:25:26.959471Z",
     "iopub.status.busy": "2023-07-09T21:25:26.958995Z",
     "iopub.status.idle": "2023-07-09T21:25:27.639447Z",
     "shell.execute_reply": "2023-07-09T21:25:27.638585Z"
    },
    "papermill": {
     "duration": 0.709386,
     "end_time": "2023-07-09T21:25:27.642698",
     "exception": false,
     "start_time": "2023-07-09T21:25:26.933312",
     "status": "completed"
    },
    "tags": []
   },
   "outputs": [
    {
     "data": {
      "application/vnd.jupyter.widget-view+json": {
       "model_id": "d7814e22b96d4886b83f3feb7a9a99f5",
       "version_major": 2,
       "version_minor": 0
      },
      "text/plain": [
       "  0%|          | 0/56 [00:00<?, ?it/s]"
      ]
     },
     "metadata": {},
     "output_type": "display_data"
    },
    {
     "data": {
      "text/html": [
       "<div>\n",
       "<style scoped>\n",
       "    .dataframe tbody tr th:only-of-type {\n",
       "        vertical-align: middle;\n",
       "    }\n",
       "\n",
       "    .dataframe tbody tr th {\n",
       "        vertical-align: top;\n",
       "    }\n",
       "\n",
       "    .dataframe thead th {\n",
       "        text-align: right;\n",
       "    }\n",
       "</style>\n",
       "<table border=\"1\" class=\"dataframe\">\n",
       "  <thead>\n",
       "    <tr style=\"text-align: right;\">\n",
       "      <th></th>\n",
       "      <th>nunique</th>\n",
       "      <th>na_share</th>\n",
       "      <th>dtype</th>\n",
       "      <th>correlation</th>\n",
       "      <th>min</th>\n",
       "      <th>max</th>\n",
       "      <th>std</th>\n",
       "      <th>mean</th>\n",
       "      <th>logloss</th>\n",
       "    </tr>\n",
       "  </thead>\n",
       "  <tbody>\n",
       "    <tr>\n",
       "      <th>DU</th>\n",
       "      <td>253</td>\n",
       "      <td>0.2</td>\n",
       "      <td>float64</td>\n",
       "      <td>0.26</td>\n",
       "      <td>0.005518</td>\n",
       "      <td>161.355315</td>\n",
       "      <td>9.034721</td>\n",
       "      <td>1.8029</td>\n",
       "      <td>5.55868</td>\n",
       "    </tr>\n",
       "    <tr>\n",
       "      <th>BC</th>\n",
       "      <td>259</td>\n",
       "      <td>0.0</td>\n",
       "      <td>float64</td>\n",
       "      <td>0.16</td>\n",
       "      <td>1.2299</td>\n",
       "      <td>1463.693448</td>\n",
       "      <td>65.166943</td>\n",
       "      <td>8.053012</td>\n",
       "      <td>5.724924</td>\n",
       "    </tr>\n",
       "    <tr>\n",
       "      <th>AF</th>\n",
       "      <td>599</td>\n",
       "      <td>0.0</td>\n",
       "      <td>float64</td>\n",
       "      <td>0.3</td>\n",
       "      <td>192.59328</td>\n",
       "      <td>28688.18766</td>\n",
       "      <td>2300.322717</td>\n",
       "      <td>3502.013221</td>\n",
       "      <td>5.900177</td>\n",
       "    </tr>\n",
       "    <tr>\n",
       "      <th>EH</th>\n",
       "      <td>127</td>\n",
       "      <td>0.0</td>\n",
       "      <td>float64</td>\n",
       "      <td>0.18</td>\n",
       "      <td>0.003042</td>\n",
       "      <td>42.569748</td>\n",
       "      <td>1.847499</td>\n",
       "      <td>0.305107</td>\n",
       "      <td>5.900177</td>\n",
       "    </tr>\n",
       "    <tr>\n",
       "      <th>AM</th>\n",
       "      <td>605</td>\n",
       "      <td>0.0</td>\n",
       "      <td>float64</td>\n",
       "      <td>0.24</td>\n",
       "      <td>3.177522</td>\n",
       "      <td>630.51823</td>\n",
       "      <td>69.728226</td>\n",
       "      <td>38.968552</td>\n",
       "      <td>5.900177</td>\n",
       "    </tr>\n",
       "    <tr>\n",
       "      <th>FD</th>\n",
       "      <td>337</td>\n",
       "      <td>0.0</td>\n",
       "      <td>float64</td>\n",
       "      <td>0.13</td>\n",
       "      <td>0.29685</td>\n",
       "      <td>1578.654237</td>\n",
       "      <td>64.754262</td>\n",
       "      <td>6.930086</td>\n",
       "      <td>5.900177</td>\n",
       "    </tr>\n",
       "    <tr>\n",
       "      <th>DI</th>\n",
       "      <td>571</td>\n",
       "      <td>0.0</td>\n",
       "      <td>float64</td>\n",
       "      <td>0.26</td>\n",
       "      <td>60.23247</td>\n",
       "      <td>1049.168078</td>\n",
       "      <td>86.084419</td>\n",
       "      <td>146.972099</td>\n",
       "      <td>5.900177</td>\n",
       "    </tr>\n",
       "    <tr>\n",
       "      <th>FR</th>\n",
       "      <td>435</td>\n",
       "      <td>0.0</td>\n",
       "      <td>float64</td>\n",
       "      <td>0.1</td>\n",
       "      <td>0.49706</td>\n",
       "      <td>1244.22702</td>\n",
       "      <td>50.181948</td>\n",
       "      <td>3.533905</td>\n",
       "      <td>5.900177</td>\n",
       "    </tr>\n",
       "    <tr>\n",
       "      <th>AB</th>\n",
       "      <td>217</td>\n",
       "      <td>0.0</td>\n",
       "      <td>float64</td>\n",
       "      <td>0.28</td>\n",
       "      <td>0.081187</td>\n",
       "      <td>6.161666</td>\n",
       "      <td>0.468388</td>\n",
       "      <td>0.477149</td>\n",
       "      <td>6.017012</td>\n",
       "    </tr>\n",
       "    <tr>\n",
       "      <th>CF</th>\n",
       "      <td>586</td>\n",
       "      <td>0.0</td>\n",
       "      <td>float64</td>\n",
       "      <td>0.11</td>\n",
       "      <td>0.510888</td>\n",
       "      <td>200.967526</td>\n",
       "      <td>13.571133</td>\n",
       "      <td>11.241064</td>\n",
       "      <td>6.192265</td>\n",
       "    </tr>\n",
       "    <tr>\n",
       "      <th>BZ</th>\n",
       "      <td>115</td>\n",
       "      <td>0.0</td>\n",
       "      <td>float64</td>\n",
       "      <td>0.11</td>\n",
       "      <td>257.432377</td>\n",
       "      <td>50092.4593</td>\n",
       "      <td>2076.371275</td>\n",
       "      <td>550.632525</td>\n",
       "      <td>6.192265</td>\n",
       "    </tr>\n",
       "    <tr>\n",
       "      <th>FE</th>\n",
       "      <td>615</td>\n",
       "      <td>0.0</td>\n",
       "      <td>float64</td>\n",
       "      <td>0.22</td>\n",
       "      <td>1563.136688</td>\n",
       "      <td>143224.6823</td>\n",
       "      <td>11331.294051</td>\n",
       "      <td>10306.810737</td>\n",
       "      <td>6.192265</td>\n",
       "    </tr>\n",
       "    <tr>\n",
       "      <th>AX</th>\n",
       "      <td>427</td>\n",
       "      <td>0.0</td>\n",
       "      <td>float64</td>\n",
       "      <td>0.1</td>\n",
       "      <td>0.699861</td>\n",
       "      <td>38.27088</td>\n",
       "      <td>2.551696</td>\n",
       "      <td>5.545576</td>\n",
       "      <td>6.250682</td>\n",
       "    </tr>\n",
       "    <tr>\n",
       "      <th>BR</th>\n",
       "      <td>566</td>\n",
       "      <td>0.0</td>\n",
       "      <td>float64</td>\n",
       "      <td>0.09</td>\n",
       "      <td>51.216883</td>\n",
       "      <td>179250.2529</td>\n",
       "      <td>7575.293707</td>\n",
       "      <td>1218.133238</td>\n",
       "      <td>6.250682</td>\n",
       "    </tr>\n",
       "    <tr>\n",
       "      <th>GB</th>\n",
       "      <td>560</td>\n",
       "      <td>0.0</td>\n",
       "      <td>float64</td>\n",
       "      <td>0.08</td>\n",
       "      <td>4.102182</td>\n",
       "      <td>135.781294</td>\n",
       "      <td>9.991907</td>\n",
       "      <td>20.724856</td>\n",
       "      <td>6.250682</td>\n",
       "    </tr>\n",
       "    <tr>\n",
       "      <th>AY</th>\n",
       "      <td>148</td>\n",
       "      <td>0.0</td>\n",
       "      <td>float64</td>\n",
       "      <td>0.08</td>\n",
       "      <td>0.025578</td>\n",
       "      <td>10.315851</td>\n",
       "      <td>0.416817</td>\n",
       "      <td>0.06032</td>\n",
       "      <td>6.250682</td>\n",
       "    </tr>\n",
       "    <tr>\n",
       "      <th>FC</th>\n",
       "      <td>600</td>\n",
       "      <td>0.2</td>\n",
       "      <td>float64</td>\n",
       "      <td>0.03</td>\n",
       "      <td>7.534128</td>\n",
       "      <td>3030.655824</td>\n",
       "      <td>165.551545</td>\n",
       "      <td>71.341526</td>\n",
       "      <td>6.260829</td>\n",
       "    </tr>\n",
       "    <tr>\n",
       "      <th>FS</th>\n",
       "      <td>161</td>\n",
       "      <td>0.3</td>\n",
       "      <td>float64</td>\n",
       "      <td>0.0</td>\n",
       "      <td>0.06773</td>\n",
       "      <td>31.365763</td>\n",
       "      <td>1.305365</td>\n",
       "      <td>0.421501</td>\n",
       "      <td>6.27101</td>\n",
       "    </tr>\n",
       "    <tr>\n",
       "      <th>CC</th>\n",
       "      <td>602</td>\n",
       "      <td>0.5</td>\n",
       "      <td>float64</td>\n",
       "      <td>-0.05</td>\n",
       "      <td>0.176874</td>\n",
       "      <td>4.103032</td>\n",
       "      <td>0.263994</td>\n",
       "      <td>0.688801</td>\n",
       "      <td>6.281223</td>\n",
       "    </tr>\n",
       "    <tr>\n",
       "      <th>GH</th>\n",
       "      <td>596</td>\n",
       "      <td>0.0</td>\n",
       "      <td>float64</td>\n",
       "      <td>0.03</td>\n",
       "      <td>9.432735</td>\n",
       "      <td>81.210825</td>\n",
       "      <td>9.864239</td>\n",
       "      <td>31.489716</td>\n",
       "      <td>6.3091</td>\n",
       "    </tr>\n",
       "    <tr>\n",
       "      <th>DV</th>\n",
       "      <td>39</td>\n",
       "      <td>0.0</td>\n",
       "      <td>float64</td>\n",
       "      <td>0.02</td>\n",
       "      <td>1.74307</td>\n",
       "      <td>25.19293</td>\n",
       "      <td>1.484555</td>\n",
       "      <td>1.92483</td>\n",
       "      <td>6.3091</td>\n",
       "    </tr>\n",
       "    <tr>\n",
       "      <th>DY</th>\n",
       "      <td>590</td>\n",
       "      <td>0.0</td>\n",
       "      <td>float64</td>\n",
       "      <td>0.06</td>\n",
       "      <td>0.804068</td>\n",
       "      <td>152.355164</td>\n",
       "      <td>18.116679</td>\n",
       "      <td>26.388989</td>\n",
       "      <td>6.3091</td>\n",
       "    </tr>\n",
       "    <tr>\n",
       "      <th>EE</th>\n",
       "      <td>513</td>\n",
       "      <td>0.0</td>\n",
       "      <td>float64</td>\n",
       "      <td>-0.14</td>\n",
       "      <td>0.286201</td>\n",
       "      <td>18.324926</td>\n",
       "      <td>2.058344</td>\n",
       "      <td>3.064778</td>\n",
       "      <td>6.3091</td>\n",
       "    </tr>\n",
       "    <tr>\n",
       "      <th>GE</th>\n",
       "      <td>264</td>\n",
       "      <td>0.0</td>\n",
       "      <td>float64</td>\n",
       "      <td>-0.07</td>\n",
       "      <td>72.611063</td>\n",
       "      <td>1497.351958</td>\n",
       "      <td>144.181524</td>\n",
       "      <td>131.714987</td>\n",
       "      <td>6.3091</td>\n",
       "    </tr>\n",
       "    <tr>\n",
       "      <th>AH</th>\n",
       "      <td>227</td>\n",
       "      <td>0.0</td>\n",
       "      <td>float64</td>\n",
       "      <td>0.04</td>\n",
       "      <td>85.200147</td>\n",
       "      <td>1910.123198</td>\n",
       "      <td>127.83895</td>\n",
       "      <td>118.624513</td>\n",
       "      <td>6.3091</td>\n",
       "    </tr>\n",
       "    <tr>\n",
       "      <th>DN</th>\n",
       "      <td>576</td>\n",
       "      <td>0.0</td>\n",
       "      <td>float64</td>\n",
       "      <td>-0.01</td>\n",
       "      <td>6.339496</td>\n",
       "      <td>62.808096</td>\n",
       "      <td>8.038825</td>\n",
       "      <td>26.370568</td>\n",
       "      <td>6.3091</td>\n",
       "    </tr>\n",
       "    <tr>\n",
       "      <th>EP</th>\n",
       "      <td>275</td>\n",
       "      <td>0.0</td>\n",
       "      <td>float64</td>\n",
       "      <td>-0.07</td>\n",
       "      <td>78.526968</td>\n",
       "      <td>1063.594578</td>\n",
       "      <td>68.44562</td>\n",
       "      <td>105.060712</td>\n",
       "      <td>6.3091</td>\n",
       "    </tr>\n",
       "    <tr>\n",
       "      <th>EU</th>\n",
       "      <td>455</td>\n",
       "      <td>0.0</td>\n",
       "      <td>float64</td>\n",
       "      <td>-0.04</td>\n",
       "      <td>3.828384</td>\n",
       "      <td>6501.26448</td>\n",
       "      <td>390.187057</td>\n",
       "      <td>69.117005</td>\n",
       "      <td>6.3091</td>\n",
       "    </tr>\n",
       "    <tr>\n",
       "      <th>EG</th>\n",
       "      <td>610</td>\n",
       "      <td>0.0</td>\n",
       "      <td>float64</td>\n",
       "      <td>-0.02</td>\n",
       "      <td>185.5941</td>\n",
       "      <td>30243.75878</td>\n",
       "      <td>1790.227476</td>\n",
       "      <td>1731.248215</td>\n",
       "      <td>6.3091</td>\n",
       "    </tr>\n",
       "    <tr>\n",
       "      <th>FI</th>\n",
       "      <td>498</td>\n",
       "      <td>0.0</td>\n",
       "      <td>float64</td>\n",
       "      <td>-0.09</td>\n",
       "      <td>3.58345</td>\n",
       "      <td>35.851039</td>\n",
       "      <td>2.934025</td>\n",
       "      <td>10.111079</td>\n",
       "      <td>6.3091</td>\n",
       "    </tr>\n",
       "    <tr>\n",
       "      <th>DH</th>\n",
       "      <td>191</td>\n",
       "      <td>0.0</td>\n",
       "      <td>float64</td>\n",
       "      <td>-0.21</td>\n",
       "      <td>0.040995</td>\n",
       "      <td>1.060404</td>\n",
       "      <td>0.112989</td>\n",
       "      <td>0.367002</td>\n",
       "      <td>6.3091</td>\n",
       "    </tr>\n",
       "    <tr>\n",
       "      <th>GF</th>\n",
       "      <td>611</td>\n",
       "      <td>0.0</td>\n",
       "      <td>float64</td>\n",
       "      <td>-0.13</td>\n",
       "      <td>13.038894</td>\n",
       "      <td>143790.0712</td>\n",
       "      <td>19352.959387</td>\n",
       "      <td>14679.595398</td>\n",
       "      <td>6.3091</td>\n",
       "    </tr>\n",
       "    <tr>\n",
       "      <th>GI</th>\n",
       "      <td>615</td>\n",
       "      <td>0.0</td>\n",
       "      <td>float64</td>\n",
       "      <td>0.08</td>\n",
       "      <td>0.897628</td>\n",
       "      <td>191.194764</td>\n",
       "      <td>36.266251</td>\n",
       "      <td>50.584437</td>\n",
       "      <td>6.3091</td>\n",
       "    </tr>\n",
       "    <tr>\n",
       "      <th>DE</th>\n",
       "      <td>616</td>\n",
       "      <td>0.0</td>\n",
       "      <td>float64</td>\n",
       "      <td>-0.12</td>\n",
       "      <td>35.998895</td>\n",
       "      <td>2103.40519</td>\n",
       "      <td>317.745623</td>\n",
       "      <td>401.901299</td>\n",
       "      <td>6.3091</td>\n",
       "    </tr>\n",
       "    <tr>\n",
       "      <th>DA</th>\n",
       "      <td>611</td>\n",
       "      <td>0.0</td>\n",
       "      <td>float64</td>\n",
       "      <td>-0.2</td>\n",
       "      <td>6.9064</td>\n",
       "      <td>210.33092</td>\n",
       "      <td>21.210888</td>\n",
       "      <td>51.128326</td>\n",
       "      <td>6.3091</td>\n",
       "    </tr>\n",
       "    <tr>\n",
       "      <th>CW</th>\n",
       "      <td>426</td>\n",
       "      <td>0.0</td>\n",
       "      <td>float64</td>\n",
       "      <td>-0.06</td>\n",
       "      <td>7.03064</td>\n",
       "      <td>64.521624</td>\n",
       "      <td>14.645993</td>\n",
       "      <td>27.165653</td>\n",
       "      <td>6.3091</td>\n",
       "    </tr>\n",
       "    <tr>\n",
       "      <th>CU</th>\n",
       "      <td>307</td>\n",
       "      <td>0.0</td>\n",
       "      <td>float64</td>\n",
       "      <td>-0.08</td>\n",
       "      <td>0.137925</td>\n",
       "      <td>4.951507</td>\n",
       "      <td>0.538717</td>\n",
       "      <td>1.383792</td>\n",
       "      <td>6.3091</td>\n",
       "    </tr>\n",
       "    <tr>\n",
       "      <th>AZ</th>\n",
       "      <td>484</td>\n",
       "      <td>0.0</td>\n",
       "      <td>float64</td>\n",
       "      <td>0.01</td>\n",
       "      <td>3.396778</td>\n",
       "      <td>38.971568</td>\n",
       "      <td>4.350645</td>\n",
       "      <td>10.566447</td>\n",
       "      <td>6.3091</td>\n",
       "    </tr>\n",
       "    <tr>\n",
       "      <th>CL</th>\n",
       "      <td>123</td>\n",
       "      <td>0.0</td>\n",
       "      <td>float64</td>\n",
       "      <td>0.02</td>\n",
       "      <td>1.050225</td>\n",
       "      <td>31.688153</td>\n",
       "      <td>1.92221</td>\n",
       "      <td>1.403761</td>\n",
       "      <td>6.3091</td>\n",
       "    </tr>\n",
       "    <tr>\n",
       "      <th>CH</th>\n",
       "      <td>135</td>\n",
       "      <td>0.0</td>\n",
       "      <td>float64</td>\n",
       "      <td>0.01</td>\n",
       "      <td>0.003184</td>\n",
       "      <td>0.224074</td>\n",
       "      <td>0.014808</td>\n",
       "      <td>0.030615</td>\n",
       "      <td>6.3091</td>\n",
       "    </tr>\n",
       "    <tr>\n",
       "      <th>BD</th>\n",
       "      <td>617</td>\n",
       "      <td>0.0</td>\n",
       "      <td>float64</td>\n",
       "      <td>0.11</td>\n",
       "      <td>1693.62432</td>\n",
       "      <td>53060.59924</td>\n",
       "      <td>3021.326641</td>\n",
       "      <td>5350.388655</td>\n",
       "      <td>6.3091</td>\n",
       "    </tr>\n",
       "    <tr>\n",
       "      <th>BN</th>\n",
       "      <td>53</td>\n",
       "      <td>0.0</td>\n",
       "      <td>float64</td>\n",
       "      <td>0.2</td>\n",
       "      <td>9.8868</td>\n",
       "      <td>29.3073</td>\n",
       "      <td>3.478278</td>\n",
       "      <td>21.419492</td>\n",
       "      <td>6.3091</td>\n",
       "    </tr>\n",
       "    <tr>\n",
       "      <th>DL</th>\n",
       "      <td>604</td>\n",
       "      <td>0.0</td>\n",
       "      <td>float64</td>\n",
       "      <td>-0.15</td>\n",
       "      <td>10.3456</td>\n",
       "      <td>326.2362</td>\n",
       "      <td>28.243187</td>\n",
       "      <td>94.795377</td>\n",
       "      <td>6.3091</td>\n",
       "    </tr>\n",
       "    <tr>\n",
       "      <th>CS</th>\n",
       "      <td>576</td>\n",
       "      <td>0.0</td>\n",
       "      <td>float64</td>\n",
       "      <td>-0.05</td>\n",
       "      <td>13.784111</td>\n",
       "      <td>267.942823</td>\n",
       "      <td>17.266347</td>\n",
       "      <td>36.91759</td>\n",
       "      <td>6.3091</td>\n",
       "    </tr>\n",
       "    <tr>\n",
       "      <th>FL</th>\n",
       "      <td>388</td>\n",
       "      <td>0.2</td>\n",
       "      <td>float64</td>\n",
       "      <td>0.24</td>\n",
       "      <td>0.173229</td>\n",
       "      <td>137.932739</td>\n",
       "      <td>11.496257</td>\n",
       "      <td>5.433199</td>\n",
       "      <td>6.319342</td>\n",
       "    </tr>\n",
       "    <tr>\n",
       "      <th>GL</th>\n",
       "      <td>355</td>\n",
       "      <td>0.2</td>\n",
       "      <td>float64</td>\n",
       "      <td>-0.12</td>\n",
       "      <td>0.001129</td>\n",
       "      <td>21.978</td>\n",
       "      <td>10.32701</td>\n",
       "      <td>8.530961</td>\n",
       "      <td>6.319342</td>\n",
       "    </tr>\n",
       "    <tr>\n",
       "      <th>CB</th>\n",
       "      <td>553</td>\n",
       "      <td>0.3</td>\n",
       "      <td>float64</td>\n",
       "      <td>-0.01</td>\n",
       "      <td>12.49976</td>\n",
       "      <td>2271.436167</td>\n",
       "      <td>159.049302</td>\n",
       "      <td>77.104151</td>\n",
       "      <td>6.329617</td>\n",
       "    </tr>\n",
       "    <tr>\n",
       "      <th>DF</th>\n",
       "      <td>137</td>\n",
       "      <td>0.0</td>\n",
       "      <td>float64</td>\n",
       "      <td>0.06</td>\n",
       "      <td>0.23868</td>\n",
       "      <td>37.895013</td>\n",
       "      <td>1.912384</td>\n",
       "      <td>0.633884</td>\n",
       "      <td>6.367517</td>\n",
       "    </tr>\n",
       "    <tr>\n",
       "      <th>BP</th>\n",
       "      <td>612</td>\n",
       "      <td>0.0</td>\n",
       "      <td>float64</td>\n",
       "      <td>0.16</td>\n",
       "      <td>72.948951</td>\n",
       "      <td>2447.81055</td>\n",
       "      <td>183.992505</td>\n",
       "      <td>231.322223</td>\n",
       "      <td>6.367517</td>\n",
       "    </tr>\n",
       "    <tr>\n",
       "      <th>EB</th>\n",
       "      <td>439</td>\n",
       "      <td>0.0</td>\n",
       "      <td>float64</td>\n",
       "      <td>0.09</td>\n",
       "      <td>4.926396</td>\n",
       "      <td>94.95858</td>\n",
       "      <td>6.200281</td>\n",
       "      <td>9.0727</td>\n",
       "      <td>6.425935</td>\n",
       "    </tr>\n",
       "    <tr>\n",
       "      <th>AR</th>\n",
       "      <td>130</td>\n",
       "      <td>0.0</td>\n",
       "      <td>float64</td>\n",
       "      <td>0.06</td>\n",
       "      <td>8.138688</td>\n",
       "      <td>178.943634</td>\n",
       "      <td>10.518877</td>\n",
       "      <td>10.128242</td>\n",
       "      <td>6.425935</td>\n",
       "    </tr>\n",
       "    <tr>\n",
       "      <th>CD</th>\n",
       "      <td>584</td>\n",
       "      <td>0.0</td>\n",
       "      <td>float64</td>\n",
       "      <td>0.17</td>\n",
       "      <td>23.3876</td>\n",
       "      <td>633.534408</td>\n",
       "      <td>51.58513</td>\n",
       "      <td>90.251735</td>\n",
       "      <td>6.425935</td>\n",
       "    </tr>\n",
       "    <tr>\n",
       "      <th>EL</th>\n",
       "      <td>311</td>\n",
       "      <td>10.8</td>\n",
       "      <td>float64</td>\n",
       "      <td>0.07</td>\n",
       "      <td>5.394675</td>\n",
       "      <td>109.125159</td>\n",
       "      <td>38.555707</td>\n",
       "      <td>69.582596</td>\n",
       "      <td>6.600454</td>\n",
       "    </tr>\n",
       "    <tr>\n",
       "      <th>CR</th>\n",
       "      <td>595</td>\n",
       "      <td>0.0</td>\n",
       "      <td>float64</td>\n",
       "      <td>-0.23</td>\n",
       "      <td>0.069225</td>\n",
       "      <td>3.039675</td>\n",
       "      <td>0.281195</td>\n",
       "      <td>0.742262</td>\n",
       "      <td>6.601188</td>\n",
       "    </tr>\n",
       "    <tr>\n",
       "      <th>BQ</th>\n",
       "      <td>515</td>\n",
       "      <td>10.8</td>\n",
       "      <td>float64</td>\n",
       "      <td>0.28</td>\n",
       "      <td>1.331155</td>\n",
       "      <td>344.644105</td>\n",
       "      <td>96.479371</td>\n",
       "      <td>98.328737</td>\n",
       "      <td>7.053426</td>\n",
       "    </tr>\n",
       "    <tr>\n",
       "      <th>EJ</th>\n",
       "      <td>2</td>\n",
       "      <td>0.0</td>\n",
       "      <td>object</td>\n",
       "      <td>NaN</td>\n",
       "      <td>NaN</td>\n",
       "      <td>NaN</td>\n",
       "      <td>NaN</td>\n",
       "      <td>NaN</td>\n",
       "      <td>NaN</td>\n",
       "    </tr>\n",
       "  </tbody>\n",
       "</table>\n",
       "</div>"
      ],
      "text/plain": [
       "   nunique na_share    dtype correlation          min          max  \\\n",
       "DU     253      0.2  float64        0.26     0.005518   161.355315   \n",
       "BC     259      0.0  float64        0.16       1.2299  1463.693448   \n",
       "AF     599      0.0  float64         0.3    192.59328  28688.18766   \n",
       "EH     127      0.0  float64        0.18     0.003042    42.569748   \n",
       "AM     605      0.0  float64        0.24     3.177522    630.51823   \n",
       "FD     337      0.0  float64        0.13      0.29685  1578.654237   \n",
       "DI     571      0.0  float64        0.26     60.23247  1049.168078   \n",
       "FR     435      0.0  float64         0.1      0.49706   1244.22702   \n",
       "AB     217      0.0  float64        0.28     0.081187     6.161666   \n",
       "CF     586      0.0  float64        0.11     0.510888   200.967526   \n",
       "BZ     115      0.0  float64        0.11   257.432377   50092.4593   \n",
       "FE     615      0.0  float64        0.22  1563.136688  143224.6823   \n",
       "AX     427      0.0  float64         0.1     0.699861     38.27088   \n",
       "BR     566      0.0  float64        0.09    51.216883  179250.2529   \n",
       "GB     560      0.0  float64        0.08     4.102182   135.781294   \n",
       "AY     148      0.0  float64        0.08     0.025578    10.315851   \n",
       "FC     600      0.2  float64        0.03     7.534128  3030.655824   \n",
       "FS     161      0.3  float64         0.0      0.06773    31.365763   \n",
       "CC     602      0.5  float64       -0.05     0.176874     4.103032   \n",
       "GH     596      0.0  float64        0.03     9.432735    81.210825   \n",
       "DV      39      0.0  float64        0.02      1.74307     25.19293   \n",
       "DY     590      0.0  float64        0.06     0.804068   152.355164   \n",
       "EE     513      0.0  float64       -0.14     0.286201    18.324926   \n",
       "GE     264      0.0  float64       -0.07    72.611063  1497.351958   \n",
       "AH     227      0.0  float64        0.04    85.200147  1910.123198   \n",
       "DN     576      0.0  float64       -0.01     6.339496    62.808096   \n",
       "EP     275      0.0  float64       -0.07    78.526968  1063.594578   \n",
       "EU     455      0.0  float64       -0.04     3.828384   6501.26448   \n",
       "EG     610      0.0  float64       -0.02     185.5941  30243.75878   \n",
       "FI     498      0.0  float64       -0.09      3.58345    35.851039   \n",
       "DH     191      0.0  float64       -0.21     0.040995     1.060404   \n",
       "GF     611      0.0  float64       -0.13    13.038894  143790.0712   \n",
       "GI     615      0.0  float64        0.08     0.897628   191.194764   \n",
       "DE     616      0.0  float64       -0.12    35.998895   2103.40519   \n",
       "DA     611      0.0  float64        -0.2       6.9064    210.33092   \n",
       "CW     426      0.0  float64       -0.06      7.03064    64.521624   \n",
       "CU     307      0.0  float64       -0.08     0.137925     4.951507   \n",
       "AZ     484      0.0  float64        0.01     3.396778    38.971568   \n",
       "CL     123      0.0  float64        0.02     1.050225    31.688153   \n",
       "CH     135      0.0  float64        0.01     0.003184     0.224074   \n",
       "BD     617      0.0  float64        0.11   1693.62432  53060.59924   \n",
       "BN      53      0.0  float64         0.2       9.8868      29.3073   \n",
       "DL     604      0.0  float64       -0.15      10.3456     326.2362   \n",
       "CS     576      0.0  float64       -0.05    13.784111   267.942823   \n",
       "FL     388      0.2  float64        0.24     0.173229   137.932739   \n",
       "GL     355      0.2  float64       -0.12     0.001129       21.978   \n",
       "CB     553      0.3  float64       -0.01     12.49976  2271.436167   \n",
       "DF     137      0.0  float64        0.06      0.23868    37.895013   \n",
       "BP     612      0.0  float64        0.16    72.948951   2447.81055   \n",
       "EB     439      0.0  float64        0.09     4.926396     94.95858   \n",
       "AR     130      0.0  float64        0.06     8.138688   178.943634   \n",
       "CD     584      0.0  float64        0.17      23.3876   633.534408   \n",
       "EL     311     10.8  float64        0.07     5.394675   109.125159   \n",
       "CR     595      0.0  float64       -0.23     0.069225     3.039675   \n",
       "BQ     515     10.8  float64        0.28     1.331155   344.644105   \n",
       "EJ       2      0.0   object         NaN          NaN          NaN   \n",
       "\n",
       "             std          mean   logloss  \n",
       "DU      9.034721        1.8029   5.55868  \n",
       "BC     65.166943      8.053012  5.724924  \n",
       "AF   2300.322717   3502.013221  5.900177  \n",
       "EH      1.847499      0.305107  5.900177  \n",
       "AM     69.728226     38.968552  5.900177  \n",
       "FD     64.754262      6.930086  5.900177  \n",
       "DI     86.084419    146.972099  5.900177  \n",
       "FR     50.181948      3.533905  5.900177  \n",
       "AB      0.468388      0.477149  6.017012  \n",
       "CF     13.571133     11.241064  6.192265  \n",
       "BZ   2076.371275    550.632525  6.192265  \n",
       "FE  11331.294051  10306.810737  6.192265  \n",
       "AX      2.551696      5.545576  6.250682  \n",
       "BR   7575.293707   1218.133238  6.250682  \n",
       "GB      9.991907     20.724856  6.250682  \n",
       "AY      0.416817       0.06032  6.250682  \n",
       "FC    165.551545     71.341526  6.260829  \n",
       "FS      1.305365      0.421501   6.27101  \n",
       "CC      0.263994      0.688801  6.281223  \n",
       "GH      9.864239     31.489716    6.3091  \n",
       "DV      1.484555       1.92483    6.3091  \n",
       "DY     18.116679     26.388989    6.3091  \n",
       "EE      2.058344      3.064778    6.3091  \n",
       "GE    144.181524    131.714987    6.3091  \n",
       "AH     127.83895    118.624513    6.3091  \n",
       "DN      8.038825     26.370568    6.3091  \n",
       "EP      68.44562    105.060712    6.3091  \n",
       "EU    390.187057     69.117005    6.3091  \n",
       "EG   1790.227476   1731.248215    6.3091  \n",
       "FI      2.934025     10.111079    6.3091  \n",
       "DH      0.112989      0.367002    6.3091  \n",
       "GF  19352.959387  14679.595398    6.3091  \n",
       "GI     36.266251     50.584437    6.3091  \n",
       "DE    317.745623    401.901299    6.3091  \n",
       "DA     21.210888     51.128326    6.3091  \n",
       "CW     14.645993     27.165653    6.3091  \n",
       "CU      0.538717      1.383792    6.3091  \n",
       "AZ      4.350645     10.566447    6.3091  \n",
       "CL       1.92221      1.403761    6.3091  \n",
       "CH      0.014808      0.030615    6.3091  \n",
       "BD   3021.326641   5350.388655    6.3091  \n",
       "BN      3.478278     21.419492    6.3091  \n",
       "DL     28.243187     94.795377    6.3091  \n",
       "CS     17.266347      36.91759    6.3091  \n",
       "FL     11.496257      5.433199  6.319342  \n",
       "GL      10.32701      8.530961  6.319342  \n",
       "CB    159.049302     77.104151  6.329617  \n",
       "DF      1.912384      0.633884  6.367517  \n",
       "BP    183.992505    231.322223  6.367517  \n",
       "EB      6.200281        9.0727  6.425935  \n",
       "AR     10.518877     10.128242  6.425935  \n",
       "CD      51.58513     90.251735  6.425935  \n",
       "EL     38.555707     69.582596  6.600454  \n",
       "CR      0.281195      0.742262  6.601188  \n",
       "BQ     96.479371     98.328737  7.053426  \n",
       "EJ           NaN           NaN       NaN  "
      ]
     },
     "execution_count": 12,
     "metadata": {},
     "output_type": "execute_result"
    }
   ],
   "source": [
    "def compute_basic_stats(columns, df):\n",
    "    out = {}\n",
    "    \n",
    "    for i in tqdm(columns):\n",
    "        mask = df[i].notna()\n",
    "        \n",
    "        out[i] = {'nunique':df[i].nunique(),\n",
    "                  'na_share':round(100*df[i].isna().sum()/df[i].count(),1),\n",
    "                  'dtype':df[i].dtype\n",
    "                 }\n",
    "        if is_numeric_dtype(df[i]):\n",
    "            out[i]['correlation'] = round(np.corrcoef(x=df.loc[mask,i],y=df.loc[mask,'Class'])[0,1],2)\n",
    "            out[i]['min'] = df.loc[mask,i].min()\n",
    "            out[i]['max'] = df.loc[mask,i].max()\n",
    "            out[i]['std'] = df.loc[mask,i].std()\n",
    "            out[i]['mean'] = df.loc[mask,i].mean()\n",
    "            i_lorreg = LogisticRegression()\n",
    "            X = df.loc[mask,i].values.reshape(-1,1)\n",
    "            y = df.loc[mask,'Class'].values\n",
    "            i_lorreg.fit(X=X, y=y)\n",
    "            y_pred = i_lorreg.predict(X)\n",
    "            out[i]['logloss'] = log_loss(y_true=y, y_pred=y_pred)\n",
    "            \n",
    "            \n",
    "    out = pd.DataFrame(out).T\n",
    "    \n",
    "    out = out.sort_values('logloss',ascending=True)\n",
    "    \n",
    "    return out\n",
    "\n",
    "basic_stats_1 = compute_basic_stats(\n",
    "    columns=[i for i in dataset_df.columns if i not in [\"Id\",\"Class\"]],         \n",
    "    df=dataset_df)\n",
    "\n",
    "basic_stats_1"
   ]
  },
  {
   "cell_type": "code",
   "execution_count": 13,
   "id": "d58f2d1d",
   "metadata": {
    "execution": {
     "iopub.execute_input": "2023-07-09T21:25:27.690255Z",
     "iopub.status.busy": "2023-07-09T21:25:27.689564Z",
     "iopub.status.idle": "2023-07-09T21:25:27.702855Z",
     "shell.execute_reply": "2023-07-09T21:25:27.701882Z"
    },
    "papermill": {
     "duration": 0.040194,
     "end_time": "2023-07-09T21:25:27.705424",
     "exception": false,
     "start_time": "2023-07-09T21:25:27.665230",
     "status": "completed"
    },
    "tags": []
   },
   "outputs": [
    {
     "data": {
      "text/plain": [
       "Index(['DU', 'FC', 'FS', 'CC', 'FL', 'GL', 'CB', 'EL', 'BQ'], dtype='object')"
      ]
     },
     "execution_count": 13,
     "metadata": {},
     "output_type": "execute_result"
    }
   ],
   "source": [
    "basic_stats_1.query('na_share > 0').index"
   ]
  },
  {
   "cell_type": "markdown",
   "id": "d41a6d7a",
   "metadata": {
    "papermill": {
     "duration": 0.02217,
     "end_time": "2023-07-09T21:25:27.752626",
     "exception": false,
     "start_time": "2023-07-09T21:25:27.730456",
     "status": "completed"
    },
    "tags": []
   },
   "source": [
    "* Only one variable looks constrant over the target -> better to omit it.\n",
    "* Realised Better to add LogLoss metric for each feature -> loggloss\n"
   ]
  },
  {
   "cell_type": "markdown",
   "id": "a73e7a90",
   "metadata": {
    "papermill": {
     "duration": 0.022103,
     "end_time": "2023-07-09T21:25:27.797432",
     "exception": false,
     "start_time": "2023-07-09T21:25:27.775329",
     "status": "completed"
    },
    "tags": []
   },
   "source": [
    "## Normalise Features"
   ]
  },
  {
   "cell_type": "code",
   "execution_count": 14,
   "id": "d841814f",
   "metadata": {
    "execution": {
     "iopub.execute_input": "2023-07-09T21:25:27.844994Z",
     "iopub.status.busy": "2023-07-09T21:25:27.844213Z",
     "iopub.status.idle": "2023-07-09T21:25:52.242199Z",
     "shell.execute_reply": "2023-07-09T21:25:52.240817Z"
    },
    "papermill": {
     "duration": 24.425172,
     "end_time": "2023-07-09T21:25:52.245256",
     "exception": false,
     "start_time": "2023-07-09T21:25:27.820084",
     "status": "completed"
    },
    "tags": []
   },
   "outputs": [
    {
     "name": "stderr",
     "output_type": "stream",
     "text": [
      "/tmp/ipykernel_20/393966730.py:44: PerformanceWarning: DataFrame is highly fragmented.  This is usually the result of calling `frame.insert` many times, which has poor performance.  Consider joining all columns at once using pd.concat(axis=1) instead. To get a de-fragmented frame, use `newframe = frame.copy()`\n",
      "  train_out[i + '_A'] = np.where(train_out[i] == 'A',1,0)\n",
      "/tmp/ipykernel_20/393966730.py:45: PerformanceWarning: DataFrame is highly fragmented.  This is usually the result of calling `frame.insert` many times, which has poor performance.  Consider joining all columns at once using pd.concat(axis=1) instead. To get a de-fragmented frame, use `newframe = frame.copy()`\n",
      "  test_out[i + '_A'] = np.where(test_out[i] == 'A',1,0)\n"
     ]
    }
   ],
   "source": [
    "def preprocess_1(train: pd.DataFrame, test: pd.DataFrame, stats: pd.DataFrame) -> (pd.DataFrame, pd.DataFrame, dict):\n",
    "    info = dict()\n",
    "    stats_features = stats[stats.logloss.notna()].index\n",
    "    train_out = train.copy()\n",
    "    test_out = test.copy()\n",
    "    \n",
    "    out_features = list()\n",
    "    \n",
    "    # Make WoE Columns\n",
    "    for i in stats_features:\n",
    "        if i != 'EJ':\n",
    "            tmp_woe = WOENumericalComplex()\n",
    "            tmp_woe.fit(x=train_out[i], y=train_out['Class'])\n",
    "            train_out[i + '_WoE'] = tmp_woe.transform(X=train_out[i])\n",
    "            test_out[i + '_WoE'] = tmp_woe.transform(X=test_out[i])\n",
    "            out_features.append(i + '_WoE')\n",
    "    \n",
    "    \n",
    "    # Make NA columns\n",
    "    for i in ['DU', 'FC', 'FS', 'CC', 'FL', 'GL', 'CB', 'EL', 'BQ']:\n",
    "        train_out[i+'_na'] = np.where(train_out[i].isna(),1,0)\n",
    "        test_out[i+'_na'] = np.where(test_out[i].isna(),1,0)\n",
    "        out_features.append(i + '_na')\n",
    "    \n",
    "    # Basic Logic -> normalise\n",
    "    for i in stats_features:\n",
    "        if i != 'EJ':\n",
    "\n",
    "            if stats.loc[i,'correlation'] > 0:\n",
    "                na_value = stats.loc[i,'max']\n",
    "            else:\n",
    "                na_value = stats.loc[i,'min']\n",
    "                \n",
    "            train_out[i] = train_out[i].fillna(na_value)\n",
    "            test_out[i] = test_out[i].fillna(na_value)\n",
    "            \n",
    "            train_out[i] = (train_out[i]-stats.loc[i,'mean'])/stats.loc[i,'std']\n",
    "            test_out[i] = (test_out[i]-stats.loc[i,'mean'])/stats.loc[i,'std']\n",
    "            \n",
    "            out_features.append(i)\n",
    "            \n",
    "            \n",
    "    # Addition EJ -> has only two values, so if EJ == 'A'\n",
    "    train_out[i + '_A'] = np.where(train_out[i] == 'A',1,0)\n",
    "    test_out[i + '_A'] = np.where(test_out[i] == 'A',1,0)\n",
    "    out_features.append(i + '_A')\n",
    "    \n",
    "    return train_out,test_out,out_features\n",
    "\n",
    "\n",
    "train_out_1,test_out_1,out_features_1 = preprocess_1(train=dataset_df, test=dataset_test_df, stats=basic_stats_1)"
   ]
  },
  {
   "cell_type": "code",
   "execution_count": 15,
   "id": "99b37221",
   "metadata": {
    "execution": {
     "iopub.execute_input": "2023-07-09T21:25:52.291708Z",
     "iopub.status.busy": "2023-07-09T21:25:52.291189Z",
     "iopub.status.idle": "2023-07-09T21:25:52.301919Z",
     "shell.execute_reply": "2023-07-09T21:25:52.300735Z"
    },
    "papermill": {
     "duration": 0.036779,
     "end_time": "2023-07-09T21:25:52.304180",
     "exception": false,
     "start_time": "2023-07-09T21:25:52.267401",
     "status": "completed"
    },
    "tags": []
   },
   "outputs": [
    {
     "data": {
      "text/plain": [
       "['DU_WoE',\n",
       " 'BC_WoE',\n",
       " 'AF_WoE',\n",
       " 'EH_WoE',\n",
       " 'AM_WoE',\n",
       " 'FD_WoE',\n",
       " 'DI_WoE',\n",
       " 'FR_WoE',\n",
       " 'AB_WoE',\n",
       " 'CF_WoE',\n",
       " 'BZ_WoE',\n",
       " 'FE_WoE',\n",
       " 'AX_WoE',\n",
       " 'BR_WoE',\n",
       " 'GB_WoE',\n",
       " 'AY_WoE',\n",
       " 'FC_WoE',\n",
       " 'FS_WoE',\n",
       " 'CC_WoE',\n",
       " 'GH_WoE',\n",
       " 'DV_WoE',\n",
       " 'DY_WoE',\n",
       " 'EE_WoE',\n",
       " 'GE_WoE',\n",
       " 'AH_WoE',\n",
       " 'DN_WoE',\n",
       " 'EP_WoE',\n",
       " 'EU_WoE',\n",
       " 'EG_WoE',\n",
       " 'FI_WoE',\n",
       " 'DH_WoE',\n",
       " 'GF_WoE',\n",
       " 'GI_WoE',\n",
       " 'DE_WoE',\n",
       " 'DA_WoE',\n",
       " 'CW_WoE',\n",
       " 'CU_WoE',\n",
       " 'AZ_WoE',\n",
       " 'CL_WoE',\n",
       " 'CH_WoE',\n",
       " 'BD_WoE',\n",
       " 'BN_WoE',\n",
       " 'DL_WoE',\n",
       " 'CS_WoE',\n",
       " 'FL_WoE',\n",
       " 'GL_WoE',\n",
       " 'CB_WoE',\n",
       " 'DF_WoE',\n",
       " 'BP_WoE',\n",
       " 'EB_WoE',\n",
       " 'AR_WoE',\n",
       " 'CD_WoE',\n",
       " 'EL_WoE',\n",
       " 'CR_WoE',\n",
       " 'BQ_WoE',\n",
       " 'DU_na',\n",
       " 'FC_na',\n",
       " 'FS_na',\n",
       " 'CC_na',\n",
       " 'FL_na',\n",
       " 'GL_na',\n",
       " 'CB_na',\n",
       " 'EL_na',\n",
       " 'BQ_na',\n",
       " 'DU',\n",
       " 'BC',\n",
       " 'AF',\n",
       " 'EH',\n",
       " 'AM',\n",
       " 'FD',\n",
       " 'DI',\n",
       " 'FR',\n",
       " 'AB',\n",
       " 'CF',\n",
       " 'BZ',\n",
       " 'FE',\n",
       " 'AX',\n",
       " 'BR',\n",
       " 'GB',\n",
       " 'AY',\n",
       " 'FC',\n",
       " 'FS',\n",
       " 'CC',\n",
       " 'GH',\n",
       " 'DV',\n",
       " 'DY',\n",
       " 'EE',\n",
       " 'GE',\n",
       " 'AH',\n",
       " 'DN',\n",
       " 'EP',\n",
       " 'EU',\n",
       " 'EG',\n",
       " 'FI',\n",
       " 'DH',\n",
       " 'GF',\n",
       " 'GI',\n",
       " 'DE',\n",
       " 'DA',\n",
       " 'CW',\n",
       " 'CU',\n",
       " 'AZ',\n",
       " 'CL',\n",
       " 'CH',\n",
       " 'BD',\n",
       " 'BN',\n",
       " 'DL',\n",
       " 'CS',\n",
       " 'FL',\n",
       " 'GL',\n",
       " 'CB',\n",
       " 'DF',\n",
       " 'BP',\n",
       " 'EB',\n",
       " 'AR',\n",
       " 'CD',\n",
       " 'EL',\n",
       " 'CR',\n",
       " 'BQ',\n",
       " 'BQ_A']"
      ]
     },
     "execution_count": 15,
     "metadata": {},
     "output_type": "execute_result"
    }
   ],
   "source": [
    "out_features_1"
   ]
  },
  {
   "cell_type": "markdown",
   "id": "a81aec53",
   "metadata": {
    "papermill": {
     "duration": 0.022021,
     "end_time": "2023-07-09T21:25:52.348144",
     "exception": false,
     "start_time": "2023-07-09T21:25:52.326123",
     "status": "completed"
    },
    "tags": []
   },
   "source": [
    "# KFold validation\n",
    "\n",
    "We will use KFold cross validation for training this model since the normal train/test split training won't be enough to acheive decent score.\n",
    "\n",
    "We will split the dataset into 5 consecutive folds. Each fold is then used once as a validation set while the 4 (5-1) remaining folds form the training set.\n",
    "\n",
    "Read more about KFold [here](https://scikit-learn.org/stable/modules/generated/sklearn.model_selection.KFold.html)."
   ]
  },
  {
   "cell_type": "code",
   "execution_count": 16,
   "id": "bbe367c0",
   "metadata": {
    "execution": {
     "iopub.execute_input": "2023-07-09T21:25:52.394688Z",
     "iopub.status.busy": "2023-07-09T21:25:52.394138Z",
     "iopub.status.idle": "2023-07-09T21:25:52.399785Z",
     "shell.execute_reply": "2023-07-09T21:25:52.398755Z"
    },
    "papermill": {
     "duration": 0.031831,
     "end_time": "2023-07-09T21:25:52.402117",
     "exception": false,
     "start_time": "2023-07-09T21:25:52.370286",
     "status": "completed"
    },
    "tags": []
   },
   "outputs": [],
   "source": [
    "# skf = StratifiedKFold(n_splits=8)\n",
    "# X,y = dataset_df_normalised.values.copy(),dataset_df['Class'].values.reshape(-1,1).copy()\n",
    "# for train, test in skf.split(X=X, y=y):\n",
    "#     print(f'train -  {y[train].sum()/len(y[train])}   |   test -  {y[train].sum()/len(y[train])}')"
   ]
  },
  {
   "cell_type": "markdown",
   "id": "f5999649",
   "metadata": {
    "papermill": {
     "duration": 0.021992,
     "end_time": "2023-07-09T21:25:52.446042",
     "exception": false,
     "start_time": "2023-07-09T21:25:52.424050",
     "status": "completed"
    },
    "tags": []
   },
   "source": [
    "# Out of Fold (OOF)\n",
    "\n",
    "During KFold cross validation, the predictions made on the test set of each fold is known as Out of Fold(OOF) predictions. We will estimate the performance of the model using the predictions made across all the k (5 in this example) folds.\n",
    "\n",
    "For our training loop, we will create a pandas dataframe named `oof` to store the predictions of the validation set during each fold."
   ]
  },
  {
   "cell_type": "code",
   "execution_count": 17,
   "id": "faf35651",
   "metadata": {
    "execution": {
     "iopub.execute_input": "2023-07-09T21:25:52.493908Z",
     "iopub.status.busy": "2023-07-09T21:25:52.493360Z",
     "iopub.status.idle": "2023-07-09T21:25:52.499134Z",
     "shell.execute_reply": "2023-07-09T21:25:52.497922Z"
    },
    "papermill": {
     "duration": 0.034022,
     "end_time": "2023-07-09T21:25:52.502189",
     "exception": false,
     "start_time": "2023-07-09T21:25:52.468167",
     "status": "completed"
    },
    "tags": []
   },
   "outputs": [],
   "source": [
    "# # Added to train step\n",
    "# # Create list of ids for the creation of oof dataframe.\n",
    "# ID_LIST = dataset_df.index\n",
    "\n",
    "# # Create a dataframe of required size with zero values.\n",
    "# oof = pd.DataFrame(data=np.zeros((len(ID_LIST),1)), index=ID_LIST)\n",
    "\n",
    "# # Create an empty dictionary to store the models trained for each fold.\n",
    "# models = {}\n",
    "\n",
    "# # Create empty dict to save metircs for the models trained for each fold.\n",
    "# accuracy = {}\n",
    "# cross_entropy = {}\n",
    "\n",
    "# # Save the name of the label column to a variable.\n",
    "# label = \"Class\""
   ]
  },
  {
   "cell_type": "markdown",
   "id": "969046c7",
   "metadata": {
    "papermill": {
     "duration": 0.021681,
     "end_time": "2023-07-09T21:25:52.547466",
     "exception": false,
     "start_time": "2023-07-09T21:25:52.525785",
     "status": "completed"
    },
    "tags": []
   },
   "source": [
    "# Select a Model\n",
    "\n",
    "There are several tree-based models for you to choose from.\n",
    "\n",
    "* RandomForestModel\n",
    "* GradientBoostedTreesModel\n",
    "* CartModel\n",
    "* DistributedGradientBoostedTreesModel\n",
    "\n",
    "To start, we'll work with a Random Forest. This is the most well-known of the Decision Forest training algorithms.\n",
    "\n",
    "A Random Forest is a collection of decision trees, each trained independently on a random subset of the training dataset (sampled with replacement). The algorithm is unique in that it is robust to overfitting, and easy to use.\n",
    "\n",
    "We can list the all the available models in TensorFlow Decision Forests using the following code:"
   ]
  },
  {
   "cell_type": "code",
   "execution_count": 18,
   "id": "d34c031d",
   "metadata": {
    "execution": {
     "iopub.execute_input": "2023-07-09T21:25:52.593472Z",
     "iopub.status.busy": "2023-07-09T21:25:52.593028Z",
     "iopub.status.idle": "2023-07-09T21:25:52.601219Z",
     "shell.execute_reply": "2023-07-09T21:25:52.599941Z"
    },
    "papermill": {
     "duration": 0.033959,
     "end_time": "2023-07-09T21:25:52.603441",
     "exception": false,
     "start_time": "2023-07-09T21:25:52.569482",
     "status": "completed"
    },
    "tags": []
   },
   "outputs": [
    {
     "data": {
      "text/plain": [
       "[tensorflow_decision_forests.keras.RandomForestModel,\n",
       " tensorflow_decision_forests.keras.GradientBoostedTreesModel,\n",
       " tensorflow_decision_forests.keras.CartModel,\n",
       " tensorflow_decision_forests.keras.DistributedGradientBoostedTreesModel]"
      ]
     },
     "execution_count": 18,
     "metadata": {},
     "output_type": "execute_result"
    }
   ],
   "source": [
    "tfdf.keras.get_all_models()"
   ]
  },
  {
   "cell_type": "markdown",
   "id": "fba257af",
   "metadata": {
    "papermill": {
     "duration": 0.021809,
     "end_time": "2023-07-09T21:25:52.647332",
     "exception": false,
     "start_time": "2023-07-09T21:25:52.625523",
     "status": "completed"
    },
    "tags": []
   },
   "source": [
    "# How can I configure them?\n",
    "\n",
    "TensorFlow Decision Forests provides good defaults for you (e.g. the top ranking hyperparameters on our benchmarks, slightly modified to run in reasonable time). If you would like to configure the learning algorithm, you will find many options you can explore to get a better score.\n",
    "\n",
    "You can select a template and/or set parameters as follows:\n",
    "\n",
    "```rf = tfdf.keras.RandomForestModel(hyperparameter_template=\"benchmark_rank1\")```\n",
    "\n",
    "Read more [here](https://www.tensorflow.org/decision_forests/api_docs/python/tfdf/keras/RandomForestModel)."
   ]
  },
  {
   "cell_type": "markdown",
   "id": "cc4f54e2",
   "metadata": {
    "papermill": {
     "duration": 0.022069,
     "end_time": "2023-07-09T21:25:52.691555",
     "exception": false,
     "start_time": "2023-07-09T21:25:52.669486",
     "status": "completed"
    },
    "tags": []
   },
   "source": [
    "# Hyperparameter tuning to avoid overfitting\n",
    "\n",
    "Because of the smaller size of the dataset, it is likely that the model will overfit during training.\n",
    "Numerous parameters, primarily `max_depth` and `num_trees` can be changed to fine-tune the model and prevent overfitting.\n",
    "\n",
    "The attribute`max_depth` indicates the maximum depth of the tree. To avoid overfitting, we can try to reduce the depth of the tree from it's default value, which is `16`. Another way to tackle overfitting is to increase the number of individual decision trees. To do this, we have to increase the value of the parameter `num_trees` from its default value(`300`).\n",
    "\n",
    "You can set these parameters as follows:\n",
    "\n",
    "```rf = tfdf.keras.RandomForestModel(max_depth=5, num_trees=500)```"
   ]
  },
  {
   "cell_type": "markdown",
   "id": "cb72eb7f",
   "metadata": {
    "papermill": {
     "duration": 0.021994,
     "end_time": "2023-07-09T21:25:52.735709",
     "exception": false,
     "start_time": "2023-07-09T21:25:52.713715",
     "status": "completed"
    },
    "tags": []
   },
   "source": [
    "# Strategies to handle the dataset imbalance\n",
    "\n",
    "Let's examine the fraction of positive and negative samples in this dataset's  by examining the`Class` column."
   ]
  },
  {
   "cell_type": "code",
   "execution_count": 19,
   "id": "f33dd85d",
   "metadata": {
    "execution": {
     "iopub.execute_input": "2023-07-09T21:25:52.784081Z",
     "iopub.status.busy": "2023-07-09T21:25:52.783616Z",
     "iopub.status.idle": "2023-07-09T21:25:52.789241Z",
     "shell.execute_reply": "2023-07-09T21:25:52.787511Z"
    },
    "papermill": {
     "duration": 0.032602,
     "end_time": "2023-07-09T21:25:52.791666",
     "exception": false,
     "start_time": "2023-07-09T21:25:52.759064",
     "status": "completed"
    },
    "tags": []
   },
   "outputs": [],
   "source": [
    "# # Calculate the number of negative and positive values in `Class` column\n",
    "# neg, pos = np.bincount(dataset_df['Class'])\n",
    "# # Calculate total samples\n",
    "# total = neg + pos\n",
    "# print('Examples:\\n    Total: {}\\n    Positive: {} ({:.2f}% of total)\\n'.format(total, pos, 100 * pos / total))"
   ]
  },
  {
   "cell_type": "markdown",
   "id": "8a4c4f7b",
   "metadata": {
    "papermill": {
     "duration": 0.021967,
     "end_time": "2023-07-09T21:25:52.835830",
     "exception": false,
     "start_time": "2023-07-09T21:25:52.813863",
     "status": "completed"
    },
    "tags": []
   },
   "source": [
    "As we can see, positive samples only account for 17.50% of the data. This means that our datastet is heavily imbalanced.\n",
    "\n",
    "In classification problems with imbalanced datasets, a model tends to be more biased towards the majority class leading to the model performing poorly on the samples belonging to the minority class."
   ]
  },
  {
   "cell_type": "markdown",
   "id": "bb16425e",
   "metadata": {
    "papermill": {
     "duration": 0.022165,
     "end_time": "2023-07-09T21:25:52.880706",
     "exception": false,
     "start_time": "2023-07-09T21:25:52.858541",
     "status": "completed"
    },
    "tags": []
   },
   "source": [
    "There are many techniques for dealing with imbalanced data. The most suitable techniques for this dataset are:\n",
    "\n",
    "* Undersampling\n",
    "* Class weighting\n",
    "\n",
    "In this notebook we will use **Class weighting** to deal with imbalanced data. But first, we will quickly outline how undersampling can be performed."
   ]
  },
  {
   "cell_type": "markdown",
   "id": "737017b5",
   "metadata": {
    "papermill": {
     "duration": 0.022867,
     "end_time": "2023-07-09T21:25:52.925894",
     "exception": false,
     "start_time": "2023-07-09T21:25:52.903027",
     "status": "completed"
    },
    "tags": []
   },
   "source": [
    "# Undersampling\n",
    "\n",
    "One approach to deal with an imbalanced dataset would be to under-sample the majority class(es) by choosing a smaller subset of the majority class samples(negative or `0` class in this case) from the dataset rather than picking the entire data.\n",
    "\n",
    "Note: You have to loop through the dataset and try different random subsets for a better score.\n",
    "\n",
    "The code snippet below illustrates how to perform undersampling.\n",
    "\n",
    "```\n",
    "# This function generates undersampled dataset.\n",
    "def random_under_sampler(df):\n",
    "    # Calculate the number of samples for each label. \n",
    "    neg, pos = np.bincount(df['Class'])\n",
    "\n",
    "    # Choose the samples with class label `1`.\n",
    "    one_df = df.loc[df['Class'] == 1] \n",
    "    # Choose the samples with class label `0`.\n",
    "    zero_df = df.loc[df['Class'] == 0]\n",
    "    # Select `pos` number of negative samples.\n",
    "    # This makes sure that we have equal number of samples for each label.\n",
    "    zero_df = zero_df.sample(n=pos)\n",
    "\n",
    "    # Join both label dataframes.\n",
    "    undersampled_df = pd.concat([zero_df, one_df])\n",
    "\n",
    "    # Shuffle the data and return\n",
    "    return undersampled_df.sample(frac = 1)\n",
    "```"
   ]
  },
  {
   "cell_type": "markdown",
   "id": "29f249ff",
   "metadata": {
    "papermill": {
     "duration": 0.022217,
     "end_time": "2023-07-09T21:25:52.970461",
     "exception": false,
     "start_time": "2023-07-09T21:25:52.948244",
     "status": "completed"
    },
    "tags": []
   },
   "source": [
    "# Class weighting\n",
    "\n",
    "Since the postive(`1`) `Class` labels are only a small fraction of the dataset, we would want the classifier to heavily weight those examples. You can do this by passing **Keras weights** for each class through a parameter. This will cause the model to \"pay more attention\" to examples from an under-represented class. Read more about class weights [here](https://www.tensorflow.org/tutorials/structured_data/imbalanced_data#class_weights)."
   ]
  },
  {
   "cell_type": "code",
   "execution_count": 20,
   "id": "ec9f6d31",
   "metadata": {
    "execution": {
     "iopub.execute_input": "2023-07-09T21:25:53.021570Z",
     "iopub.status.busy": "2023-07-09T21:25:53.021100Z",
     "iopub.status.idle": "2023-07-09T21:25:53.026672Z",
     "shell.execute_reply": "2023-07-09T21:25:53.025323Z"
    },
    "papermill": {
     "duration": 0.035623,
     "end_time": "2023-07-09T21:25:53.028986",
     "exception": false,
     "start_time": "2023-07-09T21:25:52.993363",
     "status": "completed"
    },
    "tags": []
   },
   "outputs": [],
   "source": [
    "# # Added to Train Step\n",
    "# # Calculate the number of samples for each label.\n",
    "# neg, pos = np.bincount(dataset_df['Class'])\n",
    "\n",
    "# # Calculate total samples.\n",
    "# total = neg + pos\n",
    "\n",
    "# # Calculate the weight for each label.\n",
    "# weight_for_0 = (1 / neg) * (total / 2.0)\n",
    "# weight_for_1 = (1 / pos) * (total / 2.0)\n",
    "\n",
    "# class_weight = {0: weight_for_0, 1: weight_for_1}\n",
    "\n",
    "# print('Weight for class 0: {:.2f}'.format(weight_for_0))\n",
    "# print('Weight for class 1: {:.2f}'.format(weight_for_1))"
   ]
  },
  {
   "cell_type": "markdown",
   "id": "585118b4",
   "metadata": {
    "papermill": {
     "duration": 0.022008,
     "end_time": "2023-07-09T21:25:53.073280",
     "exception": false,
     "start_time": "2023-07-09T21:25:53.051272",
     "status": "completed"
    },
    "tags": []
   },
   "source": [
    "To train and evaluate the models using class weights, use the dict in model.fit() as an argument as shown below.\n",
    "\n",
    "```model.fit(x=train_ds, class_weight=class_weight)```"
   ]
  },
  {
   "cell_type": "markdown",
   "id": "fcdd57c3",
   "metadata": {
    "papermill": {
     "duration": 0.021924,
     "end_time": "2023-07-09T21:25:53.117490",
     "exception": false,
     "start_time": "2023-07-09T21:25:53.095566",
     "status": "completed"
    },
    "tags": []
   },
   "source": [
    "# Train Random Forest Model\n",
    "\n",
    "Today, we will use the defaults to create the Random Forest Model. By default the model is set to train for a classification task.\n",
    "We will train a model for each fold and after training we will store the model and metrics. Here, we have chosen `accuracy` and `binary_crossentropy` as the metrics."
   ]
  },
  {
   "cell_type": "code",
   "execution_count": 21,
   "id": "68b1bbb1",
   "metadata": {
    "execution": {
     "iopub.execute_input": "2023-07-09T21:25:53.165201Z",
     "iopub.status.busy": "2023-07-09T21:25:53.164662Z",
     "iopub.status.idle": "2023-07-09T21:25:53.186586Z",
     "shell.execute_reply": "2023-07-09T21:25:53.185255Z"
    },
    "papermill": {
     "duration": 0.04951,
     "end_time": "2023-07-09T21:25:53.189585",
     "exception": false,
     "start_time": "2023-07-09T21:25:53.140075",
     "status": "completed"
    },
    "tags": []
   },
   "outputs": [],
   "source": [
    "def train_model(train: pd.DataFrame, test: pd.DataFrame, features: list, label = \"Class\",\n",
    "                n_splits: int = 6,\n",
    "                model_obj = tfdf.keras.RandomForestModel,\n",
    "                model_kwargs = dict(),\n",
    "                model_compile_kwargs = dict()) -> (pd.DataFrame, pd.DataFrame, pd.DataFrame, dict):\n",
    "\n",
    "    # Create a dataframe of required size with zero values.\n",
    "    oof = pd.DataFrame(data=np.zeros((len(train.index),1)), index=train.index)\n",
    "    submition = pd.DataFrame(data=np.zeros((len(test.index),n_splits)),index=test.index)\n",
    "\n",
    "    # Create an empty dictionary to store the models trained for each fold.\n",
    "    models = {}\n",
    "\n",
    "    # Create empty dict to save metircs for the models trained for each fold.\n",
    "    accuracy = {}\n",
    "    cross_entropy = {}\n",
    "    \n",
    "    # Calculate the number of samples for each label.\n",
    "    neg, pos = np.bincount(train[label])\n",
    "    total = neg + pos\n",
    "    weight_for_0 = (1 / neg) * (total / 2.0)\n",
    "    weight_for_1 = (1 / pos) * (total / 2.0)\n",
    "    class_weight = {0: weight_for_0, 1: weight_for_1}\n",
    "\n",
    "    print('Weight for class 0: {:.2f}'.format(weight_for_0))\n",
    "    print('Weight for class 1: {:.2f}'.format(weight_for_1))\n",
    "    \n",
    "    # Names of columns\n",
    "    submition_ds = tfdf.keras.pd_dataframe_to_tf_dataset(test)\n",
    "    # Loop through each fold\n",
    "    skf = StratifiedKFold(n_splits=n_splits)\n",
    "    \n",
    "    for i, (train_index, valid_index) in enumerate(skf.split(X=train,y=train['Class'])):\n",
    "            print('##### Fold',i+1)\n",
    "\n",
    "            # Fetch values corresponding to the index \n",
    "            train_df = train.iloc[train_index]\n",
    "            valid_df = train.iloc[valid_index]\n",
    "            valid_ids = valid_df.index.values\n",
    "\n",
    "            # Select only feature columns for training.\n",
    "            train_df = train_df[features+[label]]\n",
    "            valid_df = valid_df[features+[label]]\n",
    "\n",
    "            # We need to convert the datatset from Pandas format (pd.DataFrame)\n",
    "            # into TensorFlow Datasets format (tf.data.Dataset).\n",
    "            train_ds = tfdf.keras.pd_dataframe_to_tf_dataset(train_df, label=label)\n",
    "            valid_ds = tfdf.keras.pd_dataframe_to_tf_dataset(valid_df, label=label)\n",
    "\n",
    "            # Define & Train the model and metrics\n",
    "            model = model_obj(**model_kwargs)\n",
    "            model.compile(**model_compile_kwargs) \n",
    "            model.fit(x=train_ds, class_weight=class_weight)\n",
    "\n",
    "            # Store the model\n",
    "            models[f\"fold_{i+1}\"] = model\n",
    "\n",
    "            # Predict value for validation/Submition data\n",
    "            # Store the predictions in oof dataframe\n",
    "            oof.loc[valid_ids, 0] = model.predict(x=valid_ds).flatten()\n",
    "            submition.loc[:, i] = model.predict(x=submition_ds).flatten() \n",
    "\n",
    "            # Evaluate and store the metrics in respective dicts\n",
    "            evaluation = model.evaluate(x=valid_ds,return_dict=True)\n",
    "            accuracy[f\"fold_{i+1}\"] = evaluation[\"accuracy\"]\n",
    "            cross_entropy[f\"fold_{i+1}\"] = evaluation[\"binary_crossentropy\"]\n",
    "            \n",
    "    return submition,models,accuracy,cross_entropy\n",
    "\n",
    "\n",
    "def print_average_accuracy(models,cross_entropy,accuracy):\n",
    "    average_loss = 0\n",
    "    average_acc = 0\n",
    "\n",
    "    for _model in  models:\n",
    "        average_loss += cross_entropy[_model]\n",
    "        average_acc += accuracy[_model]\n",
    "        print(f\"{_model}: acc: {accuracy[_model]:.4f} loss: {cross_entropy[_model]:.4f}\")\n",
    "\n",
    "    print(f\"\\nAverage accuracy: {average_acc/len(models):.4f}  Average loss: {average_loss/len(models):.4f}\")"
   ]
  },
  {
   "cell_type": "code",
   "execution_count": 22,
   "id": "31d6e4fb",
   "metadata": {
    "execution": {
     "iopub.execute_input": "2023-07-09T21:25:53.237133Z",
     "iopub.status.busy": "2023-07-09T21:25:53.236625Z",
     "iopub.status.idle": "2023-07-09T21:27:14.526278Z",
     "shell.execute_reply": "2023-07-09T21:27:14.525054Z"
    },
    "papermill": {
     "duration": 81.31759,
     "end_time": "2023-07-09T21:27:14.529788",
     "exception": false,
     "start_time": "2023-07-09T21:25:53.212198",
     "status": "completed"
    },
    "tags": []
   },
   "outputs": [
    {
     "name": "stdout",
     "output_type": "stream",
     "text": [
      "Weight for class 0: 0.61\n",
      "Weight for class 1: 2.86\n",
      "##### Fold 1\n",
      "Use /tmp/tmpat2jc4mg as temporary training directory\n",
      "Reading training dataset...\n",
      "Training dataset read in 0:00:09.892495. Found 555 examples.\n",
      "Training model...\n",
      "Model trained in 0:00:00.834630\n",
      "Compiling model...\n"
     ]
    },
    {
     "name": "stderr",
     "output_type": "stream",
     "text": [
      "[INFO 23-07-09 21:26:04.4997 UTC kernel.cc:1242] Loading model from path /tmp/tmpat2jc4mg/model/ with prefix 12e5208245734da4\n",
      "[INFO 23-07-09 21:26:04.6437 UTC decision_forest.cc:660] Model loaded with 1000 root(s), 34340 node(s), and 112 input feature(s).\n",
      "[INFO 23-07-09 21:26:04.6440 UTC abstract_model.cc:1311] Engine \"RandomForestOptPred\" built\n",
      "[INFO 23-07-09 21:26:04.6442 UTC kernel.cc:1074] Use fast generic engine\n"
     ]
    },
    {
     "name": "stdout",
     "output_type": "stream",
     "text": [
      "WARNING: AutoGraph could not transform <function simple_ml_inference_op_with_handle at 0x7b0c33bec550> and will run it as-is.\n",
      "Please report this to the TensorFlow team. When filing the bug, set the verbosity to 10 (on Linux, `export AUTOGRAPH_VERBOSITY=10`) and attach the full output.\n",
      "Cause: could not get source code\n",
      "To silence this warning, decorate the function with @tf.autograph.experimental.do_not_convert\n",
      "Model compiled.\n",
      "1/1 [==============================] - 0s 249ms/step\n",
      "1/1 [==============================] - 1s 1s/step\n"
     ]
    },
    {
     "name": "stderr",
     "output_type": "stream",
     "text": [
      "/tmp/ipykernel_20/2061138087.py:61: DeprecationWarning: In a future version, `df.iloc[:, i] = newvals` will attempt to set the values inplace instead of always setting a new array. To retain the old behavior, use either `df[df.columns[i]] = newvals` or, if columns are non-unique, `df.isetitem(i, newvals)`\n",
      "  submition.loc[:, i] = model.predict(x=submition_ds).flatten()\n"
     ]
    },
    {
     "name": "stdout",
     "output_type": "stream",
     "text": [
      "1/1 [==============================] - 1s 964ms/step - loss: 0.0000e+00 - accuracy: 0.9677 - binary_crossentropy: 0.2042\n",
      "##### Fold 2\n",
      "Use /tmp/tmptufsg5v9 as temporary training directory\n",
      "Reading training dataset...\n",
      "Training dataset read in 0:00:02.403067. Found 555 examples.\n",
      "Training model...\n",
      "Model trained in 0:00:00.757111\n",
      "Compiling model...\n"
     ]
    },
    {
     "name": "stderr",
     "output_type": "stream",
     "text": [
      "[INFO 23-07-09 21:26:13.7901 UTC kernel.cc:1242] Loading model from path /tmp/tmptufsg5v9/model/ with prefix 8a407f361af441eb\n",
      "[INFO 23-07-09 21:26:13.9253 UTC decision_forest.cc:660] Model loaded with 1000 root(s), 34608 node(s), and 112 input feature(s).\n",
      "[INFO 23-07-09 21:26:13.9254 UTC kernel.cc:1074] Use fast generic engine\n"
     ]
    },
    {
     "name": "stdout",
     "output_type": "stream",
     "text": [
      "Model compiled.\n",
      "1/1 [==============================] - 0s 247ms/step\n",
      "1/1 [==============================] - 1s 1s/step\n"
     ]
    },
    {
     "name": "stderr",
     "output_type": "stream",
     "text": [
      "/tmp/ipykernel_20/2061138087.py:61: DeprecationWarning: In a future version, `df.iloc[:, i] = newvals` will attempt to set the values inplace instead of always setting a new array. To retain the old behavior, use either `df[df.columns[i]] = newvals` or, if columns are non-unique, `df.isetitem(i, newvals)`\n",
      "  submition.loc[:, i] = model.predict(x=submition_ds).flatten()\n"
     ]
    },
    {
     "name": "stdout",
     "output_type": "stream",
     "text": [
      "1/1 [==============================] - 1s 576ms/step - loss: 0.0000e+00 - accuracy: 0.9355 - binary_crossentropy: 0.2154\n",
      "##### Fold 3\n",
      "Use /tmp/tmpbhk3thes as temporary training directory\n",
      "Reading training dataset...\n",
      "Training dataset read in 0:00:02.295778. Found 555 examples.\n",
      "Training model...\n",
      "Model trained in 0:00:00.757419\n",
      "Compiling model...\n"
     ]
    },
    {
     "name": "stderr",
     "output_type": "stream",
     "text": [
      "[INFO 23-07-09 21:26:20.8860 UTC kernel.cc:1242] Loading model from path /tmp/tmpbhk3thes/model/ with prefix 5789e1636fff4333\n",
      "[INFO 23-07-09 21:26:21.0351 UTC decision_forest.cc:660] Model loaded with 1000 root(s), 34544 node(s), and 112 input feature(s).\n",
      "[INFO 23-07-09 21:26:21.0351 UTC abstract_model.cc:1311] Engine \"RandomForestOptPred\" built\n",
      "[INFO 23-07-09 21:26:21.0352 UTC kernel.cc:1074] Use fast generic engine\n"
     ]
    },
    {
     "name": "stdout",
     "output_type": "stream",
     "text": [
      "Model compiled.\n",
      "1/1 [==============================] - 0s 300ms/step\n",
      "1/1 [==============================] - 1s 1s/step\n"
     ]
    },
    {
     "name": "stderr",
     "output_type": "stream",
     "text": [
      "/tmp/ipykernel_20/2061138087.py:61: DeprecationWarning: In a future version, `df.iloc[:, i] = newvals` will attempt to set the values inplace instead of always setting a new array. To retain the old behavior, use either `df[df.columns[i]] = newvals` or, if columns are non-unique, `df.isetitem(i, newvals)`\n",
      "  submition.loc[:, i] = model.predict(x=submition_ds).flatten()\n"
     ]
    },
    {
     "name": "stdout",
     "output_type": "stream",
     "text": [
      "1/1 [==============================] - 1s 679ms/step - loss: 0.0000e+00 - accuracy: 0.8548 - binary_crossentropy: 0.2748\n",
      "##### Fold 4\n",
      "Use /tmp/tmpea3y3g7f as temporary training directory\n",
      "Reading training dataset...\n",
      "Training dataset read in 0:00:02.575737. Found 555 examples.\n",
      "Training model...\n",
      "Model trained in 0:00:00.781117\n",
      "Compiling model...\n"
     ]
    },
    {
     "name": "stderr",
     "output_type": "stream",
     "text": [
      "[INFO 23-07-09 21:26:28.1258 UTC kernel.cc:1242] Loading model from path /tmp/tmpea3y3g7f/model/ with prefix 1dc1dfedf8264c0a\n",
      "[INFO 23-07-09 21:26:28.2666 UTC decision_forest.cc:660] Model loaded with 1000 root(s), 34348 node(s), and 112 input feature(s).\n",
      "[INFO 23-07-09 21:26:28.2667 UTC kernel.cc:1074] Use fast generic engine\n"
     ]
    },
    {
     "name": "stdout",
     "output_type": "stream",
     "text": [
      "Model compiled.\n",
      "1/1 [==============================] - 0s 278ms/step\n",
      "1/1 [==============================] - 1s 1s/step\n"
     ]
    },
    {
     "name": "stderr",
     "output_type": "stream",
     "text": [
      "/tmp/ipykernel_20/2061138087.py:61: DeprecationWarning: In a future version, `df.iloc[:, i] = newvals` will attempt to set the values inplace instead of always setting a new array. To retain the old behavior, use either `df[df.columns[i]] = newvals` or, if columns are non-unique, `df.isetitem(i, newvals)`\n",
      "  submition.loc[:, i] = model.predict(x=submition_ds).flatten()\n"
     ]
    },
    {
     "name": "stdout",
     "output_type": "stream",
     "text": [
      "1/1 [==============================] - 1s 633ms/step - loss: 0.0000e+00 - accuracy: 0.8710 - binary_crossentropy: 0.2786\n",
      "##### Fold 5\n",
      "Use /tmp/tmp6rik58ss as temporary training directory\n",
      "Reading training dataset...\n",
      "Training dataset read in 0:00:02.508620. Found 555 examples.\n",
      "Training model...\n",
      "Model trained in 0:00:00.869159\n",
      "Compiling model...\n"
     ]
    },
    {
     "name": "stderr",
     "output_type": "stream",
     "text": [
      "[INFO 23-07-09 21:26:35.2908 UTC kernel.cc:1242] Loading model from path /tmp/tmp6rik58ss/model/ with prefix 99d4335ec3d94ffc\n",
      "[INFO 23-07-09 21:26:35.4442 UTC decision_forest.cc:660] Model loaded with 1000 root(s), 34704 node(s), and 112 input feature(s).\n",
      "[INFO 23-07-09 21:26:35.4443 UTC abstract_model.cc:1311] Engine \"RandomForestOptPred\" built\n",
      "[INFO 23-07-09 21:26:35.4443 UTC kernel.cc:1074] Use fast generic engine\n"
     ]
    },
    {
     "name": "stdout",
     "output_type": "stream",
     "text": [
      "Model compiled.\n",
      "1/1 [==============================] - 0s 306ms/step\n",
      "1/1 [==============================] - 1s 1s/step\n"
     ]
    },
    {
     "name": "stderr",
     "output_type": "stream",
     "text": [
      "/tmp/ipykernel_20/2061138087.py:61: DeprecationWarning: In a future version, `df.iloc[:, i] = newvals` will attempt to set the values inplace instead of always setting a new array. To retain the old behavior, use either `df[df.columns[i]] = newvals` or, if columns are non-unique, `df.isetitem(i, newvals)`\n",
      "  submition.loc[:, i] = model.predict(x=submition_ds).flatten()\n"
     ]
    },
    {
     "name": "stdout",
     "output_type": "stream",
     "text": [
      "1/1 [==============================] - 1s 613ms/step - loss: 0.0000e+00 - accuracy: 0.9355 - binary_crossentropy: 0.2320\n",
      "##### Fold 6\n",
      "Use /tmp/tmpia1xsx82 as temporary training directory\n",
      "Reading training dataset...\n",
      "Training dataset read in 0:00:02.395886. Found 555 examples.\n",
      "Training model...\n",
      "Model trained in 0:00:00.815260\n",
      "Compiling model...\n"
     ]
    },
    {
     "name": "stderr",
     "output_type": "stream",
     "text": [
      "[INFO 23-07-09 21:26:42.2856 UTC kernel.cc:1242] Loading model from path /tmp/tmpia1xsx82/model/ with prefix 6f5f7b358393490b\n",
      "[INFO 23-07-09 21:26:42.4265 UTC decision_forest.cc:660] Model loaded with 1000 root(s), 34388 node(s), and 112 input feature(s).\n",
      "[INFO 23-07-09 21:26:42.4266 UTC kernel.cc:1074] Use fast generic engine\n"
     ]
    },
    {
     "name": "stdout",
     "output_type": "stream",
     "text": [
      "Model compiled.\n",
      "1/1 [==============================] - 0s 260ms/step\n",
      "1/1 [==============================] - 2s 2s/step\n"
     ]
    },
    {
     "name": "stderr",
     "output_type": "stream",
     "text": [
      "/tmp/ipykernel_20/2061138087.py:61: DeprecationWarning: In a future version, `df.iloc[:, i] = newvals` will attempt to set the values inplace instead of always setting a new array. To retain the old behavior, use either `df[df.columns[i]] = newvals` or, if columns are non-unique, `df.isetitem(i, newvals)`\n",
      "  submition.loc[:, i] = model.predict(x=submition_ds).flatten()\n"
     ]
    },
    {
     "name": "stdout",
     "output_type": "stream",
     "text": [
      "1/1 [==============================] - 1s 592ms/step - loss: 0.0000e+00 - accuracy: 0.9194 - binary_crossentropy: 0.2703\n",
      "##### Fold 7\n",
      "Use /tmp/tmpzl7rwy81 as temporary training directory\n",
      "Reading training dataset...\n",
      "Training dataset read in 0:00:02.350356. Found 555 examples.\n",
      "Training model...\n",
      "Model trained in 0:00:00.799512\n",
      "Compiling model...\n"
     ]
    },
    {
     "name": "stderr",
     "output_type": "stream",
     "text": [
      "[INFO 23-07-09 21:26:49.5782 UTC kernel.cc:1242] Loading model from path /tmp/tmpzl7rwy81/model/ with prefix b6890dc6e3454b26\n",
      "[INFO 23-07-09 21:26:49.7254 UTC decision_forest.cc:660] Model loaded with 1000 root(s), 34538 node(s), and 112 input feature(s).\n",
      "[INFO 23-07-09 21:26:49.7255 UTC abstract_model.cc:1311] Engine \"RandomForestOptPred\" built\n",
      "[INFO 23-07-09 21:26:49.7256 UTC kernel.cc:1074] Use fast generic engine\n"
     ]
    },
    {
     "name": "stdout",
     "output_type": "stream",
     "text": [
      "Model compiled.\n",
      "1/1 [==============================] - 0s 279ms/step\n",
      "1/1 [==============================] - 1s 1s/step\n"
     ]
    },
    {
     "name": "stderr",
     "output_type": "stream",
     "text": [
      "/tmp/ipykernel_20/2061138087.py:61: DeprecationWarning: In a future version, `df.iloc[:, i] = newvals` will attempt to set the values inplace instead of always setting a new array. To retain the old behavior, use either `df[df.columns[i]] = newvals` or, if columns are non-unique, `df.isetitem(i, newvals)`\n",
      "  submition.loc[:, i] = model.predict(x=submition_ds).flatten()\n"
     ]
    },
    {
     "name": "stdout",
     "output_type": "stream",
     "text": [
      "1/1 [==============================] - 1s 607ms/step - loss: 0.0000e+00 - accuracy: 0.9194 - binary_crossentropy: 0.2685\n",
      "##### Fold 8\n",
      "Use /tmp/tmp8j4onp3g as temporary training directory\n",
      "Reading training dataset...\n",
      "Training dataset read in 0:00:02.378273. Found 556 examples.\n",
      "Training model...\n",
      "Model trained in 0:00:01.042518\n",
      "Compiling model...\n"
     ]
    },
    {
     "name": "stderr",
     "output_type": "stream",
     "text": [
      "[INFO 23-07-09 21:26:57.2669 UTC kernel.cc:1242] Loading model from path /tmp/tmp8j4onp3g/model/ with prefix c7d1bf83199f4912\n",
      "[INFO 23-07-09 21:26:57.4250 UTC decision_forest.cc:660] Model loaded with 1000 root(s), 34352 node(s), and 112 input feature(s).\n",
      "[INFO 23-07-09 21:26:57.4254 UTC kernel.cc:1074] Use fast generic engine\n"
     ]
    },
    {
     "name": "stdout",
     "output_type": "stream",
     "text": [
      "Model compiled.\n",
      "1/1 [==============================] - 0s 286ms/step\n",
      "1/1 [==============================] - 1s 1s/step\n"
     ]
    },
    {
     "name": "stderr",
     "output_type": "stream",
     "text": [
      "/tmp/ipykernel_20/2061138087.py:61: DeprecationWarning: In a future version, `df.iloc[:, i] = newvals` will attempt to set the values inplace instead of always setting a new array. To retain the old behavior, use either `df[df.columns[i]] = newvals` or, if columns are non-unique, `df.isetitem(i, newvals)`\n",
      "  submition.loc[:, i] = model.predict(x=submition_ds).flatten()\n"
     ]
    },
    {
     "name": "stdout",
     "output_type": "stream",
     "text": [
      "1/1 [==============================] - 1s 656ms/step - loss: 0.0000e+00 - accuracy: 0.9344 - binary_crossentropy: 0.2563\n",
      "##### Fold 9\n",
      "Use /tmp/tmphgttfoo7 as temporary training directory\n",
      "Reading training dataset...\n",
      "Training dataset read in 0:00:02.283885. Found 556 examples.\n",
      "Training model...\n",
      "Model trained in 0:00:00.811234\n",
      "Compiling model...\n"
     ]
    },
    {
     "name": "stderr",
     "output_type": "stream",
     "text": [
      "[INFO 23-07-09 21:27:04.3262 UTC kernel.cc:1242] Loading model from path /tmp/tmphgttfoo7/model/ with prefix cd6ee1da72d44804\n",
      "[INFO 23-07-09 21:27:04.4835 UTC decision_forest.cc:660] Model loaded with 1000 root(s), 34134 node(s), and 112 input feature(s).\n",
      "[INFO 23-07-09 21:27:04.4836 UTC abstract_model.cc:1311] Engine \"RandomForestOptPred\" built\n",
      "[INFO 23-07-09 21:27:04.4836 UTC kernel.cc:1074] Use fast generic engine\n"
     ]
    },
    {
     "name": "stdout",
     "output_type": "stream",
     "text": [
      "Model compiled.\n",
      "1/1 [==============================] - 0s 272ms/step\n",
      "1/1 [==============================] - 1s 1s/step\n"
     ]
    },
    {
     "name": "stderr",
     "output_type": "stream",
     "text": [
      "/tmp/ipykernel_20/2061138087.py:61: DeprecationWarning: In a future version, `df.iloc[:, i] = newvals` will attempt to set the values inplace instead of always setting a new array. To retain the old behavior, use either `df[df.columns[i]] = newvals` or, if columns are non-unique, `df.isetitem(i, newvals)`\n",
      "  submition.loc[:, i] = model.predict(x=submition_ds).flatten()\n"
     ]
    },
    {
     "name": "stdout",
     "output_type": "stream",
     "text": [
      "1/1 [==============================] - 1s 650ms/step - loss: 0.0000e+00 - accuracy: 0.9180 - binary_crossentropy: 0.2567\n",
      "##### Fold 10\n",
      "Use /tmp/tmppx9bt3pu as temporary training directory\n",
      "Reading training dataset...\n",
      "Training dataset read in 0:00:02.251472. Found 556 examples.\n",
      "Training model...\n",
      "Model trained in 0:00:00.790948\n",
      "Compiling model...\n"
     ]
    },
    {
     "name": "stderr",
     "output_type": "stream",
     "text": [
      "[INFO 23-07-09 21:27:11.2021 UTC kernel.cc:1242] Loading model from path /tmp/tmppx9bt3pu/model/ with prefix eb03256a54704e4a\n",
      "[INFO 23-07-09 21:27:11.3547 UTC decision_forest.cc:660] Model loaded with 1000 root(s), 34658 node(s), and 112 input feature(s).\n",
      "[INFO 23-07-09 21:27:11.3550 UTC kernel.cc:1074] Use fast generic engine\n"
     ]
    },
    {
     "name": "stdout",
     "output_type": "stream",
     "text": [
      "Model compiled.\n",
      "1/1 [==============================] - 0s 258ms/step\n",
      "1/1 [==============================] - 1s 987ms/step\n"
     ]
    },
    {
     "name": "stderr",
     "output_type": "stream",
     "text": [
      "/tmp/ipykernel_20/2061138087.py:61: DeprecationWarning: In a future version, `df.iloc[:, i] = newvals` will attempt to set the values inplace instead of always setting a new array. To retain the old behavior, use either `df[df.columns[i]] = newvals` or, if columns are non-unique, `df.isetitem(i, newvals)`\n",
      "  submition.loc[:, i] = model.predict(x=submition_ds).flatten()\n"
     ]
    },
    {
     "name": "stdout",
     "output_type": "stream",
     "text": [
      "1/1 [==============================] - 1s 632ms/step - loss: 0.0000e+00 - accuracy: 0.9672 - binary_crossentropy: 0.2142\n"
     ]
    }
   ],
   "source": [
    "# RandomForestModel\n",
    "submition_1, model_1,accuracy_1,cross_entropy_1 = train_model(train=train_out_1,test=test_out_1, features=out_features_1,\n",
    "                                                              n_splits=10, \n",
    "                                                              model_obj=tfdf.keras.RandomForestModel,\n",
    "                                                              model_kwargs=dict(max_depth=6, num_trees=1000),\n",
    "                                                              model_compile_kwargs=dict(metrics=[\"accuracy\", \"binary_crossentropy\"]))"
   ]
  },
  {
   "cell_type": "code",
   "execution_count": 23,
   "id": "1eb60ceb",
   "metadata": {
    "execution": {
     "iopub.execute_input": "2023-07-09T21:27:14.612631Z",
     "iopub.status.busy": "2023-07-09T21:27:14.608976Z",
     "iopub.status.idle": "2023-07-09T21:27:14.620696Z",
     "shell.execute_reply": "2023-07-09T21:27:14.618526Z"
    },
    "papermill": {
     "duration": 0.054912,
     "end_time": "2023-07-09T21:27:14.623930",
     "exception": false,
     "start_time": "2023-07-09T21:27:14.569018",
     "status": "completed"
    },
    "tags": []
   },
   "outputs": [
    {
     "name": "stdout",
     "output_type": "stream",
     "text": [
      "Type 1\n",
      "fold_1: acc: 0.9677 loss: 0.2042\n",
      "fold_2: acc: 0.9355 loss: 0.2154\n",
      "fold_3: acc: 0.8548 loss: 0.2748\n",
      "fold_4: acc: 0.8710 loss: 0.2786\n",
      "fold_5: acc: 0.9355 loss: 0.2320\n",
      "fold_6: acc: 0.9194 loss: 0.2703\n",
      "fold_7: acc: 0.9194 loss: 0.2685\n",
      "fold_8: acc: 0.9344 loss: 0.2563\n",
      "fold_9: acc: 0.9180 loss: 0.2567\n",
      "fold_10: acc: 0.9672 loss: 0.2142\n",
      "\n",
      "Average accuracy: 0.9223  Average loss: 0.2471\n"
     ]
    }
   ],
   "source": [
    "print('Type 1')\n",
    "print_average_accuracy(models=model_1, cross_entropy=cross_entropy_1, accuracy=accuracy_1)"
   ]
  },
  {
   "cell_type": "markdown",
   "id": "c7b2c1d7",
   "metadata": {
    "papermill": {
     "duration": 0.040629,
     "end_time": "2023-07-09T21:27:14.705779",
     "exception": false,
     "start_time": "2023-07-09T21:27:14.665150",
     "status": "completed"
    },
    "tags": []
   },
   "source": [
    "# Visualize the model\n",
    "One benefit of tree-based models is that we can easily visualize them. The default number of trees used in the Random Forests is 300. We can select any tree for display.\n",
    "\n",
    "Let us pick one model from the `models` dict and select a tree for display."
   ]
  },
  {
   "cell_type": "code",
   "execution_count": 24,
   "id": "a3de5466",
   "metadata": {
    "execution": {
     "iopub.execute_input": "2023-07-09T21:27:14.789979Z",
     "iopub.status.busy": "2023-07-09T21:27:14.789473Z",
     "iopub.status.idle": "2023-07-09T21:27:14.795221Z",
     "shell.execute_reply": "2023-07-09T21:27:14.793832Z"
    },
    "papermill": {
     "duration": 0.052842,
     "end_time": "2023-07-09T21:27:14.798136",
     "exception": false,
     "start_time": "2023-07-09T21:27:14.745294",
     "status": "completed"
    },
    "tags": []
   },
   "outputs": [],
   "source": [
    "# tfdf.model_plotter.plot_model_in_colab(model_2['fold_1'], tree_idx=20, max_depth=10)"
   ]
  },
  {
   "cell_type": "markdown",
   "id": "a1ef4272",
   "metadata": {
    "papermill": {
     "duration": 0.040199,
     "end_time": "2023-07-09T21:27:14.881626",
     "exception": false,
     "start_time": "2023-07-09T21:27:14.841427",
     "status": "completed"
    },
    "tags": []
   },
   "source": [
    "# Evaluate the model on the Out of bag (OOB) data and the validation dataset\n",
    "\n",
    "Before training, we have manually seperated 20% of the dataset for validation named as `valid_ds`.\n",
    "\n",
    "We can also use Out of bag (OOB) score to validate our RandomForestModel.\n",
    "To train a Random Forest Model, a set of random samples from training set are choosen by the algorithm and the rest of the samples are used to finetune the model. The subset of data that is not chosen is known as Out of bag data (OOB).\n",
    "OOB score is computed on the OOB data.\n",
    "\n",
    "Read more about OOB data [here](https://developers.google.com/machine-learning/decision-forests/out-of-bag).\n",
    "\n",
    "The training logs show the `binary_crossentropy` evaluated on the out of bag dataset according to the number of trees in the model. Let us plot this for the models of each fold.\n",
    "\n",
    "Note: Smaller values are better for this hyperparameter."
   ]
  },
  {
   "cell_type": "code",
   "execution_count": 25,
   "id": "cd27c837",
   "metadata": {
    "execution": {
     "iopub.execute_input": "2023-07-09T21:27:14.970139Z",
     "iopub.status.busy": "2023-07-09T21:27:14.969690Z",
     "iopub.status.idle": "2023-07-09T21:27:14.975221Z",
     "shell.execute_reply": "2023-07-09T21:27:14.974053Z"
    },
    "papermill": {
     "duration": 0.054976,
     "end_time": "2023-07-09T21:27:14.978256",
     "exception": false,
     "start_time": "2023-07-09T21:27:14.923280",
     "status": "completed"
    },
    "tags": []
   },
   "outputs": [],
   "source": [
    "# figure, axis = plt.subplots(3, 2, figsize=(10, 10))\n",
    "# plt.subplots_adjust(hspace=0.5, wspace=0.3)\n",
    "\n",
    "# for i, fold_no in enumerate(model_2.keys()):\n",
    "#     row = i//2\n",
    "#     col = i % 2\n",
    "#     logs = model_1[fold_no].make_inspector().training_logs()\n",
    "#     axis[row, col].plot([log.num_trees for log in logs], [log.evaluation.loss for log in logs])\n",
    "#     axis[row, col].set_title(f\"Fold {i+1}\")\n",
    "#     axis[row, col].set_xlabel('Number of trees')\n",
    "#     axis[row, col].set_ylabel('Loss (out-of-bag)')\n",
    "\n",
    "# # axis[2][1].set_visible(False)\n",
    "# plt.show()"
   ]
  },
  {
   "cell_type": "markdown",
   "id": "34ecfe5f",
   "metadata": {
    "papermill": {
     "duration": 0.040124,
     "end_time": "2023-07-09T21:27:15.059693",
     "exception": false,
     "start_time": "2023-07-09T21:27:15.019569",
     "status": "completed"
    },
    "tags": []
   },
   "source": [
    "We can also see some general stats on the OOB dataset:"
   ]
  },
  {
   "cell_type": "code",
   "execution_count": 26,
   "id": "b51c3c47",
   "metadata": {
    "execution": {
     "iopub.execute_input": "2023-07-09T21:27:15.140953Z",
     "iopub.status.busy": "2023-07-09T21:27:15.140305Z",
     "iopub.status.idle": "2023-07-09T21:27:15.146968Z",
     "shell.execute_reply": "2023-07-09T21:27:15.145194Z"
    },
    "papermill": {
     "duration": 0.054209,
     "end_time": "2023-07-09T21:27:15.150899",
     "exception": false,
     "start_time": "2023-07-09T21:27:15.096690",
     "status": "completed"
    },
    "tags": []
   },
   "outputs": [],
   "source": [
    "# for _model in model_1:\n",
    "#     inspector = model_1[_model].make_inspector()\n",
    "#     print(_model, inspector.evaluation())"
   ]
  },
  {
   "cell_type": "markdown",
   "id": "09691354",
   "metadata": {
    "papermill": {
     "duration": 0.044237,
     "end_time": "2023-07-09T21:27:15.245854",
     "exception": false,
     "start_time": "2023-07-09T21:27:15.201617",
     "status": "completed"
    },
    "tags": []
   },
   "source": [
    "# Variable importances\n",
    "\n",
    "Variable importances generally indicate how much a feature contributes to the model predictions or quality. There are several ways to identify important features using TensorFlow Decision Forests. Let us pick one model from models dict and inspect it.\n",
    "\n",
    "Let us list the available `Variable Importances` for Decision Trees:"
   ]
  },
  {
   "cell_type": "code",
   "execution_count": 27,
   "id": "886f828d",
   "metadata": {
    "execution": {
     "iopub.execute_input": "2023-07-09T21:27:15.322547Z",
     "iopub.status.busy": "2023-07-09T21:27:15.322047Z",
     "iopub.status.idle": "2023-07-09T21:27:15.327312Z",
     "shell.execute_reply": "2023-07-09T21:27:15.325957Z"
    },
    "papermill": {
     "duration": 0.046832,
     "end_time": "2023-07-09T21:27:15.329837",
     "exception": false,
     "start_time": "2023-07-09T21:27:15.283005",
     "status": "completed"
    },
    "tags": []
   },
   "outputs": [],
   "source": [
    "# inspector = model_1['fold_1'].make_inspector()\n",
    "\n",
    "# print(f\"Available variable importances:\")\n",
    "# for importance in inspector.variable_importances().keys():\n",
    "#     print(\"\\t\", importance)"
   ]
  },
  {
   "cell_type": "markdown",
   "id": "0c9f1598",
   "metadata": {
    "papermill": {
     "duration": 0.036552,
     "end_time": "2023-07-09T21:27:15.403837",
     "exception": false,
     "start_time": "2023-07-09T21:27:15.367285",
     "status": "completed"
    },
    "tags": []
   },
   "source": [
    "As an example, let us display the important features for the Variable Importance `NUM_AS_ROOT`.\n",
    "\n",
    "The larger the importance score for `NUM_AS_ROOT`, the more impact it has on the outcome of the model.\n",
    "\n",
    "By default, the list is sorted from the most important to the least. From the output you can infer that the feature at the top of the list is used as the root node in most number of trees in the random forest than any other feature."
   ]
  },
  {
   "cell_type": "code",
   "execution_count": 28,
   "id": "2bb5a757",
   "metadata": {
    "execution": {
     "iopub.execute_input": "2023-07-09T21:27:15.479726Z",
     "iopub.status.busy": "2023-07-09T21:27:15.479284Z",
     "iopub.status.idle": "2023-07-09T21:27:15.485011Z",
     "shell.execute_reply": "2023-07-09T21:27:15.483600Z"
    },
    "papermill": {
     "duration": 0.046741,
     "end_time": "2023-07-09T21:27:15.487488",
     "exception": false,
     "start_time": "2023-07-09T21:27:15.440747",
     "status": "completed"
    },
    "tags": []
   },
   "outputs": [],
   "source": [
    "# Each line is: (feature name, (index of the feature), importance score)\n",
    "# inspector.variable_importances()[\"NUM_AS_ROOT\"]"
   ]
  },
  {
   "cell_type": "markdown",
   "id": "cd02003c",
   "metadata": {
    "papermill": {
     "duration": 0.036856,
     "end_time": "2023-07-09T21:27:15.561964",
     "exception": false,
     "start_time": "2023-07-09T21:27:15.525108",
     "status": "completed"
    },
    "tags": []
   },
   "source": [
    "# Submission"
   ]
  },
  {
   "cell_type": "code",
   "execution_count": 29,
   "id": "fa4cc827",
   "metadata": {
    "execution": {
     "iopub.execute_input": "2023-07-09T21:27:15.638699Z",
     "iopub.status.busy": "2023-07-09T21:27:15.638260Z",
     "iopub.status.idle": "2023-07-09T21:27:15.645158Z",
     "shell.execute_reply": "2023-07-09T21:27:15.643951Z"
    },
    "papermill": {
     "duration": 0.048585,
     "end_time": "2023-07-09T21:27:15.647658",
     "exception": false,
     "start_time": "2023-07-09T21:27:15.599073",
     "status": "completed"
    },
    "tags": []
   },
   "outputs": [],
   "source": [
    "def create_submitions(submition: pd.DataFrame) -> pd.DataFrame:\n",
    "    \n",
    "    df = pd.DataFrame(data=np.zeros((len(submition.index),2)),index=submition.index, columns=['class_0','class_1'])\n",
    "    \n",
    "    df['class_1'] = submition_1.mean(axis=1)\n",
    "    df['class_0'] = 1 - df['class_1']\n",
    "    \n",
    "    return df"
   ]
  },
  {
   "cell_type": "code",
   "execution_count": 30,
   "id": "11c83f0f",
   "metadata": {
    "execution": {
     "iopub.execute_input": "2023-07-09T21:27:15.723273Z",
     "iopub.status.busy": "2023-07-09T21:27:15.722889Z",
     "iopub.status.idle": "2023-07-09T21:27:15.730184Z",
     "shell.execute_reply": "2023-07-09T21:27:15.729257Z"
    },
    "papermill": {
     "duration": 0.048422,
     "end_time": "2023-07-09T21:27:15.732695",
     "exception": false,
     "start_time": "2023-07-09T21:27:15.684273",
     "status": "completed"
    },
    "tags": []
   },
   "outputs": [],
   "source": [
    "submition_1_final = create_submitions(submition=submition_1)"
   ]
  },
  {
   "cell_type": "code",
   "execution_count": 31,
   "id": "51ef7c0d",
   "metadata": {
    "execution": {
     "iopub.execute_input": "2023-07-09T21:27:15.809772Z",
     "iopub.status.busy": "2023-07-09T21:27:15.808995Z",
     "iopub.status.idle": "2023-07-09T21:27:15.820275Z",
     "shell.execute_reply": "2023-07-09T21:27:15.819132Z"
    },
    "papermill": {
     "duration": 0.052859,
     "end_time": "2023-07-09T21:27:15.822670",
     "exception": false,
     "start_time": "2023-07-09T21:27:15.769811",
     "status": "completed"
    },
    "tags": []
   },
   "outputs": [
    {
     "data": {
      "text/html": [
       "<div>\n",
       "<style scoped>\n",
       "    .dataframe tbody tr th:only-of-type {\n",
       "        vertical-align: middle;\n",
       "    }\n",
       "\n",
       "    .dataframe tbody tr th {\n",
       "        vertical-align: top;\n",
       "    }\n",
       "\n",
       "    .dataframe thead th {\n",
       "        text-align: right;\n",
       "    }\n",
       "</style>\n",
       "<table border=\"1\" class=\"dataframe\">\n",
       "  <thead>\n",
       "    <tr style=\"text-align: right;\">\n",
       "      <th></th>\n",
       "      <th>class_0</th>\n",
       "      <th>class_1</th>\n",
       "    </tr>\n",
       "    <tr>\n",
       "      <th>Id</th>\n",
       "      <th></th>\n",
       "      <th></th>\n",
       "    </tr>\n",
       "  </thead>\n",
       "  <tbody>\n",
       "    <tr>\n",
       "      <th>00eed32682bb</th>\n",
       "      <td>0.653601</td>\n",
       "      <td>0.346399</td>\n",
       "    </tr>\n",
       "    <tr>\n",
       "      <th>010ebe33f668</th>\n",
       "      <td>0.653601</td>\n",
       "      <td>0.346399</td>\n",
       "    </tr>\n",
       "    <tr>\n",
       "      <th>02fa521e1838</th>\n",
       "      <td>0.653601</td>\n",
       "      <td>0.346399</td>\n",
       "    </tr>\n",
       "    <tr>\n",
       "      <th>040e15f562a2</th>\n",
       "      <td>0.653601</td>\n",
       "      <td>0.346399</td>\n",
       "    </tr>\n",
       "    <tr>\n",
       "      <th>046e85c7cc7f</th>\n",
       "      <td>0.653601</td>\n",
       "      <td>0.346399</td>\n",
       "    </tr>\n",
       "  </tbody>\n",
       "</table>\n",
       "</div>"
      ],
      "text/plain": [
       "               class_0   class_1\n",
       "Id                              \n",
       "00eed32682bb  0.653601  0.346399\n",
       "010ebe33f668  0.653601  0.346399\n",
       "02fa521e1838  0.653601  0.346399\n",
       "040e15f562a2  0.653601  0.346399\n",
       "046e85c7cc7f  0.653601  0.346399"
      ]
     },
     "execution_count": 31,
     "metadata": {},
     "output_type": "execute_result"
    }
   ],
   "source": [
    "submition_1_final"
   ]
  },
  {
   "cell_type": "code",
   "execution_count": 32,
   "id": "9e873839",
   "metadata": {
    "execution": {
     "iopub.execute_input": "2023-07-09T21:27:15.900774Z",
     "iopub.status.busy": "2023-07-09T21:27:15.900116Z",
     "iopub.status.idle": "2023-07-09T21:27:15.911955Z",
     "shell.execute_reply": "2023-07-09T21:27:15.910920Z"
    },
    "papermill": {
     "duration": 0.053885,
     "end_time": "2023-07-09T21:27:15.914647",
     "exception": false,
     "start_time": "2023-07-09T21:27:15.860762",
     "status": "completed"
    },
    "tags": []
   },
   "outputs": [],
   "source": [
    "submition_1_final.to_csv('/kaggle/working/submission.csv', index=True)"
   ]
  }
 ],
 "metadata": {
  "kernelspec": {
   "display_name": "Python 3",
   "language": "python",
   "name": "python3"
  },
  "language_info": {
   "codemirror_mode": {
    "name": "ipython",
    "version": 3
   },
   "file_extension": ".py",
   "mimetype": "text/x-python",
   "name": "python",
   "nbconvert_exporter": "python",
   "pygments_lexer": "ipython3",
   "version": "3.10.10"
  },
  "papermill": {
   "default_parameters": {},
   "duration": 181.13644,
   "end_time": "2023-07-09T21:27:18.845132",
   "environment_variables": {},
   "exception": null,
   "input_path": "__notebook__.ipynb",
   "output_path": "__notebook__.ipynb",
   "parameters": {},
   "start_time": "2023-07-09T21:24:17.708692",
   "version": "2.4.0"
  },
  "widgets": {
   "application/vnd.jupyter.widget-state+json": {
    "state": {
     "059069fc5de745069a3732d445717abd": {
      "model_module": "@jupyter-widgets/base",
      "model_module_version": "1.2.0",
      "model_name": "LayoutModel",
      "state": {
       "_model_module": "@jupyter-widgets/base",
       "_model_module_version": "1.2.0",
       "_model_name": "LayoutModel",
       "_view_count": null,
       "_view_module": "@jupyter-widgets/base",
       "_view_module_version": "1.2.0",
       "_view_name": "LayoutView",
       "align_content": null,
       "align_items": null,
       "align_self": null,
       "border": null,
       "bottom": null,
       "display": null,
       "flex": null,
       "flex_flow": null,
       "grid_area": null,
       "grid_auto_columns": null,
       "grid_auto_flow": null,
       "grid_auto_rows": null,
       "grid_column": null,
       "grid_gap": null,
       "grid_row": null,
       "grid_template_areas": null,
       "grid_template_columns": null,
       "grid_template_rows": null,
       "height": null,
       "justify_content": null,
       "justify_items": null,
       "left": null,
       "margin": null,
       "max_height": null,
       "max_width": null,
       "min_height": null,
       "min_width": null,
       "object_fit": null,
       "object_position": null,
       "order": null,
       "overflow": null,
       "overflow_x": null,
       "overflow_y": null,
       "padding": null,
       "right": null,
       "top": null,
       "visibility": null,
       "width": null
      }
     },
     "20195ed4dcfb4b56be3f6831e83ccce0": {
      "model_module": "@jupyter-widgets/controls",
      "model_module_version": "1.5.0",
      "model_name": "HTMLModel",
      "state": {
       "_dom_classes": [],
       "_model_module": "@jupyter-widgets/controls",
       "_model_module_version": "1.5.0",
       "_model_name": "HTMLModel",
       "_view_count": null,
       "_view_module": "@jupyter-widgets/controls",
       "_view_module_version": "1.5.0",
       "_view_name": "HTMLView",
       "description": "",
       "description_tooltip": null,
       "layout": "IPY_MODEL_059069fc5de745069a3732d445717abd",
       "placeholder": "​",
       "style": "IPY_MODEL_37a96bd4327b472080188f296c99ef98",
       "value": "100%"
      }
     },
     "37a96bd4327b472080188f296c99ef98": {
      "model_module": "@jupyter-widgets/controls",
      "model_module_version": "1.5.0",
      "model_name": "DescriptionStyleModel",
      "state": {
       "_model_module": "@jupyter-widgets/controls",
       "_model_module_version": "1.5.0",
       "_model_name": "DescriptionStyleModel",
       "_view_count": null,
       "_view_module": "@jupyter-widgets/base",
       "_view_module_version": "1.2.0",
       "_view_name": "StyleView",
       "description_width": ""
      }
     },
     "4812292badd14a48bdde4d109f2f4b15": {
      "model_module": "@jupyter-widgets/controls",
      "model_module_version": "1.5.0",
      "model_name": "HTMLModel",
      "state": {
       "_dom_classes": [],
       "_model_module": "@jupyter-widgets/controls",
       "_model_module_version": "1.5.0",
       "_model_name": "HTMLModel",
       "_view_count": null,
       "_view_module": "@jupyter-widgets/controls",
       "_view_module_version": "1.5.0",
       "_view_name": "HTMLView",
       "description": "",
       "description_tooltip": null,
       "layout": "IPY_MODEL_85ae7a0db24643c5ac372235662f7639",
       "placeholder": "​",
       "style": "IPY_MODEL_e314bfbb445b4736abcbdef6b160f529",
       "value": " 56/56 [00:00&lt;00:00, 92.02it/s]"
      }
     },
     "534de441470c46eabe0f94618dc25aa7": {
      "model_module": "@jupyter-widgets/base",
      "model_module_version": "1.2.0",
      "model_name": "LayoutModel",
      "state": {
       "_model_module": "@jupyter-widgets/base",
       "_model_module_version": "1.2.0",
       "_model_name": "LayoutModel",
       "_view_count": null,
       "_view_module": "@jupyter-widgets/base",
       "_view_module_version": "1.2.0",
       "_view_name": "LayoutView",
       "align_content": null,
       "align_items": null,
       "align_self": null,
       "border": null,
       "bottom": null,
       "display": null,
       "flex": null,
       "flex_flow": null,
       "grid_area": null,
       "grid_auto_columns": null,
       "grid_auto_flow": null,
       "grid_auto_rows": null,
       "grid_column": null,
       "grid_gap": null,
       "grid_row": null,
       "grid_template_areas": null,
       "grid_template_columns": null,
       "grid_template_rows": null,
       "height": null,
       "justify_content": null,
       "justify_items": null,
       "left": null,
       "margin": null,
       "max_height": null,
       "max_width": null,
       "min_height": null,
       "min_width": null,
       "object_fit": null,
       "object_position": null,
       "order": null,
       "overflow": null,
       "overflow_x": null,
       "overflow_y": null,
       "padding": null,
       "right": null,
       "top": null,
       "visibility": null,
       "width": null
      }
     },
     "5eca8c1ae0ce491d8227781829cc292a": {
      "model_module": "@jupyter-widgets/base",
      "model_module_version": "1.2.0",
      "model_name": "LayoutModel",
      "state": {
       "_model_module": "@jupyter-widgets/base",
       "_model_module_version": "1.2.0",
       "_model_name": "LayoutModel",
       "_view_count": null,
       "_view_module": "@jupyter-widgets/base",
       "_view_module_version": "1.2.0",
       "_view_name": "LayoutView",
       "align_content": null,
       "align_items": null,
       "align_self": null,
       "border": null,
       "bottom": null,
       "display": null,
       "flex": null,
       "flex_flow": null,
       "grid_area": null,
       "grid_auto_columns": null,
       "grid_auto_flow": null,
       "grid_auto_rows": null,
       "grid_column": null,
       "grid_gap": null,
       "grid_row": null,
       "grid_template_areas": null,
       "grid_template_columns": null,
       "grid_template_rows": null,
       "height": null,
       "justify_content": null,
       "justify_items": null,
       "left": null,
       "margin": null,
       "max_height": null,
       "max_width": null,
       "min_height": null,
       "min_width": null,
       "object_fit": null,
       "object_position": null,
       "order": null,
       "overflow": null,
       "overflow_x": null,
       "overflow_y": null,
       "padding": null,
       "right": null,
       "top": null,
       "visibility": null,
       "width": null
      }
     },
     "65cf508558bc4dec93e12cbe664e924c": {
      "model_module": "@jupyter-widgets/controls",
      "model_module_version": "1.5.0",
      "model_name": "ProgressStyleModel",
      "state": {
       "_model_module": "@jupyter-widgets/controls",
       "_model_module_version": "1.5.0",
       "_model_name": "ProgressStyleModel",
       "_view_count": null,
       "_view_module": "@jupyter-widgets/base",
       "_view_module_version": "1.2.0",
       "_view_name": "StyleView",
       "bar_color": null,
       "description_width": ""
      }
     },
     "85ae7a0db24643c5ac372235662f7639": {
      "model_module": "@jupyter-widgets/base",
      "model_module_version": "1.2.0",
      "model_name": "LayoutModel",
      "state": {
       "_model_module": "@jupyter-widgets/base",
       "_model_module_version": "1.2.0",
       "_model_name": "LayoutModel",
       "_view_count": null,
       "_view_module": "@jupyter-widgets/base",
       "_view_module_version": "1.2.0",
       "_view_name": "LayoutView",
       "align_content": null,
       "align_items": null,
       "align_self": null,
       "border": null,
       "bottom": null,
       "display": null,
       "flex": null,
       "flex_flow": null,
       "grid_area": null,
       "grid_auto_columns": null,
       "grid_auto_flow": null,
       "grid_auto_rows": null,
       "grid_column": null,
       "grid_gap": null,
       "grid_row": null,
       "grid_template_areas": null,
       "grid_template_columns": null,
       "grid_template_rows": null,
       "height": null,
       "justify_content": null,
       "justify_items": null,
       "left": null,
       "margin": null,
       "max_height": null,
       "max_width": null,
       "min_height": null,
       "min_width": null,
       "object_fit": null,
       "object_position": null,
       "order": null,
       "overflow": null,
       "overflow_x": null,
       "overflow_y": null,
       "padding": null,
       "right": null,
       "top": null,
       "visibility": null,
       "width": null
      }
     },
     "a08267d39d8a4b32b58b9c73daabffa0": {
      "model_module": "@jupyter-widgets/controls",
      "model_module_version": "1.5.0",
      "model_name": "FloatProgressModel",
      "state": {
       "_dom_classes": [],
       "_model_module": "@jupyter-widgets/controls",
       "_model_module_version": "1.5.0",
       "_model_name": "FloatProgressModel",
       "_view_count": null,
       "_view_module": "@jupyter-widgets/controls",
       "_view_module_version": "1.5.0",
       "_view_name": "ProgressView",
       "bar_style": "success",
       "description": "",
       "description_tooltip": null,
       "layout": "IPY_MODEL_534de441470c46eabe0f94618dc25aa7",
       "max": 56.0,
       "min": 0.0,
       "orientation": "horizontal",
       "style": "IPY_MODEL_65cf508558bc4dec93e12cbe664e924c",
       "value": 56.0
      }
     },
     "d7814e22b96d4886b83f3feb7a9a99f5": {
      "model_module": "@jupyter-widgets/controls",
      "model_module_version": "1.5.0",
      "model_name": "HBoxModel",
      "state": {
       "_dom_classes": [],
       "_model_module": "@jupyter-widgets/controls",
       "_model_module_version": "1.5.0",
       "_model_name": "HBoxModel",
       "_view_count": null,
       "_view_module": "@jupyter-widgets/controls",
       "_view_module_version": "1.5.0",
       "_view_name": "HBoxView",
       "box_style": "",
       "children": [
        "IPY_MODEL_20195ed4dcfb4b56be3f6831e83ccce0",
        "IPY_MODEL_a08267d39d8a4b32b58b9c73daabffa0",
        "IPY_MODEL_4812292badd14a48bdde4d109f2f4b15"
       ],
       "layout": "IPY_MODEL_5eca8c1ae0ce491d8227781829cc292a"
      }
     },
     "e314bfbb445b4736abcbdef6b160f529": {
      "model_module": "@jupyter-widgets/controls",
      "model_module_version": "1.5.0",
      "model_name": "DescriptionStyleModel",
      "state": {
       "_model_module": "@jupyter-widgets/controls",
       "_model_module_version": "1.5.0",
       "_model_name": "DescriptionStyleModel",
       "_view_count": null,
       "_view_module": "@jupyter-widgets/base",
       "_view_module_version": "1.2.0",
       "_view_name": "StyleView",
       "description_width": ""
      }
     }
    },
    "version_major": 2,
    "version_minor": 0
   }
  }
 },
 "nbformat": 4,
 "nbformat_minor": 5
}
