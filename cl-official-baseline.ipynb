{
 "cells": [
  {
   "cell_type": "markdown",
   "id": "2da94c82",
   "metadata": {
    "papermill": {
     "duration": 0.013947,
     "end_time": "2023-08-19T09:47:37.517298",
     "exception": false,
     "start_time": "2023-08-19T09:47:37.503351",
     "status": "completed"
    },
    "tags": []
   },
   "source": [
    "# CommonLit - Evaluate Student Summaries Dataset with TensorFlow Decision Forests"
   ]
  },
  {
   "cell_type": "markdown",
   "id": "96502f2c",
   "metadata": {
    "papermill": {
     "duration": 0.012106,
     "end_time": "2023-08-19T09:47:37.542555",
     "exception": false,
     "start_time": "2023-08-19T09:47:37.530449",
     "status": "completed"
    },
    "tags": []
   },
   "source": [
    "This notebook walks you through how to train a baseline Random Forest model using TensorFlow Decision Forests on the **CommonLit - Evaluate Student Summaries** dataset made available for this competition.\n",
    "\n",
    "Roughly, the code will look as follows:\n",
    "\n",
    "```\n",
    "import tensorflow_decision_forests as tfdf\n",
    "import pandas as pd\n",
    "\n",
    "dataset = pd.read_csv(\"project/dataset.csv\")\n",
    "tf_dataset = tfdf.keras.pd_dataframe_to_tf_dataset(dataset, label=\"my_label\")\n",
    "\n",
    "model = tfdf.keras.RandomForestModel()\n",
    "model.fit(tf_dataset)\n",
    "\n",
    "print(model.summary())\n",
    "```\n",
    "\n",
    "Decision Forests are a family of tree-based models including Random Forests and Gradient Boosted Trees. They are the best place to start when working with tabular data, and will often outperform (or provide a strong baseline) before you begin experimenting with neural networks."
   ]
  },
  {
   "cell_type": "markdown",
   "id": "fdaa7680",
   "metadata": {
    "papermill": {
     "duration": 0.012194,
     "end_time": "2023-08-19T09:47:37.567265",
     "exception": false,
     "start_time": "2023-08-19T09:47:37.555071",
     "status": "completed"
    },
    "tags": []
   },
   "source": [
    "# Import the libraries"
   ]
  },
  {
   "cell_type": "code",
   "execution_count": 1,
   "id": "15ca7f5c",
   "metadata": {
    "execution": {
     "iopub.execute_input": "2023-08-19T09:47:37.594383Z",
     "iopub.status.busy": "2023-08-19T09:47:37.593952Z",
     "iopub.status.idle": "2023-08-19T09:47:50.259694Z",
     "shell.execute_reply": "2023-08-19T09:47:50.258156Z"
    },
    "papermill": {
     "duration": 12.682426,
     "end_time": "2023-08-19T09:47:50.262375",
     "exception": false,
     "start_time": "2023-08-19T09:47:37.579949",
     "status": "completed"
    },
    "tags": []
   },
   "outputs": [
    {
     "name": "stderr",
     "output_type": "stream",
     "text": [
      "/opt/conda/lib/python3.10/site-packages/scipy/__init__.py:146: UserWarning: A NumPy version >=1.16.5 and <1.23.0 is required for this version of SciPy (detected version 1.23.5\n",
      "  warnings.warn(f\"A NumPy version >={np_minversion} and <{np_maxversion}\"\n",
      "/opt/conda/lib/python3.10/site-packages/tensorflow_io/python/ops/__init__.py:98: UserWarning: unable to load libtensorflow_io_plugins.so: unable to open file: libtensorflow_io_plugins.so, from paths: ['/opt/conda/lib/python3.10/site-packages/tensorflow_io/python/ops/libtensorflow_io_plugins.so']\n",
      "caused by: ['/opt/conda/lib/python3.10/site-packages/tensorflow_io/python/ops/libtensorflow_io_plugins.so: undefined symbol: _ZN3tsl6StatusC1EN10tensorflow5error4CodeESt17basic_string_viewIcSt11char_traitsIcEENS_14SourceLocationE']\n",
      "  warnings.warn(f\"unable to load libtensorflow_io_plugins.so: {e}\")\n",
      "/opt/conda/lib/python3.10/site-packages/tensorflow_io/python/ops/__init__.py:104: UserWarning: file system plugins are not loaded: unable to open file: libtensorflow_io.so, from paths: ['/opt/conda/lib/python3.10/site-packages/tensorflow_io/python/ops/libtensorflow_io.so']\n",
      "caused by: ['/opt/conda/lib/python3.10/site-packages/tensorflow_io/python/ops/libtensorflow_io.so: undefined symbol: _ZTVN10tensorflow13GcsFileSystemE']\n",
      "  warnings.warn(f\"file system plugins are not loaded: {e}\")\n"
     ]
    }
   ],
   "source": [
    "import string\n",
    "import re\n",
    "import numpy as np\n",
    "import pandas as pd\n",
    "import tensorflow as tf\n",
    "import tensorflow_decision_forests as tfdf\n",
    "from nltk.corpus import stopwords\n",
    "import seaborn as sns\n",
    "import matplotlib.pyplot as plt"
   ]
  },
  {
   "cell_type": "code",
   "execution_count": 2,
   "id": "0522f422",
   "metadata": {
    "execution": {
     "iopub.execute_input": "2023-08-19T09:47:50.289651Z",
     "iopub.status.busy": "2023-08-19T09:47:50.288995Z",
     "iopub.status.idle": "2023-08-19T09:47:50.294531Z",
     "shell.execute_reply": "2023-08-19T09:47:50.293440Z"
    },
    "papermill": {
     "duration": 0.021444,
     "end_time": "2023-08-19T09:47:50.296577",
     "exception": false,
     "start_time": "2023-08-19T09:47:50.275133",
     "status": "completed"
    },
    "tags": []
   },
   "outputs": [
    {
     "name": "stdout",
     "output_type": "stream",
     "text": [
      "TensorFlow v2.12.0\n",
      "TensorFlow Decision Forests v1.4.0\n"
     ]
    }
   ],
   "source": [
    "print(\"TensorFlow v\" + tf.__version__)\n",
    "print(\"TensorFlow Decision Forests v\" + tfdf.__version__)"
   ]
  },
  {
   "cell_type": "markdown",
   "id": "061c7cf7",
   "metadata": {
    "papermill": {
     "duration": 0.012256,
     "end_time": "2023-08-19T09:47:50.321818",
     "exception": false,
     "start_time": "2023-08-19T09:47:50.309562",
     "status": "completed"
    },
    "tags": []
   },
   "source": [
    "# Load the Dataset"
   ]
  },
  {
   "cell_type": "markdown",
   "id": "cbc09b8b",
   "metadata": {
    "papermill": {
     "duration": 0.011887,
     "end_time": "2023-08-19T09:47:50.345772",
     "exception": false,
     "start_time": "2023-08-19T09:47:50.333885",
     "status": "completed"
    },
    "tags": []
   },
   "source": [
    "### Load the prompt csv"
   ]
  },
  {
   "cell_type": "code",
   "execution_count": 3,
   "id": "80d9a425",
   "metadata": {
    "execution": {
     "iopub.execute_input": "2023-08-19T09:47:50.372428Z",
     "iopub.status.busy": "2023-08-19T09:47:50.372058Z",
     "iopub.status.idle": "2023-08-19T09:47:50.394976Z",
     "shell.execute_reply": "2023-08-19T09:47:50.393633Z"
    },
    "papermill": {
     "duration": 0.03931,
     "end_time": "2023-08-19T09:47:50.397554",
     "exception": false,
     "start_time": "2023-08-19T09:47:50.358244",
     "status": "completed"
    },
    "tags": []
   },
   "outputs": [
    {
     "name": "stdout",
     "output_type": "stream",
     "text": [
      "Full prompt train dataset shape is (4, 4)\n"
     ]
    }
   ],
   "source": [
    "df_train_prompt = pd.read_csv('/kaggle/input/commonlit-evaluate-student-summaries/prompts_train.csv')\n",
    "print(\"Full prompt train dataset shape is {}\".format(df_train_prompt.shape))"
   ]
  },
  {
   "cell_type": "markdown",
   "id": "305a0de1",
   "metadata": {
    "papermill": {
     "duration": 0.012369,
     "end_time": "2023-08-19T09:47:50.422859",
     "exception": false,
     "start_time": "2023-08-19T09:47:50.410490",
     "status": "completed"
    },
    "tags": []
   },
   "source": [
    "The data is composed of 4 columns and 4 entries. We can see all 4 dimensions of our dataset by using the following code:"
   ]
  },
  {
   "cell_type": "code",
   "execution_count": 4,
   "id": "5b75bf6a",
   "metadata": {
    "execution": {
     "iopub.execute_input": "2023-08-19T09:47:50.450525Z",
     "iopub.status.busy": "2023-08-19T09:47:50.449642Z",
     "iopub.status.idle": "2023-08-19T09:47:50.472574Z",
     "shell.execute_reply": "2023-08-19T09:47:50.471483Z"
    },
    "papermill": {
     "duration": 0.039284,
     "end_time": "2023-08-19T09:47:50.474725",
     "exception": false,
     "start_time": "2023-08-19T09:47:50.435441",
     "status": "completed"
    },
    "tags": []
   },
   "outputs": [
    {
     "data": {
      "text/html": [
       "<div>\n",
       "<style scoped>\n",
       "    .dataframe tbody tr th:only-of-type {\n",
       "        vertical-align: middle;\n",
       "    }\n",
       "\n",
       "    .dataframe tbody tr th {\n",
       "        vertical-align: top;\n",
       "    }\n",
       "\n",
       "    .dataframe thead th {\n",
       "        text-align: right;\n",
       "    }\n",
       "</style>\n",
       "<table border=\"1\" class=\"dataframe\">\n",
       "  <thead>\n",
       "    <tr style=\"text-align: right;\">\n",
       "      <th></th>\n",
       "      <th>prompt_id</th>\n",
       "      <th>prompt_question</th>\n",
       "      <th>prompt_title</th>\n",
       "      <th>prompt_text</th>\n",
       "    </tr>\n",
       "  </thead>\n",
       "  <tbody>\n",
       "    <tr>\n",
       "      <th>0</th>\n",
       "      <td>39c16e</td>\n",
       "      <td>Summarize at least 3 elements of an ideal trag...</td>\n",
       "      <td>On Tragedy</td>\n",
       "      <td>Chapter 13 \\r\\nAs the sequel to what has alrea...</td>\n",
       "    </tr>\n",
       "    <tr>\n",
       "      <th>1</th>\n",
       "      <td>3b9047</td>\n",
       "      <td>In complete sentences, summarize the structure...</td>\n",
       "      <td>Egyptian Social Structure</td>\n",
       "      <td>Egyptian society was structured like a pyramid...</td>\n",
       "    </tr>\n",
       "    <tr>\n",
       "      <th>2</th>\n",
       "      <td>814d6b</td>\n",
       "      <td>Summarize how the Third Wave developed over su...</td>\n",
       "      <td>The Third Wave</td>\n",
       "      <td>Background \\r\\nThe Third Wave experiment took ...</td>\n",
       "    </tr>\n",
       "    <tr>\n",
       "      <th>3</th>\n",
       "      <td>ebad26</td>\n",
       "      <td>Summarize the various ways the factory would u...</td>\n",
       "      <td>Excerpt from The Jungle</td>\n",
       "      <td>With one member trimming beef in a cannery, an...</td>\n",
       "    </tr>\n",
       "  </tbody>\n",
       "</table>\n",
       "</div>"
      ],
      "text/plain": [
       "  prompt_id                                    prompt_question  \\\n",
       "0    39c16e  Summarize at least 3 elements of an ideal trag...   \n",
       "1    3b9047  In complete sentences, summarize the structure...   \n",
       "2    814d6b  Summarize how the Third Wave developed over su...   \n",
       "3    ebad26  Summarize the various ways the factory would u...   \n",
       "\n",
       "                prompt_title  \\\n",
       "0                 On Tragedy   \n",
       "1  Egyptian Social Structure   \n",
       "2             The Third Wave   \n",
       "3    Excerpt from The Jungle   \n",
       "\n",
       "                                         prompt_text  \n",
       "0  Chapter 13 \\r\\nAs the sequel to what has alrea...  \n",
       "1  Egyptian society was structured like a pyramid...  \n",
       "2  Background \\r\\nThe Third Wave experiment took ...  \n",
       "3  With one member trimming beef in a cannery, an...  "
      ]
     },
     "execution_count": 4,
     "metadata": {},
     "output_type": "execute_result"
    }
   ],
   "source": [
    "df_train_prompt.head()"
   ]
  },
  {
   "cell_type": "markdown",
   "id": "a4277e38",
   "metadata": {
    "papermill": {
     "duration": 0.012658,
     "end_time": "2023-08-19T09:47:50.500409",
     "exception": false,
     "start_time": "2023-08-19T09:47:50.487751",
     "status": "completed"
    },
    "tags": []
   },
   "source": [
    "### Load the summaries csv"
   ]
  },
  {
   "cell_type": "code",
   "execution_count": 5,
   "id": "effd1898",
   "metadata": {
    "execution": {
     "iopub.execute_input": "2023-08-19T09:47:50.528443Z",
     "iopub.status.busy": "2023-08-19T09:47:50.527698Z",
     "iopub.status.idle": "2023-08-19T09:47:50.639931Z",
     "shell.execute_reply": "2023-08-19T09:47:50.638224Z"
    },
    "papermill": {
     "duration": 0.128496,
     "end_time": "2023-08-19T09:47:50.641957",
     "exception": false,
     "start_time": "2023-08-19T09:47:50.513461",
     "status": "completed"
    },
    "tags": []
   },
   "outputs": [
    {
     "name": "stdout",
     "output_type": "stream",
     "text": [
      "Full summaries train dataset shape is (7165, 5)\n"
     ]
    }
   ],
   "source": [
    "df_train_summaries = pd.read_csv('/kaggle/input/commonlit-evaluate-student-summaries/summaries_train.csv')\n",
    "print(\"Full summaries train dataset shape is {}\".format(df_train_summaries.shape))"
   ]
  },
  {
   "cell_type": "markdown",
   "id": "caa95002",
   "metadata": {
    "papermill": {
     "duration": 0.012492,
     "end_time": "2023-08-19T09:47:50.667942",
     "exception": false,
     "start_time": "2023-08-19T09:47:50.655450",
     "status": "completed"
    },
    "tags": []
   },
   "source": [
    "The data is composed of 5 columns and 7165 entries. We can see all 5 dimensions of our dataset by printing out the first 5 entries using the following code:"
   ]
  },
  {
   "cell_type": "code",
   "execution_count": 6,
   "id": "498e05b1",
   "metadata": {
    "execution": {
     "iopub.execute_input": "2023-08-19T09:47:50.696076Z",
     "iopub.status.busy": "2023-08-19T09:47:50.695432Z",
     "iopub.status.idle": "2023-08-19T09:47:50.708661Z",
     "shell.execute_reply": "2023-08-19T09:47:50.707525Z"
    },
    "papermill": {
     "duration": 0.029999,
     "end_time": "2023-08-19T09:47:50.710939",
     "exception": false,
     "start_time": "2023-08-19T09:47:50.680940",
     "status": "completed"
    },
    "tags": []
   },
   "outputs": [
    {
     "data": {
      "text/html": [
       "<div>\n",
       "<style scoped>\n",
       "    .dataframe tbody tr th:only-of-type {\n",
       "        vertical-align: middle;\n",
       "    }\n",
       "\n",
       "    .dataframe tbody tr th {\n",
       "        vertical-align: top;\n",
       "    }\n",
       "\n",
       "    .dataframe thead th {\n",
       "        text-align: right;\n",
       "    }\n",
       "</style>\n",
       "<table border=\"1\" class=\"dataframe\">\n",
       "  <thead>\n",
       "    <tr style=\"text-align: right;\">\n",
       "      <th></th>\n",
       "      <th>student_id</th>\n",
       "      <th>prompt_id</th>\n",
       "      <th>text</th>\n",
       "      <th>content</th>\n",
       "      <th>wording</th>\n",
       "    </tr>\n",
       "  </thead>\n",
       "  <tbody>\n",
       "    <tr>\n",
       "      <th>0</th>\n",
       "      <td>000e8c3c7ddb</td>\n",
       "      <td>814d6b</td>\n",
       "      <td>The third wave was an experimentto see how peo...</td>\n",
       "      <td>0.205683</td>\n",
       "      <td>0.380538</td>\n",
       "    </tr>\n",
       "    <tr>\n",
       "      <th>1</th>\n",
       "      <td>0020ae56ffbf</td>\n",
       "      <td>ebad26</td>\n",
       "      <td>They would rub it up with soda to make the sme...</td>\n",
       "      <td>-0.548304</td>\n",
       "      <td>0.506755</td>\n",
       "    </tr>\n",
       "    <tr>\n",
       "      <th>2</th>\n",
       "      <td>004e978e639e</td>\n",
       "      <td>3b9047</td>\n",
       "      <td>In Egypt, there were many occupations and soci...</td>\n",
       "      <td>3.128928</td>\n",
       "      <td>4.231226</td>\n",
       "    </tr>\n",
       "    <tr>\n",
       "      <th>3</th>\n",
       "      <td>005ab0199905</td>\n",
       "      <td>3b9047</td>\n",
       "      <td>The highest class was Pharaohs these people we...</td>\n",
       "      <td>-0.210614</td>\n",
       "      <td>-0.471415</td>\n",
       "    </tr>\n",
       "    <tr>\n",
       "      <th>4</th>\n",
       "      <td>0070c9e7af47</td>\n",
       "      <td>814d6b</td>\n",
       "      <td>The Third Wave developed  rapidly because the ...</td>\n",
       "      <td>3.272894</td>\n",
       "      <td>3.219757</td>\n",
       "    </tr>\n",
       "  </tbody>\n",
       "</table>\n",
       "</div>"
      ],
      "text/plain": [
       "     student_id prompt_id                                               text  \\\n",
       "0  000e8c3c7ddb    814d6b  The third wave was an experimentto see how peo...   \n",
       "1  0020ae56ffbf    ebad26  They would rub it up with soda to make the sme...   \n",
       "2  004e978e639e    3b9047  In Egypt, there were many occupations and soci...   \n",
       "3  005ab0199905    3b9047  The highest class was Pharaohs these people we...   \n",
       "4  0070c9e7af47    814d6b  The Third Wave developed  rapidly because the ...   \n",
       "\n",
       "    content   wording  \n",
       "0  0.205683  0.380538  \n",
       "1 -0.548304  0.506755  \n",
       "2  3.128928  4.231226  \n",
       "3 -0.210614 -0.471415  \n",
       "4  3.272894  3.219757  "
      ]
     },
     "execution_count": 6,
     "metadata": {},
     "output_type": "execute_result"
    }
   ],
   "source": [
    "df_train_summaries.head()"
   ]
  },
  {
   "cell_type": "markdown",
   "id": "909cc9e4",
   "metadata": {
    "papermill": {
     "duration": 0.012737,
     "end_time": "2023-08-19T09:47:50.737028",
     "exception": false,
     "start_time": "2023-08-19T09:47:50.724291",
     "status": "completed"
    },
    "tags": []
   },
   "source": [
    "### Combine both summaries and prompt csv's based on prompt id"
   ]
  },
  {
   "cell_type": "code",
   "execution_count": 7,
   "id": "c3c53ce9",
   "metadata": {
    "execution": {
     "iopub.execute_input": "2023-08-19T09:47:50.765579Z",
     "iopub.status.busy": "2023-08-19T09:47:50.764625Z",
     "iopub.status.idle": "2023-08-19T09:47:50.789642Z",
     "shell.execute_reply": "2023-08-19T09:47:50.788102Z"
    },
    "papermill": {
     "duration": 0.042165,
     "end_time": "2023-08-19T09:47:50.792188",
     "exception": false,
     "start_time": "2023-08-19T09:47:50.750023",
     "status": "completed"
    },
    "tags": []
   },
   "outputs": [
    {
     "name": "stdout",
     "output_type": "stream",
     "text": [
      "Full summaries train dataset shape is (7165, 8)\n"
     ]
    }
   ],
   "source": [
    "df_train = df_train_summaries.merge(df_train_prompt, on='prompt_id')\n",
    "print(\"Full summaries train dataset shape is {}\".format(df_train.shape))"
   ]
  },
  {
   "cell_type": "markdown",
   "id": "1b8a09a3",
   "metadata": {
    "papermill": {
     "duration": 0.012809,
     "end_time": "2023-08-19T09:47:50.821191",
     "exception": false,
     "start_time": "2023-08-19T09:47:50.808382",
     "status": "completed"
    },
    "tags": []
   },
   "source": [
    "The data is composed of 8 columns and 7165 entries. We can see all 8 dimensions of our dataset by printing out the first 5 entries using the following code:"
   ]
  },
  {
   "cell_type": "code",
   "execution_count": 8,
   "id": "550e2017",
   "metadata": {
    "execution": {
     "iopub.execute_input": "2023-08-19T09:47:50.849756Z",
     "iopub.status.busy": "2023-08-19T09:47:50.848916Z",
     "iopub.status.idle": "2023-08-19T09:47:50.861998Z",
     "shell.execute_reply": "2023-08-19T09:47:50.860828Z"
    },
    "papermill": {
     "duration": 0.029214,
     "end_time": "2023-08-19T09:47:50.863712",
     "exception": false,
     "start_time": "2023-08-19T09:47:50.834498",
     "status": "completed"
    },
    "tags": []
   },
   "outputs": [
    {
     "data": {
      "text/html": [
       "<div>\n",
       "<style scoped>\n",
       "    .dataframe tbody tr th:only-of-type {\n",
       "        vertical-align: middle;\n",
       "    }\n",
       "\n",
       "    .dataframe tbody tr th {\n",
       "        vertical-align: top;\n",
       "    }\n",
       "\n",
       "    .dataframe thead th {\n",
       "        text-align: right;\n",
       "    }\n",
       "</style>\n",
       "<table border=\"1\" class=\"dataframe\">\n",
       "  <thead>\n",
       "    <tr style=\"text-align: right;\">\n",
       "      <th></th>\n",
       "      <th>student_id</th>\n",
       "      <th>prompt_id</th>\n",
       "      <th>text</th>\n",
       "      <th>content</th>\n",
       "      <th>wording</th>\n",
       "      <th>prompt_question</th>\n",
       "      <th>prompt_title</th>\n",
       "      <th>prompt_text</th>\n",
       "    </tr>\n",
       "  </thead>\n",
       "  <tbody>\n",
       "    <tr>\n",
       "      <th>0</th>\n",
       "      <td>000e8c3c7ddb</td>\n",
       "      <td>814d6b</td>\n",
       "      <td>The third wave was an experimentto see how peo...</td>\n",
       "      <td>0.205683</td>\n",
       "      <td>0.380538</td>\n",
       "      <td>Summarize how the Third Wave developed over su...</td>\n",
       "      <td>The Third Wave</td>\n",
       "      <td>Background \\r\\nThe Third Wave experiment took ...</td>\n",
       "    </tr>\n",
       "    <tr>\n",
       "      <th>1</th>\n",
       "      <td>0070c9e7af47</td>\n",
       "      <td>814d6b</td>\n",
       "      <td>The Third Wave developed  rapidly because the ...</td>\n",
       "      <td>3.272894</td>\n",
       "      <td>3.219757</td>\n",
       "      <td>Summarize how the Third Wave developed over su...</td>\n",
       "      <td>The Third Wave</td>\n",
       "      <td>Background \\r\\nThe Third Wave experiment took ...</td>\n",
       "    </tr>\n",
       "    <tr>\n",
       "      <th>2</th>\n",
       "      <td>0095993991fe</td>\n",
       "      <td>814d6b</td>\n",
       "      <td>The third wave only started as an experiment w...</td>\n",
       "      <td>0.205683</td>\n",
       "      <td>0.380538</td>\n",
       "      <td>Summarize how the Third Wave developed over su...</td>\n",
       "      <td>The Third Wave</td>\n",
       "      <td>Background \\r\\nThe Third Wave experiment took ...</td>\n",
       "    </tr>\n",
       "    <tr>\n",
       "      <th>3</th>\n",
       "      <td>00c20c6ddd23</td>\n",
       "      <td>814d6b</td>\n",
       "      <td>The experimen was orginally about how even whe...</td>\n",
       "      <td>0.567975</td>\n",
       "      <td>0.969062</td>\n",
       "      <td>Summarize how the Third Wave developed over su...</td>\n",
       "      <td>The Third Wave</td>\n",
       "      <td>Background \\r\\nThe Third Wave experiment took ...</td>\n",
       "    </tr>\n",
       "    <tr>\n",
       "      <th>4</th>\n",
       "      <td>00d40ad10dc9</td>\n",
       "      <td>814d6b</td>\n",
       "      <td>The third wave developed so quickly due to the...</td>\n",
       "      <td>-0.910596</td>\n",
       "      <td>-0.081769</td>\n",
       "      <td>Summarize how the Third Wave developed over su...</td>\n",
       "      <td>The Third Wave</td>\n",
       "      <td>Background \\r\\nThe Third Wave experiment took ...</td>\n",
       "    </tr>\n",
       "  </tbody>\n",
       "</table>\n",
       "</div>"
      ],
      "text/plain": [
       "     student_id prompt_id                                               text  \\\n",
       "0  000e8c3c7ddb    814d6b  The third wave was an experimentto see how peo...   \n",
       "1  0070c9e7af47    814d6b  The Third Wave developed  rapidly because the ...   \n",
       "2  0095993991fe    814d6b  The third wave only started as an experiment w...   \n",
       "3  00c20c6ddd23    814d6b  The experimen was orginally about how even whe...   \n",
       "4  00d40ad10dc9    814d6b  The third wave developed so quickly due to the...   \n",
       "\n",
       "    content   wording                                    prompt_question  \\\n",
       "0  0.205683  0.380538  Summarize how the Third Wave developed over su...   \n",
       "1  3.272894  3.219757  Summarize how the Third Wave developed over su...   \n",
       "2  0.205683  0.380538  Summarize how the Third Wave developed over su...   \n",
       "3  0.567975  0.969062  Summarize how the Third Wave developed over su...   \n",
       "4 -0.910596 -0.081769  Summarize how the Third Wave developed over su...   \n",
       "\n",
       "     prompt_title                                        prompt_text  \n",
       "0  The Third Wave  Background \\r\\nThe Third Wave experiment took ...  \n",
       "1  The Third Wave  Background \\r\\nThe Third Wave experiment took ...  \n",
       "2  The Third Wave  Background \\r\\nThe Third Wave experiment took ...  \n",
       "3  The Third Wave  Background \\r\\nThe Third Wave experiment took ...  \n",
       "4  The Third Wave  Background \\r\\nThe Third Wave experiment took ...  "
      ]
     },
     "execution_count": 8,
     "metadata": {},
     "output_type": "execute_result"
    }
   ],
   "source": [
    "df_train.head()"
   ]
  },
  {
   "cell_type": "markdown",
   "id": "f5c01916",
   "metadata": {
    "papermill": {
     "duration": 0.013013,
     "end_time": "2023-08-19T09:47:50.890218",
     "exception": false,
     "start_time": "2023-08-19T09:47:50.877205",
     "status": "completed"
    },
    "tags": []
   },
   "source": [
    "# Quick basic dataset exploration"
   ]
  },
  {
   "cell_type": "code",
   "execution_count": 9,
   "id": "b5a234a7",
   "metadata": {
    "execution": {
     "iopub.execute_input": "2023-08-19T09:47:50.918928Z",
     "iopub.status.busy": "2023-08-19T09:47:50.918073Z",
     "iopub.status.idle": "2023-08-19T09:47:50.939312Z",
     "shell.execute_reply": "2023-08-19T09:47:50.937977Z"
    },
    "papermill": {
     "duration": 0.037532,
     "end_time": "2023-08-19T09:47:50.941182",
     "exception": false,
     "start_time": "2023-08-19T09:47:50.903650",
     "status": "completed"
    },
    "tags": []
   },
   "outputs": [
    {
     "data": {
      "text/html": [
       "<div>\n",
       "<style scoped>\n",
       "    .dataframe tbody tr th:only-of-type {\n",
       "        vertical-align: middle;\n",
       "    }\n",
       "\n",
       "    .dataframe tbody tr th {\n",
       "        vertical-align: top;\n",
       "    }\n",
       "\n",
       "    .dataframe thead th {\n",
       "        text-align: right;\n",
       "    }\n",
       "</style>\n",
       "<table border=\"1\" class=\"dataframe\">\n",
       "  <thead>\n",
       "    <tr style=\"text-align: right;\">\n",
       "      <th></th>\n",
       "      <th>content</th>\n",
       "      <th>wording</th>\n",
       "    </tr>\n",
       "  </thead>\n",
       "  <tbody>\n",
       "    <tr>\n",
       "      <th>count</th>\n",
       "      <td>7165.000000</td>\n",
       "      <td>7165.000000</td>\n",
       "    </tr>\n",
       "    <tr>\n",
       "      <th>mean</th>\n",
       "      <td>-0.014853</td>\n",
       "      <td>-0.063072</td>\n",
       "    </tr>\n",
       "    <tr>\n",
       "      <th>std</th>\n",
       "      <td>1.043569</td>\n",
       "      <td>1.036048</td>\n",
       "    </tr>\n",
       "    <tr>\n",
       "      <th>min</th>\n",
       "      <td>-1.729859</td>\n",
       "      <td>-1.962614</td>\n",
       "    </tr>\n",
       "    <tr>\n",
       "      <th>25%</th>\n",
       "      <td>-0.799545</td>\n",
       "      <td>-0.872720</td>\n",
       "    </tr>\n",
       "    <tr>\n",
       "      <th>50%</th>\n",
       "      <td>-0.093814</td>\n",
       "      <td>-0.081769</td>\n",
       "    </tr>\n",
       "    <tr>\n",
       "      <th>75%</th>\n",
       "      <td>0.499660</td>\n",
       "      <td>0.503833</td>\n",
       "    </tr>\n",
       "    <tr>\n",
       "      <th>max</th>\n",
       "      <td>3.900326</td>\n",
       "      <td>4.310693</td>\n",
       "    </tr>\n",
       "  </tbody>\n",
       "</table>\n",
       "</div>"
      ],
      "text/plain": [
       "           content      wording\n",
       "count  7165.000000  7165.000000\n",
       "mean     -0.014853    -0.063072\n",
       "std       1.043569     1.036048\n",
       "min      -1.729859    -1.962614\n",
       "25%      -0.799545    -0.872720\n",
       "50%      -0.093814    -0.081769\n",
       "75%       0.499660     0.503833\n",
       "max       3.900326     4.310693"
      ]
     },
     "execution_count": 9,
     "metadata": {},
     "output_type": "execute_result"
    }
   ],
   "source": [
    "df_train.describe()"
   ]
  },
  {
   "cell_type": "code",
   "execution_count": 10,
   "id": "2583e4eb",
   "metadata": {
    "execution": {
     "iopub.execute_input": "2023-08-19T09:47:50.971184Z",
     "iopub.status.busy": "2023-08-19T09:47:50.970398Z",
     "iopub.status.idle": "2023-08-19T09:47:50.995567Z",
     "shell.execute_reply": "2023-08-19T09:47:50.994830Z"
    },
    "papermill": {
     "duration": 0.042461,
     "end_time": "2023-08-19T09:47:50.997411",
     "exception": false,
     "start_time": "2023-08-19T09:47:50.954950",
     "status": "completed"
    },
    "tags": []
   },
   "outputs": [
    {
     "name": "stdout",
     "output_type": "stream",
     "text": [
      "<class 'pandas.core.frame.DataFrame'>\n",
      "Int64Index: 7165 entries, 0 to 7164\n",
      "Data columns (total 8 columns):\n",
      " #   Column           Non-Null Count  Dtype  \n",
      "---  ------           --------------  -----  \n",
      " 0   student_id       7165 non-null   object \n",
      " 1   prompt_id        7165 non-null   object \n",
      " 2   text             7165 non-null   object \n",
      " 3   content          7165 non-null   float64\n",
      " 4   wording          7165 non-null   float64\n",
      " 5   prompt_question  7165 non-null   object \n",
      " 6   prompt_title     7165 non-null   object \n",
      " 7   prompt_text      7165 non-null   object \n",
      "dtypes: float64(2), object(6)\n",
      "memory usage: 503.8+ KB\n"
     ]
    }
   ],
   "source": [
    "df_train.info()"
   ]
  },
  {
   "cell_type": "markdown",
   "id": "0ea1b3fb",
   "metadata": {
    "papermill": {
     "duration": 0.013231,
     "end_time": "2023-08-19T09:47:51.025128",
     "exception": false,
     "start_time": "2023-08-19T09:47:51.011897",
     "status": "completed"
    },
    "tags": []
   },
   "source": [
    "# Label data distribution"
   ]
  },
  {
   "cell_type": "code",
   "execution_count": 11,
   "id": "eaae6b15",
   "metadata": {
    "execution": {
     "iopub.execute_input": "2023-08-19T09:47:51.053544Z",
     "iopub.status.busy": "2023-08-19T09:47:51.053026Z",
     "iopub.status.idle": "2023-08-19T09:47:51.550748Z",
     "shell.execute_reply": "2023-08-19T09:47:51.549453Z"
    },
    "papermill": {
     "duration": 0.514864,
     "end_time": "2023-08-19T09:47:51.553159",
     "exception": false,
     "start_time": "2023-08-19T09:47:51.038295",
     "status": "completed"
    },
    "tags": []
   },
   "outputs": [
    {
     "data": {
      "image/png": "[encoded data removed]",
      "text/plain": [
       "<Figure size 1500x500 with 2 Axes>"
      ]
     },
     "metadata": {},
     "output_type": "display_data"
    }
   ],
   "source": [
    "plt.figure(figsize = (15, 5))\n",
    "plt.subplot(1, 2, 1)\n",
    "sns.histplot(data=df_train, x='content')\n",
    "plt.subplot(1, 2, 2)\n",
    "sns.histplot(data=df_train, x='wording')\n",
    "plt.show()"
   ]
  },
  {
   "cell_type": "markdown",
   "id": "72eaaa35",
   "metadata": {
    "papermill": {
     "duration": 0.013404,
     "end_time": "2023-08-19T09:47:51.580463",
     "exception": false,
     "start_time": "2023-08-19T09:47:51.567059",
     "status": "completed"
    },
    "tags": []
   },
   "source": [
    "# LLM vs Non-LLM solutions\n",
    "\n",
    "In this notebook, we won't be using an LLM model to embedd the text features. Instead we will calculate some numeric features from the text features like token count, length etc. Using these numeric features, we can create tabular data that can be used train our Model. This approach shows that sometimes non-LLM solutions can also give good results.   "
   ]
  },
  {
   "cell_type": "markdown",
   "id": "4baaeed1",
   "metadata": {
    "papermill": {
     "duration": 0.013715,
     "end_time": "2023-08-19T09:47:51.608218",
     "exception": false,
     "start_time": "2023-08-19T09:47:51.594503",
     "status": "completed"
    },
    "tags": []
   },
   "source": [
    "# Preprocess the data"
   ]
  },
  {
   "cell_type": "code",
   "execution_count": 12,
   "id": "99f449c6",
   "metadata": {
    "execution": {
     "iopub.execute_input": "2023-08-19T09:47:51.638170Z",
     "iopub.status.busy": "2023-08-19T09:47:51.637593Z",
     "iopub.status.idle": "2023-08-19T09:47:51.646323Z",
     "shell.execute_reply": "2023-08-19T09:47:51.645392Z"
    },
    "papermill": {
     "duration": 0.02649,
     "end_time": "2023-08-19T09:47:51.648653",
     "exception": false,
     "start_time": "2023-08-19T09:47:51.622163",
     "status": "completed"
    },
    "tags": []
   },
   "outputs": [],
   "source": [
    "# Reference: https://www.kaggle.com/code/sercanyesiloz/commonlit-tf-idf-xgb-baseline#4.-Feature-Engineering\n",
    "\n",
    "# A stop word is a commonly used word (such as “the”, “a”, “an”, “in”) that a search engine has been programmed to ignore, \n",
    "# both when indexing entries for searching and when retrieving them as the result of a search query.\n",
    "# Count the stop words in the text.\n",
    "def count_stopwords(text: str) -> int:\n",
    "    stopword_list = set(stopwords.words('english'))\n",
    "    words = text.split()\n",
    "    stopwords_count = sum(1 for word in words if word.lower() in stopword_list)\n",
    "    return stopwords_count\n",
    "\n",
    "# Count the punctuations in the text.\n",
    "# punctuation_set -> !\"#$%&'()*+, -./:;<=>?@[\\]^_`{|}~\n",
    "def count_punctuation(text: str) -> int:\n",
    "    punctuation_set = set(string.punctuation)\n",
    "    punctuation_count = sum(1 for char in text if char in punctuation_set)\n",
    "    return punctuation_count\n",
    "\n",
    "# Count the digits in the text.\n",
    "def count_numbers(text: str) -> int:\n",
    "    numbers = re.findall(r'\\d+', text)\n",
    "    numbers_count = len(numbers)\n",
    "    return numbers_count\n",
    "\n",
    "# This function applies all the above preprocessing functions on a text feature.\n",
    "def feature_engineer(dataframe: pd.DataFrame, feature: str = 'text') -> pd.DataFrame:\n",
    "    dataframe[f'{feature}_word_cnt'] = dataframe[feature].apply(lambda x: len(x.split(' ')))\n",
    "    dataframe[f'{feature}_length'] = dataframe[feature].apply(lambda x: len(x))\n",
    "    dataframe[f'{feature}_stopword_cnt'] = dataframe[feature].apply(lambda x: count_stopwords(x))\n",
    "    dataframe[f'{feature}_punct_cnt'] = dataframe[feature].apply(lambda x: count_punctuation(x))\n",
    "    dataframe[f'{feature}_number_cnt'] = dataframe[feature].apply(lambda x: count_numbers(x))\n",
    "    return dataframe"
   ]
  },
  {
   "cell_type": "code",
   "execution_count": 13,
   "id": "e3fa646d",
   "metadata": {
    "execution": {
     "iopub.execute_input": "2023-08-19T09:47:51.679631Z",
     "iopub.status.busy": "2023-08-19T09:47:51.679295Z",
     "iopub.status.idle": "2023-08-19T09:47:52.867424Z",
     "shell.execute_reply": "2023-08-19T09:47:52.865751Z"
    },
    "papermill": {
     "duration": 1.206971,
     "end_time": "2023-08-19T09:47:52.870100",
     "exception": false,
     "start_time": "2023-08-19T09:47:51.663129",
     "status": "completed"
    },
    "tags": []
   },
   "outputs": [
    {
     "name": "stdout",
     "output_type": "stream",
     "text": [
      "Full summaries train dataset shape is (7165, 13)\n"
     ]
    }
   ],
   "source": [
    "preprocessed_df = feature_engineer(df_train)\n",
    "print(\"Full summaries train dataset shape is {}\".format(preprocessed_df.shape))"
   ]
  },
  {
   "cell_type": "markdown",
   "id": "f2b38033",
   "metadata": {
    "papermill": {
     "duration": 0.013661,
     "end_time": "2023-08-19T09:47:52.898210",
     "exception": false,
     "start_time": "2023-08-19T09:47:52.884549",
     "status": "completed"
    },
    "tags": []
   },
   "source": [
    "The data is composed of 13 columns and 7165 entries. We can see all 13 dimensions of our dataset by printing out the first 5 entries using the following code:"
   ]
  },
  {
   "cell_type": "code",
   "execution_count": 14,
   "id": "f3c98926",
   "metadata": {
    "execution": {
     "iopub.execute_input": "2023-08-19T09:47:52.928139Z",
     "iopub.status.busy": "2023-08-19T09:47:52.927762Z",
     "iopub.status.idle": "2023-08-19T09:47:52.944497Z",
     "shell.execute_reply": "2023-08-19T09:47:52.943156Z"
    },
    "papermill": {
     "duration": 0.034426,
     "end_time": "2023-08-19T09:47:52.946775",
     "exception": false,
     "start_time": "2023-08-19T09:47:52.912349",
     "status": "completed"
    },
    "tags": []
   },
   "outputs": [
    {
     "data": {
      "text/html": [
       "<div>\n",
       "<style scoped>\n",
       "    .dataframe tbody tr th:only-of-type {\n",
       "        vertical-align: middle;\n",
       "    }\n",
       "\n",
       "    .dataframe tbody tr th {\n",
       "        vertical-align: top;\n",
       "    }\n",
       "\n",
       "    .dataframe thead th {\n",
       "        text-align: right;\n",
       "    }\n",
       "</style>\n",
       "<table border=\"1\" class=\"dataframe\">\n",
       "  <thead>\n",
       "    <tr style=\"text-align: right;\">\n",
       "      <th></th>\n",
       "      <th>student_id</th>\n",
       "      <th>prompt_id</th>\n",
       "      <th>text</th>\n",
       "      <th>content</th>\n",
       "      <th>wording</th>\n",
       "      <th>prompt_question</th>\n",
       "      <th>prompt_title</th>\n",
       "      <th>prompt_text</th>\n",
       "      <th>text_word_cnt</th>\n",
       "      <th>text_length</th>\n",
       "      <th>text_stopword_cnt</th>\n",
       "      <th>text_punct_cnt</th>\n",
       "      <th>text_number_cnt</th>\n",
       "    </tr>\n",
       "  </thead>\n",
       "  <tbody>\n",
       "    <tr>\n",
       "      <th>0</th>\n",
       "      <td>000e8c3c7ddb</td>\n",
       "      <td>814d6b</td>\n",
       "      <td>The third wave was an experimentto see how peo...</td>\n",
       "      <td>0.205683</td>\n",
       "      <td>0.380538</td>\n",
       "      <td>Summarize how the Third Wave developed over su...</td>\n",
       "      <td>The Third Wave</td>\n",
       "      <td>Background \\r\\nThe Third Wave experiment took ...</td>\n",
       "      <td>61</td>\n",
       "      <td>346</td>\n",
       "      <td>25</td>\n",
       "      <td>3</td>\n",
       "      <td>0</td>\n",
       "    </tr>\n",
       "    <tr>\n",
       "      <th>1</th>\n",
       "      <td>0070c9e7af47</td>\n",
       "      <td>814d6b</td>\n",
       "      <td>The Third Wave developed  rapidly because the ...</td>\n",
       "      <td>3.272894</td>\n",
       "      <td>3.219757</td>\n",
       "      <td>Summarize how the Third Wave developed over su...</td>\n",
       "      <td>The Third Wave</td>\n",
       "      <td>Background \\r\\nThe Third Wave experiment took ...</td>\n",
       "      <td>206</td>\n",
       "      <td>1225</td>\n",
       "      <td>92</td>\n",
       "      <td>30</td>\n",
       "      <td>3</td>\n",
       "    </tr>\n",
       "    <tr>\n",
       "      <th>2</th>\n",
       "      <td>0095993991fe</td>\n",
       "      <td>814d6b</td>\n",
       "      <td>The third wave only started as an experiment w...</td>\n",
       "      <td>0.205683</td>\n",
       "      <td>0.380538</td>\n",
       "      <td>Summarize how the Third Wave developed over su...</td>\n",
       "      <td>The Third Wave</td>\n",
       "      <td>Background \\r\\nThe Third Wave experiment took ...</td>\n",
       "      <td>60</td>\n",
       "      <td>345</td>\n",
       "      <td>27</td>\n",
       "      <td>9</td>\n",
       "      <td>0</td>\n",
       "    </tr>\n",
       "    <tr>\n",
       "      <th>3</th>\n",
       "      <td>00c20c6ddd23</td>\n",
       "      <td>814d6b</td>\n",
       "      <td>The experimen was orginally about how even whe...</td>\n",
       "      <td>0.567975</td>\n",
       "      <td>0.969062</td>\n",
       "      <td>Summarize how the Third Wave developed over su...</td>\n",
       "      <td>The Third Wave</td>\n",
       "      <td>Background \\r\\nThe Third Wave experiment took ...</td>\n",
       "      <td>76</td>\n",
       "      <td>451</td>\n",
       "      <td>35</td>\n",
       "      <td>10</td>\n",
       "      <td>0</td>\n",
       "    </tr>\n",
       "    <tr>\n",
       "      <th>4</th>\n",
       "      <td>00d40ad10dc9</td>\n",
       "      <td>814d6b</td>\n",
       "      <td>The third wave developed so quickly due to the...</td>\n",
       "      <td>-0.910596</td>\n",
       "      <td>-0.081769</td>\n",
       "      <td>Summarize how the Third Wave developed over su...</td>\n",
       "      <td>The Third Wave</td>\n",
       "      <td>Background \\r\\nThe Third Wave experiment took ...</td>\n",
       "      <td>27</td>\n",
       "      <td>145</td>\n",
       "      <td>12</td>\n",
       "      <td>2</td>\n",
       "      <td>0</td>\n",
       "    </tr>\n",
       "  </tbody>\n",
       "</table>\n",
       "</div>"
      ],
      "text/plain": [
       "     student_id prompt_id                                               text  \\\n",
       "0  000e8c3c7ddb    814d6b  The third wave was an experimentto see how peo...   \n",
       "1  0070c9e7af47    814d6b  The Third Wave developed  rapidly because the ...   \n",
       "2  0095993991fe    814d6b  The third wave only started as an experiment w...   \n",
       "3  00c20c6ddd23    814d6b  The experimen was orginally about how even whe...   \n",
       "4  00d40ad10dc9    814d6b  The third wave developed so quickly due to the...   \n",
       "\n",
       "    content   wording                                    prompt_question  \\\n",
       "0  0.205683  0.380538  Summarize how the Third Wave developed over su...   \n",
       "1  3.272894  3.219757  Summarize how the Third Wave developed over su...   \n",
       "2  0.205683  0.380538  Summarize how the Third Wave developed over su...   \n",
       "3  0.567975  0.969062  Summarize how the Third Wave developed over su...   \n",
       "4 -0.910596 -0.081769  Summarize how the Third Wave developed over su...   \n",
       "\n",
       "     prompt_title                                        prompt_text  \\\n",
       "0  The Third Wave  Background \\r\\nThe Third Wave experiment took ...   \n",
       "1  The Third Wave  Background \\r\\nThe Third Wave experiment took ...   \n",
       "2  The Third Wave  Background \\r\\nThe Third Wave experiment took ...   \n",
       "3  The Third Wave  Background \\r\\nThe Third Wave experiment took ...   \n",
       "4  The Third Wave  Background \\r\\nThe Third Wave experiment took ...   \n",
       "\n",
       "   text_word_cnt  text_length  text_stopword_cnt  text_punct_cnt  \\\n",
       "0             61          346                 25               3   \n",
       "1            206         1225                 92              30   \n",
       "2             60          345                 27               9   \n",
       "3             76          451                 35              10   \n",
       "4             27          145                 12               2   \n",
       "\n",
       "   text_number_cnt  \n",
       "0                0  \n",
       "1                3  \n",
       "2                0  \n",
       "3                0  \n",
       "4                0  "
      ]
     },
     "execution_count": 14,
     "metadata": {},
     "output_type": "execute_result"
    }
   ],
   "source": [
    "preprocessed_df.head()"
   ]
  },
  {
   "cell_type": "code",
   "execution_count": 15,
   "id": "5b708e87",
   "metadata": {
    "execution": {
     "iopub.execute_input": "2023-08-19T09:47:52.977347Z",
     "iopub.status.busy": "2023-08-19T09:47:52.977002Z",
     "iopub.status.idle": "2023-08-19T09:47:53.005655Z",
     "shell.execute_reply": "2023-08-19T09:47:53.004845Z"
    },
    "papermill": {
     "duration": 0.046281,
     "end_time": "2023-08-19T09:47:53.007568",
     "exception": false,
     "start_time": "2023-08-19T09:47:52.961287",
     "status": "completed"
    },
    "tags": []
   },
   "outputs": [
    {
     "data": {
      "text/html": [
       "<div>\n",
       "<style scoped>\n",
       "    .dataframe tbody tr th:only-of-type {\n",
       "        vertical-align: middle;\n",
       "    }\n",
       "\n",
       "    .dataframe tbody tr th {\n",
       "        vertical-align: top;\n",
       "    }\n",
       "\n",
       "    .dataframe thead th {\n",
       "        text-align: right;\n",
       "    }\n",
       "</style>\n",
       "<table border=\"1\" class=\"dataframe\">\n",
       "  <thead>\n",
       "    <tr style=\"text-align: right;\">\n",
       "      <th></th>\n",
       "      <th>content</th>\n",
       "      <th>wording</th>\n",
       "      <th>text_word_cnt</th>\n",
       "      <th>text_length</th>\n",
       "      <th>text_stopword_cnt</th>\n",
       "      <th>text_punct_cnt</th>\n",
       "      <th>text_number_cnt</th>\n",
       "    </tr>\n",
       "  </thead>\n",
       "  <tbody>\n",
       "    <tr>\n",
       "      <th>count</th>\n",
       "      <td>7165.000000</td>\n",
       "      <td>7165.000000</td>\n",
       "      <td>7165.000000</td>\n",
       "      <td>7165.000000</td>\n",
       "      <td>7165.000000</td>\n",
       "      <td>7165.000000</td>\n",
       "      <td>7165.000000</td>\n",
       "    </tr>\n",
       "    <tr>\n",
       "      <th>mean</th>\n",
       "      <td>-0.014853</td>\n",
       "      <td>-0.063072</td>\n",
       "      <td>76.155618</td>\n",
       "      <td>418.776971</td>\n",
       "      <td>36.306769</td>\n",
       "      <td>9.355059</td>\n",
       "      <td>0.378786</td>\n",
       "    </tr>\n",
       "    <tr>\n",
       "      <th>std</th>\n",
       "      <td>1.043569</td>\n",
       "      <td>1.036048</td>\n",
       "      <td>54.538587</td>\n",
       "      <td>307.833685</td>\n",
       "      <td>25.813092</td>\n",
       "      <td>9.474397</td>\n",
       "      <td>0.937313</td>\n",
       "    </tr>\n",
       "    <tr>\n",
       "      <th>min</th>\n",
       "      <td>-1.729859</td>\n",
       "      <td>-1.962614</td>\n",
       "      <td>22.000000</td>\n",
       "      <td>114.000000</td>\n",
       "      <td>5.000000</td>\n",
       "      <td>0.000000</td>\n",
       "      <td>0.000000</td>\n",
       "    </tr>\n",
       "    <tr>\n",
       "      <th>25%</th>\n",
       "      <td>-0.799545</td>\n",
       "      <td>-0.872720</td>\n",
       "      <td>40.000000</td>\n",
       "      <td>216.000000</td>\n",
       "      <td>19.000000</td>\n",
       "      <td>4.000000</td>\n",
       "      <td>0.000000</td>\n",
       "    </tr>\n",
       "    <tr>\n",
       "      <th>50%</th>\n",
       "      <td>-0.093814</td>\n",
       "      <td>-0.081769</td>\n",
       "      <td>59.000000</td>\n",
       "      <td>320.000000</td>\n",
       "      <td>28.000000</td>\n",
       "      <td>6.000000</td>\n",
       "      <td>0.000000</td>\n",
       "    </tr>\n",
       "    <tr>\n",
       "      <th>75%</th>\n",
       "      <td>0.499660</td>\n",
       "      <td>0.503833</td>\n",
       "      <td>93.000000</td>\n",
       "      <td>513.000000</td>\n",
       "      <td>45.000000</td>\n",
       "      <td>12.000000</td>\n",
       "      <td>0.000000</td>\n",
       "    </tr>\n",
       "    <tr>\n",
       "      <th>max</th>\n",
       "      <td>3.900326</td>\n",
       "      <td>4.310693</td>\n",
       "      <td>651.000000</td>\n",
       "      <td>3940.000000</td>\n",
       "      <td>315.000000</td>\n",
       "      <td>162.000000</td>\n",
       "      <td>14.000000</td>\n",
       "    </tr>\n",
       "  </tbody>\n",
       "</table>\n",
       "</div>"
      ],
      "text/plain": [
       "           content      wording  text_word_cnt  text_length  \\\n",
       "count  7165.000000  7165.000000    7165.000000  7165.000000   \n",
       "mean     -0.014853    -0.063072      76.155618   418.776971   \n",
       "std       1.043569     1.036048      54.538587   307.833685   \n",
       "min      -1.729859    -1.962614      22.000000   114.000000   \n",
       "25%      -0.799545    -0.872720      40.000000   216.000000   \n",
       "50%      -0.093814    -0.081769      59.000000   320.000000   \n",
       "75%       0.499660     0.503833      93.000000   513.000000   \n",
       "max       3.900326     4.310693     651.000000  3940.000000   \n",
       "\n",
       "       text_stopword_cnt  text_punct_cnt  text_number_cnt  \n",
       "count        7165.000000     7165.000000      7165.000000  \n",
       "mean           36.306769        9.355059         0.378786  \n",
       "std            25.813092        9.474397         0.937313  \n",
       "min             5.000000        0.000000         0.000000  \n",
       "25%            19.000000        4.000000         0.000000  \n",
       "50%            28.000000        6.000000         0.000000  \n",
       "75%            45.000000       12.000000         0.000000  \n",
       "max           315.000000      162.000000        14.000000  "
      ]
     },
     "execution_count": 15,
     "metadata": {},
     "output_type": "execute_result"
    }
   ],
   "source": [
    "preprocessed_df.describe()"
   ]
  },
  {
   "cell_type": "markdown",
   "id": "8652b967",
   "metadata": {
    "papermill": {
     "duration": 0.014414,
     "end_time": "2023-08-19T09:47:53.037076",
     "exception": false,
     "start_time": "2023-08-19T09:47:53.022662",
     "status": "completed"
    },
    "tags": []
   },
   "source": [
    "## Extract feature columns"
   ]
  },
  {
   "cell_type": "code",
   "execution_count": 16,
   "id": "6666f029",
   "metadata": {
    "execution": {
     "iopub.execute_input": "2023-08-19T09:47:53.068893Z",
     "iopub.status.busy": "2023-08-19T09:47:53.068191Z",
     "iopub.status.idle": "2023-08-19T09:47:53.074844Z",
     "shell.execute_reply": "2023-08-19T09:47:53.073622Z"
    },
    "papermill": {
     "duration": 0.025845,
     "end_time": "2023-08-19T09:47:53.077511",
     "exception": false,
     "start_time": "2023-08-19T09:47:53.051666",
     "status": "completed"
    },
    "tags": []
   },
   "outputs": [],
   "source": [
    "FEATURE_COLUMNS = preprocessed_df.drop(columns = ['student_id', 'prompt_id', 'text', 'prompt_question', \n",
    "                                           'prompt_title', 'prompt_text', 'content', 'wording'], axis = 1).columns.to_list()"
   ]
  },
  {
   "cell_type": "code",
   "execution_count": 17,
   "id": "c32f5368",
   "metadata": {
    "execution": {
     "iopub.execute_input": "2023-08-19T09:47:53.109292Z",
     "iopub.status.busy": "2023-08-19T09:47:53.108716Z",
     "iopub.status.idle": "2023-08-19T09:47:53.114910Z",
     "shell.execute_reply": "2023-08-19T09:47:53.113523Z"
    },
    "papermill": {
     "duration": 0.024159,
     "end_time": "2023-08-19T09:47:53.116755",
     "exception": false,
     "start_time": "2023-08-19T09:47:53.092596",
     "status": "completed"
    },
    "tags": []
   },
   "outputs": [
    {
     "data": {
      "text/plain": [
       "['text_word_cnt',\n",
       " 'text_length',\n",
       " 'text_stopword_cnt',\n",
       " 'text_punct_cnt',\n",
       " 'text_number_cnt']"
      ]
     },
     "execution_count": 17,
     "metadata": {},
     "output_type": "execute_result"
    }
   ],
   "source": [
    "FEATURE_COLUMNS"
   ]
  },
  {
   "cell_type": "markdown",
   "id": "b037d3f2",
   "metadata": {
    "papermill": {
     "duration": 0.014991,
     "end_time": "2023-08-19T09:47:53.146247",
     "exception": false,
     "start_time": "2023-08-19T09:47:53.131256",
     "status": "completed"
    },
    "tags": []
   },
   "source": [
    "## Plot feature columns"
   ]
  },
  {
   "cell_type": "code",
   "execution_count": 18,
   "id": "0c7821bb",
   "metadata": {
    "execution": {
     "iopub.execute_input": "2023-08-19T09:47:53.178007Z",
     "iopub.status.busy": "2023-08-19T09:47:53.176726Z",
     "iopub.status.idle": "2023-08-19T09:51:04.141024Z",
     "shell.execute_reply": "2023-08-19T09:51:04.139367Z"
    },
    "papermill": {
     "duration": 190.995112,
     "end_time": "2023-08-19T09:51:04.155984",
     "exception": false,
     "start_time": "2023-08-19T09:47:53.160872",
     "status": "completed"
    },
    "tags": []
   },
   "outputs": [
    {
     "data": {
      "image/png": "[encoded data removed]",
      "text/plain": [
       "<Figure size 1500x1500 with 6 Axes>"
      ]
     },
     "metadata": {},
     "output_type": "display_data"
    }
   ],
   "source": [
    "figure, axis = plt.subplots(3, 2, figsize=(15, 15))\n",
    "plt.subplots_adjust(hspace=0.25, wspace=0.3)\n",
    "\n",
    "for i, column_name in enumerate(FEATURE_COLUMNS):\n",
    "    row = i//2\n",
    "    col = i % 2\n",
    "    bp = sns.barplot(ax=axis[row, col], x=preprocessed_df['student_id'], y=preprocessed_df[column_name])\n",
    "    bp.set(xticklabels=[])\n",
    "    axis[row, col].set_title(column_name)\n",
    "axis[2, 1].set_visible(False)\n",
    "plt.show()"
   ]
  },
  {
   "cell_type": "markdown",
   "id": "49ef812f",
   "metadata": {
    "papermill": {
     "duration": 0.015488,
     "end_time": "2023-08-19T09:51:04.187425",
     "exception": false,
     "start_time": "2023-08-19T09:51:04.171937",
     "status": "completed"
    },
    "tags": []
   },
   "source": [
    "Now let us split the dataset into training and testing datasets:"
   ]
  },
  {
   "cell_type": "code",
   "execution_count": 19,
   "id": "3110b313",
   "metadata": {
    "execution": {
     "iopub.execute_input": "2023-08-19T09:51:04.222876Z",
     "iopub.status.busy": "2023-08-19T09:51:04.222480Z",
     "iopub.status.idle": "2023-08-19T09:51:04.235001Z",
     "shell.execute_reply": "2023-08-19T09:51:04.233723Z"
    },
    "papermill": {
     "duration": 0.032783,
     "end_time": "2023-08-19T09:51:04.236909",
     "exception": false,
     "start_time": "2023-08-19T09:51:04.204126",
     "status": "completed"
    },
    "tags": []
   },
   "outputs": [
    {
     "data": {
      "text/plain": [
       "((5647, 13), (1518, 13))"
      ]
     },
     "execution_count": 19,
     "metadata": {},
     "output_type": "execute_result"
    }
   ],
   "source": [
    "def split_dataset(dataset, test_ratio=0.20):\n",
    "    test_indices = np.random.rand(len(dataset)) < test_ratio\n",
    "    return dataset[~test_indices], dataset[test_indices]\n",
    "\n",
    "train_ds_pd, valid_ds_pd = split_dataset(preprocessed_df)\n",
    "train_ds_pd.shape, valid_ds_pd.shape"
   ]
  },
  {
   "cell_type": "code",
   "execution_count": 20,
   "id": "8357491c",
   "metadata": {
    "execution": {
     "iopub.execute_input": "2023-08-19T09:51:04.271285Z",
     "iopub.status.busy": "2023-08-19T09:51:04.270720Z",
     "iopub.status.idle": "2023-08-19T09:51:04.288662Z",
     "shell.execute_reply": "2023-08-19T09:51:04.287259Z"
    },
    "papermill": {
     "duration": 0.038097,
     "end_time": "2023-08-19T09:51:04.290855",
     "exception": false,
     "start_time": "2023-08-19T09:51:04.252758",
     "status": "completed"
    },
    "tags": []
   },
   "outputs": [
    {
     "data": {
      "text/html": [
       "<div>\n",
       "<style scoped>\n",
       "    .dataframe tbody tr th:only-of-type {\n",
       "        vertical-align: middle;\n",
       "    }\n",
       "\n",
       "    .dataframe tbody tr th {\n",
       "        vertical-align: top;\n",
       "    }\n",
       "\n",
       "    .dataframe thead th {\n",
       "        text-align: right;\n",
       "    }\n",
       "</style>\n",
       "<table border=\"1\" class=\"dataframe\">\n",
       "  <thead>\n",
       "    <tr style=\"text-align: right;\">\n",
       "      <th></th>\n",
       "      <th>student_id</th>\n",
       "      <th>prompt_id</th>\n",
       "      <th>text</th>\n",
       "      <th>content</th>\n",
       "      <th>wording</th>\n",
       "      <th>prompt_question</th>\n",
       "      <th>prompt_title</th>\n",
       "      <th>prompt_text</th>\n",
       "      <th>text_word_cnt</th>\n",
       "      <th>text_length</th>\n",
       "      <th>text_stopword_cnt</th>\n",
       "      <th>text_punct_cnt</th>\n",
       "      <th>text_number_cnt</th>\n",
       "    </tr>\n",
       "  </thead>\n",
       "  <tbody>\n",
       "    <tr>\n",
       "      <th>0</th>\n",
       "      <td>000e8c3c7ddb</td>\n",
       "      <td>814d6b</td>\n",
       "      <td>The third wave was an experimentto see how peo...</td>\n",
       "      <td>0.205683</td>\n",
       "      <td>0.380538</td>\n",
       "      <td>Summarize how the Third Wave developed over su...</td>\n",
       "      <td>The Third Wave</td>\n",
       "      <td>Background \\r\\nThe Third Wave experiment took ...</td>\n",
       "      <td>61</td>\n",
       "      <td>346</td>\n",
       "      <td>25</td>\n",
       "      <td>3</td>\n",
       "      <td>0</td>\n",
       "    </tr>\n",
       "    <tr>\n",
       "      <th>1</th>\n",
       "      <td>0070c9e7af47</td>\n",
       "      <td>814d6b</td>\n",
       "      <td>The Third Wave developed  rapidly because the ...</td>\n",
       "      <td>3.272894</td>\n",
       "      <td>3.219757</td>\n",
       "      <td>Summarize how the Third Wave developed over su...</td>\n",
       "      <td>The Third Wave</td>\n",
       "      <td>Background \\r\\nThe Third Wave experiment took ...</td>\n",
       "      <td>206</td>\n",
       "      <td>1225</td>\n",
       "      <td>92</td>\n",
       "      <td>30</td>\n",
       "      <td>3</td>\n",
       "    </tr>\n",
       "    <tr>\n",
       "      <th>3</th>\n",
       "      <td>00c20c6ddd23</td>\n",
       "      <td>814d6b</td>\n",
       "      <td>The experimen was orginally about how even whe...</td>\n",
       "      <td>0.567975</td>\n",
       "      <td>0.969062</td>\n",
       "      <td>Summarize how the Third Wave developed over su...</td>\n",
       "      <td>The Third Wave</td>\n",
       "      <td>Background \\r\\nThe Third Wave experiment took ...</td>\n",
       "      <td>76</td>\n",
       "      <td>451</td>\n",
       "      <td>35</td>\n",
       "      <td>10</td>\n",
       "      <td>0</td>\n",
       "    </tr>\n",
       "    <tr>\n",
       "      <th>5</th>\n",
       "      <td>014e2395b3c4</td>\n",
       "      <td>814d6b</td>\n",
       "      <td>The Thrid Wave movement in the school has more...</td>\n",
       "      <td>1.376083</td>\n",
       "      <td>2.389443</td>\n",
       "      <td>Summarize how the Third Wave developed over su...</td>\n",
       "      <td>The Third Wave</td>\n",
       "      <td>Background \\r\\nThe Third Wave experiment took ...</td>\n",
       "      <td>126</td>\n",
       "      <td>734</td>\n",
       "      <td>67</td>\n",
       "      <td>7</td>\n",
       "      <td>0</td>\n",
       "    </tr>\n",
       "    <tr>\n",
       "      <th>6</th>\n",
       "      <td>01d303ea2f62</td>\n",
       "      <td>814d6b</td>\n",
       "      <td>The Third Wave developed and spead over such a...</td>\n",
       "      <td>0.735204</td>\n",
       "      <td>2.346576</td>\n",
       "      <td>Summarize how the Third Wave developed over su...</td>\n",
       "      <td>The Third Wave</td>\n",
       "      <td>Background \\r\\nThe Third Wave experiment took ...</td>\n",
       "      <td>133</td>\n",
       "      <td>767</td>\n",
       "      <td>68</td>\n",
       "      <td>16</td>\n",
       "      <td>0</td>\n",
       "    </tr>\n",
       "  </tbody>\n",
       "</table>\n",
       "</div>"
      ],
      "text/plain": [
       "     student_id prompt_id                                               text  \\\n",
       "0  000e8c3c7ddb    814d6b  The third wave was an experimentto see how peo...   \n",
       "1  0070c9e7af47    814d6b  The Third Wave developed  rapidly because the ...   \n",
       "3  00c20c6ddd23    814d6b  The experimen was orginally about how even whe...   \n",
       "5  014e2395b3c4    814d6b  The Thrid Wave movement in the school has more...   \n",
       "6  01d303ea2f62    814d6b  The Third Wave developed and spead over such a...   \n",
       "\n",
       "    content   wording                                    prompt_question  \\\n",
       "0  0.205683  0.380538  Summarize how the Third Wave developed over su...   \n",
       "1  3.272894  3.219757  Summarize how the Third Wave developed over su...   \n",
       "3  0.567975  0.969062  Summarize how the Third Wave developed over su...   \n",
       "5  1.376083  2.389443  Summarize how the Third Wave developed over su...   \n",
       "6  0.735204  2.346576  Summarize how the Third Wave developed over su...   \n",
       "\n",
       "     prompt_title                                        prompt_text  \\\n",
       "0  The Third Wave  Background \\r\\nThe Third Wave experiment took ...   \n",
       "1  The Third Wave  Background \\r\\nThe Third Wave experiment took ...   \n",
       "3  The Third Wave  Background \\r\\nThe Third Wave experiment took ...   \n",
       "5  The Third Wave  Background \\r\\nThe Third Wave experiment took ...   \n",
       "6  The Third Wave  Background \\r\\nThe Third Wave experiment took ...   \n",
       "\n",
       "   text_word_cnt  text_length  text_stopword_cnt  text_punct_cnt  \\\n",
       "0             61          346                 25               3   \n",
       "1            206         1225                 92              30   \n",
       "3             76          451                 35              10   \n",
       "5            126          734                 67               7   \n",
       "6            133          767                 68              16   \n",
       "\n",
       "   text_number_cnt  \n",
       "0                0  \n",
       "1                3  \n",
       "3                0  \n",
       "5                0  \n",
       "6                0  "
      ]
     },
     "execution_count": 20,
     "metadata": {},
     "output_type": "execute_result"
    }
   ],
   "source": [
    "train_ds_pd.head()"
   ]
  },
  {
   "cell_type": "markdown",
   "id": "25ddf5d8",
   "metadata": {
    "papermill": {
     "duration": 0.0167,
     "end_time": "2023-08-19T09:51:04.324199",
     "exception": false,
     "start_time": "2023-08-19T09:51:04.307499",
     "status": "completed"
    },
    "tags": []
   },
   "source": [
    "There's one more step required before we can train the model. We need to convert the datatset from Pandas format (`pd.DataFrame`) into TensorFlow Datasets format (`tf.data.Dataset`).\n",
    "\n",
    "[TensorFlow Datasets](https://www.tensorflow.org/datasets/overview) is a high performance data loading library which is helpful when training neural networks with accelerators like GPUs and TPUs.\n",
    "\n",
    "By default the Random Forest Model is configured to train classification tasks. Since this is a regression problem, we will specify the type of the task (`tfdf.keras.Task.REGRESSION`) as a parameter here."
   ]
  },
  {
   "cell_type": "code",
   "execution_count": 21,
   "id": "2c1a4af0",
   "metadata": {
    "execution": {
     "iopub.execute_input": "2023-08-19T09:51:04.359289Z",
     "iopub.status.busy": "2023-08-19T09:51:04.358599Z",
     "iopub.status.idle": "2023-08-19T09:51:04.496166Z",
     "shell.execute_reply": "2023-08-19T09:51:04.494598Z"
    },
    "papermill": {
     "duration": 0.158037,
     "end_time": "2023-08-19T09:51:04.498724",
     "exception": false,
     "start_time": "2023-08-19T09:51:04.340687",
     "status": "completed"
    },
    "tags": []
   },
   "outputs": [],
   "source": [
    "# `content` label datatset columns\n",
    "FEATURE_CONTENT = FEATURE_COLUMNS + ['content']\n",
    "\n",
    "# `wording` label datatset columns\n",
    "FEATURE_WORDING = FEATURE_COLUMNS + ['wording']\n",
    "\n",
    "# Convert dataframes to corresponding datasets\n",
    "content_train_ds = tfdf.keras.pd_dataframe_to_tf_dataset(train_ds_pd[FEATURE_CONTENT], label='content', task = tfdf.keras.Task.REGRESSION)\n",
    "wording_train_ds = tfdf.keras.pd_dataframe_to_tf_dataset(train_ds_pd[FEATURE_WORDING], label='wording', task = tfdf.keras.Task.REGRESSION)"
   ]
  },
  {
   "cell_type": "markdown",
   "id": "6d2038dd",
   "metadata": {
    "papermill": {
     "duration": 0.016197,
     "end_time": "2023-08-19T09:51:04.531590",
     "exception": false,
     "start_time": "2023-08-19T09:51:04.515393",
     "status": "completed"
    },
    "tags": []
   },
   "source": [
    "# Select a Model\n",
    "\n",
    "There are several tree-based models for you to choose from.\n",
    "\n",
    "* RandomForestModel\n",
    "* GradientBoostedTreesModel\n",
    "* CartModel\n",
    "* DistributedGradientBoostedTreesModel\n",
    "\n",
    "To start, we'll work with a Random Forest. This is the most well-known of the Decision Forest training algorithms.\n",
    "\n",
    "A Random Forest is a collection of decision trees, each trained independently on a random subset of the training dataset (sampled with replacement). The algorithm is unique in that it is robust to overfitting, and easy to use.\n",
    "\n",
    "We can list the all the available models in TensorFlow Decision Forests using the following code:"
   ]
  },
  {
   "cell_type": "code",
   "execution_count": 22,
   "id": "3358066b",
   "metadata": {
    "execution": {
     "iopub.execute_input": "2023-08-19T09:51:04.565646Z",
     "iopub.status.busy": "2023-08-19T09:51:04.565266Z",
     "iopub.status.idle": "2023-08-19T09:51:04.571851Z",
     "shell.execute_reply": "2023-08-19T09:51:04.570356Z"
    },
    "papermill": {
     "duration": 0.026419,
     "end_time": "2023-08-19T09:51:04.574560",
     "exception": false,
     "start_time": "2023-08-19T09:51:04.548141",
     "status": "completed"
    },
    "tags": []
   },
   "outputs": [
    {
     "data": {
      "text/plain": [
       "[tensorflow_decision_forests.keras.RandomForestModel,\n",
       " tensorflow_decision_forests.keras.GradientBoostedTreesModel,\n",
       " tensorflow_decision_forests.keras.CartModel,\n",
       " tensorflow_decision_forests.keras.DistributedGradientBoostedTreesModel]"
      ]
     },
     "execution_count": 22,
     "metadata": {},
     "output_type": "execute_result"
    }
   ],
   "source": [
    "tfdf.keras.get_all_models()"
   ]
  },
  {
   "cell_type": "markdown",
   "id": "b05c201d",
   "metadata": {
    "papermill": {
     "duration": 0.016003,
     "end_time": "2023-08-19T09:51:04.607310",
     "exception": false,
     "start_time": "2023-08-19T09:51:04.591307",
     "status": "completed"
    },
    "tags": []
   },
   "source": [
    "# Configure the model\n",
    "\n",
    "TensorFlow Decision Forests provides good defaults for you (e.g. the top ranking hyperparameters on our benchmarks, slightly modified to run in reasonable time). If you would like to configure the learning algorithm, you will find many options you can explore to get the highest possible accuracy.\n",
    "\n",
    "You can select a template and/or set parameters as follows:\n",
    "\n",
    "```rf = tfdf.keras.RandomForestModel(hyperparameter_template=\"benchmark_rank1\")```\n",
    "\n",
    "Read more [here](https://www.tensorflow.org/decision_forests/api_docs/python/tfdf/keras/RandomForestModel)."
   ]
  },
  {
   "cell_type": "markdown",
   "id": "d6d53922",
   "metadata": {
    "papermill": {
     "duration": 0.016455,
     "end_time": "2023-08-19T09:51:04.640871",
     "exception": false,
     "start_time": "2023-08-19T09:51:04.624416",
     "status": "completed"
    },
    "tags": []
   },
   "source": [
    "# Create a Random Forest\n",
    "\n",
    "Today, we will use the defaults to create the Random Forest Model while specifiyng the task type as `tfdf.keras.Task.REGRESSION`."
   ]
  },
  {
   "cell_type": "code",
   "execution_count": 23,
   "id": "ccd1f0c3",
   "metadata": {
    "execution": {
     "iopub.execute_input": "2023-08-19T09:51:04.674247Z",
     "iopub.status.busy": "2023-08-19T09:51:04.673864Z",
     "iopub.status.idle": "2023-08-19T09:51:04.750771Z",
     "shell.execute_reply": "2023-08-19T09:51:04.749242Z"
    },
    "papermill": {
     "duration": 0.096652,
     "end_time": "2023-08-19T09:51:04.753384",
     "exception": false,
     "start_time": "2023-08-19T09:51:04.656732",
     "status": "completed"
    },
    "tags": []
   },
   "outputs": [
    {
     "name": "stdout",
     "output_type": "stream",
     "text": [
      "Use /tmp/tmpsly1skra as temporary training directory\n",
      "Use /tmp/tmpawtzv82c as temporary training directory\n"
     ]
    }
   ],
   "source": [
    "# Create RandomForestModel for label content\n",
    "model_content = tfdf.keras.RandomForestModel(task=tfdf.keras.Task.REGRESSION)\n",
    "model_content.compile(metrics=[\"mse\"])\n",
    "\n",
    "# Create RandomForestModel for label wording\n",
    "model_wording = tfdf.keras.RandomForestModel(task=tfdf.keras.Task.REGRESSION)\n",
    "model_wording.compile(metrics=[\"mse\"])"
   ]
  },
  {
   "cell_type": "markdown",
   "id": "13a8fea7",
   "metadata": {
    "papermill": {
     "duration": 0.016015,
     "end_time": "2023-08-19T09:51:04.786233",
     "exception": false,
     "start_time": "2023-08-19T09:51:04.770218",
     "status": "completed"
    },
    "tags": []
   },
   "source": [
    "# Train the model\n",
    "\n",
    "We will train the model using a one-liner.\n",
    "\n",
    "Note: you may see a warning about Autograph. You can safely ignore this, it will be fixed in the next release."
   ]
  },
  {
   "cell_type": "code",
   "execution_count": 24,
   "id": "34726a51",
   "metadata": {
    "execution": {
     "iopub.execute_input": "2023-08-19T09:51:04.820510Z",
     "iopub.status.busy": "2023-08-19T09:51:04.820123Z",
     "iopub.status.idle": "2023-08-19T09:51:16.838064Z",
     "shell.execute_reply": "2023-08-19T09:51:16.837223Z"
    },
    "papermill": {
     "duration": 12.037946,
     "end_time": "2023-08-19T09:51:16.840360",
     "exception": false,
     "start_time": "2023-08-19T09:51:04.802414",
     "status": "completed"
    },
    "tags": []
   },
   "outputs": [
    {
     "name": "stdout",
     "output_type": "stream",
     "text": [
      "Reading training dataset...\n",
      "Training dataset read in 0:00:04.555577. Found 5647 examples.\n",
      "Training model...\n"
     ]
    },
    {
     "name": "stderr",
     "output_type": "stream",
     "text": [
      "[INFO 23-08-19 09:51:10.9764 UTC kernel.cc:1243] Loading model from path /tmp/tmpsly1skra/model/ with prefix c00e2c9c0e4140cd\n"
     ]
    },
    {
     "name": "stdout",
     "output_type": "stream",
     "text": [
      "Model trained in 0:00:02.557208\n",
      "Compiling model...\n"
     ]
    },
    {
     "name": "stderr",
     "output_type": "stream",
     "text": [
      "[INFO 23-08-19 09:51:11.8042 UTC decision_forest.cc:660] Model loaded with 300 root(s), 454972 node(s), and 5 input feature(s).\n",
      "[INFO 23-08-19 09:51:11.8043 UTC abstract_model.cc:1311] Engine \"RandomForestOptPred\" built\n",
      "[INFO 23-08-19 09:51:11.8043 UTC kernel.cc:1075] Use fast generic engine\n"
     ]
    },
    {
     "name": "stdout",
     "output_type": "stream",
     "text": [
      "WARNING: AutoGraph could not transform <function simple_ml_inference_op_with_handle at 0x7d65253e2320> and will run it as-is.\n",
      "Please report this to the TensorFlow team. When filing the bug, set the verbosity to 10 (on Linux, `export AUTOGRAPH_VERBOSITY=10`) and attach the full output.\n",
      "Cause: could not get source code\n",
      "To silence this warning, decorate the function with @tf.autograph.experimental.do_not_convert\n",
      "Model compiled.\n",
      "Reading training dataset...\n",
      "Training dataset read in 0:00:00.178389. Found 5647 examples.\n",
      "Training model...\n"
     ]
    },
    {
     "name": "stderr",
     "output_type": "stream",
     "text": [
      "[INFO 23-08-19 09:51:15.7756 UTC kernel.cc:1243] Loading model from path /tmp/tmpawtzv82c/model/ with prefix 28a97af17aad4422\n"
     ]
    },
    {
     "name": "stdout",
     "output_type": "stream",
     "text": [
      "Model trained in 0:00:02.544230\n",
      "Compiling model...\n"
     ]
    },
    {
     "name": "stderr",
     "output_type": "stream",
     "text": [
      "[INFO 23-08-19 09:51:16.5122 UTC decision_forest.cc:660] Model loaded with 300 root(s), 442284 node(s), and 5 input feature(s).\n",
      "[INFO 23-08-19 09:51:16.5123 UTC kernel.cc:1075] Use fast generic engine\n"
     ]
    },
    {
     "name": "stdout",
     "output_type": "stream",
     "text": [
      "Model compiled.\n"
     ]
    },
    {
     "data": {
      "text/plain": [
       "<keras.callbacks.History at 0x7d65201987c0>"
      ]
     },
     "execution_count": 24,
     "metadata": {},
     "output_type": "execute_result"
    }
   ],
   "source": [
    "# Training RandomForestModel for label content\n",
    "model_content.fit(x=content_train_ds)\n",
    "\n",
    "# Training RandomForestModel for label wording\n",
    "model_wording.fit(x=wording_train_ds)"
   ]
  },
  {
   "cell_type": "markdown",
   "id": "f7b58407",
   "metadata": {
    "papermill": {
     "duration": 0.017043,
     "end_time": "2023-08-19T09:51:16.874638",
     "exception": false,
     "start_time": "2023-08-19T09:51:16.857595",
     "status": "completed"
    },
    "tags": []
   },
   "source": [
    "# Visualize the model\n",
    "One benefit of tree-based models is that we can easily visualize them. The default number of trees used in the Random Forests is 300. We can select a tree to display below."
   ]
  },
  {
   "cell_type": "code",
   "execution_count": 25,
   "id": "93b4da9c",
   "metadata": {
    "execution": {
     "iopub.execute_input": "2023-08-19T09:51:16.911830Z",
     "iopub.status.busy": "2023-08-19T09:51:16.911093Z",
     "iopub.status.idle": "2023-08-19T09:51:16.951364Z",
     "shell.execute_reply": "2023-08-19T09:51:16.950620Z"
    },
    "papermill": {
     "duration": 0.060984,
     "end_time": "2023-08-19T09:51:16.953128",
     "exception": false,
     "start_time": "2023-08-19T09:51:16.892144",
     "status": "completed"
    },
    "tags": []
   },
   "outputs": [
    {
     "data": {
      "text/html": [
       "\n",
       "<script src=\"https://d3js.org/d3.v6.min.js\"></script>\n",
       "<div id=\"tree_plot_efb8932b629e45869eb72f6858078e4f\"></div>\n",
       "<script>\n",
       "/*\n",
       " * Copyright 2021 Google LLC.\n",
       " * Licensed under the Apache License, Version 2.0 (the \"License\");\n",
       " * you may not use this file except in compliance with the License.\n",
       " * You may obtain a copy of the License at\n",
       " *\n",
       " *     https://www.apache.org/licenses/LICENSE-2.0\n",
       " *\n",
       " * Unless required by applicable law or agreed to in writing, software\n",
       " * distributed under the License is distributed on an \"AS IS\" BASIS,\n",
       " * WITHOUT WARRANTIES OR CONDITIONS OF ANY KIND, either express or implied.\n",
       " * See the License for the specific language governing permissions and\n",
       " * limitations under the License.\n",
       " */\n",
       "\n",
       "/**\n",
       " *  Plotting of decision trees generated by TF-DF.\n",
       " *\n",
       " *  A tree is a recursive structure of node objects.\n",
       " *  A node contains one or more of the following components:\n",
       " *\n",
       " *    - A value: Representing the output of the node. If the node is not a leaf,\n",
       " *      the value is only present for analysis i.e. it is not used for\n",
       " *      predictions.\n",
       " *\n",
       " *    - A condition : For non-leaf nodes, the condition (also known as split)\n",
       " *      defines a binary test to branch to the positive or negative child.\n",
       " *\n",
       " *    - An explanation: Generally a plot showing the relation between the label\n",
       " *      and the condition to give insights about the effect of the condition.\n",
       " *\n",
       " *    - Two children : For non-leaf nodes, the children nodes. The first\n",
       " *      children (i.e. \"node.children[0]\") is the negative children (drawn in\n",
       " *      red). The second children is the positive one (drawn in green).\n",
       " *\n",
       " */\n",
       "\n",
       "/**\n",
       " * Plots a single decision tree into a DOM element.\n",
       " * @param {!options} options Dictionary of configurations.\n",
       " * @param {!tree} raw_tree Recursive tree structure.\n",
       " * @param {string} canvas_id Id of the output dom element.\n",
       " */\n",
       "function display_tree(options, raw_tree, canvas_id) {\n",
       "  console.log(options);\n",
       "\n",
       "  // Determine the node placement.\n",
       "  const tree_struct = d3.tree().nodeSize(\n",
       "      [options.node_y_offset, options.node_x_offset])(d3.hierarchy(raw_tree));\n",
       "\n",
       "  // Boundaries of the node placement.\n",
       "  let x_min = Infinity;\n",
       "  let x_max = -x_min;\n",
       "  let y_min = Infinity;\n",
       "  let y_max = -x_min;\n",
       "\n",
       "  tree_struct.each(d => {\n",
       "    if (d.x > x_max) x_max = d.x;\n",
       "    if (d.x < x_min) x_min = d.x;\n",
       "    if (d.y > y_max) y_max = d.y;\n",
       "    if (d.y < y_min) y_min = d.y;\n",
       "  });\n",
       "\n",
       "  // Size of the plot.\n",
       "  const width = y_max - y_min + options.node_x_size + options.margin * 2;\n",
       "  const height = x_max - x_min + options.node_y_size + options.margin * 2 +\n",
       "      options.node_y_offset - options.node_y_size;\n",
       "\n",
       "  const plot = d3.select(canvas_id);\n",
       "\n",
       "  // Tool tip\n",
       "  options.tooltip = plot.append('div')\n",
       "                        .attr('width', 100)\n",
       "                        .attr('height', 100)\n",
       "                        .style('padding', '4px')\n",
       "                        .style('background', '#fff')\n",
       "                        .style('box-shadow', '4px 4px 0px rgba(0,0,0,0.1)')\n",
       "                        .style('border', '1px solid black')\n",
       "                        .style('font-family', 'sans-serif')\n",
       "                        .style('font-size', options.font_size)\n",
       "                        .style('position', 'absolute')\n",
       "                        .style('z-index', '10')\n",
       "                        .attr('pointer-events', 'none')\n",
       "                        .style('display', 'none');\n",
       "\n",
       "  // Create canvas\n",
       "  const svg = plot.append('svg').attr('width', width).attr('height', height);\n",
       "  const graph =\n",
       "      svg.style('overflow', 'visible')\n",
       "          .append('g')\n",
       "          .attr('font-family', 'sans-serif')\n",
       "          .attr('font-size', options.font_size)\n",
       "          .attr(\n",
       "              'transform',\n",
       "              () => `translate(${options.margin},${\n",
       "                  - x_min + options.node_y_offset / 2 + options.margin})`);\n",
       "\n",
       "  // Plot bounding box.\n",
       "  if (options.show_plot_bounding_box) {\n",
       "    svg.append('rect')\n",
       "        .attr('width', width)\n",
       "        .attr('height', height)\n",
       "        .attr('fill', 'none')\n",
       "        .attr('stroke-width', 1.0)\n",
       "        .attr('stroke', 'black');\n",
       "  }\n",
       "\n",
       "  // Draw the edges.\n",
       "  display_edges(options, graph, tree_struct);\n",
       "\n",
       "  // Draw the nodes.\n",
       "  display_nodes(options, graph, tree_struct);\n",
       "}\n",
       "\n",
       "/**\n",
       " * Draw the nodes of the tree.\n",
       " * @param {!options} options Dictionary of configurations.\n",
       " * @param {!graph} graph D3 search handle containing the graph.\n",
       " * @param {!tree_struct} tree_struct Structure of the tree (node placement,\n",
       " *     data, etc.).\n",
       " */\n",
       "function display_nodes(options, graph, tree_struct) {\n",
       "  const nodes = graph.append('g')\n",
       "                    .selectAll('g')\n",
       "                    .data(tree_struct.descendants())\n",
       "                    .join('g')\n",
       "                    .attr('transform', d => `translate(${d.y},${d.x})`);\n",
       "\n",
       "  nodes.append('rect')\n",
       "      .attr('x', 0.5)\n",
       "      .attr('y', 0.5)\n",
       "      .attr('width', options.node_x_size)\n",
       "      .attr('height', options.node_y_size)\n",
       "      .attr('stroke', 'lightgrey')\n",
       "      .attr('stroke-width', 1)\n",
       "      .attr('fill', 'white')\n",
       "      .attr('y', -options.node_y_size / 2);\n",
       "\n",
       "  // Brackets on the right of condition nodes without children.\n",
       "  non_leaf_node_without_children =\n",
       "      nodes.filter(node => node.data.condition != null && node.children == null)\n",
       "          .append('g')\n",
       "          .attr('transform', `translate(${options.node_x_size},0)`);\n",
       "\n",
       "  non_leaf_node_without_children.append('path')\n",
       "      .attr('d', 'M0,0 C 10,0 0,10 10,10')\n",
       "      .attr('fill', 'none')\n",
       "      .attr('stroke-width', 1.0)\n",
       "      .attr('stroke', '#F00');\n",
       "\n",
       "  non_leaf_node_without_children.append('path')\n",
       "      .attr('d', 'M0,0 C 10,0 0,-10 10,-10')\n",
       "      .attr('fill', 'none')\n",
       "      .attr('stroke-width', 1.0)\n",
       "      .attr('stroke', '#0F0');\n",
       "\n",
       "  const node_content = nodes.append('g').attr(\n",
       "      'transform',\n",
       "      `translate(0,${options.node_padding - options.node_y_size / 2})`);\n",
       "\n",
       "  node_content.append(node => create_node_element(options, node));\n",
       "}\n",
       "\n",
       "/**\n",
       " * Creates the D3 content for a single node.\n",
       " * @param {!options} options Dictionary of configurations.\n",
       " * @param {!node} node Node to draw.\n",
       " * @return {!d3} D3 content.\n",
       " */\n",
       "function create_node_element(options, node) {\n",
       "  // Output accumulator.\n",
       "  let output = {\n",
       "    // Content to draw.\n",
       "    content: d3.create('svg:g'),\n",
       "    // Vertical offset to the next element to draw.\n",
       "    vertical_offset: 0\n",
       "  };\n",
       "\n",
       "  // Conditions.\n",
       "  if (node.data.condition != null) {\n",
       "    display_condition(options, node.data.condition, output);\n",
       "  }\n",
       "\n",
       "  // Values.\n",
       "  if (node.data.value != null) {\n",
       "    display_value(options, node.data.value, output);\n",
       "  }\n",
       "\n",
       "  // Explanations.\n",
       "  if (node.data.explanation != null) {\n",
       "    display_explanation(options, node.data.explanation, output);\n",
       "  }\n",
       "\n",
       "  return output.content.node();\n",
       "}\n",
       "\n",
       "\n",
       "/**\n",
       " * Adds a single line of text inside of a node.\n",
       " * @param {!options} options Dictionary of configurations.\n",
       " * @param {string} text Text to display.\n",
       " * @param {!output} output Output display accumulator.\n",
       " */\n",
       "function display_node_text(options, text, output) {\n",
       "  output.content.append('text')\n",
       "      .attr('x', options.node_padding)\n",
       "      .attr('y', output.vertical_offset)\n",
       "      .attr('alignment-baseline', 'hanging')\n",
       "      .text(text);\n",
       "  output.vertical_offset += 10;\n",
       "}\n",
       "\n",
       "/**\n",
       " * Adds a single line of text inside of a node with a tooltip.\n",
       " * @param {!options} options Dictionary of configurations.\n",
       " * @param {string} text Text to display.\n",
       " * @param {string} tooltip Text in the Tooltip.\n",
       " * @param {!output} output Output display accumulator.\n",
       " */\n",
       "function display_node_text_with_tooltip(options, text, tooltip, output) {\n",
       "  const item = output.content.append('text')\n",
       "                   .attr('x', options.node_padding)\n",
       "                   .attr('alignment-baseline', 'hanging')\n",
       "                   .text(text);\n",
       "\n",
       "  add_tooltip(options, item, () => tooltip);\n",
       "  output.vertical_offset += 10;\n",
       "}\n",
       "\n",
       "/**\n",
       " * Adds a tooltip to a dom element.\n",
       " * @param {!options} options Dictionary of configurations.\n",
       " * @param {!dom} target Dom element to equip with a tooltip.\n",
       " * @param {!func} get_content Generates the html content of the tooltip.\n",
       " */\n",
       "function add_tooltip(options, target, get_content) {\n",
       "  function show(d) {\n",
       "    options.tooltip.style('display', 'block');\n",
       "    options.tooltip.html(get_content());\n",
       "  }\n",
       "\n",
       "  function hide(d) {\n",
       "    options.tooltip.style('display', 'none');\n",
       "  }\n",
       "\n",
       "  function move(d) {\n",
       "    options.tooltip.style('display', 'block');\n",
       "    options.tooltip.style('left', (d.pageX + 5) + 'px');\n",
       "    options.tooltip.style('top', d.pageY + 'px');\n",
       "  }\n",
       "\n",
       "  target.on('mouseover', show);\n",
       "  target.on('mouseout', hide);\n",
       "  target.on('mousemove', move);\n",
       "}\n",
       "\n",
       "/**\n",
       " * Adds a condition inside of a node.\n",
       " * @param {!options} options Dictionary of configurations.\n",
       " * @param {!condition} condition Condition to display.\n",
       " * @param {!output} output Output display accumulator.\n",
       " */\n",
       "function display_condition(options, condition, output) {\n",
       "  threshold_format = d3.format('r');\n",
       "\n",
       "  if (condition.type === 'IS_MISSING') {\n",
       "    display_node_text(options, `${condition.attribute} is missing`, output);\n",
       "    return;\n",
       "  }\n",
       "\n",
       "  if (condition.type === 'IS_TRUE') {\n",
       "    display_node_text(options, `${condition.attribute} is true`, output);\n",
       "    return;\n",
       "  }\n",
       "\n",
       "  if (condition.type === 'NUMERICAL_IS_HIGHER_THAN') {\n",
       "    format = d3.format('r');\n",
       "    display_node_text(\n",
       "        options,\n",
       "        `${condition.attribute} >= ${threshold_format(condition.threshold)}`,\n",
       "        output);\n",
       "    return;\n",
       "  }\n",
       "\n",
       "  if (condition.type === 'CATEGORICAL_IS_IN') {\n",
       "    display_node_text_with_tooltip(\n",
       "        options, `${condition.attribute} in [...]`,\n",
       "        `${condition.attribute} in [${condition.mask}]`, output);\n",
       "    return;\n",
       "  }\n",
       "\n",
       "  if (condition.type === 'CATEGORICAL_SET_CONTAINS') {\n",
       "    display_node_text_with_tooltip(\n",
       "        options, `${condition.attribute} intersect [...]`,\n",
       "        `${condition.attribute} intersect [${condition.mask}]`, output);\n",
       "    return;\n",
       "  }\n",
       "\n",
       "  if (condition.type === 'NUMERICAL_SPARSE_OBLIQUE') {\n",
       "    display_node_text_with_tooltip(\n",
       "        options, `Sparse oblique split...`,\n",
       "        `[${condition.attributes}]*[${condition.weights}]>=${\n",
       "            threshold_format(condition.threshold)}`,\n",
       "        output);\n",
       "    return;\n",
       "  }\n",
       "\n",
       "  display_node_text(\n",
       "      options, `Non supported condition ${condition.type}`, output);\n",
       "}\n",
       "\n",
       "/**\n",
       " * Adds a value inside of a node.\n",
       " * @param {!options} options Dictionary of configurations.\n",
       " * @param {!value} value Value to display.\n",
       " * @param {!output} output Output display accumulator.\n",
       " */\n",
       "function display_value(options, value, output) {\n",
       "  if (value.type === 'PROBABILITY') {\n",
       "    const left_margin = 0;\n",
       "    const right_margin = 50;\n",
       "    const plot_width = options.node_x_size - options.node_padding * 2 -\n",
       "        left_margin - right_margin;\n",
       "\n",
       "    let cusum = Array.from(d3.cumsum(value.distribution));\n",
       "    cusum.unshift(0);\n",
       "    const distribution_plot = output.content.append('g').attr(\n",
       "        'transform', `translate(0,${output.vertical_offset + 0.5})`);\n",
       "\n",
       "    distribution_plot.selectAll('rect')\n",
       "        .data(value.distribution)\n",
       "        .join('rect')\n",
       "        .attr('height', 10)\n",
       "        .attr(\n",
       "            'x',\n",
       "            (d, i) =>\n",
       "                (cusum[i] * plot_width + left_margin + options.node_padding))\n",
       "        .attr('width', (d, i) => d * plot_width)\n",
       "        .style('fill', (d, i) => d3.schemeSet1[i]);\n",
       "\n",
       "    const num_examples =\n",
       "        output.content.append('g')\n",
       "            .attr('transform', `translate(0,${output.vertical_offset})`)\n",
       "            .append('text')\n",
       "            .attr('x', options.node_x_size - options.node_padding)\n",
       "            .attr('alignment-baseline', 'hanging')\n",
       "            .attr('text-anchor', 'end')\n",
       "            .text(`(${value.num_examples})`);\n",
       "\n",
       "    const distribution_details = d3.create('ul');\n",
       "    distribution_details.selectAll('li')\n",
       "        .data(value.distribution)\n",
       "        .join('li')\n",
       "        .append('span')\n",
       "        .text(\n",
       "            (d, i) =>\n",
       "                'class ' + i + ': ' + d3.format('.3%')(value.distribution[i]));\n",
       "\n",
       "    add_tooltip(options, distribution_plot, () => distribution_details.html());\n",
       "    add_tooltip(options, num_examples, () => 'Number of examples');\n",
       "\n",
       "    output.vertical_offset += 10;\n",
       "    return;\n",
       "  }\n",
       "\n",
       "  if (value.type === 'REGRESSION') {\n",
       "    display_node_text(\n",
       "        options,\n",
       "        'value: ' + d3.format('r')(value.value) + ` (` +\n",
       "            d3.format('.6')(value.num_examples) + `)`,\n",
       "        output);\n",
       "    return;\n",
       "  }\n",
       "\n",
       "  if (value.type === 'UPLIFT') {\n",
       "    display_node_text(\n",
       "        options,\n",
       "        'effect: ' + d3.format('r')(value.treatment_effect) + ` (` +\n",
       "            d3.format('.6')(value.num_examples) + `)`,\n",
       "        output);\n",
       "    return;\n",
       "  }\n",
       "\n",
       "  display_node_text(options, `Non supported value ${value.type}`, output);\n",
       "}\n",
       "\n",
       "/**\n",
       " * Adds an explanation inside of a node.\n",
       " * @param {!options} options Dictionary of configurations.\n",
       " * @param {!explanation} explanation Explanation to display.\n",
       " * @param {!output} output Output display accumulator.\n",
       " */\n",
       "function display_explanation(options, explanation, output) {\n",
       "  // Margin before the explanation.\n",
       "  output.vertical_offset += 10;\n",
       "\n",
       "  display_node_text(\n",
       "      options, `Non supported explanation ${explanation.type}`, output);\n",
       "}\n",
       "\n",
       "\n",
       "/**\n",
       " * Draw the edges of the tree.\n",
       " * @param {!options} options Dictionary of configurations.\n",
       " * @param {!graph} graph D3 search handle containing the graph.\n",
       " * @param {!tree_struct} tree_struct Structure of the tree (node placement,\n",
       " *     data, etc.).\n",
       " */\n",
       "function display_edges(options, graph, tree_struct) {\n",
       "  // Draw an edge between a parent and a child node with a bezier.\n",
       "  function draw_single_edge(d) {\n",
       "    return 'M' + (d.source.y + options.node_x_size) + ',' + d.source.x + ' C' +\n",
       "        (d.source.y + options.node_x_size + options.edge_rounding) + ',' +\n",
       "        d.source.x + ' ' + (d.target.y - options.edge_rounding) + ',' +\n",
       "        d.target.x + ' ' + d.target.y + ',' + d.target.x;\n",
       "  }\n",
       "\n",
       "  graph.append('g')\n",
       "      .attr('fill', 'none')\n",
       "      .attr('stroke-width', 1.2)\n",
       "      .selectAll('path')\n",
       "      .data(tree_struct.links())\n",
       "      .join('path')\n",
       "      .attr('d', draw_single_edge)\n",
       "      .attr(\n",
       "          'stroke', d => (d.target === d.source.children[0]) ? '#0F0' : '#F00');\n",
       "}\n",
       "\n",
       "display_tree({\"margin\": 10, \"node_x_size\": 160, \"node_y_size\": 28, \"node_x_offset\": 180, \"node_y_offset\": 33, \"font_size\": 10, \"edge_rounding\": 20, \"node_padding\": 2, \"show_plot_bounding_box\": false}, {\"value\": {\"type\": \"REGRESSION\", \"value\": 0.020899426192045212, \"num_examples\": 5647.0, \"standard_deviation\": 1.0406821653662308}, \"condition\": {\"type\": \"NUMERICAL_IS_HIGHER_THAN\", \"attribute\": \"text_word_cnt\", \"threshold\": 77.5}, \"children\": [{\"value\": {\"type\": \"REGRESSION\", \"value\": 1.037757158279419, \"num_examples\": 1990.0, \"standard_deviation\": 0.8873224142387213}, \"condition\": {\"type\": \"NUMERICAL_IS_HIGHER_THAN\", \"attribute\": \"text_length\", \"threshold\": 731.5}, \"children\": [{\"value\": {\"type\": \"REGRESSION\", \"value\": 1.7684004306793213, \"num_examples\": 685.0, \"standard_deviation\": 0.8168396525134453}, \"condition\": {\"type\": \"NUMERICAL_IS_HIGHER_THAN\", \"attribute\": \"text_length\", \"threshold\": 1040.5}, \"children\": [{\"value\": {\"type\": \"REGRESSION\", \"value\": 2.134307622909546, \"num_examples\": 273.0, \"standard_deviation\": 0.900829638568222}, \"condition\": {\"type\": \"NUMERICAL_IS_HIGHER_THAN\", \"attribute\": \"text_punct_cnt\", \"threshold\": 40.5}}, {\"value\": {\"type\": \"REGRESSION\", \"value\": 1.5259425640106201, \"num_examples\": 412.0, \"standard_deviation\": 0.6512524145392907}, \"condition\": {\"type\": \"NUMERICAL_IS_HIGHER_THAN\", \"attribute\": \"text_length\", \"threshold\": 877.5}}]}, {\"value\": {\"type\": \"REGRESSION\", \"value\": 0.6542394757270813, \"num_examples\": 1305.0, \"standard_deviation\": 0.6504528896581779}, \"condition\": {\"type\": \"NUMERICAL_IS_HIGHER_THAN\", \"attribute\": \"text_length\", \"threshold\": 604.5}, \"children\": [{\"value\": {\"type\": \"REGRESSION\", \"value\": 1.076033592224121, \"num_examples\": 370.0, \"standard_deviation\": 0.6259278636690648}, \"condition\": {\"type\": \"NUMERICAL_IS_HIGHER_THAN\", \"attribute\": \"text_length\", \"threshold\": 724.0}}, {\"value\": {\"type\": \"REGRESSION\", \"value\": 0.4873262941837311, \"num_examples\": 935.0, \"standard_deviation\": 0.5807007418544381}, \"condition\": {\"type\": \"NUMERICAL_IS_HIGHER_THAN\", \"attribute\": \"text_length\", \"threshold\": 484.5}}]}]}, {\"value\": {\"type\": \"REGRESSION\", \"value\": -0.5324357748031616, \"num_examples\": 3657.0, \"standard_deviation\": 0.6124321525999012}, \"condition\": {\"type\": \"NUMERICAL_IS_HIGHER_THAN\", \"attribute\": \"text_length\", \"threshold\": 231.5}, \"children\": [{\"value\": {\"type\": \"REGRESSION\", \"value\": -0.2006848007440567, \"num_examples\": 2075.0, \"standard_deviation\": 0.4965674597455144}, \"condition\": {\"type\": \"NUMERICAL_IS_HIGHER_THAN\", \"attribute\": \"text_length\", \"threshold\": 321.5}, \"children\": [{\"value\": {\"type\": \"REGRESSION\", \"value\": 0.034003112465143204, \"num_examples\": 875.0, \"standard_deviation\": 0.4298182796706889}, \"condition\": {\"type\": \"NUMERICAL_IS_HIGHER_THAN\", \"attribute\": \"text_length\", \"threshold\": 380.5}}, {\"value\": {\"type\": \"REGRESSION\", \"value\": -0.3718113899230957, \"num_examples\": 1200.0, \"standard_deviation\": 0.47140424341015846}, \"condition\": {\"type\": \"NUMERICAL_IS_HIGHER_THAN\", \"attribute\": \"text_length\", \"threshold\": 256.5}}]}, {\"value\": {\"type\": \"REGRESSION\", \"value\": -0.9675706624984741, \"num_examples\": 1582.0, \"standard_deviation\": 0.45816039645713424}, \"condition\": {\"type\": \"NUMERICAL_IS_HIGHER_THAN\", \"attribute\": \"text_word_cnt\", \"threshold\": 32.5}, \"children\": [{\"value\": {\"type\": \"REGRESSION\", \"value\": -0.8248075246810913, \"num_examples\": 897.0, \"standard_deviation\": 0.46881461154750353}, \"condition\": {\"type\": \"NUMERICAL_IS_HIGHER_THAN\", \"attribute\": \"text_length\", \"threshold\": 192.5}}, {\"value\": {\"type\": \"REGRESSION\", \"value\": -1.154517412185669, \"num_examples\": 685.0, \"standard_deviation\": 0.3678858300383848}, \"condition\": {\"type\": \"NUMERICAL_IS_HIGHER_THAN\", \"attribute\": \"text_punct_cnt\", \"threshold\": 1.5}}]}]}]}, \"#tree_plot_efb8932b629e45869eb72f6858078e4f\")\n",
       "</script>\n"
      ],
      "text/plain": [
       "<IPython.core.display.HTML object>"
      ]
     },
     "execution_count": 25,
     "metadata": {},
     "output_type": "execute_result"
    }
   ],
   "source": [
    "# Visualize model_content\n",
    "tfdf.model_plotter.plot_model_in_colab(model_content, tree_idx=0, max_depth=3)"
   ]
  },
  {
   "cell_type": "code",
   "execution_count": 26,
   "id": "af1cf75f",
   "metadata": {
    "execution": {
     "iopub.execute_input": "2023-08-19T09:51:16.992304Z",
     "iopub.status.busy": "2023-08-19T09:51:16.991574Z",
     "iopub.status.idle": "2023-08-19T09:51:17.032885Z",
     "shell.execute_reply": "2023-08-19T09:51:17.031874Z"
    },
    "papermill": {
     "duration": 0.063975,
     "end_time": "2023-08-19T09:51:17.035775",
     "exception": false,
     "start_time": "2023-08-19T09:51:16.971800",
     "status": "completed"
    },
    "tags": []
   },
   "outputs": [
    {
     "data": {
      "text/html": [
       "\n",
       "<script src=\"https://d3js.org/d3.v6.min.js\"></script>\n",
       "<div id=\"tree_plot_9ac1a0cb3f244c05b8734255a2857787\"></div>\n",
       "<script>\n",
       "/*\n",
       " * Copyright 2021 Google LLC.\n",
       " * Licensed under the Apache License, Version 2.0 (the \"License\");\n",
       " * you may not use this file except in compliance with the License.\n",
       " * You may obtain a copy of the License at\n",
       " *\n",
       " *     https://www.apache.org/licenses/LICENSE-2.0\n",
       " *\n",
       " * Unless required by applicable law or agreed to in writing, software\n",
       " * distributed under the License is distributed on an \"AS IS\" BASIS,\n",
       " * WITHOUT WARRANTIES OR CONDITIONS OF ANY KIND, either express or implied.\n",
       " * See the License for the specific language governing permissions and\n",
       " * limitations under the License.\n",
       " */\n",
       "\n",
       "/**\n",
       " *  Plotting of decision trees generated by TF-DF.\n",
       " *\n",
       " *  A tree is a recursive structure of node objects.\n",
       " *  A node contains one or more of the following components:\n",
       " *\n",
       " *    - A value: Representing the output of the node. If the node is not a leaf,\n",
       " *      the value is only present for analysis i.e. it is not used for\n",
       " *      predictions.\n",
       " *\n",
       " *    - A condition : For non-leaf nodes, the condition (also known as split)\n",
       " *      defines a binary test to branch to the positive or negative child.\n",
       " *\n",
       " *    - An explanation: Generally a plot showing the relation between the label\n",
       " *      and the condition to give insights about the effect of the condition.\n",
       " *\n",
       " *    - Two children : For non-leaf nodes, the children nodes. The first\n",
       " *      children (i.e. \"node.children[0]\") is the negative children (drawn in\n",
       " *      red). The second children is the positive one (drawn in green).\n",
       " *\n",
       " */\n",
       "\n",
       "/**\n",
       " * Plots a single decision tree into a DOM element.\n",
       " * @param {!options} options Dictionary of configurations.\n",
       " * @param {!tree} raw_tree Recursive tree structure.\n",
       " * @param {string} canvas_id Id of the output dom element.\n",
       " */\n",
       "function display_tree(options, raw_tree, canvas_id) {\n",
       "  console.log(options);\n",
       "\n",
       "  // Determine the node placement.\n",
       "  const tree_struct = d3.tree().nodeSize(\n",
       "      [options.node_y_offset, options.node_x_offset])(d3.hierarchy(raw_tree));\n",
       "\n",
       "  // Boundaries of the node placement.\n",
       "  let x_min = Infinity;\n",
       "  let x_max = -x_min;\n",
       "  let y_min = Infinity;\n",
       "  let y_max = -x_min;\n",
       "\n",
       "  tree_struct.each(d => {\n",
       "    if (d.x > x_max) x_max = d.x;\n",
       "    if (d.x < x_min) x_min = d.x;\n",
       "    if (d.y > y_max) y_max = d.y;\n",
       "    if (d.y < y_min) y_min = d.y;\n",
       "  });\n",
       "\n",
       "  // Size of the plot.\n",
       "  const width = y_max - y_min + options.node_x_size + options.margin * 2;\n",
       "  const height = x_max - x_min + options.node_y_size + options.margin * 2 +\n",
       "      options.node_y_offset - options.node_y_size;\n",
       "\n",
       "  const plot = d3.select(canvas_id);\n",
       "\n",
       "  // Tool tip\n",
       "  options.tooltip = plot.append('div')\n",
       "                        .attr('width', 100)\n",
       "                        .attr('height', 100)\n",
       "                        .style('padding', '4px')\n",
       "                        .style('background', '#fff')\n",
       "                        .style('box-shadow', '4px 4px 0px rgba(0,0,0,0.1)')\n",
       "                        .style('border', '1px solid black')\n",
       "                        .style('font-family', 'sans-serif')\n",
       "                        .style('font-size', options.font_size)\n",
       "                        .style('position', 'absolute')\n",
       "                        .style('z-index', '10')\n",
       "                        .attr('pointer-events', 'none')\n",
       "                        .style('display', 'none');\n",
       "\n",
       "  // Create canvas\n",
       "  const svg = plot.append('svg').attr('width', width).attr('height', height);\n",
       "  const graph =\n",
       "      svg.style('overflow', 'visible')\n",
       "          .append('g')\n",
       "          .attr('font-family', 'sans-serif')\n",
       "          .attr('font-size', options.font_size)\n",
       "          .attr(\n",
       "              'transform',\n",
       "              () => `translate(${options.margin},${\n",
       "                  - x_min + options.node_y_offset / 2 + options.margin})`);\n",
       "\n",
       "  // Plot bounding box.\n",
       "  if (options.show_plot_bounding_box) {\n",
       "    svg.append('rect')\n",
       "        .attr('width', width)\n",
       "        .attr('height', height)\n",
       "        .attr('fill', 'none')\n",
       "        .attr('stroke-width', 1.0)\n",
       "        .attr('stroke', 'black');\n",
       "  }\n",
       "\n",
       "  // Draw the edges.\n",
       "  display_edges(options, graph, tree_struct);\n",
       "\n",
       "  // Draw the nodes.\n",
       "  display_nodes(options, graph, tree_struct);\n",
       "}\n",
       "\n",
       "/**\n",
       " * Draw the nodes of the tree.\n",
       " * @param {!options} options Dictionary of configurations.\n",
       " * @param {!graph} graph D3 search handle containing the graph.\n",
       " * @param {!tree_struct} tree_struct Structure of the tree (node placement,\n",
       " *     data, etc.).\n",
       " */\n",
       "function display_nodes(options, graph, tree_struct) {\n",
       "  const nodes = graph.append('g')\n",
       "                    .selectAll('g')\n",
       "                    .data(tree_struct.descendants())\n",
       "                    .join('g')\n",
       "                    .attr('transform', d => `translate(${d.y},${d.x})`);\n",
       "\n",
       "  nodes.append('rect')\n",
       "      .attr('x', 0.5)\n",
       "      .attr('y', 0.5)\n",
       "      .attr('width', options.node_x_size)\n",
       "      .attr('height', options.node_y_size)\n",
       "      .attr('stroke', 'lightgrey')\n",
       "      .attr('stroke-width', 1)\n",
       "      .attr('fill', 'white')\n",
       "      .attr('y', -options.node_y_size / 2);\n",
       "\n",
       "  // Brackets on the right of condition nodes without children.\n",
       "  non_leaf_node_without_children =\n",
       "      nodes.filter(node => node.data.condition != null && node.children == null)\n",
       "          .append('g')\n",
       "          .attr('transform', `translate(${options.node_x_size},0)`);\n",
       "\n",
       "  non_leaf_node_without_children.append('path')\n",
       "      .attr('d', 'M0,0 C 10,0 0,10 10,10')\n",
       "      .attr('fill', 'none')\n",
       "      .attr('stroke-width', 1.0)\n",
       "      .attr('stroke', '#F00');\n",
       "\n",
       "  non_leaf_node_without_children.append('path')\n",
       "      .attr('d', 'M0,0 C 10,0 0,-10 10,-10')\n",
       "      .attr('fill', 'none')\n",
       "      .attr('stroke-width', 1.0)\n",
       "      .attr('stroke', '#0F0');\n",
       "\n",
       "  const node_content = nodes.append('g').attr(\n",
       "      'transform',\n",
       "      `translate(0,${options.node_padding - options.node_y_size / 2})`);\n",
       "\n",
       "  node_content.append(node => create_node_element(options, node));\n",
       "}\n",
       "\n",
       "/**\n",
       " * Creates the D3 content for a single node.\n",
       " * @param {!options} options Dictionary of configurations.\n",
       " * @param {!node} node Node to draw.\n",
       " * @return {!d3} D3 content.\n",
       " */\n",
       "function create_node_element(options, node) {\n",
       "  // Output accumulator.\n",
       "  let output = {\n",
       "    // Content to draw.\n",
       "    content: d3.create('svg:g'),\n",
       "    // Vertical offset to the next element to draw.\n",
       "    vertical_offset: 0\n",
       "  };\n",
       "\n",
       "  // Conditions.\n",
       "  if (node.data.condition != null) {\n",
       "    display_condition(options, node.data.condition, output);\n",
       "  }\n",
       "\n",
       "  // Values.\n",
       "  if (node.data.value != null) {\n",
       "    display_value(options, node.data.value, output);\n",
       "  }\n",
       "\n",
       "  // Explanations.\n",
       "  if (node.data.explanation != null) {\n",
       "    display_explanation(options, node.data.explanation, output);\n",
       "  }\n",
       "\n",
       "  return output.content.node();\n",
       "}\n",
       "\n",
       "\n",
       "/**\n",
       " * Adds a single line of text inside of a node.\n",
       " * @param {!options} options Dictionary of configurations.\n",
       " * @param {string} text Text to display.\n",
       " * @param {!output} output Output display accumulator.\n",
       " */\n",
       "function display_node_text(options, text, output) {\n",
       "  output.content.append('text')\n",
       "      .attr('x', options.node_padding)\n",
       "      .attr('y', output.vertical_offset)\n",
       "      .attr('alignment-baseline', 'hanging')\n",
       "      .text(text);\n",
       "  output.vertical_offset += 10;\n",
       "}\n",
       "\n",
       "/**\n",
       " * Adds a single line of text inside of a node with a tooltip.\n",
       " * @param {!options} options Dictionary of configurations.\n",
       " * @param {string} text Text to display.\n",
       " * @param {string} tooltip Text in the Tooltip.\n",
       " * @param {!output} output Output display accumulator.\n",
       " */\n",
       "function display_node_text_with_tooltip(options, text, tooltip, output) {\n",
       "  const item = output.content.append('text')\n",
       "                   .attr('x', options.node_padding)\n",
       "                   .attr('alignment-baseline', 'hanging')\n",
       "                   .text(text);\n",
       "\n",
       "  add_tooltip(options, item, () => tooltip);\n",
       "  output.vertical_offset += 10;\n",
       "}\n",
       "\n",
       "/**\n",
       " * Adds a tooltip to a dom element.\n",
       " * @param {!options} options Dictionary of configurations.\n",
       " * @param {!dom} target Dom element to equip with a tooltip.\n",
       " * @param {!func} get_content Generates the html content of the tooltip.\n",
       " */\n",
       "function add_tooltip(options, target, get_content) {\n",
       "  function show(d) {\n",
       "    options.tooltip.style('display', 'block');\n",
       "    options.tooltip.html(get_content());\n",
       "  }\n",
       "\n",
       "  function hide(d) {\n",
       "    options.tooltip.style('display', 'none');\n",
       "  }\n",
       "\n",
       "  function move(d) {\n",
       "    options.tooltip.style('display', 'block');\n",
       "    options.tooltip.style('left', (d.pageX + 5) + 'px');\n",
       "    options.tooltip.style('top', d.pageY + 'px');\n",
       "  }\n",
       "\n",
       "  target.on('mouseover', show);\n",
       "  target.on('mouseout', hide);\n",
       "  target.on('mousemove', move);\n",
       "}\n",
       "\n",
       "/**\n",
       " * Adds a condition inside of a node.\n",
       " * @param {!options} options Dictionary of configurations.\n",
       " * @param {!condition} condition Condition to display.\n",
       " * @param {!output} output Output display accumulator.\n",
       " */\n",
       "function display_condition(options, condition, output) {\n",
       "  threshold_format = d3.format('r');\n",
       "\n",
       "  if (condition.type === 'IS_MISSING') {\n",
       "    display_node_text(options, `${condition.attribute} is missing`, output);\n",
       "    return;\n",
       "  }\n",
       "\n",
       "  if (condition.type === 'IS_TRUE') {\n",
       "    display_node_text(options, `${condition.attribute} is true`, output);\n",
       "    return;\n",
       "  }\n",
       "\n",
       "  if (condition.type === 'NUMERICAL_IS_HIGHER_THAN') {\n",
       "    format = d3.format('r');\n",
       "    display_node_text(\n",
       "        options,\n",
       "        `${condition.attribute} >= ${threshold_format(condition.threshold)}`,\n",
       "        output);\n",
       "    return;\n",
       "  }\n",
       "\n",
       "  if (condition.type === 'CATEGORICAL_IS_IN') {\n",
       "    display_node_text_with_tooltip(\n",
       "        options, `${condition.attribute} in [...]`,\n",
       "        `${condition.attribute} in [${condition.mask}]`, output);\n",
       "    return;\n",
       "  }\n",
       "\n",
       "  if (condition.type === 'CATEGORICAL_SET_CONTAINS') {\n",
       "    display_node_text_with_tooltip(\n",
       "        options, `${condition.attribute} intersect [...]`,\n",
       "        `${condition.attribute} intersect [${condition.mask}]`, output);\n",
       "    return;\n",
       "  }\n",
       "\n",
       "  if (condition.type === 'NUMERICAL_SPARSE_OBLIQUE') {\n",
       "    display_node_text_with_tooltip(\n",
       "        options, `Sparse oblique split...`,\n",
       "        `[${condition.attributes}]*[${condition.weights}]>=${\n",
       "            threshold_format(condition.threshold)}`,\n",
       "        output);\n",
       "    return;\n",
       "  }\n",
       "\n",
       "  display_node_text(\n",
       "      options, `Non supported condition ${condition.type}`, output);\n",
       "}\n",
       "\n",
       "/**\n",
       " * Adds a value inside of a node.\n",
       " * @param {!options} options Dictionary of configurations.\n",
       " * @param {!value} value Value to display.\n",
       " * @param {!output} output Output display accumulator.\n",
       " */\n",
       "function display_value(options, value, output) {\n",
       "  if (value.type === 'PROBABILITY') {\n",
       "    const left_margin = 0;\n",
       "    const right_margin = 50;\n",
       "    const plot_width = options.node_x_size - options.node_padding * 2 -\n",
       "        left_margin - right_margin;\n",
       "\n",
       "    let cusum = Array.from(d3.cumsum(value.distribution));\n",
       "    cusum.unshift(0);\n",
       "    const distribution_plot = output.content.append('g').attr(\n",
       "        'transform', `translate(0,${output.vertical_offset + 0.5})`);\n",
       "\n",
       "    distribution_plot.selectAll('rect')\n",
       "        .data(value.distribution)\n",
       "        .join('rect')\n",
       "        .attr('height', 10)\n",
       "        .attr(\n",
       "            'x',\n",
       "            (d, i) =>\n",
       "                (cusum[i] * plot_width + left_margin + options.node_padding))\n",
       "        .attr('width', (d, i) => d * plot_width)\n",
       "        .style('fill', (d, i) => d3.schemeSet1[i]);\n",
       "\n",
       "    const num_examples =\n",
       "        output.content.append('g')\n",
       "            .attr('transform', `translate(0,${output.vertical_offset})`)\n",
       "            .append('text')\n",
       "            .attr('x', options.node_x_size - options.node_padding)\n",
       "            .attr('alignment-baseline', 'hanging')\n",
       "            .attr('text-anchor', 'end')\n",
       "            .text(`(${value.num_examples})`);\n",
       "\n",
       "    const distribution_details = d3.create('ul');\n",
       "    distribution_details.selectAll('li')\n",
       "        .data(value.distribution)\n",
       "        .join('li')\n",
       "        .append('span')\n",
       "        .text(\n",
       "            (d, i) =>\n",
       "                'class ' + i + ': ' + d3.format('.3%')(value.distribution[i]));\n",
       "\n",
       "    add_tooltip(options, distribution_plot, () => distribution_details.html());\n",
       "    add_tooltip(options, num_examples, () => 'Number of examples');\n",
       "\n",
       "    output.vertical_offset += 10;\n",
       "    return;\n",
       "  }\n",
       "\n",
       "  if (value.type === 'REGRESSION') {\n",
       "    display_node_text(\n",
       "        options,\n",
       "        'value: ' + d3.format('r')(value.value) + ` (` +\n",
       "            d3.format('.6')(value.num_examples) + `)`,\n",
       "        output);\n",
       "    return;\n",
       "  }\n",
       "\n",
       "  if (value.type === 'UPLIFT') {\n",
       "    display_node_text(\n",
       "        options,\n",
       "        'effect: ' + d3.format('r')(value.treatment_effect) + ` (` +\n",
       "            d3.format('.6')(value.num_examples) + `)`,\n",
       "        output);\n",
       "    return;\n",
       "  }\n",
       "\n",
       "  display_node_text(options, `Non supported value ${value.type}`, output);\n",
       "}\n",
       "\n",
       "/**\n",
       " * Adds an explanation inside of a node.\n",
       " * @param {!options} options Dictionary of configurations.\n",
       " * @param {!explanation} explanation Explanation to display.\n",
       " * @param {!output} output Output display accumulator.\n",
       " */\n",
       "function display_explanation(options, explanation, output) {\n",
       "  // Margin before the explanation.\n",
       "  output.vertical_offset += 10;\n",
       "\n",
       "  display_node_text(\n",
       "      options, `Non supported explanation ${explanation.type}`, output);\n",
       "}\n",
       "\n",
       "\n",
       "/**\n",
       " * Draw the edges of the tree.\n",
       " * @param {!options} options Dictionary of configurations.\n",
       " * @param {!graph} graph D3 search handle containing the graph.\n",
       " * @param {!tree_struct} tree_struct Structure of the tree (node placement,\n",
       " *     data, etc.).\n",
       " */\n",
       "function display_edges(options, graph, tree_struct) {\n",
       "  // Draw an edge between a parent and a child node with a bezier.\n",
       "  function draw_single_edge(d) {\n",
       "    return 'M' + (d.source.y + options.node_x_size) + ',' + d.source.x + ' C' +\n",
       "        (d.source.y + options.node_x_size + options.edge_rounding) + ',' +\n",
       "        d.source.x + ' ' + (d.target.y - options.edge_rounding) + ',' +\n",
       "        d.target.x + ' ' + d.target.y + ',' + d.target.x;\n",
       "  }\n",
       "\n",
       "  graph.append('g')\n",
       "      .attr('fill', 'none')\n",
       "      .attr('stroke-width', 1.2)\n",
       "      .selectAll('path')\n",
       "      .data(tree_struct.links())\n",
       "      .join('path')\n",
       "      .attr('d', draw_single_edge)\n",
       "      .attr(\n",
       "          'stroke', d => (d.target === d.source.children[0]) ? '#0F0' : '#F00');\n",
       "}\n",
       "\n",
       "display_tree({\"margin\": 10, \"node_x_size\": 160, \"node_y_size\": 28, \"node_x_offset\": 180, \"node_y_offset\": 33, \"font_size\": 10, \"edge_rounding\": 20, \"node_padding\": 2, \"show_plot_bounding_box\": false}, {\"value\": {\"type\": \"REGRESSION\", \"value\": -0.024713292717933655, \"num_examples\": 5647.0, \"standard_deviation\": 1.0277001403391897}, \"condition\": {\"type\": \"NUMERICAL_IS_HIGHER_THAN\", \"attribute\": \"text_word_cnt\", \"threshold\": 67.5}, \"children\": [{\"value\": {\"type\": \"REGRESSION\", \"value\": 0.6075202822685242, \"num_examples\": 2380.0, \"standard_deviation\": 1.030920132028246}, \"condition\": {\"type\": \"NUMERICAL_IS_HIGHER_THAN\", \"attribute\": \"text_length\", \"threshold\": 560.5}, \"children\": [{\"value\": {\"type\": \"REGRESSION\", \"value\": 0.8847028613090515, \"num_examples\": 1261.0, \"standard_deviation\": 1.0966435564220103}, \"condition\": {\"type\": \"NUMERICAL_IS_HIGHER_THAN\", \"attribute\": \"text_stopword_cnt\", \"threshold\": 84.5}, \"children\": [{\"value\": {\"type\": \"REGRESSION\", \"value\": 1.2440433502197266, \"num_examples\": 299.0, \"standard_deviation\": 1.275398039748947}, \"condition\": {\"type\": \"NUMERICAL_IS_HIGHER_THAN\", \"attribute\": \"text_number_cnt\", \"threshold\": 2.5}}, {\"value\": {\"type\": \"REGRESSION\", \"value\": 0.7730159759521484, \"num_examples\": 962.0, \"standard_deviation\": 1.009074657940358}, \"condition\": {\"type\": \"NUMERICAL_IS_HIGHER_THAN\", \"attribute\": \"text_punct_cnt\", \"threshold\": 11.5}}]}, {\"value\": {\"type\": \"REGRESSION\", \"value\": 0.29516348242759705, \"num_examples\": 1119.0, \"standard_deviation\": 0.8491610789527851}, \"condition\": {\"type\": \"NUMERICAL_IS_HIGHER_THAN\", \"attribute\": \"text_stopword_cnt\", \"threshold\": 37.5}, \"children\": [{\"value\": {\"type\": \"REGRESSION\", \"value\": 0.3951633870601654, \"num_examples\": 725.0, \"standard_deviation\": 0.8738141680864865}, \"condition\": {\"type\": \"NUMERICAL_IS_HIGHER_THAN\", \"attribute\": \"text_punct_cnt\", \"threshold\": 11.5}}, {\"value\": {\"type\": \"REGRESSION\", \"value\": 0.11115355044603348, \"num_examples\": 394.0, \"standard_deviation\": 0.7685392223276806}, \"condition\": {\"type\": \"NUMERICAL_IS_HIGHER_THAN\", \"attribute\": \"text_stopword_cnt\", \"threshold\": 25.5}}]}]}, {\"value\": {\"type\": \"REGRESSION\", \"value\": -0.48529359698295593, \"num_examples\": 3267.0, \"standard_deviation\": 0.7402769709321098}, \"condition\": {\"type\": \"NUMERICAL_IS_HIGHER_THAN\", \"attribute\": \"text_length\", \"threshold\": 227.5}, \"children\": [{\"value\": {\"type\": \"REGRESSION\", \"value\": -0.18766498565673828, \"num_examples\": 1743.0, \"standard_deviation\": 0.6972417443927544}, \"condition\": {\"type\": \"NUMERICAL_IS_HIGHER_THAN\", \"attribute\": \"text_stopword_cnt\", \"threshold\": 27.5}, \"children\": [{\"value\": {\"type\": \"REGRESSION\", \"value\": -0.02886066772043705, \"num_examples\": 606.0, \"standard_deviation\": 0.6505559971609065}, \"condition\": {\"type\": \"NUMERICAL_IS_HIGHER_THAN\", \"attribute\": \"text_length\", \"threshold\": 344.5}}, {\"value\": {\"type\": \"REGRESSION\", \"value\": -0.2723047435283661, \"num_examples\": 1137.0, \"standard_deviation\": 0.7064543626667158}, \"condition\": {\"type\": \"NUMERICAL_IS_HIGHER_THAN\", \"attribute\": \"text_stopword_cnt\", \"threshold\": 19.5}}]}, {\"value\": {\"type\": \"REGRESSION\", \"value\": -0.8256916999816895, \"num_examples\": 1524.0, \"standard_deviation\": 0.6337039974049269}, \"condition\": {\"type\": \"NUMERICAL_IS_HIGHER_THAN\", \"attribute\": \"text_punct_cnt\", \"threshold\": 1.5}, \"children\": [{\"value\": {\"type\": \"REGRESSION\", \"value\": -0.7687788605690002, \"num_examples\": 1305.0, \"standard_deviation\": 0.6435003271101342}, \"condition\": {\"type\": \"NUMERICAL_IS_HIGHER_THAN\", \"attribute\": \"text_word_cnt\", \"threshold\": 36.5}}, {\"value\": {\"type\": \"REGRESSION\", \"value\": -1.164829969406128, \"num_examples\": 219.0, \"standard_deviation\": 0.4389844417499258}, \"condition\": {\"type\": \"NUMERICAL_IS_HIGHER_THAN\", \"attribute\": \"text_stopword_cnt\", \"threshold\": 20.5}}]}]}]}, \"#tree_plot_9ac1a0cb3f244c05b8734255a2857787\")\n",
       "</script>\n"
      ],
      "text/plain": [
       "<IPython.core.display.HTML object>"
      ]
     },
     "execution_count": 26,
     "metadata": {},
     "output_type": "execute_result"
    }
   ],
   "source": [
    "# Visualize model_content\n",
    "tfdf.model_plotter.plot_model_in_colab(model_wording, tree_idx=0, max_depth=3)"
   ]
  },
  {
   "cell_type": "markdown",
   "id": "a1d045a0",
   "metadata": {
    "papermill": {
     "duration": 0.019065,
     "end_time": "2023-08-19T09:51:17.073891",
     "exception": false,
     "start_time": "2023-08-19T09:51:17.054826",
     "status": "completed"
    },
    "tags": []
   },
   "source": [
    "# Evaluate the model on the Out of bag (OOB) data and the validation dataset\n",
    "\n",
    "Before training the dataset we have manually seperated 20% of the dataset for validation named as `valid_ds`.\n",
    "\n",
    "We can also use Out of bag (OOB) score to validate our RandomForestModel.\n",
    "To train a Random Forest Model, a set of random samples from training set are choosen by the algorithm and the rest of the samples are used to finetune the model.The subset of data that is not chosen is known as Out of bag data (OOB).\n",
    "OOB score is computed on the OOB data.\n",
    "\n",
    "Read more about OOB data [here](https://developers.google.com/machine-learning/decision-forests/out-of-bag).\n",
    "\n",
    "The training logs show the Root Mean Squared Error (RMSE) evaluated on the out-of-bag dataset according to the number of trees in the model. Let us plot this.\n",
    "\n",
    "Note: Smaller values are better for this hyperparameter."
   ]
  },
  {
   "cell_type": "code",
   "execution_count": 27,
   "id": "626e08ca",
   "metadata": {
    "execution": {
     "iopub.execute_input": "2023-08-19T09:51:17.114327Z",
     "iopub.status.busy": "2023-08-19T09:51:17.113425Z",
     "iopub.status.idle": "2023-08-19T09:51:17.283266Z",
     "shell.execute_reply": "2023-08-19T09:51:17.282113Z"
    },
    "papermill": {
     "duration": 0.192261,
     "end_time": "2023-08-19T09:51:17.285729",
     "exception": false,
     "start_time": "2023-08-19T09:51:17.093468",
     "status": "completed"
    },
    "tags": []
   },
   "outputs": [
    {
     "data": {
      "image/png": "[encoded data removed]",
      "text/plain": [
       "<Figure size 640x480 with 1 Axes>"
      ]
     },
     "metadata": {},
     "output_type": "display_data"
    }
   ],
   "source": [
    "# Plot log data for model_content\n",
    "logs = model_content.make_inspector().training_logs()\n",
    "plt.plot([log.num_trees for log in logs], [log.evaluation.rmse for log in logs])\n",
    "plt.xlabel(\"Number of trees\")\n",
    "plt.ylabel(\"RMSE (out-of-bag)\")\n",
    "plt.show()"
   ]
  },
  {
   "cell_type": "code",
   "execution_count": 28,
   "id": "c1aae6ee",
   "metadata": {
    "execution": {
     "iopub.execute_input": "2023-08-19T09:51:17.325974Z",
     "iopub.status.busy": "2023-08-19T09:51:17.324927Z",
     "iopub.status.idle": "2023-08-19T09:51:17.502868Z",
     "shell.execute_reply": "2023-08-19T09:51:17.501535Z"
    },
    "papermill": {
     "duration": 0.200295,
     "end_time": "2023-08-19T09:51:17.505095",
     "exception": false,
     "start_time": "2023-08-19T09:51:17.304800",
     "status": "completed"
    },
    "tags": []
   },
   "outputs": [
    {
     "data": {
      "image/png": "[encoded data removed]",
      "text/plain": [
       "<Figure size 640x480 with 1 Axes>"
      ]
     },
     "metadata": {},
     "output_type": "display_data"
    }
   ],
   "source": [
    "# Plot log data for model_wording\n",
    "logs = model_wording.make_inspector().training_logs()\n",
    "plt.plot([log.num_trees for log in logs], [log.evaluation.rmse for log in logs])\n",
    "plt.xlabel(\"Number of trees\")\n",
    "plt.ylabel(\"RMSE (out-of-bag)\")\n",
    "plt.show()"
   ]
  },
  {
   "cell_type": "markdown",
   "id": "af45152b",
   "metadata": {
    "papermill": {
     "duration": 0.020041,
     "end_time": "2023-08-19T09:51:17.545066",
     "exception": false,
     "start_time": "2023-08-19T09:51:17.525025",
     "status": "completed"
    },
    "tags": []
   },
   "source": [
    "We can also see some general stats on the OOB dataset:"
   ]
  },
  {
   "cell_type": "code",
   "execution_count": 29,
   "id": "5510e603",
   "metadata": {
    "execution": {
     "iopub.execute_input": "2023-08-19T09:51:17.586963Z",
     "iopub.status.busy": "2023-08-19T09:51:17.586254Z",
     "iopub.status.idle": "2023-08-19T09:51:17.597084Z",
     "shell.execute_reply": "2023-08-19T09:51:17.596069Z"
    },
    "papermill": {
     "duration": 0.03374,
     "end_time": "2023-08-19T09:51:17.598877",
     "exception": false,
     "start_time": "2023-08-19T09:51:17.565137",
     "status": "completed"
    },
    "tags": []
   },
   "outputs": [
    {
     "data": {
      "text/plain": [
       "Evaluation(num_examples=5647, accuracy=None, loss=None, rmse=0.5210087713252778, ndcg=None, aucs=None, auuc=None, qini=None)"
      ]
     },
     "execution_count": 29,
     "metadata": {},
     "output_type": "execute_result"
    }
   ],
   "source": [
    "# General stats for model_content\n",
    "inspector_content = model_content.make_inspector()\n",
    "inspector_content.evaluation()"
   ]
  },
  {
   "cell_type": "code",
   "execution_count": 30,
   "id": "0057323d",
   "metadata": {
    "execution": {
     "iopub.execute_input": "2023-08-19T09:51:17.639660Z",
     "iopub.status.busy": "2023-08-19T09:51:17.639018Z",
     "iopub.status.idle": "2023-08-19T09:51:17.647261Z",
     "shell.execute_reply": "2023-08-19T09:51:17.646112Z"
    },
    "papermill": {
     "duration": 0.030729,
     "end_time": "2023-08-19T09:51:17.649182",
     "exception": false,
     "start_time": "2023-08-19T09:51:17.618453",
     "status": "completed"
    },
    "tags": []
   },
   "outputs": [
    {
     "data": {
      "text/plain": [
       "Evaluation(num_examples=5647, accuracy=None, loss=None, rmse=0.791934213513659, ndcg=None, aucs=None, auuc=None, qini=None)"
      ]
     },
     "execution_count": 30,
     "metadata": {},
     "output_type": "execute_result"
    }
   ],
   "source": [
    "# General stats for model_wording\n",
    "inspector_wording = model_wording.make_inspector()\n",
    "inspector_wording.evaluation()"
   ]
  },
  {
   "cell_type": "markdown",
   "id": "96d43b41",
   "metadata": {
    "papermill": {
     "duration": 0.020315,
     "end_time": "2023-08-19T09:51:17.689085",
     "exception": false,
     "start_time": "2023-08-19T09:51:17.668770",
     "status": "completed"
    },
    "tags": []
   },
   "source": [
    "Now, let us run an evaluation using the validation dataset."
   ]
  },
  {
   "cell_type": "code",
   "execution_count": 31,
   "id": "8e4a1304",
   "metadata": {
    "execution": {
     "iopub.execute_input": "2023-08-19T09:51:17.734755Z",
     "iopub.status.busy": "2023-08-19T09:51:17.733717Z",
     "iopub.status.idle": "2023-08-19T09:51:18.428399Z",
     "shell.execute_reply": "2023-08-19T09:51:18.426717Z"
    },
    "papermill": {
     "duration": 0.71952,
     "end_time": "2023-08-19T09:51:18.430920",
     "exception": false,
     "start_time": "2023-08-19T09:51:17.711400",
     "status": "completed"
    },
    "tags": []
   },
   "outputs": [
    {
     "name": "stdout",
     "output_type": "stream",
     "text": [
      "2/2 [==============================] - 0s 36ms/step - loss: 0.0000e+00 - mse: 0.2932\n",
      "loss: 0.0000\n",
      "mse: 0.2932\n",
      "2/2 [==============================] - 0s 33ms/step - loss: 0.0000e+00 - mse: 0.6529\n",
      "loss: 0.0000\n",
      "mse: 0.6529\n"
     ]
    }
   ],
   "source": [
    "# Create validation dataset for model_content\n",
    "valid_ds_content = tfdf.keras.pd_dataframe_to_tf_dataset(valid_ds_pd[FEATURE_CONTENT], label=\"content\", task = tfdf.keras.Task.REGRESSION)\n",
    "\n",
    "# Create validation dataset for model_wording\n",
    "valid_ds_wording = tfdf.keras.pd_dataframe_to_tf_dataset(valid_ds_pd[FEATURE_WORDING], label=\"wording\", task = tfdf.keras.Task.REGRESSION)\n",
    "\n",
    "# Run evaluation for model_content\n",
    "evaluation_content = model_content.evaluate(x=valid_ds_content,return_dict=True)\n",
    "for name, value in evaluation_content.items():\n",
    "  print(f\"{name}: {value:.4f}\")\n",
    "\n",
    "# Run evaluation for model_wording\n",
    "evaluation_wording = model_wording.evaluate(x=valid_ds_wording,return_dict=True)\n",
    "for name, value in evaluation_wording.items():\n",
    "  print(f\"{name}: {value:.4f}\")"
   ]
  },
  {
   "cell_type": "markdown",
   "id": "db55c7fb",
   "metadata": {
    "papermill": {
     "duration": 0.019071,
     "end_time": "2023-08-19T09:51:18.470394",
     "exception": false,
     "start_time": "2023-08-19T09:51:18.451323",
     "status": "completed"
    },
    "tags": []
   },
   "source": [
    "# Variable importances\n",
    "\n",
    "Variable importances generally indicate how much a feature contributes to the model predictions or quality. There are several ways to identify important features using TensorFlow Decision Forests.\n",
    "Let us list the available `Variable Importances` for Decision Trees:"
   ]
  },
  {
   "cell_type": "code",
   "execution_count": 32,
   "id": "35bb9383",
   "metadata": {
    "execution": {
     "iopub.execute_input": "2023-08-19T09:51:18.512549Z",
     "iopub.status.busy": "2023-08-19T09:51:18.512183Z",
     "iopub.status.idle": "2023-08-19T09:51:18.518993Z",
     "shell.execute_reply": "2023-08-19T09:51:18.517783Z"
    },
    "papermill": {
     "duration": 0.031516,
     "end_time": "2023-08-19T09:51:18.521299",
     "exception": false,
     "start_time": "2023-08-19T09:51:18.489783",
     "status": "completed"
    },
    "tags": []
   },
   "outputs": [
    {
     "name": "stdout",
     "output_type": "stream",
     "text": [
      "Available variable importances for model_content:\n",
      "\t NUM_NODES\n",
      "\t SUM_SCORE\n",
      "\t INV_MEAN_MIN_DEPTH\n",
      "\t NUM_AS_ROOT\n"
     ]
    }
   ],
   "source": [
    "print(f\"Available variable importances for model_content:\")\n",
    "for importance in inspector_content.variable_importances().keys():\n",
    "  print(\"\\t\", importance)"
   ]
  },
  {
   "cell_type": "code",
   "execution_count": 33,
   "id": "0fe855c7",
   "metadata": {
    "execution": {
     "iopub.execute_input": "2023-08-19T09:51:18.562758Z",
     "iopub.status.busy": "2023-08-19T09:51:18.562135Z",
     "iopub.status.idle": "2023-08-19T09:51:18.567569Z",
     "shell.execute_reply": "2023-08-19T09:51:18.566525Z"
    },
    "papermill": {
     "duration": 0.029307,
     "end_time": "2023-08-19T09:51:18.570321",
     "exception": false,
     "start_time": "2023-08-19T09:51:18.541014",
     "status": "completed"
    },
    "tags": []
   },
   "outputs": [
    {
     "name": "stdout",
     "output_type": "stream",
     "text": [
      "Available variable importances for model_wording:\n",
      "\t NUM_NODES\n",
      "\t SUM_SCORE\n",
      "\t NUM_AS_ROOT\n",
      "\t INV_MEAN_MIN_DEPTH\n"
     ]
    }
   ],
   "source": [
    "print(f\"Available variable importances for model_wording:\")\n",
    "for importance in inspector_wording.variable_importances().keys():\n",
    "  print(\"\\t\", importance)"
   ]
  },
  {
   "cell_type": "markdown",
   "id": "70e3339c",
   "metadata": {
    "papermill": {
     "duration": 0.024681,
     "end_time": "2023-08-19T09:51:18.618686",
     "exception": false,
     "start_time": "2023-08-19T09:51:18.594005",
     "status": "completed"
    },
    "tags": []
   },
   "source": [
    "As an example, let us display the important features for the Variable Importance `NUM_AS_ROOT`.\n",
    "\n",
    "The larger the importance score for `NUM_AS_ROOT`, the more impact it has on the outcome of the model.\n",
    "\n",
    "By default, the list is sorted from the most important to the least. From the output you can infer that the feature at the top of the list is used as the root node in most number of trees in the random forest than any other feature."
   ]
  },
  {
   "cell_type": "code",
   "execution_count": 34,
   "id": "8ac3f44c",
   "metadata": {
    "execution": {
     "iopub.execute_input": "2023-08-19T09:51:18.661247Z",
     "iopub.status.busy": "2023-08-19T09:51:18.660594Z",
     "iopub.status.idle": "2023-08-19T09:51:18.667678Z",
     "shell.execute_reply": "2023-08-19T09:51:18.666466Z"
    },
    "papermill": {
     "duration": 0.030864,
     "end_time": "2023-08-19T09:51:18.669743",
     "exception": false,
     "start_time": "2023-08-19T09:51:18.638879",
     "status": "completed"
    },
    "tags": []
   },
   "outputs": [
    {
     "data": {
      "text/plain": [
       "[(\"text_length\" (1; #1), 186.0),\n",
       " (\"text_word_cnt\" (1; #5), 90.0),\n",
       " (\"text_stopword_cnt\" (1; #4), 24.0)]"
      ]
     },
     "execution_count": 34,
     "metadata": {},
     "output_type": "execute_result"
    }
   ],
   "source": [
    "# For model_content.\n",
    "# Each line is: (feature name, (index of the feature), importance score)\n",
    "inspector_content.variable_importances()[\"NUM_AS_ROOT\"]"
   ]
  },
  {
   "cell_type": "code",
   "execution_count": 35,
   "id": "1f88d2d5",
   "metadata": {
    "execution": {
     "iopub.execute_input": "2023-08-19T09:51:18.722246Z",
     "iopub.status.busy": "2023-08-19T09:51:18.721796Z",
     "iopub.status.idle": "2023-08-19T09:51:18.729919Z",
     "shell.execute_reply": "2023-08-19T09:51:18.728344Z"
    },
    "papermill": {
     "duration": 0.035928,
     "end_time": "2023-08-19T09:51:18.732403",
     "exception": false,
     "start_time": "2023-08-19T09:51:18.696475",
     "status": "completed"
    },
    "tags": []
   },
   "outputs": [
    {
     "data": {
      "text/plain": [
       "[(\"text_length\" (1; #1), 186.0),\n",
       " (\"text_word_cnt\" (1; #5), 77.0),\n",
       " (\"text_stopword_cnt\" (1; #4), 37.0)]"
      ]
     },
     "execution_count": 35,
     "metadata": {},
     "output_type": "execute_result"
    }
   ],
   "source": [
    "# For model_wording.\n",
    "# Each line is: (feature name, (index of the feature), importance score)\n",
    "inspector_wording.variable_importances()[\"NUM_AS_ROOT\"]"
   ]
  },
  {
   "cell_type": "markdown",
   "id": "66dbd8bc",
   "metadata": {
    "papermill": {
     "duration": 0.026569,
     "end_time": "2023-08-19T09:51:18.779429",
     "exception": false,
     "start_time": "2023-08-19T09:51:18.752860",
     "status": "completed"
    },
    "tags": []
   },
   "source": [
    "# Submission"
   ]
  },
  {
   "cell_type": "code",
   "execution_count": 36,
   "id": "1cc5ff9d",
   "metadata": {
    "execution": {
     "iopub.execute_input": "2023-08-19T09:51:18.822658Z",
     "iopub.status.busy": "2023-08-19T09:51:18.822319Z",
     "iopub.status.idle": "2023-08-19T09:51:18.841988Z",
     "shell.execute_reply": "2023-08-19T09:51:18.841057Z"
    },
    "papermill": {
     "duration": 0.0429,
     "end_time": "2023-08-19T09:51:18.844191",
     "exception": false,
     "start_time": "2023-08-19T09:51:18.801291",
     "status": "completed"
    },
    "tags": []
   },
   "outputs": [],
   "source": [
    "df_test_prompt = pd.read_csv('/kaggle/input/commonlit-evaluate-student-summaries/prompts_test.csv')\n",
    "df_test_summaries = pd.read_csv('/kaggle/input/commonlit-evaluate-student-summaries/summaries_test.csv')"
   ]
  },
  {
   "cell_type": "code",
   "execution_count": 37,
   "id": "75953ed7",
   "metadata": {
    "execution": {
     "iopub.execute_input": "2023-08-19T09:51:18.890160Z",
     "iopub.status.busy": "2023-08-19T09:51:18.889741Z",
     "iopub.status.idle": "2023-08-19T09:51:18.899551Z",
     "shell.execute_reply": "2023-08-19T09:51:18.898337Z"
    },
    "papermill": {
     "duration": 0.036871,
     "end_time": "2023-08-19T09:51:18.902076",
     "exception": false,
     "start_time": "2023-08-19T09:51:18.865205",
     "status": "completed"
    },
    "tags": []
   },
   "outputs": [],
   "source": [
    "df_test = df_test_summaries.merge(df_test_prompt, on='prompt_id')"
   ]
  },
  {
   "cell_type": "code",
   "execution_count": 38,
   "id": "cfd190f7",
   "metadata": {
    "execution": {
     "iopub.execute_input": "2023-08-19T09:51:18.956806Z",
     "iopub.status.busy": "2023-08-19T09:51:18.956443Z",
     "iopub.status.idle": "2023-08-19T09:51:18.968621Z",
     "shell.execute_reply": "2023-08-19T09:51:18.967869Z"
    },
    "papermill": {
     "duration": 0.040886,
     "end_time": "2023-08-19T09:51:18.970326",
     "exception": false,
     "start_time": "2023-08-19T09:51:18.929440",
     "status": "completed"
    },
    "tags": []
   },
   "outputs": [
    {
     "data": {
      "text/html": [
       "<div>\n",
       "<style scoped>\n",
       "    .dataframe tbody tr th:only-of-type {\n",
       "        vertical-align: middle;\n",
       "    }\n",
       "\n",
       "    .dataframe tbody tr th {\n",
       "        vertical-align: top;\n",
       "    }\n",
       "\n",
       "    .dataframe thead th {\n",
       "        text-align: right;\n",
       "    }\n",
       "</style>\n",
       "<table border=\"1\" class=\"dataframe\">\n",
       "  <thead>\n",
       "    <tr style=\"text-align: right;\">\n",
       "      <th></th>\n",
       "      <th>student_id</th>\n",
       "      <th>prompt_id</th>\n",
       "      <th>text</th>\n",
       "      <th>prompt_question</th>\n",
       "      <th>prompt_title</th>\n",
       "      <th>prompt_text</th>\n",
       "    </tr>\n",
       "  </thead>\n",
       "  <tbody>\n",
       "    <tr>\n",
       "      <th>0</th>\n",
       "      <td>000000ffffff</td>\n",
       "      <td>abc123</td>\n",
       "      <td>Example text 1</td>\n",
       "      <td>Summarize...</td>\n",
       "      <td>Example Title 1</td>\n",
       "      <td>Heading\\nText...</td>\n",
       "    </tr>\n",
       "    <tr>\n",
       "      <th>1</th>\n",
       "      <td>222222cccccc</td>\n",
       "      <td>abc123</td>\n",
       "      <td>Example text 3</td>\n",
       "      <td>Summarize...</td>\n",
       "      <td>Example Title 1</td>\n",
       "      <td>Heading\\nText...</td>\n",
       "    </tr>\n",
       "    <tr>\n",
       "      <th>2</th>\n",
       "      <td>111111eeeeee</td>\n",
       "      <td>def789</td>\n",
       "      <td>Example text 2</td>\n",
       "      <td>Summarize...</td>\n",
       "      <td>Example Title 2</td>\n",
       "      <td>Heading\\nText...</td>\n",
       "    </tr>\n",
       "    <tr>\n",
       "      <th>3</th>\n",
       "      <td>333333dddddd</td>\n",
       "      <td>def789</td>\n",
       "      <td>Example text 4</td>\n",
       "      <td>Summarize...</td>\n",
       "      <td>Example Title 2</td>\n",
       "      <td>Heading\\nText...</td>\n",
       "    </tr>\n",
       "  </tbody>\n",
       "</table>\n",
       "</div>"
      ],
      "text/plain": [
       "     student_id prompt_id            text prompt_question     prompt_title  \\\n",
       "0  000000ffffff    abc123  Example text 1    Summarize...  Example Title 1   \n",
       "1  222222cccccc    abc123  Example text 3    Summarize...  Example Title 1   \n",
       "2  111111eeeeee    def789  Example text 2    Summarize...  Example Title 2   \n",
       "3  333333dddddd    def789  Example text 4    Summarize...  Example Title 2   \n",
       "\n",
       "        prompt_text  \n",
       "0  Heading\\nText...  \n",
       "1  Heading\\nText...  \n",
       "2  Heading\\nText...  \n",
       "3  Heading\\nText...  "
      ]
     },
     "execution_count": 38,
     "metadata": {},
     "output_type": "execute_result"
    }
   ],
   "source": [
    "df_test.head()"
   ]
  },
  {
   "cell_type": "code",
   "execution_count": 39,
   "id": "e3026878",
   "metadata": {
    "execution": {
     "iopub.execute_input": "2023-08-19T09:51:19.012251Z",
     "iopub.status.busy": "2023-08-19T09:51:19.011879Z",
     "iopub.status.idle": "2023-08-19T09:51:19.022150Z",
     "shell.execute_reply": "2023-08-19T09:51:19.020885Z"
    },
    "papermill": {
     "duration": 0.033979,
     "end_time": "2023-08-19T09:51:19.024603",
     "exception": false,
     "start_time": "2023-08-19T09:51:18.990624",
     "status": "completed"
    },
    "tags": []
   },
   "outputs": [],
   "source": [
    "processed_test_df = feature_engineer(df_test)"
   ]
  },
  {
   "cell_type": "code",
   "execution_count": 40,
   "id": "e9d4517f",
   "metadata": {
    "execution": {
     "iopub.execute_input": "2023-08-19T09:51:19.067680Z",
     "iopub.status.busy": "2023-08-19T09:51:19.066976Z",
     "iopub.status.idle": "2023-08-19T09:51:19.080116Z",
     "shell.execute_reply": "2023-08-19T09:51:19.079369Z"
    },
    "papermill": {
     "duration": 0.037423,
     "end_time": "2023-08-19T09:51:19.082363",
     "exception": false,
     "start_time": "2023-08-19T09:51:19.044940",
     "status": "completed"
    },
    "tags": []
   },
   "outputs": [
    {
     "data": {
      "text/html": [
       "<div>\n",
       "<style scoped>\n",
       "    .dataframe tbody tr th:only-of-type {\n",
       "        vertical-align: middle;\n",
       "    }\n",
       "\n",
       "    .dataframe tbody tr th {\n",
       "        vertical-align: top;\n",
       "    }\n",
       "\n",
       "    .dataframe thead th {\n",
       "        text-align: right;\n",
       "    }\n",
       "</style>\n",
       "<table border=\"1\" class=\"dataframe\">\n",
       "  <thead>\n",
       "    <tr style=\"text-align: right;\">\n",
       "      <th></th>\n",
       "      <th>student_id</th>\n",
       "      <th>prompt_id</th>\n",
       "      <th>text</th>\n",
       "      <th>prompt_question</th>\n",
       "      <th>prompt_title</th>\n",
       "      <th>prompt_text</th>\n",
       "      <th>text_word_cnt</th>\n",
       "      <th>text_length</th>\n",
       "      <th>text_stopword_cnt</th>\n",
       "      <th>text_punct_cnt</th>\n",
       "      <th>text_number_cnt</th>\n",
       "    </tr>\n",
       "  </thead>\n",
       "  <tbody>\n",
       "    <tr>\n",
       "      <th>0</th>\n",
       "      <td>000000ffffff</td>\n",
       "      <td>abc123</td>\n",
       "      <td>Example text 1</td>\n",
       "      <td>Summarize...</td>\n",
       "      <td>Example Title 1</td>\n",
       "      <td>Heading\\nText...</td>\n",
       "      <td>3</td>\n",
       "      <td>14</td>\n",
       "      <td>0</td>\n",
       "      <td>0</td>\n",
       "      <td>1</td>\n",
       "    </tr>\n",
       "    <tr>\n",
       "      <th>1</th>\n",
       "      <td>222222cccccc</td>\n",
       "      <td>abc123</td>\n",
       "      <td>Example text 3</td>\n",
       "      <td>Summarize...</td>\n",
       "      <td>Example Title 1</td>\n",
       "      <td>Heading\\nText...</td>\n",
       "      <td>3</td>\n",
       "      <td>14</td>\n",
       "      <td>0</td>\n",
       "      <td>0</td>\n",
       "      <td>1</td>\n",
       "    </tr>\n",
       "    <tr>\n",
       "      <th>2</th>\n",
       "      <td>111111eeeeee</td>\n",
       "      <td>def789</td>\n",
       "      <td>Example text 2</td>\n",
       "      <td>Summarize...</td>\n",
       "      <td>Example Title 2</td>\n",
       "      <td>Heading\\nText...</td>\n",
       "      <td>3</td>\n",
       "      <td>14</td>\n",
       "      <td>0</td>\n",
       "      <td>0</td>\n",
       "      <td>1</td>\n",
       "    </tr>\n",
       "    <tr>\n",
       "      <th>3</th>\n",
       "      <td>333333dddddd</td>\n",
       "      <td>def789</td>\n",
       "      <td>Example text 4</td>\n",
       "      <td>Summarize...</td>\n",
       "      <td>Example Title 2</td>\n",
       "      <td>Heading\\nText...</td>\n",
       "      <td>3</td>\n",
       "      <td>14</td>\n",
       "      <td>0</td>\n",
       "      <td>0</td>\n",
       "      <td>1</td>\n",
       "    </tr>\n",
       "  </tbody>\n",
       "</table>\n",
       "</div>"
      ],
      "text/plain": [
       "     student_id prompt_id            text prompt_question     prompt_title  \\\n",
       "0  000000ffffff    abc123  Example text 1    Summarize...  Example Title 1   \n",
       "1  222222cccccc    abc123  Example text 3    Summarize...  Example Title 1   \n",
       "2  111111eeeeee    def789  Example text 2    Summarize...  Example Title 2   \n",
       "3  333333dddddd    def789  Example text 4    Summarize...  Example Title 2   \n",
       "\n",
       "        prompt_text  text_word_cnt  text_length  text_stopword_cnt  \\\n",
       "0  Heading\\nText...              3           14                  0   \n",
       "1  Heading\\nText...              3           14                  0   \n",
       "2  Heading\\nText...              3           14                  0   \n",
       "3  Heading\\nText...              3           14                  0   \n",
       "\n",
       "   text_punct_cnt  text_number_cnt  \n",
       "0               0                1  \n",
       "1               0                1  \n",
       "2               0                1  \n",
       "3               0                1  "
      ]
     },
     "execution_count": 40,
     "metadata": {},
     "output_type": "execute_result"
    }
   ],
   "source": [
    "processed_test_df.head()"
   ]
  },
  {
   "cell_type": "code",
   "execution_count": 41,
   "id": "6aaf8ff5",
   "metadata": {
    "execution": {
     "iopub.execute_input": "2023-08-19T09:51:19.124392Z",
     "iopub.status.busy": "2023-08-19T09:51:19.124020Z",
     "iopub.status.idle": "2023-08-19T09:51:19.139325Z",
     "shell.execute_reply": "2023-08-19T09:51:19.138542Z"
    },
    "papermill": {
     "duration": 0.038915,
     "end_time": "2023-08-19T09:51:19.141569",
     "exception": false,
     "start_time": "2023-08-19T09:51:19.102654",
     "status": "completed"
    },
    "tags": []
   },
   "outputs": [],
   "source": [
    "test_ds = tfdf.keras.pd_dataframe_to_tf_dataset(processed_test_df[FEATURE_COLUMNS], task = tfdf.keras.Task.REGRESSION)"
   ]
  },
  {
   "cell_type": "code",
   "execution_count": 42,
   "id": "d76f342f",
   "metadata": {
    "execution": {
     "iopub.execute_input": "2023-08-19T09:51:19.185459Z",
     "iopub.status.busy": "2023-08-19T09:51:19.184431Z",
     "iopub.status.idle": "2023-08-19T09:51:19.320132Z",
     "shell.execute_reply": "2023-08-19T09:51:19.318755Z"
    },
    "papermill": {
     "duration": 0.160543,
     "end_time": "2023-08-19T09:51:19.322347",
     "exception": false,
     "start_time": "2023-08-19T09:51:19.161804",
     "status": "completed"
    },
    "tags": []
   },
   "outputs": [
    {
     "name": "stdout",
     "output_type": "stream",
     "text": [
      "1/1 [==============================] - 0s 78ms/step\n",
      "1/1 [==============================] - 0s 37ms/step\n"
     ]
    }
   ],
   "source": [
    "processed_test_df['content'] = model_content.predict(test_ds)\n",
    "processed_test_df['wording'] = model_wording.predict(test_ds)"
   ]
  },
  {
   "cell_type": "code",
   "execution_count": 43,
   "id": "bfd4ffba",
   "metadata": {
    "execution": {
     "iopub.execute_input": "2023-08-19T09:51:19.372218Z",
     "iopub.status.busy": "2023-08-19T09:51:19.371419Z",
     "iopub.status.idle": "2023-08-19T09:51:19.386069Z",
     "shell.execute_reply": "2023-08-19T09:51:19.384980Z"
    },
    "papermill": {
     "duration": 0.043083,
     "end_time": "2023-08-19T09:51:19.388005",
     "exception": false,
     "start_time": "2023-08-19T09:51:19.344922",
     "status": "completed"
    },
    "tags": []
   },
   "outputs": [
    {
     "data": {
      "text/html": [
       "<div>\n",
       "<style scoped>\n",
       "    .dataframe tbody tr th:only-of-type {\n",
       "        vertical-align: middle;\n",
       "    }\n",
       "\n",
       "    .dataframe tbody tr th {\n",
       "        vertical-align: top;\n",
       "    }\n",
       "\n",
       "    .dataframe thead th {\n",
       "        text-align: right;\n",
       "    }\n",
       "</style>\n",
       "<table border=\"1\" class=\"dataframe\">\n",
       "  <thead>\n",
       "    <tr style=\"text-align: right;\">\n",
       "      <th></th>\n",
       "      <th>student_id</th>\n",
       "      <th>prompt_id</th>\n",
       "      <th>text</th>\n",
       "      <th>prompt_question</th>\n",
       "      <th>prompt_title</th>\n",
       "      <th>prompt_text</th>\n",
       "      <th>text_word_cnt</th>\n",
       "      <th>text_length</th>\n",
       "      <th>text_stopword_cnt</th>\n",
       "      <th>text_punct_cnt</th>\n",
       "      <th>text_number_cnt</th>\n",
       "      <th>content</th>\n",
       "      <th>wording</th>\n",
       "    </tr>\n",
       "  </thead>\n",
       "  <tbody>\n",
       "    <tr>\n",
       "      <th>0</th>\n",
       "      <td>000000ffffff</td>\n",
       "      <td>abc123</td>\n",
       "      <td>Example text 1</td>\n",
       "      <td>Summarize...</td>\n",
       "      <td>Example Title 1</td>\n",
       "      <td>Heading\\nText...</td>\n",
       "      <td>3</td>\n",
       "      <td>14</td>\n",
       "      <td>0</td>\n",
       "      <td>0</td>\n",
       "      <td>1</td>\n",
       "      <td>-1.382572</td>\n",
       "      <td>-1.423564</td>\n",
       "    </tr>\n",
       "    <tr>\n",
       "      <th>1</th>\n",
       "      <td>222222cccccc</td>\n",
       "      <td>abc123</td>\n",
       "      <td>Example text 3</td>\n",
       "      <td>Summarize...</td>\n",
       "      <td>Example Title 1</td>\n",
       "      <td>Heading\\nText...</td>\n",
       "      <td>3</td>\n",
       "      <td>14</td>\n",
       "      <td>0</td>\n",
       "      <td>0</td>\n",
       "      <td>1</td>\n",
       "      <td>-1.382572</td>\n",
       "      <td>-1.423564</td>\n",
       "    </tr>\n",
       "    <tr>\n",
       "      <th>2</th>\n",
       "      <td>111111eeeeee</td>\n",
       "      <td>def789</td>\n",
       "      <td>Example text 2</td>\n",
       "      <td>Summarize...</td>\n",
       "      <td>Example Title 2</td>\n",
       "      <td>Heading\\nText...</td>\n",
       "      <td>3</td>\n",
       "      <td>14</td>\n",
       "      <td>0</td>\n",
       "      <td>0</td>\n",
       "      <td>1</td>\n",
       "      <td>-1.382572</td>\n",
       "      <td>-1.423564</td>\n",
       "    </tr>\n",
       "    <tr>\n",
       "      <th>3</th>\n",
       "      <td>333333dddddd</td>\n",
       "      <td>def789</td>\n",
       "      <td>Example text 4</td>\n",
       "      <td>Summarize...</td>\n",
       "      <td>Example Title 2</td>\n",
       "      <td>Heading\\nText...</td>\n",
       "      <td>3</td>\n",
       "      <td>14</td>\n",
       "      <td>0</td>\n",
       "      <td>0</td>\n",
       "      <td>1</td>\n",
       "      <td>-1.382572</td>\n",
       "      <td>-1.423564</td>\n",
       "    </tr>\n",
       "  </tbody>\n",
       "</table>\n",
       "</div>"
      ],
      "text/plain": [
       "     student_id prompt_id            text prompt_question     prompt_title  \\\n",
       "0  000000ffffff    abc123  Example text 1    Summarize...  Example Title 1   \n",
       "1  222222cccccc    abc123  Example text 3    Summarize...  Example Title 1   \n",
       "2  111111eeeeee    def789  Example text 2    Summarize...  Example Title 2   \n",
       "3  333333dddddd    def789  Example text 4    Summarize...  Example Title 2   \n",
       "\n",
       "        prompt_text  text_word_cnt  text_length  text_stopword_cnt  \\\n",
       "0  Heading\\nText...              3           14                  0   \n",
       "1  Heading\\nText...              3           14                  0   \n",
       "2  Heading\\nText...              3           14                  0   \n",
       "3  Heading\\nText...              3           14                  0   \n",
       "\n",
       "   text_punct_cnt  text_number_cnt   content   wording  \n",
       "0               0                1 -1.382572 -1.423564  \n",
       "1               0                1 -1.382572 -1.423564  \n",
       "2               0                1 -1.382572 -1.423564  \n",
       "3               0                1 -1.382572 -1.423564  "
      ]
     },
     "execution_count": 43,
     "metadata": {},
     "output_type": "execute_result"
    }
   ],
   "source": [
    "processed_test_df.head()"
   ]
  },
  {
   "cell_type": "code",
   "execution_count": 44,
   "id": "68ff8455",
   "metadata": {
    "execution": {
     "iopub.execute_input": "2023-08-19T09:51:19.431241Z",
     "iopub.status.busy": "2023-08-19T09:51:19.430494Z",
     "iopub.status.idle": "2023-08-19T09:51:19.447309Z",
     "shell.execute_reply": "2023-08-19T09:51:19.446255Z"
    },
    "papermill": {
     "duration": 0.041532,
     "end_time": "2023-08-19T09:51:19.450100",
     "exception": false,
     "start_time": "2023-08-19T09:51:19.408568",
     "status": "completed"
    },
    "tags": []
   },
   "outputs": [
    {
     "data": {
      "text/html": [
       "<div>\n",
       "<style scoped>\n",
       "    .dataframe tbody tr th:only-of-type {\n",
       "        vertical-align: middle;\n",
       "    }\n",
       "\n",
       "    .dataframe tbody tr th {\n",
       "        vertical-align: top;\n",
       "    }\n",
       "\n",
       "    .dataframe thead th {\n",
       "        text-align: right;\n",
       "    }\n",
       "</style>\n",
       "<table border=\"1\" class=\"dataframe\">\n",
       "  <thead>\n",
       "    <tr style=\"text-align: right;\">\n",
       "      <th></th>\n",
       "      <th>student_id</th>\n",
       "      <th>content</th>\n",
       "      <th>wording</th>\n",
       "    </tr>\n",
       "  </thead>\n",
       "  <tbody>\n",
       "    <tr>\n",
       "      <th>0</th>\n",
       "      <td>000000ffffff</td>\n",
       "      <td>-1.382572</td>\n",
       "      <td>-1.423564</td>\n",
       "    </tr>\n",
       "    <tr>\n",
       "      <th>1</th>\n",
       "      <td>222222cccccc</td>\n",
       "      <td>-1.382572</td>\n",
       "      <td>-1.423564</td>\n",
       "    </tr>\n",
       "    <tr>\n",
       "      <th>2</th>\n",
       "      <td>111111eeeeee</td>\n",
       "      <td>-1.382572</td>\n",
       "      <td>-1.423564</td>\n",
       "    </tr>\n",
       "    <tr>\n",
       "      <th>3</th>\n",
       "      <td>333333dddddd</td>\n",
       "      <td>-1.382572</td>\n",
       "      <td>-1.423564</td>\n",
       "    </tr>\n",
       "  </tbody>\n",
       "</table>\n",
       "</div>"
      ],
      "text/plain": [
       "     student_id   content   wording\n",
       "0  000000ffffff -1.382572 -1.423564\n",
       "1  222222cccccc -1.382572 -1.423564\n",
       "2  111111eeeeee -1.382572 -1.423564\n",
       "3  333333dddddd -1.382572 -1.423564"
      ]
     },
     "metadata": {},
     "output_type": "display_data"
    }
   ],
   "source": [
    "processed_test_df[['student_id', 'content', 'wording']].to_csv('submission.csv',index=False)\n",
    "display(pd.read_csv('submission.csv'))"
   ]
  }
 ],
 "metadata": {
  "kernelspec": {
   "display_name": "Python 3",
   "language": "python",
   "name": "python3"
  },
  "language_info": {
   "codemirror_mode": {
    "name": "ipython",
    "version": 3
   },
   "file_extension": ".py",
   "mimetype": "text/x-python",
   "name": "python",
   "nbconvert_exporter": "python",
   "pygments_lexer": "ipython3",
   "version": "3.10.12"
  },
  "papermill": {
   "default_parameters": {},
   "duration": 233.505666,
   "end_time": "2023-08-19T09:51:22.192614",
   "environment_variables": {},
   "exception": null,
   "input_path": "__notebook__.ipynb",
   "output_path": "__notebook__.ipynb",
   "parameters": {},
   "start_time": "2023-08-19T09:47:28.686948",
   "version": "2.4.0"
  }
 },
 "nbformat": 4,
 "nbformat_minor": 5
}
